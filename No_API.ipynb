{
 "cells": [
  {
   "cell_type": "code",
   "execution_count": 2,
   "metadata": {},
   "outputs": [],
   "source": [
    "# Import libaries\n",
    "from bs4 import BeautifulSoup\n",
    "import requests\n",
    "import pandas as pd\n",
    "import numpy as np\n",
    "\n",
    "import seaborn as sns\n",
    "import matplotlib.pyplot as plt"
   ]
  },
  {
   "cell_type": "code",
   "execution_count": 28,
   "metadata": {},
   "outputs": [
    {
     "data": {
      "text/plain": [
       "200"
      ]
     },
     "execution_count": 28,
     "metadata": {},
     "output_type": "execute_result"
    }
   ],
   "source": [
    "url = 'https://www.youtube.com/results?sp=CAMSAhAB&search_query=a%7Cb%7Cc%7Cd%7Ce%7Cf%7Cg%7Ch%7Ci%7Cj%7Ck%7Cl%7Cm%7Cn%7Co%7Cp%7Cq%7Cr%7Cs%7Ct%7Cu%7Cv%7Cw%7Cx%7Cy%7Cz%7C1%7C1%7C2%7C3%7C4%7C5%7C6%7C7%7C8%7C9%7C0'\n",
    "res = requests.get(url)\n",
    "\n",
    "res.status_code"
   ]
  },
  {
   "cell_type": "code",
   "execution_count": 30,
   "metadata": {},
   "outputs": [],
   "source": [
    "soup = BeautifulSoup(res.content, 'lxml')"
   ]
  },
  {
   "cell_type": "code",
   "execution_count": 32,
   "metadata": {
    "scrolled": true
   },
   "outputs": [
    {
     "name": "stdout",
     "output_type": "stream",
     "text": [
      "   element:  /watch?v=kJQP7kiw5Fk\n",
      "   element:  /watch?v=RgKAFK5djSk\n",
      "   element:  /watch?v=OPf0YbXqDm0\n",
      "   element:  /watch?v=9bZkp7q19f0\n",
      "   element:  /watch?v=fRh_vgS2dFE\n",
      "   element:  /watch?v=09R8_2nJtjg\n",
      "   element:  /watch?v=nfWlot6h_JM\n",
      "   element:  /watch?v=CevxZvSJLk8\n",
      "   element:  /watch?v=NUsoVlDFqZg\n",
      "   element:  /watch?v=lp-EO5I60KA\n",
      "   element:  /watch?v=hT_nvWreIhg\n",
      "   element:  /watch?v=0KSOMA3QBU0\n",
      "   element:  /watch?v=YQHsXMglC9A\n",
      "   element:  /watch?v=e-ORhEE9VVg\n",
      "   element:  /watch?v=7PCkvCPvDXk\n",
      "   element:  /watch?v=PT2_F-1esPk\n",
      "   element:  /watch?v=RBumgq5yVrA\n",
      "   element:  /watch?v=pRpeEdMmmQ0\n",
      "   element:  /watch?v=wnJ6LuUFpMo\n",
      "   element:  /watch?v=kffacxfA7G4\n"
     ]
    }
   ],
   "source": [
    "for element in soup.find_all('h3', {'class':'yt-lockup-title '}):\n",
    "    print('   element: ', element.find('a').attrs['href'])"
   ]
  },
  {
   "cell_type": "markdown",
   "metadata": {},
   "source": [
    "https://www.youtube.com/playlist?list=PLirAqAtl_h2r5g8xGajEwdXd3x1sZh8hC"
   ]
  },
  {
   "cell_type": "code",
   "execution_count": null,
   "metadata": {},
   "outputs": [],
   "source": []
  },
  {
   "cell_type": "code",
   "execution_count": 33,
   "metadata": {},
   "outputs": [
    {
     "data": {
      "text/plain": [
       "200"
      ]
     },
     "execution_count": 33,
     "metadata": {},
     "output_type": "execute_result"
    }
   ],
   "source": [
    "url = 'https://www.youtube.com/playlist?list=PLirAqAtl_h2r5g8xGajEwdXd3x1sZh8hC'\n",
    "res = requests.get(url)\n",
    "\n",
    "res.status_code"
   ]
  },
  {
   "cell_type": "code",
   "execution_count": 34,
   "metadata": {},
   "outputs": [],
   "source": [
    "soup = BeautifulSoup(res.content, 'lxml')"
   ]
  },
  {
   "cell_type": "code",
   "execution_count": 35,
   "metadata": {},
   "outputs": [],
   "source": [
    "for element in soup.find_all('h3', {'class':'yt-lockup-title '}):\n",
    "    print('   element: ', element.find('a').attrs['href'])"
   ]
  },
  {
   "cell_type": "code",
   "execution_count": 45,
   "metadata": {},
   "outputs": [],
   "source": [
    "test = []\n",
    "for element in soup.find_all('a', {'class': 'pl-video-title-link yt-uix-tile-link yt-uix-sessionlink spf-link '}):\n",
    "    _temp_dict = {}\n",
    "    _temp_dict['Artist_Song'] = element.text\n",
    "    _temp_dict['song_url'] = 'https://www.youtube.com' + element.attrs['href']\n",
    "    test.append(_temp_dict)"
   ]
  },
  {
   "cell_type": "code",
   "execution_count": 50,
   "metadata": {},
   "outputs": [],
   "source": [
    "df_top500 = pd.DataFrame(test)"
   ]
  },
  {
   "cell_type": "code",
   "execution_count": 49,
   "metadata": {},
   "outputs": [],
   "source": [
    "import re"
   ]
  },
  {
   "cell_type": "code",
   "execution_count": 68,
   "metadata": {},
   "outputs": [
    {
     "data": {
      "text/plain": [
       "'\\n      Masha and The Bear - Recipe for disaster (Episode 17)\\n    '"
      ]
     },
     "execution_count": 68,
     "metadata": {},
     "output_type": "execute_result"
    }
   ],
   "source": [
    "test_string = df_top500.iloc[3][0]\n",
    "test_string"
   ]
  },
  {
   "cell_type": "code",
   "execution_count": 59,
   "metadata": {},
   "outputs": [
    {
     "data": {
      "text/plain": [
       "'Luis Fonsi'"
      ]
     },
     "execution_count": 59,
     "metadata": {},
     "output_type": "execute_result"
    }
   ],
   "source": [
    "test_string.split(' - ')[0].replace('\\n      ', '')"
   ]
  },
  {
   "cell_type": "code",
   "execution_count": 60,
   "metadata": {},
   "outputs": [
    {
     "data": {
      "text/plain": [
       "'Despacito ft. Daddy Yankee'"
      ]
     },
     "execution_count": 60,
     "metadata": {},
     "output_type": "execute_result"
    }
   ],
   "source": [
    "test_string.split(' - ')[1].replace('\\n    ', '')"
   ]
  },
  {
   "cell_type": "code",
   "execution_count": 81,
   "metadata": {},
   "outputs": [],
   "source": [
    "def artist_splitter(string):\n",
    "    string=str(string)\n",
    "    try:\n",
    "        new_list = string.split(' - ')\n",
    "        new_list[0] = new_list[0].replace('\\n      ', '')\n",
    "        new_list[1] = new_list[1].replace('\\n    ', '')\n",
    "        return new_list\n",
    "    except: \n",
    "        return [string, 'none_given']"
   ]
  },
  {
   "cell_type": "code",
   "execution_count": 82,
   "metadata": {},
   "outputs": [
    {
     "name": "stdout",
     "output_type": "stream",
     "text": [
      "    ['Luis Fonsi', 'Despacito ft. Daddy Yankee']\n",
      "    ['Ed Sheeran', 'Shape of You [Official Video]']\n",
      "    ['Wiz Khalifa', 'See You Again ft. Charlie Puth [Official Video] Furious 7 Soundtrack']\n",
      "    ['Masha and The Bear', 'Recipe for disaster (Episode 17)']\n",
      "    ['Mark Ronson', 'Uptown Funk ft. Bruno Mars']\n",
      "    ['PSY', 'GANGNAM STYLE(강남스타일) M/V']\n",
      "    ['Justin Bieber', 'Sorry (PURPOSE : The Movement)']\n",
      "    ['Maroon 5', 'Sugar']\n",
      "    ['Taylor Swift', 'Shake It Off']\n",
      "    ['Katy Perry', 'Roar (Official)']\n",
      "    ['Enrique Iglesias', 'Bailando (Español) ft. Descemer Bueno, Gente De Zona']\n",
      "    ['Ed Sheeran', 'Thinking Out Loud [Official Video]']\n",
      "    ['OneRepublic', 'Counting Stars']\n",
      "    ['Katy Perry', 'Dark Horse (Official) ft. Juicy J']\n",
      "    ['Adele', 'Hello']\n",
      "    ['Major Lazer & DJ Snake', 'Lean On (feat. MØ) (Official Music Video)']\n",
      "    ['Taylor Swift', 'Blank Space']\n",
      "    ['Shakira', 'Chantaje ft. Maluma']\n",
      "    ['Meghan Trainor', 'All About That Bass']\n",
      "    ['The Chainsmokers', 'Closer (Lyric) ft. Halsey']\n",
      "    ['\\n      Wheels On The Bus | Nursery Rhymes for Babies | Little Baby Bum | Videos for Kids\\n    ', 'none_given']\n",
      "    ['Calvin Harris', 'This Is What You Came For (Official Video) ft. Rihanna']\n",
      "    ['\\n      Passenger | Let Her Go (Official Video)\\n    ', 'none_given']\n",
      "    ['Shakira', 'Waka Waka (This Time for Africa) (The Official 2010 FIFA World Cup™ Song)']\n",
      "    ['J Balvin, Willy William', 'Mi Gente (Official Video)']\n",
      "    ['Justin Bieber', 'Baby ft. Ludacris']\n",
      "    ['Alan Walker', 'Faded']\n",
      "    ['Justin Bieber', 'What Do You Mean?']\n",
      "    ['Charlie Puth', \"We Don't Talk Anymore (feat. Selena Gomez) [Official Video]\"]\n",
      "    ['Clean Bandit', 'Rockabye ft. Sean Paul & Anne-Marie [Official Video]']\n",
      "    ['Fifth Harmony', 'Work from Home ft. Ty Dolla $ign']\n",
      "    ['Sia', 'Chandelier (Official Video)']\n",
      "    ['Ellie Goulding', 'Love Me Like You Do (Official Video)']\n",
      "    ['\\n      Baby Shark Dance | Sing and Dance! | Animal Songs | PINKFONG Songs for Children\\n    ', 'none_given']\n",
      "    ['Avicii', 'Wake Me Up (Official Video)']\n",
      "    ['Fifth Harmony', 'Worth It ft. Kid Ink']\n",
      "    ['Luis Fonsi, Demi Lovato', 'Échame La Culpa']\n",
      "    ['Shawn Mendes', 'Treat You Better']\n",
      "    ['Eminem', 'Love The Way You Lie ft. Rihanna']\n",
      "    ['\\n      FROZEN | Let It Go Sing-along | Official Disney UK\\n    ', 'none_given']\n",
      "    ['Silentó', 'Watch Me (Whip/Nae Nae) (Official)']\n",
      "    ['Natti Natasha ❌ Ozuna', 'Criminal [Official Video]']\n",
      "    ['\\n      Johny Johny Yes Papa and Many More Videos | Popular Nursery Rhymes Collection by ChuChu TV\\n    ', 'none_given']\n",
      "    ['LMFAO', 'Party Rock Anthem ft. Lauren Bennett, GoonRock']\n",
      "    ['MAGIC!', 'Rude (Official Video)']\n",
      "    ['\\n      HUGE EGGS Surprise Toys Challenge with Inflatable water slide\\n    ', 'none_given']\n",
      "    ['J. Balvin', 'Ay Vamos']\n",
      "    ['The Gummy Bear Song', 'Long English Version']\n",
      "    ['\\n      twenty one pilots: Stressed Out [OFFICIAL VIDEO]\\n    ', 'none_given']\n",
      "    ['Bruno Mars', 'The Lazy Song [OFFICIAL VIDEO]']\n",
      "    ['Dua Lipa', 'New Rules (Official Music Video)']\n",
      "    ['Ricky Martin', \"Vente Pa' Ca (Official Video) ft. Maluma\"]\n",
      "    ['Drake', 'Hotline Bling']\n",
      "    ['Maluma', 'Felices los 4 (Official Video)']\n",
      "    ['Justin Bieber', 'Love Yourself  (PURPOSE : The Movement)']\n",
      "    ['The Weeknd', 'Starboy (official) ft. Daft Punk']\n",
      "    ['Crazy Frog', 'Axel F']\n",
      "    ['Ed Sheeran', 'Perfect (Official Music Video)']\n",
      "    ['Ariana Grande', 'Side To Side ft. Nicki Minaj']\n",
      "    ['Adele', 'Rolling in the Deep']\n",
      "    ['Romeo Santos', 'Propuesta Indecente (Official Video)']\n",
      "    ['CNCO', 'Reggaetón Lento (Bailemos)']\n",
      "    ['John Legend', 'All of Me (Edited Video)']\n",
      "    ['22. Hasta el Amanecer', 'Nicky Jam | Video Oficial']\n",
      "    ['Bruno Mars', 'That’s What I Like [Official Video]']\n",
      "    ['Camila Cabello', 'Havana (Audio) ft. Young Thug']\n",
      "    ['Becky G, Bad Bunny', 'Mayores (Official Video)']\n",
      "    ['The Chainsmokers & Coldplay', 'Something Just Like This (Lyric)']\n",
      "    ['Chino y Nacho', 'Andas En Mi Cabeza ft. Daddy Yankee']\n",
      "    ['Ellie Goulding', 'Burn']\n",
      "    ['Jennifer Lopez', 'On The Floor ft. Pitbull']\n",
      "    ['The Weeknd', 'The Hills']\n",
      "    ['\\n      Daddy Yankee | Shaky Shaky (Video Oficial)\\n    ', 'none_given']\n",
      "    ['Nicky Jam x J. Balvin', 'X (EQUIS) | Video Oficial | Prod. Afro Bros & Jeon']\n",
      "    ['Calvin Harris & Disciples', 'How Deep Is Your Love']\n",
      "    ['Calvin Harris', 'Summer']\n",
      "    ['Taylor Swift', 'Bad Blood ft. Kendrick Lamar']\n",
      "    ['David Guetta', 'Hey Mama (Official Video) ft Nicki Minaj, Bebe Rexha & Afrojack']\n",
      "    ['MACKLEMORE & RYAN LEWIS', 'THRIFT SHOP FEAT. WANZ (OFFICIAL VIDEO)']\n",
      "    ['Rihanna', 'Diamonds']\n",
      "    ['Johny Johny Yes Papa', 'THE BEST Song for Children | LooLoo Kids']\n",
      "    ['Jessie J, Ariana Grande, Nicki Minaj', 'Bang Bang ft. Ariana Grande, Nicki Minaj']\n",
      "    ['Joey Montana', 'Picky']\n",
      "    ['Maluma', 'Corazón (Official Video) ft. Nego do Borel']\n",
      "    ['Te Bote Remix', 'Casper, Nio García, Darell, Nicky Jam, Bad Bunny, Ozuna | Video Oficial']\n",
      "    ['Martin Garrix', 'Animals (Official Video)']\n",
      "    ['Bruno Mars', 'Just The Way You Are [OFFICIAL VIDEO]']\n",
      "    ['PULCINO PIO', 'El Pollito Pio (Official video)']\n",
      "    ['Carlos Vives, Shakira', 'La Bicicleta']\n",
      "    ['PSY', 'GENTLEMAN M/V']\n",
      "    ['Jason Derulo', 'Swalla (feat. Nicki Minaj & Ty Dolla $ign) (Official Music Video)']\n",
      "    ['Danny Ocean', ' Me Rehúso (Official Audio)']\n",
      "    ['21. El Perdón', 'Nicky Jam y Enrique Iglesias  [Official Music Video YTMAs]']\n",
      "    ['Sia', 'Cheap Thrills (Lyric Video) ft. Sean Paul']\n",
      "    ['Masha and The Bear', 'Bon appétit (Episode 24)']\n",
      "    ['Adele', 'Someone Like You']\n",
      "    ['Eminem', 'Not Afraid']\n",
      "    ['The Chainsmokers', \"Don't Let Me Down (Video) ft. Daya\"]\n",
      "    ['Maluma', 'El Perdedor (Official Video)']\n",
      "    ['El Amante', 'Nicky Jam (Video Oficial)  (Álbum Fénix)']\n"
     ]
    }
   ],
   "source": [
    "for i in range(df_top500.shape[0]):\n",
    "    print('   ',artist_splitter(df_top500.iloc[i][0]))"
   ]
  },
  {
   "cell_type": "code",
   "execution_count": 84,
   "metadata": {},
   "outputs": [],
   "source": [
    "df_top500.to_csv('./data/firstvids.csv')"
   ]
  },
  {
   "cell_type": "code",
   "execution_count": null,
   "metadata": {},
   "outputs": [],
   "source": []
  }
 ],
 "metadata": {
  "kernelspec": {
   "display_name": "Python 3",
   "language": "python",
   "name": "python3"
  },
  "language_info": {
   "codemirror_mode": {
    "name": "ipython",
    "version": 3
   },
   "file_extension": ".py",
   "mimetype": "text/x-python",
   "name": "python",
   "nbconvert_exporter": "python",
   "pygments_lexer": "ipython3",
   "version": "3.6.5"
  }
 },
 "nbformat": 4,
 "nbformat_minor": 2
}
