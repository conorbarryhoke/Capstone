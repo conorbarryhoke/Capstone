{
 "cells": [
  {
   "cell_type": "markdown",
   "metadata": {},
   "source": [
    "Left off at DBScan"
   ]
  },
  {
   "cell_type": "markdown",
   "metadata": {},
   "source": [
    "# TOC"
   ]
  },
  {
   "cell_type": "markdown",
   "metadata": {},
   "source": [
    "0. [Imports](#first-bullet)\n",
    "1. [EDA](#1.0-bullet)\n",
    "2. [Feature Engineering](#2.0-bullet)  \n",
    " 2.1 [Pt 1 - Regression](#2.1-bullet)  \n",
    " 2.2 [Pt 2 - Classification](#2.2-bullet)\n",
    "3. [Basic Model](#3.0-bullet)  \n",
    " 3.1 [Pt 1 - Regression](#3.1-bullet)  \n",
    " 3.2 [Pt 2 - Classification](#3.2-bullet)\n",
    "4. [Reference and Planning](#4.0-bullet)"
   ]
  },
  {
   "cell_type": "code",
   "execution_count": 10,
   "metadata": {},
   "outputs": [],
   "source": [
    "#Basic\n",
    "import pandas as pd\n",
    "import numpy as np\n",
    "#Math\n",
    "import scipy as sp\n",
    "from random import randint\n",
    "from math import exp\n",
    "import operator\n",
    "\n",
    "#Scraping\n",
    "import requests\n",
    "import json\n",
    "\n",
    "#Youtube Data API Packages: \n",
    "\"\"\"from apiclient.discovery import build\n",
    "from apiclient.errors import HttpError\n",
    "from oauth2client.tools import argparser\n",
    "from googleapiclient.discovery import build\n",
    "import argparse\n",
    "from googleapiclient.errors import HttpError\"\"\"\n",
    "\n",
    "#Modeling\n",
    "from sklearn.model_selection import cross_val_score, train_test_split, GridSearchCV\n",
    "from sklearn.preprocessing import StandardScaler\n",
    "from sklearn.linear_model import LogisticRegression\n",
    "#from sklearn.naive_bayes import MultinomialNB\n",
    "from sklearn.ensemble import RandomForestClassifier, GradientBoostingClassifier\n",
    "from sklearn.neighbors import KNeighborsClassifier\n",
    "#from sklearn.cluster import KMeans\n",
    "from sklearn.svm import SVC\n",
    "from sklearn.metrics import r2_score,confusion_matrix, roc_auc_score, roc_curve\n",
    "\n",
    "#NLP & Text Management\n",
    "# from sklearn.feature_extraction import stop_words\n",
    "# from sklearn.feature_extraction.text import CountVectorizer\n",
    "# from sklearn.feature_extraction.text import TfidfVectorizer\n",
    "# import re\n",
    "# from textblob import TextBlob\n",
    "# from wordcloud import WordCloud\n",
    "# from nltk.stem import PorterStemmer\n",
    "\n",
    "#Time analysis\n",
    "import time\n",
    "import datetime\n",
    "# from statsmodels.tsa.stattools import pacf\n",
    "# from statsmodels.graphics.tsaplots import plot_pacf\n",
    "\n",
    "#Plotting\n",
    "import matplotlib.pyplot as plt\n",
    "import seaborn as sns\n",
    "#from wordcloud import WordCloud\n",
    "\n",
    "%matplotlib inline\n",
    "plt.style.use('classic')\n",
    "sns.set_style('whitegrid')"
   ]
  },
  {
   "cell_type": "code",
   "execution_count": 78,
   "metadata": {},
   "outputs": [],
   "source": [
    "df_main = pd.read_csv('./data/engineered_data/data_genres.csv')"
   ]
  },
  {
   "cell_type": "code",
   "execution_count": 79,
   "metadata": {},
   "outputs": [],
   "source": [
    "model_time = ['is_weekend', 'is_friday', 'year_day', 'week', 'week_day', 'month', 'month_day', 'year',  ]\n",
    "model_text = ['description_sentiment', 'description_wordcount',\n",
    "  'tags_sentiment', 'tags_wordcount', 'title_sentiment',\n",
    " 'title_wordcount', 'title_featuring', 'title_length', ]\n",
    "model_title_letter = ['intitle_a',  'intitle_b', 'intitle_c', 'intitle_d', 'intitle_e', 'intitle_f', 'intitle_g',\n",
    " 'intitle_h', 'intitle_i', 'intitle_j', 'intitle_k', 'intitle_l', 'intitle_m', 'intitle_n', 'intitle_o',\n",
    " 'intitle_p', 'intitle_q', 'intitle_r', 'intitle_s', 'intitle_t', 'intitle_u', 'intitle_v', 'intitle_w',\n",
    " 'intitle_x', 'intitle_y', 'intitle_z',]              \n",
    "model_ratios = ['lv_ratio', 'comment_view_ratio', 'like_dislike_ratio',]\n",
    "model_other = ['duration', 'contentRating', 'regionRestriction',  'licensedContent', 'caption', 'definition']\n",
    "measures = ['likeCount', 'dislikeCount', 'commentCount', 'viewCount',\n",
    "            'view_log',  'comment_log',  'like_log', 'dislike_log', \n",
    "            'view_class' ]\n",
    "non_model_cols = ['request_token', 'letter_search','channelTitle', 'tags', 'title', 'vidId','publishedAt','favoriteCount',\n",
    "              'description','defaultLanguage', ]"
   ]
  },
  {
   "cell_type": "code",
   "execution_count": 80,
   "metadata": {},
   "outputs": [],
   "source": [
    "genre_list_str = ['alt_words', 'blues_words', 'christian_words', 'classical_words', 'country_words', 'dubstep_words', \n",
    "                 'edm_words', 'extended_words', 'folk_words', 'halloween_words', 'hit_words', 'italian_words', 'jazz_words', \n",
    "                 'kpop_words', 'latin_words', 'love_songs', 'other_rock_words', 'pop_words', 'rap_words', 'remix_words', \n",
    "                 'reggae_words', 'romanian_words', 'relax_words', 'rock_words', 'trap_words']\n",
    "deltas_list = ['like_baseline_delta', 'comment_baseline_delta', 'dislike_baseline_delta', 'ld_baseline_delta' ]"
   ]
  },
  {
   "cell_type": "code",
   "execution_count": 81,
   "metadata": {},
   "outputs": [],
   "source": [
    "baseline_stats = pd.read_csv('./data/engineered_data/engagement_matrix.csv')"
   ]
  },
  {
   "cell_type": "code",
   "execution_count": 82,
   "metadata": {},
   "outputs": [],
   "source": [
    "df_formodel = df_main[(df_main.view_log>4)&(df_main.lv_ratio>0)&(df_main.comment_view_ratio>0)&(df_main.like_dislike_ratio<10)]"
   ]
  },
  {
   "cell_type": "code",
   "execution_count": 83,
   "metadata": {},
   "outputs": [
    {
     "data": {
      "text/plain": [
       "Index(['index', 'caption', 'channelTitle', 'commentCount', 'defaultLanguage',\n",
       "       'definition', 'description', 'dislikeCount', 'duration',\n",
       "       'favoriteCount', 'licensedContent', 'likeCount', 'publishedAt',\n",
       "       'regionRestriction', 'tags', 'title', 'vidId', 'viewCount',\n",
       "       'request_token', 'letter_search', 'contentRating', 'year', 'month',\n",
       "       'month_day', 'year_day', 'week_day', 'view_log', 'comment_log',\n",
       "       'like_log', 'dislike_log', 'view_class', 'week',\n",
       "       'description_sentiment', 'description_wordcount', 'tags_sentiment',\n",
       "       'tags_wordcount', 'title_sentiment', 'title_wordcount',\n",
       "       'title_featuring', 'title_length', 'lv_ratio', 'comment_view_ratio',\n",
       "       'like_dislike_ratio', 'is_weekend', 'is_friday', 'alt_words',\n",
       "       'blues_words', 'christian_words', 'classical_words', 'country_words',\n",
       "       'dubstep_words', 'edm_words', 'extended_words', 'folk_words',\n",
       "       'halloween_words', 'hit_words', 'italian_words', 'jazz_words',\n",
       "       'kpop_words', 'latin_words', 'love_songs', 'other_rock_words',\n",
       "       'pop_words', 'rap_words', 'remix_words', 'reggae_words',\n",
       "       'romanian_words', 'relax_words', 'rock_words', 'trap_words',\n",
       "       'dislike_view_ratio', 'like_baseline_delta', 'comment_baseline_delta',\n",
       "       'dislike_baseline_delta', 'ld_baseline_delta'],\n",
       "      dtype='object')"
      ]
     },
     "execution_count": 83,
     "metadata": {},
     "output_type": "execute_result"
    }
   ],
   "source": [
    "df_formodel.columns"
   ]
  },
  {
   "cell_type": "markdown",
   "metadata": {},
   "source": [
    "# <a class=\"anchor\" id=\"1.0-bullet\">1. Basic Grouping</a>"
   ]
  },
  {
   "cell_type": "markdown",
   "metadata": {},
   "source": [
    "Do this first, then go back and do it without converting to logs, if meaningful"
   ]
  },
  {
   "cell_type": "code",
   "execution_count": 84,
   "metadata": {},
   "outputs": [],
   "source": [
    "#Engagement per second of content? See diminishing returns"
   ]
  },
  {
   "cell_type": "code",
   "execution_count": 85,
   "metadata": {},
   "outputs": [],
   "source": [
    "like_dict ={}\n",
    "comment_dict = {}\n",
    "dislike_dict = {}\n",
    "ld_dict = {}\n",
    "view_dict = {}\n",
    "duration_dict = {}\n",
    "for genre in genre_list_str:\n",
    "    like_dict[genre.replace('_words', '')] = df_formodel[df_formodel[genre]==1].like_baseline_delta.mean()\n",
    "    comment_dict[genre.replace('_words', '')] = df_formodel[df_formodel[genre]==1].comment_baseline_delta.mean()\n",
    "    dislike_dict[genre.replace('_words', '')] = df_formodel[df_formodel[genre]==1].dislike_baseline_delta.mean()\n",
    "    ld_dict[genre.replace('_words', '')] = df_formodel[df_formodel[genre]==1].ld_baseline_delta.mean()\n",
    "    view_dict[genre.replace('_words', '')] = df_formodel[df_formodel[genre]==1].view_log.mean()\n",
    "    duration_dict[genre.replace('_words', '')] = df_formodel[df_formodel[genre]==1].duration.mean()"
   ]
  },
  {
   "cell_type": "code",
   "execution_count": 86,
   "metadata": {},
   "outputs": [],
   "source": [
    "df_engagement = pd.concat([\n",
    "    pd.Series(like_dict), pd.Series(comment_dict), pd.Series(dislike_dict), pd.Series(ld_dict), pd.Series(view_dict), pd.Series(duration_dict)]\n",
    "    , axis=1)"
   ]
  },
  {
   "cell_type": "code",
   "execution_count": 87,
   "metadata": {},
   "outputs": [],
   "source": [
    "df_engagement.columns=['likes', 'comments', 'dislikes', 'likes_dislikes', 'views', 'duration']"
   ]
  },
  {
   "cell_type": "code",
   "execution_count": 126,
   "metadata": {},
   "outputs": [
    {
     "data": {
      "text/html": [
       "<div>\n",
       "<style scoped>\n",
       "    .dataframe tbody tr th:only-of-type {\n",
       "        vertical-align: middle;\n",
       "    }\n",
       "\n",
       "    .dataframe tbody tr th {\n",
       "        vertical-align: top;\n",
       "    }\n",
       "\n",
       "    .dataframe thead th {\n",
       "        text-align: right;\n",
       "    }\n",
       "</style>\n",
       "<table border=\"1\" class=\"dataframe\">\n",
       "  <thead>\n",
       "    <tr style=\"text-align: right;\">\n",
       "      <th></th>\n",
       "      <th>likes</th>\n",
       "      <th>comments</th>\n",
       "      <th>dislikes</th>\n",
       "      <th>likes_dislikes</th>\n",
       "      <th>views</th>\n",
       "      <th>duration</th>\n",
       "    </tr>\n",
       "  </thead>\n",
       "  <tbody>\n",
       "    <tr>\n",
       "      <th>reggae</th>\n",
       "      <td>0.490448</td>\n",
       "      <td>0.684599</td>\n",
       "      <td>0.651843</td>\n",
       "      <td>-17.344890</td>\n",
       "      <td>6.605652</td>\n",
       "      <td>252.666667</td>\n",
       "    </tr>\n",
       "    <tr>\n",
       "      <th>kpop</th>\n",
       "      <td>-0.730521</td>\n",
       "      <td>-0.773558</td>\n",
       "      <td>0.010457</td>\n",
       "      <td>-2.282547</td>\n",
       "      <td>6.724559</td>\n",
       "      <td>459.317073</td>\n",
       "    </tr>\n",
       "    <tr>\n",
       "      <th>classical</th>\n",
       "      <td>0.643343</td>\n",
       "      <td>0.286811</td>\n",
       "      <td>0.743747</td>\n",
       "      <td>-1.418765</td>\n",
       "      <td>5.754542</td>\n",
       "      <td>1333.038462</td>\n",
       "    </tr>\n",
       "    <tr>\n",
       "      <th>hit</th>\n",
       "      <td>0.126122</td>\n",
       "      <td>0.076246</td>\n",
       "      <td>0.254928</td>\n",
       "      <td>-1.232357</td>\n",
       "      <td>7.662304</td>\n",
       "      <td>259.024444</td>\n",
       "    </tr>\n",
       "    <tr>\n",
       "      <th>country</th>\n",
       "      <td>0.378359</td>\n",
       "      <td>0.534521</td>\n",
       "      <td>0.146548</td>\n",
       "      <td>-1.105841</td>\n",
       "      <td>6.806138</td>\n",
       "      <td>328.500000</td>\n",
       "    </tr>\n",
       "    <tr>\n",
       "      <th>pop</th>\n",
       "      <td>-0.048443</td>\n",
       "      <td>-0.038062</td>\n",
       "      <td>0.062902</td>\n",
       "      <td>-0.748030</td>\n",
       "      <td>7.237326</td>\n",
       "      <td>303.896119</td>\n",
       "    </tr>\n",
       "    <tr>\n",
       "      <th>remix</th>\n",
       "      <td>0.005447</td>\n",
       "      <td>0.073798</td>\n",
       "      <td>0.111826</td>\n",
       "      <td>-0.378337</td>\n",
       "      <td>7.210568</td>\n",
       "      <td>328.937388</td>\n",
       "    </tr>\n",
       "    <tr>\n",
       "      <th>extended</th>\n",
       "      <td>0.049315</td>\n",
       "      <td>0.083529</td>\n",
       "      <td>0.103864</td>\n",
       "      <td>-0.360345</td>\n",
       "      <td>6.312149</td>\n",
       "      <td>634.700000</td>\n",
       "    </tr>\n",
       "    <tr>\n",
       "      <th>rock</th>\n",
       "      <td>0.117103</td>\n",
       "      <td>0.029970</td>\n",
       "      <td>0.220484</td>\n",
       "      <td>-0.333633</td>\n",
       "      <td>6.824143</td>\n",
       "      <td>429.356643</td>\n",
       "    </tr>\n",
       "    <tr>\n",
       "      <th>love_songs</th>\n",
       "      <td>-0.416011</td>\n",
       "      <td>-0.296158</td>\n",
       "      <td>0.074779</td>\n",
       "      <td>-0.315138</td>\n",
       "      <td>6.933464</td>\n",
       "      <td>383.291667</td>\n",
       "    </tr>\n",
       "    <tr>\n",
       "      <th>alt</th>\n",
       "      <td>0.072017</td>\n",
       "      <td>0.055008</td>\n",
       "      <td>0.164084</td>\n",
       "      <td>-0.306120</td>\n",
       "      <td>7.337039</td>\n",
       "      <td>287.128743</td>\n",
       "    </tr>\n",
       "    <tr>\n",
       "      <th>folk</th>\n",
       "      <td>-0.075237</td>\n",
       "      <td>0.115260</td>\n",
       "      <td>0.134057</td>\n",
       "      <td>-0.172352</td>\n",
       "      <td>6.660259</td>\n",
       "      <td>384.878049</td>\n",
       "    </tr>\n",
       "    <tr>\n",
       "      <th>christian</th>\n",
       "      <td>0.056879</td>\n",
       "      <td>0.377915</td>\n",
       "      <td>0.132205</td>\n",
       "      <td>-0.082285</td>\n",
       "      <td>6.463699</td>\n",
       "      <td>479.310345</td>\n",
       "    </tr>\n",
       "    <tr>\n",
       "      <th>latin</th>\n",
       "      <td>-0.004600</td>\n",
       "      <td>0.140184</td>\n",
       "      <td>-0.141795</td>\n",
       "      <td>0.022045</td>\n",
       "      <td>7.503166</td>\n",
       "      <td>253.819048</td>\n",
       "    </tr>\n",
       "    <tr>\n",
       "      <th>blues</th>\n",
       "      <td>0.229378</td>\n",
       "      <td>0.106023</td>\n",
       "      <td>0.238421</td>\n",
       "      <td>0.111303</td>\n",
       "      <td>7.212179</td>\n",
       "      <td>316.933333</td>\n",
       "    </tr>\n",
       "    <tr>\n",
       "      <th>trap</th>\n",
       "      <td>-0.481667</td>\n",
       "      <td>-0.224047</td>\n",
       "      <td>-0.361878</td>\n",
       "      <td>0.335409</td>\n",
       "      <td>7.022341</td>\n",
       "      <td>248.333333</td>\n",
       "    </tr>\n",
       "    <tr>\n",
       "      <th>relax</th>\n",
       "      <td>-0.167709</td>\n",
       "      <td>-0.053467</td>\n",
       "      <td>-0.616031</td>\n",
       "      <td>0.376297</td>\n",
       "      <td>6.707702</td>\n",
       "      <td>2196.454545</td>\n",
       "    </tr>\n",
       "    <tr>\n",
       "      <th>dubstep</th>\n",
       "      <td>-0.258607</td>\n",
       "      <td>-0.107317</td>\n",
       "      <td>-0.025242</td>\n",
       "      <td>0.881688</td>\n",
       "      <td>6.362990</td>\n",
       "      <td>561.538462</td>\n",
       "    </tr>\n",
       "    <tr>\n",
       "      <th>halloween</th>\n",
       "      <td>-0.775537</td>\n",
       "      <td>-0.612664</td>\n",
       "      <td>-0.538212</td>\n",
       "      <td>0.889625</td>\n",
       "      <td>7.075408</td>\n",
       "      <td>272.714286</td>\n",
       "    </tr>\n",
       "    <tr>\n",
       "      <th>edm</th>\n",
       "      <td>-0.516835</td>\n",
       "      <td>-0.267070</td>\n",
       "      <td>-0.442120</td>\n",
       "      <td>1.231269</td>\n",
       "      <td>6.730460</td>\n",
       "      <td>465.162162</td>\n",
       "    </tr>\n",
       "    <tr>\n",
       "      <th>rap</th>\n",
       "      <td>-0.164609</td>\n",
       "      <td>-0.109939</td>\n",
       "      <td>-0.360841</td>\n",
       "      <td>1.752309</td>\n",
       "      <td>6.638441</td>\n",
       "      <td>549.838323</td>\n",
       "    </tr>\n",
       "    <tr>\n",
       "      <th>romanian</th>\n",
       "      <td>0.305963</td>\n",
       "      <td>0.467147</td>\n",
       "      <td>-0.003400</td>\n",
       "      <td>2.144092</td>\n",
       "      <td>6.806652</td>\n",
       "      <td>230.735294</td>\n",
       "    </tr>\n",
       "    <tr>\n",
       "      <th>italian</th>\n",
       "      <td>0.265597</td>\n",
       "      <td>0.529893</td>\n",
       "      <td>-0.026770</td>\n",
       "      <td>2.462043</td>\n",
       "      <td>6.744561</td>\n",
       "      <td>318.437500</td>\n",
       "    </tr>\n",
       "    <tr>\n",
       "      <th>other_rock</th>\n",
       "      <td>0.395931</td>\n",
       "      <td>-0.169171</td>\n",
       "      <td>-0.277656</td>\n",
       "      <td>4.475771</td>\n",
       "      <td>6.242437</td>\n",
       "      <td>332.500000</td>\n",
       "    </tr>\n",
       "    <tr>\n",
       "      <th>jazz</th>\n",
       "      <td>0.678896</td>\n",
       "      <td>1.158578</td>\n",
       "      <td>-0.657110</td>\n",
       "      <td>8.981153</td>\n",
       "      <td>4.298613</td>\n",
       "      <td>64.000000</td>\n",
       "    </tr>\n",
       "  </tbody>\n",
       "</table>\n",
       "</div>"
      ],
      "text/plain": [
       "               likes  comments  dislikes  likes_dislikes     views  \\\n",
       "reggae      0.490448  0.684599  0.651843      -17.344890  6.605652   \n",
       "kpop       -0.730521 -0.773558  0.010457       -2.282547  6.724559   \n",
       "classical   0.643343  0.286811  0.743747       -1.418765  5.754542   \n",
       "hit         0.126122  0.076246  0.254928       -1.232357  7.662304   \n",
       "country     0.378359  0.534521  0.146548       -1.105841  6.806138   \n",
       "pop        -0.048443 -0.038062  0.062902       -0.748030  7.237326   \n",
       "remix       0.005447  0.073798  0.111826       -0.378337  7.210568   \n",
       "extended    0.049315  0.083529  0.103864       -0.360345  6.312149   \n",
       "rock        0.117103  0.029970  0.220484       -0.333633  6.824143   \n",
       "love_songs -0.416011 -0.296158  0.074779       -0.315138  6.933464   \n",
       "alt         0.072017  0.055008  0.164084       -0.306120  7.337039   \n",
       "folk       -0.075237  0.115260  0.134057       -0.172352  6.660259   \n",
       "christian   0.056879  0.377915  0.132205       -0.082285  6.463699   \n",
       "latin      -0.004600  0.140184 -0.141795        0.022045  7.503166   \n",
       "blues       0.229378  0.106023  0.238421        0.111303  7.212179   \n",
       "trap       -0.481667 -0.224047 -0.361878        0.335409  7.022341   \n",
       "relax      -0.167709 -0.053467 -0.616031        0.376297  6.707702   \n",
       "dubstep    -0.258607 -0.107317 -0.025242        0.881688  6.362990   \n",
       "halloween  -0.775537 -0.612664 -0.538212        0.889625  7.075408   \n",
       "edm        -0.516835 -0.267070 -0.442120        1.231269  6.730460   \n",
       "rap        -0.164609 -0.109939 -0.360841        1.752309  6.638441   \n",
       "romanian    0.305963  0.467147 -0.003400        2.144092  6.806652   \n",
       "italian     0.265597  0.529893 -0.026770        2.462043  6.744561   \n",
       "other_rock  0.395931 -0.169171 -0.277656        4.475771  6.242437   \n",
       "jazz        0.678896  1.158578 -0.657110        8.981153  4.298613   \n",
       "\n",
       "               duration  \n",
       "reggae       252.666667  \n",
       "kpop         459.317073  \n",
       "classical   1333.038462  \n",
       "hit          259.024444  \n",
       "country      328.500000  \n",
       "pop          303.896119  \n",
       "remix        328.937388  \n",
       "extended     634.700000  \n",
       "rock         429.356643  \n",
       "love_songs   383.291667  \n",
       "alt          287.128743  \n",
       "folk         384.878049  \n",
       "christian    479.310345  \n",
       "latin        253.819048  \n",
       "blues        316.933333  \n",
       "trap         248.333333  \n",
       "relax       2196.454545  \n",
       "dubstep      561.538462  \n",
       "halloween    272.714286  \n",
       "edm          465.162162  \n",
       "rap          549.838323  \n",
       "romanian     230.735294  \n",
       "italian      318.437500  \n",
       "other_rock   332.500000  \n",
       "jazz          64.000000  "
      ]
     },
     "execution_count": 126,
     "metadata": {},
     "output_type": "execute_result"
    }
   ],
   "source": [
    "df_engagement.sort_values(by='likes_dislikes', ascending=True)"
   ]
  },
  {
   "cell_type": "code",
   "execution_count": 93,
   "metadata": {},
   "outputs": [
    {
     "data": {
      "text/plain": [
       "1873    False\n",
       "Name: kpop_words, dtype: bool"
      ]
     },
     "execution_count": 93,
     "metadata": {},
     "output_type": "execute_result"
    }
   ],
   "source": [
    "df_main[df_main.title.str.contains('White Noise')].kpop_words"
   ]
  },
  {
   "cell_type": "markdown",
   "metadata": {},
   "source": [
    "# <a class=\"anchor\" id=\"1.0-bullet\">1. Functions</a>"
   ]
  },
  {
   "cell_type": "code",
   "execution_count": 94,
   "metadata": {},
   "outputs": [],
   "source": [
    "df_forclass = df_formodel.loc[:, genre_list_str + deltas_list] #"
   ]
  },
  {
   "cell_type": "code",
   "execution_count": 96,
   "metadata": {},
   "outputs": [],
   "source": [
    "from sklearn.cluster import DBSCAN, KMeans"
   ]
  },
  {
   "cell_type": "code",
   "execution_count": 97,
   "metadata": {},
   "outputs": [],
   "source": [
    "from sklearn.metrics import silhouette_score"
   ]
  },
  {
   "cell_type": "code",
   "execution_count": 98,
   "metadata": {},
   "outputs": [],
   "source": [
    "ss = StandardScaler()\n",
    "df_forclass_sc = ss.fit_transform(df_forclass)"
   ]
  },
  {
   "cell_type": "code",
   "execution_count": 105,
   "metadata": {},
   "outputs": [
    {
     "data": {
      "text/plain": [
       "25"
      ]
     },
     "execution_count": 105,
     "metadata": {},
     "output_type": "execute_result"
    }
   ],
   "source": [
    "len(genre_list_str)"
   ]
  },
  {
   "cell_type": "code",
   "execution_count": 111,
   "metadata": {
    "scrolled": true
   },
   "outputs": [
    {
     "name": "stdout",
     "output_type": "stream",
     "text": [
      "   n:  3  silhouette:  0.15191665548548355  intertia:  193082.6000805104\n",
      "   n:  4  silhouette:  0.1538129229426103  intertia:  185478.83871179383\n",
      "   n:  5  silhouette:  0.16976675456434234  intertia:  178205.84122492417\n",
      "   n:  6  silhouette:  0.17347619645963608  intertia:  170711.49895128288\n",
      "   n:  7  silhouette:  0.15759742756257786  intertia:  164080.09245525522\n",
      "   n:  8  silhouette:  0.17211814708717058  intertia:  156493.94550984298\n",
      "   n:  9  silhouette:  0.1838505935414592  intertia:  148573.8279753702\n",
      "   n:  10  silhouette:  0.20106931888420024  intertia:  141021.47971465046\n",
      "   n:  11  silhouette:  0.22118331979590317  intertia:  134618.2282813151\n",
      "   n:  12  silhouette:  0.21080165490293912  intertia:  126142.67610615239\n",
      "   n:  13  silhouette:  0.19639410872453272  intertia:  119564.83665811589\n",
      "   n:  14  silhouette:  0.20969337977218028  intertia:  111884.3105329487\n",
      "   n:  15  silhouette:  0.21110057508597668  intertia:  105289.34482915894\n",
      "   n:  16  silhouette:  0.20868342064609743  intertia:  97536.65983686846\n",
      "   n:  17  silhouette:  0.23277110883442287  intertia:  91380.0302778436\n",
      "   n:  18  silhouette:  0.26107355661152476  intertia:  85845.31411057414\n",
      "   n:  19  silhouette:  0.25454288824272187  intertia:  78533.45376849109\n",
      "   n:  20  silhouette:  0.2602861321579426  intertia:  71821.85564606577\n",
      "   n:  21  silhouette:  0.276012523682305  intertia:  66703.96262258173\n",
      "   n:  22  silhouette:  0.2880058997218687  intertia:  61321.75648562497\n",
      "   n:  23  silhouette:  0.2878230602328948  intertia:  55154.655008849004\n",
      "   n:  24  silhouette:  0.32768127414906306  intertia:  51385.6298294405\n",
      "   n:  25  silhouette:  0.33091291250771876  intertia:  46686.18818396657\n",
      "   n:  26  silhouette:  0.3599677787690681  intertia:  42905.670187979274\n",
      "   n:  27  silhouette:  0.2907550772151696  intertia:  39331.94294798392\n",
      "   n:  28  silhouette:  0.31225301347993323  intertia:  36733.32754039745\n",
      "   n:  29  silhouette:  0.3268815993476293  intertia:  34840.988248224334\n",
      "   n:  30  silhouette:  0.33997958924849125  intertia:  33082.79531169949\n",
      "   n:  31  silhouette:  0.33665096198013333  intertia:  31788.52684192794\n",
      "   n:  32  silhouette:  0.3069859740316883  intertia:  30656.183715000916\n",
      "   n:  33  silhouette:  0.34312463293772544  intertia:  29617.82041194855\n",
      "   n:  34  silhouette:  0.30813882555130656  intertia:  29406.916306002186\n",
      "   n:  35  silhouette:  0.3145637218571346  intertia:  28178.411189994702\n",
      "   n:  36  silhouette:  0.31946425951698815  intertia:  27749.463011593063\n",
      "   n:  37  silhouette:  0.314072216480334  intertia:  26815.799529757838\n",
      "   n:  38  silhouette:  0.3158972926995865  intertia:  27015.054779740352\n",
      "   n:  39  silhouette:  0.32024076567000626  intertia:  26521.229057957124\n"
     ]
    }
   ],
   "source": [
    "n_dict = {}\n",
    "for n in range(3, 40): \n",
    "    k_classifier = KMeans(n_clusters=n, random_state=42)\n",
    "    n_dict[n] = silhouette_score(df_forclass_sc, k_classifier.fit_predict(df_forclass_sc)) \n",
    "    print('   n: ', n, ' silhouette: ', n_dict[n], ' intertia: ' , k_classifier.inertia_)"
   ]
  },
  {
   "cell_type": "code",
   "execution_count": 113,
   "metadata": {},
   "outputs": [
    {
     "data": {
      "text/plain": [
       "[<matplotlib.lines.Line2D at 0x13fc48e1898>]"
      ]
     },
     "execution_count": 113,
     "metadata": {},
     "output_type": "execute_result"
    },
    {
     "data": {
      "image/png": "[encoded data removed]",
      "text/plain": [
       "<Figure size 640x480 with 1 Axes>"
      ]
     },
     "metadata": {},
     "output_type": "display_data"
    }
   ],
   "source": [
    "fig, ax = plt.subplots()\n",
    "ax.plot(n_dict.keys(), n_dict.values())"
   ]
  },
  {
   "cell_type": "code",
   "execution_count": 103,
   "metadata": {},
   "outputs": [],
   "source": [
    "#['tags_sentiment', 'description_sentiment', 'description_wordcount', 'title_featuring', 'duration', 'year', 'title_length', 'lv_ratio', 'view_log']"
   ]
  },
  {
   "cell_type": "code",
   "execution_count": 114,
   "metadata": {},
   "outputs": [
    {
     "data": {
      "text/plain": [
       "KMeans(algorithm='auto', copy_x=True, init='k-means++', max_iter=300,\n",
       "    n_clusters=25, n_init=10, n_jobs=1, precompute_distances='auto',\n",
       "    random_state=42, tol=0.0001, verbose=0)"
      ]
     },
     "execution_count": 114,
     "metadata": {},
     "output_type": "execute_result"
    }
   ],
   "source": [
    "k_classifier = KMeans(n_clusters=25, random_state=42)\n",
    "k_classifier.fit(df_forclass_sc)"
   ]
  },
  {
   "cell_type": "code",
   "execution_count": 115,
   "metadata": {},
   "outputs": [],
   "source": [
    "df_formodel['k_class'] = k_classifier.predict(df_forclass_sc)"
   ]
  },
  {
   "cell_type": "code",
   "execution_count": 124,
   "metadata": {},
   "outputs": [],
   "source": [
    "df_formodel.loc[:, genre_list_str+['k_class', 'lv_ratio']].groupby('k_class').sum().T.to_csv('./data/classifieds/genre_classes.csv')"
   ]
  },
  {
   "cell_type": "markdown",
   "metadata": {},
   "source": [
    "### DBScan"
   ]
  },
  {
   "cell_type": "code",
   "execution_count": 122,
   "metadata": {},
   "outputs": [
    {
     "data": {
      "text/plain": [
       " 0     4340\n",
       "-1     1647\n",
       " 5      386\n",
       " 4      184\n",
       " 3      147\n",
       " 6      109\n",
       " 16      61\n",
       " 9       52\n",
       " 1       52\n",
       " 8       47\n",
       " 19      40\n",
       " 2       37\n",
       " 11      31\n",
       " 12      27\n",
       " 20      18\n",
       " 14      13\n",
       " 22      12\n",
       " 15      12\n",
       " 30       9\n",
       " 10       9\n",
       " 21       9\n",
       " 17       8\n",
       " 24       8\n",
       " 18       7\n",
       " 32       7\n",
       " 23       7\n",
       " 29       6\n",
       " 33       6\n",
       " 13       6\n",
       " 26       6\n",
       " 27       6\n",
       " 28       5\n",
       " 39       5\n",
       " 36       5\n",
       " 40       5\n",
       " 25       5\n",
       " 35       5\n",
       " 34       5\n",
       " 38       5\n",
       " 7        5\n",
       " 31       5\n",
       " 37       5\n",
       "Name: class, dtype: int64"
      ]
     },
     "execution_count": 122,
     "metadata": {},
     "output_type": "execute_result"
    }
   ],
   "source": [
    "db_model = DBSCAN()\n",
    "\n",
    "pd.DataFrame(db_model.fit_predict(df_forclass_sc), columns=['class'])['class'].value_counts()"
   ]
  },
  {
   "cell_type": "code",
   "execution_count": 138,
   "metadata": {},
   "outputs": [],
   "source": [
    "db_preds = db_model.fit_predict(uns_X_sc)\n",
    "df_db_classes = df_main[df_main.view_class>1]"
   ]
  },
  {
   "cell_type": "code",
   "execution_count": 139,
   "metadata": {},
   "outputs": [
    {
     "name": "stderr",
     "output_type": "stream",
     "text": [
      "C:\\ProgramData\\Anaconda3\\lib\\site-packages\\ipykernel_launcher.py:1: SettingWithCopyWarning: \n",
      "A value is trying to be set on a copy of a slice from a DataFrame.\n",
      "Try using .loc[row_indexer,col_indexer] = value instead\n",
      "\n",
      "See the caveats in the documentation: http://pandas.pydata.org/pandas-docs/stable/indexing.html#indexing-view-versus-copy\n",
      "  \"\"\"Entry point for launching an IPython kernel.\n"
     ]
    }
   ],
   "source": [
    "df_db_classes['db_class'] = db_preds"
   ]
  }
 ],
 "metadata": {
  "kernelspec": {
   "display_name": "Python 3",
   "language": "python",
   "name": "python3"
  },
  "language_info": {
   "codemirror_mode": {
    "name": "ipython",
    "version": 3
   },
   "file_extension": ".py",
   "mimetype": "text/x-python",
   "name": "python",
   "nbconvert_exporter": "python",
   "pygments_lexer": "ipython3",
   "version": "3.6.5"
  }
 },
 "nbformat": 4,
 "nbformat_minor": 2
}
