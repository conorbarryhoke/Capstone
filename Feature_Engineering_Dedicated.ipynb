{
 "cells": [
  {
   "cell_type": "markdown",
   "metadata": {},
   "source": [
    "# TOC\n",
    "\n",
    "0. [Imports](#first-bullet)\n",
    "1. [EDA](#1.0-bullet)\n",
    "2. [New Features](#2.0-bullet)  \n",
    " 2.1 [Datetime](#2.1-bullet)  \n",
    " 2.2 [Description](#2.2-bullet)  \n",
    " 2.3 [Tags](#2.3-bullet)  \n",
    " 2.4 [Title](#2.4-bullet)  \n",
    " 2.5 [Ratios](#2.5-bullet)  \n",
    "3. [Output & Dictionary - Part 1](#3.0-bullet)  \n",
    "4. [Part 2: Unsupervised Engagement](#4.0-bullet)"
   ]
  },
  {
   "cell_type": "markdown",
   "metadata": {},
   "source": [
    "# <a class=\"anchor\" id=\"0.0-bullet\"> 0. Imports & Basic Measures</a>"
   ]
  },
  {
   "cell_type": "code",
   "execution_count": 1,
   "metadata": {},
   "outputs": [],
   "source": [
    "#Basic\n",
    "import pandas as pd\n",
    "import numpy as np\n",
    "#Math\n",
    "import scipy as sp\n",
    "from random import randint\n",
    "from math import exp\n",
    "import operator\n",
    "\n",
    "#Scraping\n",
    "#import requests\n",
    "#import json\n",
    "\n",
    "#Youtube Data API Packages: \n",
    "\"\"\"from apiclient.discovery import build\n",
    "from apiclient.errors import HttpError\n",
    "from oauth2client.tools import argparser\n",
    "from googleapiclient.discovery import build\n",
    "import argparse\n",
    "from googleapiclient.errors import HttpError\"\"\"\n",
    "\n",
    "#Modeling\n",
    "# from sklearn.model_selection import cross_val_score, train_test_split, GridSearchCV\n",
    "from sklearn.metrics import r2_score\n",
    "from sklearn.preprocessing import StandardScaler\n",
    "from sklearn.linear_model import LogisticRegression, LinearRegression\n",
    "# #from sklearn.naive_bayes import MultinomialNB\n",
    "# from sklearn.ensemble import RandomForestClassifier, GradientBoostingClassifier\n",
    "# from sklearn.neighbors import KNeighborsClassifier\n",
    "# #from sklearn.cluster import KMeans\n",
    "# #from sklearn.svm import SVC\n",
    "# from sklearn.metrics import confusion_matrix, roc_auc_score, roc_curve\n",
    "\n",
    "#NLP & Text Management\n",
    "from sklearn.feature_extraction import stop_words\n",
    "from sklearn.feature_extraction.text import CountVectorizer\n",
    "from sklearn.feature_extraction.text import TfidfVectorizer\n",
    "import re\n",
    "from textblob import TextBlob\n",
    "from wordcloud import WordCloud\n",
    "from nltk.stem import PorterStemmer\n",
    "\n",
    "#Time analysis\n",
    "import time\n",
    "import datetime\n",
    "\"\"\"from statsmodels.tsa.stattools import pacf\n",
    "from statsmodels.graphics.tsaplots import plot_pacf\"\"\"\n",
    "\n",
    "#Plotting\n",
    "import matplotlib.pyplot as plt\n",
    "import seaborn as sns\n",
    "#from wordcloud import WordCloud\n",
    "\n",
    "%matplotlib inline\n",
    "plt.style.use('seaborn-whitegrid')\n",
    "sns.set_style('whitegrid')"
   ]
  },
  {
   "cell_type": "code",
   "execution_count": 1,
   "metadata": {
    "collapsed": true
   },
   "outputs": [
    {
     "ename": "NameError",
     "evalue": "name 'pd' is not defined",
     "output_type": "error",
     "traceback": [
      "\u001b[1;31m---------------------------------------------------------------------------\u001b[0m",
      "\u001b[1;31mNameError\u001b[0m                                 Traceback (most recent call last)",
      "\u001b[1;32m<ipython-input-1-a7e8d834be5e>\u001b[0m in \u001b[0;36m<module>\u001b[1;34m()\u001b[0m\n\u001b[1;32m----> 1\u001b[1;33m \u001b[0mdf_main\u001b[0m \u001b[1;33m=\u001b[0m \u001b[0mpd\u001b[0m\u001b[1;33m.\u001b[0m\u001b[0mread_csv\u001b[0m\u001b[1;33m(\u001b[0m\u001b[1;34m'./data/clean_data_nocomments_noviews_02.10.18.csv'\u001b[0m\u001b[1;33m)\u001b[0m\u001b[1;33m\u001b[0m\u001b[0m\n\u001b[0m\u001b[0;32m      2\u001b[0m \u001b[1;33m\u001b[0m\u001b[0m\n\u001b[0;32m      3\u001b[0m \u001b[1;31m#create log features\u001b[0m\u001b[1;33m\u001b[0m\u001b[1;33m\u001b[0m\u001b[0m\n\u001b[0;32m      4\u001b[0m \u001b[0mdf_main\u001b[0m\u001b[1;33m[\u001b[0m\u001b[1;34m'view_log'\u001b[0m\u001b[1;33m]\u001b[0m \u001b[1;33m=\u001b[0m \u001b[0mdf_main\u001b[0m\u001b[1;33m[\u001b[0m\u001b[1;34m'viewCount'\u001b[0m\u001b[1;33m]\u001b[0m\u001b[1;33m.\u001b[0m\u001b[0mmap\u001b[0m\u001b[1;33m(\u001b[0m\u001b[1;32mlambda\u001b[0m \u001b[0mx\u001b[0m\u001b[1;33m:\u001b[0m \u001b[1;36m0\u001b[0m \u001b[1;32mif\u001b[0m \u001b[0mx\u001b[0m\u001b[1;33m==\u001b[0m\u001b[1;36m0\u001b[0m \u001b[1;32melse\u001b[0m \u001b[0mnp\u001b[0m\u001b[1;33m.\u001b[0m\u001b[0mlog10\u001b[0m\u001b[1;33m(\u001b[0m\u001b[0mx\u001b[0m\u001b[1;33m)\u001b[0m\u001b[1;33m)\u001b[0m \u001b[1;31m#Which log to use???\u001b[0m\u001b[1;33m\u001b[0m\u001b[0m\n\u001b[0;32m      5\u001b[0m \u001b[0mdf_main\u001b[0m\u001b[1;33m[\u001b[0m\u001b[1;34m'comment_log'\u001b[0m\u001b[1;33m]\u001b[0m \u001b[1;33m=\u001b[0m \u001b[0mdf_main\u001b[0m\u001b[1;33m[\u001b[0m\u001b[1;34m'commentCount'\u001b[0m\u001b[1;33m]\u001b[0m\u001b[1;33m.\u001b[0m\u001b[0mmap\u001b[0m\u001b[1;33m(\u001b[0m\u001b[1;32mlambda\u001b[0m \u001b[0mx\u001b[0m\u001b[1;33m:\u001b[0m \u001b[1;36m0\u001b[0m \u001b[1;32mif\u001b[0m \u001b[0mx\u001b[0m\u001b[1;33m==\u001b[0m\u001b[1;36m0\u001b[0m \u001b[1;32melse\u001b[0m \u001b[0mnp\u001b[0m\u001b[1;33m.\u001b[0m\u001b[0mlog10\u001b[0m\u001b[1;33m(\u001b[0m\u001b[0mx\u001b[0m\u001b[1;33m)\u001b[0m\u001b[1;33m)\u001b[0m\u001b[1;33m\u001b[0m\u001b[0m\n",
      "\u001b[1;31mNameError\u001b[0m: name 'pd' is not defined"
     ]
    }
   ],
   "source": [
    "df_main = pd.read_csv('./data/clean_data_nocomments_noviews_02.10.18.csv')\n",
    "\n",
    "#create log features\n",
    "df_main['view_log'] = df_main['viewCount'].map(lambda x: 0 if x==0 else np.log10(x)) #Which log to use???\n",
    "df_main['comment_log'] = df_main['commentCount'].map(lambda x: 0 if x==0 else np.log10(x))\n",
    "df_main['like_log'] = df_main['likeCount'].map(lambda x: 0 if x==0 else np.log10(x))\n",
    "df_main['dislike_log'] = df_main['dislikeCount'].map(lambda x: 0 if x==0 else np.log10(x))\n",
    "df_main['view_class'] = df_main.view_log.astype(int)\n",
    "\n",
    "df_main.publishedAt = pd.to_datetime(df_main.publishedAt)\n",
    "\n",
    "df_main.description.fillna('', inplace=True)\n",
    "df_main.tags.fillna('', inplace=True)\n",
    "\n",
    "#Running all the vectorizers is memory instensive. Don't do it by accident.\n",
    "Run_Text_Analysis = False"
   ]
  },
  {
   "cell_type": "code",
   "execution_count": null,
   "metadata": {},
   "outputs": [],
   "source": []
  },
  {
   "cell_type": "markdown",
   "metadata": {},
   "source": [
    "# <a class=\"anchor\" id=\"1.0-bullet\"> 2. Adding Features</a>"
   ]
  },
  {
   "cell_type": "markdown",
   "metadata": {},
   "source": [
    "## <a class=\"anchor\" id=\"1.0-bullet\"> 2.1 Datetime</a>\n",
    " * Week Number\n",
    " * is Weekend\n",
    " * Year"
   ]
  },
  {
   "cell_type": "code",
   "execution_count": null,
   "metadata": {},
   "outputs": [],
   "source": [
    "df_main['week'] = df_main.publishedAt.map(lambda x: x.week)"
   ]
  },
  {
   "cell_type": "code",
   "execution_count": 75,
   "metadata": {},
   "outputs": [],
   "source": [
    "df_main['is_weekend'] = df_main.publishedAt.dt.weekday.map(lambda x: 1 if x == 5 or x==6 else 0)"
   ]
  },
  {
   "cell_type": "code",
   "execution_count": 76,
   "metadata": {},
   "outputs": [],
   "source": [
    "df_main['is_friday'] = df_main.publishedAt.dt.weekday.map(lambda x: 1 if x == 4 else 0)"
   ]
  },
  {
   "cell_type": "code",
   "execution_count": 71,
   "metadata": {},
   "outputs": [],
   "source": [
    "# df_main['year'] exists"
   ]
  },
  {
   "cell_type": "markdown",
   "metadata": {},
   "source": [
    "## <a class=\"anchor\" id=\"2.2-bullet\"> 2.2 Description Analysis</a>\n",
    " * Sentiment description_sentiment\n",
    " * Overall word count description_wordcount\n",
    " * CVEC matrix"
   ]
  },
  {
   "cell_type": "code",
   "execution_count": 3,
   "metadata": {},
   "outputs": [],
   "source": [
    "#Score description words with Textblob\n",
    "df_main['description_sentiment'] = df_main['description'].map(lambda x: TextBlob(str(x)).sentiment.polarity) "
   ]
  },
  {
   "cell_type": "code",
   "execution_count": 4,
   "metadata": {},
   "outputs": [],
   "source": [
    "#Count Spaces\n",
    "df_main['description_wordcount'] = df_main['description'].map(lambda x: str(x).count(' '))"
   ]
  },
  {
   "cell_type": "code",
   "execution_count": 5,
   "metadata": {},
   "outputs": [],
   "source": [
    "if Run_Text_Analysis: \n",
    "    corp = ''\n",
    "    #Remove links to other websites in initial vector fit, along with carriage returns\n",
    "    for i in range(df_main.shape[0]):\n",
    "        corp += re.sub(r'http[^ ]+', '',df_main.iloc[i]['description']).replace(\"\\r\", '').replace(\"\\n\", '')\n",
    "    #single row dataframe to allow for quick integration with count vectorizer\n",
    "    df_corp= pd.DataFrame([corp], index=[1])\n",
    "    cvec = CountVectorizer()\n",
    "    df_cvec_description = cvec.fit_transform(df_corp[0]).todense()\n",
    "    df_cvec_description = pd.DataFrame(df_cvec_description, columns = cvec.get_feature_names())\n",
    "    \n",
    "    #Only retaining words that appear often enough for a basic model to catch them. \n",
    "    #Otherwise, this vector is about 10 GB\n",
    "    descr_words = [col for col in df_cvec_description.columns if df_cvec_description[col].sum()>200]\n",
    "\n",
    "    lmtzr = PorterStemmer()\n",
    "    lem_list = []\n",
    "    for word in descr_words:\n",
    "        lem_list.append(lmtzr.stem(word))\n",
    "    #remove duplicates\n",
    "    lem_list = list(set(lem_list))\n",
    "    #Keep video Id as index\n",
    "    df_descr_word_vec = df_main.loc[:, ['description', 'vidId']]\n",
    "    \n",
    "    for i in range(df_descr_word_vec.shape[0]):\n",
    "        df_descr_word_vec.at[i,'description'] = ' '.join([lmtzr.stem(word) for word in (re.sub(r'http[^ ]+', '', \\\n",
    "                                                                                               df_descr_word_vec.description[i]).replace(\"\\r\", '').replace(\"\\n\", '')).split(' ')])\n",
    "    #Create columns so that words can be identified\n",
    "    for word in lem_list:\n",
    "        df_descr_word_vec[str('descr_word_' + word)] = df_descr_word_vec.description.str.count(word)\n",
    "\n",
    "    df_descr_word_vec.to_csv('./data/engineered_data/description_wordvec.csv')"
   ]
  },
  {
   "cell_type": "markdown",
   "metadata": {},
   "source": [
    "## <a class=\"anchor\" id=\"2.3-bullet\"> 2.3 Tags</a>\n",
    " * Sentiment\n",
    " * CVEC\n",
    " * Num tags"
   ]
  },
  {
   "cell_type": "code",
   "execution_count": 6,
   "metadata": {},
   "outputs": [],
   "source": [
    "df_main['tags_sentiment'] = df_main['tags'].map(lambda x: TextBlob(str(x)).sentiment.polarity)\n",
    "#count number of tags based on commas, rather than total words\n",
    "df_main['tags_wordcount'] = df_main['tags'].map(lambda x: str(x).count(','))"
   ]
  },
  {
   "cell_type": "code",
   "execution_count": 7,
   "metadata": {},
   "outputs": [],
   "source": [
    "if Run_Text_Analysis: \n",
    "    corp = ''\n",
    "    for i in range(df_main.shape[0]):\n",
    "        try:\n",
    "            corp += re.sub(r'http[^ ]+', '',df_main.iloc[i]['tags']).replace(\"\\r\", '').replace(\"\\n\", '')\n",
    "        except:\n",
    "            next\n",
    "\n",
    "    df_corp= pd.DataFrame([corp], index=[1])\n",
    "    cvec = CountVectorizer()\n",
    "    df_cvec_tags = cvec.fit_transform(df_corp[0]).todense()\n",
    "    df_cvec_tags = pd.DataFrame(df_cvec_tags, columns = cvec.get_feature_names())\n",
    "\n",
    "    tags_words = [col for col in df_cvec_tags.columns if df_cvec_tags[col].sum()>200]\n",
    "\n",
    "    lmtzr = PorterStemmer()\n",
    "    lem_list = []\n",
    "    for word in tags_words:\n",
    "        lem_list.append(lmtzr.stem(word))\n",
    "    lem_list = list(set(lem_list))\n",
    "    df_tags_word_vec = df_main.loc[:, ['tags', 'vidId']]\n",
    "\n",
    "    for i in range(df_tags_word_vec.shape[0]):\n",
    "        try:\n",
    "            df_tags_word_vec.at[i,'tags'] = ' '.join([lmtzr.stem(word) for word in (re.sub(r'http[^ ]+', '', \\\n",
    "                                                                                           df_tags_word_vec.tags[i]).replace(\"\\r\", '').replace(\"\\n\", '')).split(' ')])\n",
    "        except:\n",
    "            df_tags_word_vec.at[i,'tags'] = ''\n",
    "\n",
    "    for word in lem_list:\n",
    "        df_tags_word_vec[str('tags_word_' + word)] = df_tags_word_vec.tags.str.count(word)\n",
    "\n",
    "    df_tags_word_vec.fillna(0, inplace=True)\n",
    "\n",
    "    df_tags_word_vec.to_csv('./data/engineered_data/tag_wordvec.csv')"
   ]
  },
  {
   "cell_type": "markdown",
   "metadata": {},
   "source": [
    "## <a class=\"anchor\" id=\"2.4-bullet\"> 2.4 Title Analysis</a>\n",
    " * Sentiment\n",
    " * Wordcount\n",
    " * CVEC predictions\n",
    " * feat / ft. \n",
    " * Which letters\n",
    " * Length"
   ]
  },
  {
   "cell_type": "code",
   "execution_count": 8,
   "metadata": {},
   "outputs": [],
   "source": [
    "df_main['title_sentiment'] = df_main['title'].map(lambda x: TextBlob(str(x)).sentiment.polarity)\n",
    "df_main['title_wordcount'] = df_main['title'].map(lambda x: str(x).count(' '))"
   ]
  },
  {
   "cell_type": "code",
   "execution_count": 9,
   "metadata": {},
   "outputs": [],
   "source": [
    "feat_words = ['feat', 'ft', 'featur']\n",
    "def find_feats(text_string):\n",
    "    text_string = text_string.lower()\n",
    "    for word in feat_words:\n",
    "        if word in text_string:\n",
    "            return 1\n",
    "    return 0\n",
    "df_main['title_featuring'] = df_main['title'].map(lambda x: find_feats(x))"
   ]
  },
  {
   "cell_type": "code",
   "execution_count": 10,
   "metadata": {},
   "outputs": [
    {
     "data": {
      "text/plain": [
       "2.7215569134095174"
      ]
     },
     "execution_count": 10,
     "metadata": {},
     "output_type": "execute_result"
    }
   ],
   "source": [
    "df_main[df_main['title_featuring']==1]['viewCount'].mean() / df_main[df_main['title_featuring']==0]['viewCount'].mean()"
   ]
  },
  {
   "cell_type": "code",
   "execution_count": 11,
   "metadata": {},
   "outputs": [],
   "source": [
    "letters = 'abcdefghijklmnopqrstuvwxyz'\n",
    "for letter in letters:\n",
    "    df_main[str('intitle_' + letter)] = df_main.title.str.count(letter)"
   ]
  },
  {
   "cell_type": "code",
   "execution_count": 12,
   "metadata": {},
   "outputs": [
    {
     "data": {
      "text/plain": [
       "-0.0008536683101137517"
      ]
     },
     "execution_count": 12,
     "metadata": {},
     "output_type": "execute_result"
    }
   ],
   "source": [
    "df_main.intitle_e.corr(df_main.viewCount)"
   ]
  },
  {
   "cell_type": "code",
   "execution_count": 13,
   "metadata": {},
   "outputs": [
    {
     "data": {
      "text/plain": [
       "[('p', -0.03946633529244498),\n",
       " ('b', -0.03627860822539604),\n",
       " ('s', -0.03514826615159203),\n",
       " ('r', -0.027404929357270034),\n",
       " ('m', -0.027279484193756025),\n",
       " ('v', -0.026577086391472934),\n",
       " ('g', -0.02449266351460775),\n",
       " ('z', -0.02239357878936587),\n",
       " ('x', -0.021399371434054345),\n",
       " ('j', -0.02137359415623475),\n",
       " ('o', -0.02070718509871761),\n",
       " ('w', -0.014108489879490082),\n",
       " ('n', -0.01217125240695847),\n",
       " ('q', -0.007299119232882848),\n",
       " ('c', -0.006712985589303544),\n",
       " ('t', -0.002084847977073171),\n",
       " ('u', -0.0010196579409205704),\n",
       " ('e', -0.0008536683101137517),\n",
       " ('y', 0.0009580579318070765),\n",
       " ('l', 0.004137700055334141),\n",
       " ('h', 0.006063303890828201),\n",
       " ('d', 0.020119382926463092),\n",
       " ('a', 0.027141420170195565),\n",
       " ('k', 0.030337263703497507),\n",
       " ('i', 0.04360353842855648),\n",
       " ('f', 0.13541303454369089)]"
      ]
     },
     "execution_count": 13,
     "metadata": {},
     "output_type": "execute_result"
    }
   ],
   "source": [
    "dict_letters = {}\n",
    "for letter in letters:\n",
    "     dict_letters[letter] = df_main['intitle_'+letter].corr(df_main.viewCount)\n",
    "\n",
    "sorted_by_value = sorted(dict_letters.items(), key=lambda kv: kv[1])\n",
    "\n",
    "sorted_by_value"
   ]
  },
  {
   "cell_type": "markdown",
   "metadata": {},
   "source": [
    "Look at f go!"
   ]
  },
  {
   "cell_type": "code",
   "execution_count": 14,
   "metadata": {},
   "outputs": [],
   "source": [
    "df_main['title_length'] = df_main['title'].map(lambda x: len(str(x)))"
   ]
  },
  {
   "cell_type": "code",
   "execution_count": 15,
   "metadata": {},
   "outputs": [
    {
     "data": {
      "text/plain": [
       "0.02566059747225844"
      ]
     },
     "execution_count": 15,
     "metadata": {},
     "output_type": "execute_result"
    }
   ],
   "source": [
    "df_main.title_length.corr(df_main.view_log)"
   ]
  },
  {
   "cell_type": "code",
   "execution_count": 16,
   "metadata": {},
   "outputs": [],
   "source": [
    "if Run_Text_Analysis: \n",
    "    corp = ''\n",
    "    for i in range(df_main.shape[0]):\n",
    "        try:\n",
    "            corp += re.sub(r'http[^ ]+', '',df_main.iloc[i]['title']).replace(\"\\r\", '').replace(\"\\n\", '')\n",
    "        except:\n",
    "            next\n",
    "\n",
    "    df_corp= pd.DataFrame([corp], index=[1])\n",
    "    cvec = CountVectorizer()\n",
    "    df_cvec_title = cvec.fit_transform(df_corp[0]).todense()\n",
    "    df_cvec_title = pd.DataFrame(df_cvec_title, columns = cvec.get_feature_names())\n",
    "\n",
    "    title_words = [col for col in df_cvec_title.columns if df_cvec_title[col].sum()>200]\n",
    "\n",
    "    lmtzr = PorterStemmer()\n",
    "    lem_list = []\n",
    "    for word in title_words:\n",
    "        lem_list.append(lmtzr.stem(word))\n",
    "    lem_list = list(set(lem_list))\n",
    "    df_title_word_vec = df_main.loc[:, ['title', 'vidId']]\n",
    "\n",
    "    for i in range(df_title_word_vec.shape[0]):\n",
    "        try:\n",
    "            df_title_word_vec.at[i,'title'] = ' '.join([lmtzr.stem(word) for word in (re.sub(r'http[^ ]+', '', \\\n",
    "                                                                                           df_title_word_vec.title[i]).replace(\"\\r\", '').replace(\"\\n\", '')).split(' ')])\n",
    "        except:\n",
    "            df_title_word_vec.at[i,'title'] = ''\n",
    "\n",
    "    for word in lem_list:\n",
    "        df_title_word_vec[str('title_word_' + word)] = df_title_word_vec.title.str.count(word)\n",
    "\n",
    "    df_title_word_vec.fillna(0, inplace=True)\n",
    "\n",
    "    df_title_word_vec.to_csv('./data/title_wordvec.csv')"
   ]
  },
  {
   "cell_type": "markdown",
   "metadata": {},
   "source": [
    "## <a class=\"anchor\" id=\"2.5-bullet\"> 2.5 Ratios</a>"
   ]
  },
  {
   "cell_type": "markdown",
   "metadata": {},
   "source": [
    "#### Likes / Views"
   ]
  },
  {
   "cell_type": "code",
   "execution_count": 17,
   "metadata": {},
   "outputs": [
    {
     "data": {
      "text/plain": [
       "5632      1\n",
       "5845    527\n",
       "6235      1\n",
       "6236      1\n",
       "8498     82\n",
       "Name: likeCount, dtype: int64"
      ]
     },
     "execution_count": 17,
     "metadata": {},
     "output_type": "execute_result"
    }
   ],
   "source": [
    "df_main[(df_main['likeCount']>0)&(df_main['viewCount']<=5)]['likeCount']"
   ]
  },
  {
   "cell_type": "code",
   "execution_count": 18,
   "metadata": {},
   "outputs": [],
   "source": [
    "#Messing up the ratios with likecounts on videos with no views\n",
    "df_main.at[5632, 'likeCount'] = 0\n",
    "df_main.at[5845, 'likeCount'] = 0\n",
    "df_main.at[6235, 'likeCount'] = 0\n",
    "df_main.at[6236, 'likeCount'] = 0\n",
    "df_main.at[6279, 'likeCount'] = 0\n",
    "df_main.at[8498, 'likeCount'] = 0"
   ]
  },
  {
   "cell_type": "code",
   "execution_count": 26,
   "metadata": {},
   "outputs": [
    {
     "data": {
      "text/html": [
       "<div>\n",
       "<style scoped>\n",
       "    .dataframe tbody tr th:only-of-type {\n",
       "        vertical-align: middle;\n",
       "    }\n",
       "\n",
       "    .dataframe tbody tr th {\n",
       "        vertical-align: top;\n",
       "    }\n",
       "\n",
       "    .dataframe thead th {\n",
       "        text-align: right;\n",
       "    }\n",
       "</style>\n",
       "<table border=\"1\" class=\"dataframe\">\n",
       "  <thead>\n",
       "    <tr style=\"text-align: right;\">\n",
       "      <th></th>\n",
       "      <th>lv_ratio</th>\n",
       "      <th>viewCount</th>\n",
       "      <th>view_log</th>\n",
       "    </tr>\n",
       "  </thead>\n",
       "  <tbody>\n",
       "    <tr>\n",
       "      <th>lv_ratio</th>\n",
       "      <td>1.000000</td>\n",
       "      <td>0.176668</td>\n",
       "      <td>0.691731</td>\n",
       "    </tr>\n",
       "    <tr>\n",
       "      <th>viewCount</th>\n",
       "      <td>0.176668</td>\n",
       "      <td>1.000000</td>\n",
       "      <td>0.376019</td>\n",
       "    </tr>\n",
       "    <tr>\n",
       "      <th>view_log</th>\n",
       "      <td>0.691731</td>\n",
       "      <td>0.376019</td>\n",
       "      <td>1.000000</td>\n",
       "    </tr>\n",
       "  </tbody>\n",
       "</table>\n",
       "</div>"
      ],
      "text/plain": [
       "           lv_ratio  viewCount  view_log\n",
       "lv_ratio   1.000000   0.176668  0.691731\n",
       "viewCount  0.176668   1.000000  0.376019\n",
       "view_log   0.691731   0.376019  1.000000"
      ]
     },
     "execution_count": 26,
     "metadata": {},
     "output_type": "execute_result"
    }
   ],
   "source": [
    "df_main['lv_ratio'] = (df_main['like_log'] / df_main['view_log'])\n",
    "\n",
    "df_main['lv_ratio'].fillna(1, inplace=True)\n",
    "\n",
    "df_main.loc[: , ['lv_ratio', 'viewCount', 'view_log']].corr()"
   ]
  },
  {
   "cell_type": "markdown",
   "metadata": {},
   "source": [
    "#### comments / views"
   ]
  },
  {
   "cell_type": "code",
   "execution_count": 36,
   "metadata": {},
   "outputs": [
    {
     "data": {
      "text/plain": [
       "5845    67\n",
       "8498     3\n",
       "Name: commentCount, dtype: int64"
      ]
     },
     "execution_count": 36,
     "metadata": {},
     "output_type": "execute_result"
    }
   ],
   "source": [
    "df_main[(df_main['commentCount']>0)&(df_main['viewCount']<=0)]['commentCount']"
   ]
  },
  {
   "cell_type": "code",
   "execution_count": 37,
   "metadata": {},
   "outputs": [],
   "source": [
    "df_main.at[5845, 'commentCount'] = 0\n",
    "df_main.at[8498, 'commentCount'] = 0"
   ]
  },
  {
   "cell_type": "code",
   "execution_count": 24,
   "metadata": {},
   "outputs": [
    {
     "data": {
      "text/html": [
       "<div>\n",
       "<style scoped>\n",
       "    .dataframe tbody tr th:only-of-type {\n",
       "        vertical-align: middle;\n",
       "    }\n",
       "\n",
       "    .dataframe tbody tr th {\n",
       "        vertical-align: top;\n",
       "    }\n",
       "\n",
       "    .dataframe thead th {\n",
       "        text-align: right;\n",
       "    }\n",
       "</style>\n",
       "<table border=\"1\" class=\"dataframe\">\n",
       "  <thead>\n",
       "    <tr style=\"text-align: right;\">\n",
       "      <th></th>\n",
       "      <th>comment_view_ratio</th>\n",
       "      <th>viewCount</th>\n",
       "      <th>view_log</th>\n",
       "    </tr>\n",
       "  </thead>\n",
       "  <tbody>\n",
       "    <tr>\n",
       "      <th>comment_view_ratio</th>\n",
       "      <td>1.000000</td>\n",
       "      <td>0.236108</td>\n",
       "      <td>0.753268</td>\n",
       "    </tr>\n",
       "    <tr>\n",
       "      <th>viewCount</th>\n",
       "      <td>0.236108</td>\n",
       "      <td>1.000000</td>\n",
       "      <td>0.376019</td>\n",
       "    </tr>\n",
       "    <tr>\n",
       "      <th>view_log</th>\n",
       "      <td>0.753268</td>\n",
       "      <td>0.376019</td>\n",
       "      <td>1.000000</td>\n",
       "    </tr>\n",
       "  </tbody>\n",
       "</table>\n",
       "</div>"
      ],
      "text/plain": [
       "                    comment_view_ratio  viewCount  view_log\n",
       "comment_view_ratio            1.000000   0.236108  0.753268\n",
       "viewCount                     0.236108   1.000000  0.376019\n",
       "view_log                      0.753268   0.376019  1.000000"
      ]
     },
     "execution_count": 24,
     "metadata": {},
     "output_type": "execute_result"
    }
   ],
   "source": [
    "df_main['comment_view_ratio'] = (df_main['comment_log'] / df_main['view_log'])\n",
    "\n",
    "df_main['comment_view_ratio'].fillna(1, inplace=True)\n",
    "\n",
    "df_main.loc[: , ['comment_view_ratio', 'viewCount', 'view_log']].corr()"
   ]
  },
  {
   "cell_type": "code",
   "execution_count": null,
   "metadata": {},
   "outputs": [],
   "source": [
    "#Skip dislike / view: same as comment"
   ]
  },
  {
   "cell_type": "markdown",
   "metadata": {},
   "source": [
    "#### Dislikes / Likes"
   ]
  },
  {
   "cell_type": "code",
   "execution_count": 38,
   "metadata": {},
   "outputs": [
    {
     "data": {
      "text/plain": [
       "5845    27\n",
       "8498    10\n",
       "Name: dislikeCount, dtype: int64"
      ]
     },
     "execution_count": 38,
     "metadata": {},
     "output_type": "execute_result"
    }
   ],
   "source": [
    "df_main[(df_main['dislikeCount']>0)&(df_main['viewCount']<=0)]['dislikeCount']"
   ]
  },
  {
   "cell_type": "code",
   "execution_count": 39,
   "metadata": {},
   "outputs": [],
   "source": [
    "df_main.at[5845, 'dislikeCount'] = 0\n",
    "df_main.at[8498, 'dislikeCount'] = 0"
   ]
  },
  {
   "cell_type": "code",
   "execution_count": 27,
   "metadata": {},
   "outputs": [
    {
     "data": {
      "text/html": [
       "<div>\n",
       "<style scoped>\n",
       "    .dataframe tbody tr th:only-of-type {\n",
       "        vertical-align: middle;\n",
       "    }\n",
       "\n",
       "    .dataframe tbody tr th {\n",
       "        vertical-align: top;\n",
       "    }\n",
       "\n",
       "    .dataframe thead th {\n",
       "        text-align: right;\n",
       "    }\n",
       "</style>\n",
       "<table border=\"1\" class=\"dataframe\">\n",
       "  <thead>\n",
       "    <tr style=\"text-align: right;\">\n",
       "      <th></th>\n",
       "      <th>like_dislike_ratio</th>\n",
       "      <th>viewCount</th>\n",
       "      <th>view_log</th>\n",
       "    </tr>\n",
       "  </thead>\n",
       "  <tbody>\n",
       "    <tr>\n",
       "      <th>like_dislike_ratio</th>\n",
       "      <td>1.000000</td>\n",
       "      <td>-0.140453</td>\n",
       "      <td>-0.538152</td>\n",
       "    </tr>\n",
       "    <tr>\n",
       "      <th>viewCount</th>\n",
       "      <td>-0.140453</td>\n",
       "      <td>1.000000</td>\n",
       "      <td>0.376019</td>\n",
       "    </tr>\n",
       "    <tr>\n",
       "      <th>view_log</th>\n",
       "      <td>-0.538152</td>\n",
       "      <td>0.376019</td>\n",
       "      <td>1.000000</td>\n",
       "    </tr>\n",
       "  </tbody>\n",
       "</table>\n",
       "</div>"
      ],
      "text/plain": [
       "                    like_dislike_ratio  viewCount  view_log\n",
       "like_dislike_ratio            1.000000  -0.140453 -0.538152\n",
       "viewCount                    -0.140453   1.000000  0.376019\n",
       "view_log                     -0.538152   0.376019  1.000000"
      ]
     },
     "execution_count": 27,
     "metadata": {},
     "output_type": "execute_result"
    }
   ],
   "source": [
    "df_main['like_dislike_ratio'] = (df_main['like_log'] / df_main['dislike_log'])\n",
    "\n",
    "df_main['like_dislike_ratio'].fillna(1, inplace=True)\n",
    "\n",
    "df_main.loc[: , ['like_dislike_ratio', 'viewCount', 'view_log']].corr()"
   ]
  },
  {
   "cell_type": "markdown",
   "metadata": {},
   "source": [
    "#### Deal with infinities"
   ]
  },
  {
   "cell_type": "code",
   "execution_count": 57,
   "metadata": {},
   "outputs": [
    {
     "data": {
      "text/plain": [
       "inf         2\n",
       "1.000000    7\n",
       "Name: lv_ratio, dtype: int64"
      ]
     },
     "execution_count": 57,
     "metadata": {},
     "output_type": "execute_result"
    }
   ],
   "source": [
    "df_main['lv_ratio'].value_counts().sort_index(ascending=False).iloc[:2]"
   ]
  },
  {
   "cell_type": "code",
   "execution_count": 64,
   "metadata": {},
   "outputs": [
    {
     "data": {
      "text/plain": [
       "inf         2\n",
       "1.000000    7\n",
       "Name: comment_view_ratio, dtype: int64"
      ]
     },
     "execution_count": 64,
     "metadata": {},
     "output_type": "execute_result"
    }
   ],
   "source": [
    "df_main['comment_view_ratio'].value_counts().sort_index(ascending=False).iloc[:2]"
   ]
  },
  {
   "cell_type": "code",
   "execution_count": 59,
   "metadata": {},
   "outputs": [
    {
     "data": {
      "text/plain": [
       "inf         787\n",
       "9.826548      1\n",
       "Name: like_dislike_ratio, dtype: int64"
      ]
     },
     "execution_count": 59,
     "metadata": {},
     "output_type": "execute_result"
    }
   ],
   "source": [
    "df_main['like_dislike_ratio'].value_counts().sort_index(ascending=False).iloc[:2]"
   ]
  },
  {
   "cell_type": "code",
   "execution_count": 67,
   "metadata": {},
   "outputs": [],
   "source": [
    "df_main.lv_ratio = df_main.lv_ratio.map(lambda x: 7 if x == np.inf else x)\n",
    "\n",
    "df_main.comment_view_ratio = df_main.comment_view_ratio.map(lambda x: 7 if x == np.inf else x)\n",
    "df_main.like_dislike_ratio = df_main.like_dislike_ratio.map(lambda x: 10 if x == np.inf else x)"
   ]
  },
  {
   "cell_type": "markdown",
   "metadata": {},
   "source": [
    "# <a class=\"anchor\" id=\"3.0-bullet\"> 3. Output</a>"
   ]
  },
  {
   "cell_type": "code",
   "execution_count": 127,
   "metadata": {},
   "outputs": [],
   "source": [
    "now_month = datetime.datetime.now().month\n",
    "now_day = datetime.datetime.now().day\n",
    "now_hour = datetime.datetime.now().hour\n",
    "now_minute = datetime.datetime.now().minute\n",
    "output_title = './data/engineered_data/data_engineered_{}.{}_{}{}.csv'.format(now_month, now_day, now_hour, now_minute)\n",
    "\n",
    "df_main.to_csv(output_title, index=False)"
   ]
  },
  {
   "cell_type": "markdown",
   "metadata": {},
   "source": [
    "## Features Description"
   ]
  },
  {
   "cell_type": "markdown",
   "metadata": {},
   "source": [
    "Date Time\n",
    "* General: publishedAt\n",
    "* Friday (is_friday)\n",
    "* Is weekend (is_weekend)\n",
    "* week number (week)\n",
    "* Month day (month_day)\n",
    "* Month (month)\n",
    "* 2 digit year number (year)\n",
    "\n",
    "* Ignoring overall day count - possible overfit to search algorithm\n",
    "\n",
    "Description\n",
    "* Sentiment (description_sentiment)\n",
    "* Overall word count (description_wordcount)\n",
    "* CVEC (./data/engineered_data/description_wordvec.csv)\n",
    "\n",
    "\n",
    "Tags\n",
    "* Sentiment (tags_sentiment)\n",
    "* Num tags (tags_wordcount)\n",
    "* CVEC (./data/engineered_data/tag_wordvec.csv)\n",
    "\n",
    "Title\n",
    "* Sentiment (title_sentiment)\n",
    "* Word count (title_wordcount)\n",
    "* feat / ft. (title_featuring)\n",
    "* Letter Count (intitle_ + a,b,c,...)\n",
    "* String length (title_length)\n",
    "* Which letters\n",
    "* Length  \n",
    "* CVEC (./data/engineered_data/title_wordvec.csv)\n",
    "\n",
    "Ratios\n",
    "* likes / views (lv_ratio)\n",
    "* comments / view (comment_view_ratio)\n",
    "* likes / dislikes (like_dislike_ratio)\n",
    "\n",
    "Measures (includes log)\n",
    "* commentCount\n",
    "* dislikeCount \n",
    "* favoriteCount \n",
    "* likeCount: \n",
    "* viewCount: view_log\n",
    "\n",
    "Other\n",
    "* Has content rating restriction (contentRating)\n",
    "* Has any region Restriction (regionRestriction)\n",
    "* Has captioned text (caption)\n",
    "* Content has approved license (licensedContent)\n",
    "* Duration of video (duration)\n",
    "* High definition 1 or std (0) (definition)\n"
   ]
  },
  {
   "cell_type": "code",
   "execution_count": 126,
   "metadata": {
    "scrolled": true
   },
   "outputs": [
    {
     "data": {
      "text/plain": [
       "[]"
      ]
     },
     "execution_count": 126,
     "metadata": {},
     "output_type": "execute_result"
    }
   ],
   "source": [
    "model_time = ['is_weekend', 'is_friday', 'year_day', 'week', 'week_day', 'month', 'month_day', 'year',  ]\n",
    "model_text = ['description_sentiment', 'description_wordcount',\n",
    "  'tags_sentiment', 'tags_wordcount', 'title_sentiment',\n",
    " 'title_wordcount', 'title_featuring', 'title_length', ]\n",
    "model_title_letter = ['intitle_a',  'intitle_b', 'intitle_c', 'intitle_d', 'intitle_e', 'intitle_f', 'intitle_g',\n",
    " 'intitle_h', 'intitle_i', 'intitle_j', 'intitle_k', 'intitle_l', 'intitle_m', 'intitle_n', 'intitle_o',\n",
    " 'intitle_p', 'intitle_q', 'intitle_r', 'intitle_s', 'intitle_t', 'intitle_u', 'intitle_v', 'intitle_w',\n",
    " 'intitle_x', 'intitle_y', 'intitle_z',]              \n",
    "model_ratios = ['lv_ratio', 'comment_view_ratio', 'like_dislike_ratio',]\n",
    "model_other = ['duration', 'contentRating', 'regionRestriction',  'licensedContent', 'caption', 'definition']\n",
    "measures = ['likeCount', 'dislikeCount', 'commentCount', 'viewCount',\n",
    "            'view_log',  'comment_log',  'like_log', 'dislike_log', \n",
    "            'view_class' ]\n",
    "non_model_cols = ['request_token', 'letter_search','channelTitle', 'tags', 'title', 'vidId','publishedAt','favoriteCount',\n",
    "              'description','defaultLanguage', ]\n",
    "\n",
    "\n",
    "[col for col in df_main.columns if \\\n",
    " col not in model_time and \\\n",
    " col not in model_text and \\\n",
    "col not in model_title_letter and \\\n",
    "col not in model_ratios and \\\n",
    "col not in model_other and \n",
    "col not in measures and \\\n",
    "col not in non_model_cols]"
   ]
  },
  {
   "cell_type": "markdown",
   "metadata": {},
   "source": [
    "# <a class=\"anchor\" id=\"4.0-bullet\">4. Part 2: Unsupervised Engagement Analysis</a>"
   ]
  },
  {
   "cell_type": "code",
   "execution_count": 2,
   "metadata": {},
   "outputs": [],
   "source": [
    "df_main = pd.read_csv('./data/engineered_data/data_engineered_10.9_2019.csv')\n",
    "\n",
    "df_main.drop(['intitle_a', 'intitle_b', 'intitle_c', 'intitle_d', 'intitle_e', 'intitle_f', 'intitle_g', 'intitle_h', 'intitle_i',\n",
    "       'intitle_j', 'intitle_k', 'intitle_l', 'intitle_m', 'intitle_n',\n",
    "       'intitle_o', 'intitle_p', 'intitle_q', 'intitle_r', 'intitle_s',\n",
    "       'intitle_t', 'intitle_u', 'intitle_v', 'intitle_w', 'intitle_x',\n",
    "       'intitle_y', 'intitle_z',], axis=1, inplace=True)"
   ]
  },
  {
   "cell_type": "markdown",
   "metadata": {},
   "source": [
    "## Genres"
   ]
  },
  {
   "cell_type": "code",
   "execution_count": 3,
   "metadata": {},
   "outputs": [
    {
     "data": {
      "text/plain": [
       "224"
      ]
     },
     "execution_count": 3,
     "metadata": {},
     "output_type": "execute_result"
    }
   ],
   "source": [
    "ord('à')"
   ]
  },
  {
   "cell_type": "code",
   "execution_count": 4,
   "metadata": {},
   "outputs": [],
   "source": [
    "custom_pops = ['facebook', 'twitter', 'http', 'https', 'com', 'www', 'Instagram', 'instagram', 'goo', 'youtube', \n",
    "               'àƒ', 'ãƒ','ìŠ', 'íƒ', \n",
    "              'official', 'music', 'video', 'musical', 'artist']"
   ]
  },
  {
   "cell_type": "code",
   "execution_count": 5,
   "metadata": {},
   "outputs": [],
   "source": [
    "#Drop year from analysis, then observe groups over time"
   ]
  },
  {
   "cell_type": "code",
   "execution_count": 6,
   "metadata": {},
   "outputs": [],
   "source": [
    "def find_key_words(target, corpus):\n",
    "    \"\"\"target is string to look in \n",
    "    corpus is list of words to check for in target \n",
    "    This is bascially an exact matcher, since trap and rap would both count as rap otherwise,\n",
    "    And kpop would show up in pop, etc.\n",
    "    \"\"\"\n",
    "    #ignore empty columns\n",
    "    try:\n",
    "        target = target.lower()\n",
    "    except:\n",
    "        return False\n",
    "    #Check each word in corpus list\n",
    "    for word in corpus:\n",
    "        tot_count = 0\n",
    "        try:\n",
    "            tot_count += len(re.findall('[^a-z]'+word, target))\n",
    "        except: \n",
    "            pass\n",
    "        try:\n",
    "            tot_count += re.findall(word+'[^a-z]', target[:len(word)+1])\n",
    "        except:\n",
    "            pass\n",
    "    return tot_count >0       "
   ]
  },
  {
   "cell_type": "code",
   "execution_count": 7,
   "metadata": {},
   "outputs": [],
   "source": [
    "#Augmented by:http://relatedwords.org/relatedto/blues%20music"
   ]
  },
  {
   "cell_type": "code",
   "execution_count": 8,
   "metadata": {},
   "outputs": [],
   "source": [
    "alt_words = ['acoustic', 'cover', 'instrumental', 'lyric', 'lyrics' ]\n",
    "blues_words = ['blues','blue','delta', 'rhythm', 'lee hooker']\n",
    "christian_words = ['christ', 'christian', 'faith', 'worship']\n",
    "classical_words = [ 'bach', 'beethoven','classical', 'composer', 'concerto', 'debussy', 'ensemble','orchestra','piano', 'symphony', 'sonata']\n",
    "country_words = ['country', 'western', 'horse', 'america', 'american', 'soldier', 'road', 'home', 'alabama', 'denver', 'haggard', 'coe']\n",
    "dubstep_words = ['dub', 'dubstep', 'skrillex', 'bass']\n",
    "edm_words = ['aoki', 'club', 'edm', 'house', 'dance', 'dj','electr', 'electronic', 'electronica', 'techno','trance', 'ultra',]\n",
    "extended_words = ['live', 'album', 'festival']\n",
    "folk_words = ['folk', 'banjo', 'indie']\n",
    "halloween_words = ['creepy', 'halloween', 'eerie', 'horror', 'wolves']\n",
    "hit_words = ['hit', 'interscope', 'new', 'official', 'single', 'sony', 'warner', 'vevo']\n",
    "italian_words = ['singolo', 'nuovo', 'ultimo']\n",
    "jazz_words = ['jazz',  'new orleans','rag', 'ragtime', 'swing',]\n",
    "kpop_words = ['kpop', 'korea', 'korean']\n",
    "latin_words = ['latin', 'musica', 'reggaeton']\n",
    "love_songs = ['amore', 'amor', 'breakup', 'break-up', 'love', 'need' ]\n",
    "#lyric_words = ['lyric', 'lyrics']\n",
    "other_rock_words = ['grunge', 'heavy','metal', 'punk' ]\n",
    "pop_words = ['clean',  'pop' ]\n",
    "rap_words = ['rap', 'hip', 'hop', 'hiphop', 'r&b'] # how to find \n",
    "reggae_words = ['reggae', 'marley']\n",
    "remix_words = ['remix']\n",
    "romanian_words = ['romania', 'romanian']\n",
    "relax_words = [ 'ambient', 'chill', 'concentration', 'downtempo', 'estudiar', 'dormir', 'meditate',\n",
    "               'meditation','relajar','relax','relaxing', 'relaxation', 'trabaja', 'sleep', 'sleeping', 'study', 'zen']\n",
    "rock_words = ['rock', 'roll', 'rocknroll', ]\n",
    "trap_words = ['lean', 'trap']\n"
   ]
  },
  {
   "cell_type": "code",
   "execution_count": 9,
   "metadata": {},
   "outputs": [],
   "source": [
    "genre_list = [alt_words, blues_words, christian_words, classical_words, country_words, dubstep_words,\n",
    "              edm_words, extended_words, folk_words, halloween_words, hit_words, italian_words, jazz_words, \n",
    "              kpop_words, latin_words, love_songs, other_rock_words, pop_words, rap_words, remix_words,\n",
    "              reggae_words, romanian_words, relax_words, rock_words, trap_words]"
   ]
  },
  {
   "cell_type": "code",
   "execution_count": 10,
   "metadata": {},
   "outputs": [],
   "source": [
    "genre_list_str = ['alt_words', 'blues_words', 'christian_words', 'classical_words', 'country_words', 'dubstep_words', \n",
    "                 'edm_words', 'extended_words', 'folk_words', 'halloween_words', 'hit_words', 'italian_words', 'jazz_words', \n",
    "                 'kpop_words', 'latin_words', 'love_songs', 'other_rock_words', 'pop_words', 'rap_words', 'remix_words', \n",
    "                 'reggae_words', 'romanian_words', 'relax_words', 'rock_words', 'trap_words']"
   ]
  },
  {
   "cell_type": "code",
   "execution_count": 11,
   "metadata": {},
   "outputs": [],
   "source": [
    "for i in range(len(genre_list)):\n",
    "    df_main[genre_list_str[i]] = df_main.tags.map(lambda x: find_key_words(str(x),genre_list[i] ))"
   ]
  },
  {
   "cell_type": "code",
   "execution_count": 12,
   "metadata": {},
   "outputs": [],
   "source": [
    "df_genres_corr = df_main.loc[:, genre_list_str].corr()"
   ]
  },
  {
   "cell_type": "code",
   "execution_count": 18,
   "metadata": {},
   "outputs": [],
   "source": [
    "sns.set_style(\"darkgrid\")"
   ]
  },
  {
   "cell_type": "code",
   "execution_count": 19,
   "metadata": {},
   "outputs": [
    {
     "data": {
      "text/plain": [
       "<matplotlib.axes._subplots.AxesSubplot at 0x1fdf578c4e0>"
      ]
     },
     "execution_count": 19,
     "metadata": {},
     "output_type": "execute_result"
    },
    {
     "data": {
      "image/png": "[encoded data removed]",
      "text/plain": [
       "<Figure size 792x648 with 2 Axes>"
      ]
     },
     "metadata": {},
     "output_type": "display_data"
    }
   ],
   "source": [
    "# Generate a mask for the upper triangle\n",
    "mask = np.zeros_like(df_genres_corr, dtype=np.bool)\n",
    "mask[np.triu_indices_from(mask)] = True\n",
    "\n",
    "# Set up the matplotlib figure\n",
    "f, ax = plt.subplots(figsize=(11, 9))\n",
    "\n",
    "# Generate a custom diverging colormap\n",
    "cmap = sns.diverging_palette(220, 10, as_cmap=True)\n",
    "\n",
    "# Draw the heatmap with the mask and correct aspect ratio\n",
    "sns.heatmap(df_genres_corr, mask=mask, cmap='coolwarm', vmax=.1, center=0,\n",
    "            square=True, linewidths=.5, )"
   ]
  },
  {
   "cell_type": "code",
   "execution_count": 106,
   "metadata": {},
   "outputs": [],
   "source": []
  },
  {
   "cell_type": "markdown",
   "metadata": {},
   "source": [
    "## Engagement Baseline"
   ]
  },
  {
   "cell_type": "markdown",
   "metadata": {},
   "source": [
    "### Set up"
   ]
  },
  {
   "cell_type": "code",
   "execution_count": 15,
   "metadata": {},
   "outputs": [],
   "source": [
    "df_formodel = df_main[(df_main.view_log>4)&(df_main.lv_ratio>0)&(df_main.comment_view_ratio>0)&(df_main.like_dislike_ratio<10)].reset_index()\n"
   ]
  },
  {
   "cell_type": "code",
   "execution_count": 16,
   "metadata": {},
   "outputs": [],
   "source": [
    "X = df_formodel.loc[:, ['view_log']]"
   ]
  },
  {
   "cell_type": "markdown",
   "metadata": {},
   "source": [
    "### Likes"
   ]
  },
  {
   "cell_type": "code",
   "execution_count": 17,
   "metadata": {},
   "outputs": [
    {
     "data": {
      "text/plain": [
       "0.08616253624076575"
      ]
     },
     "execution_count": 17,
     "metadata": {},
     "output_type": "execute_result"
    }
   ],
   "source": [
    "y = df_formodel.view_log-df_formodel.like_log\n",
    "lr_likes_views = LinearRegression()\n",
    "lr_likes_views.fit(X,y)\n",
    "lr_likes_views_m = lr_likes_views.coef_\n",
    "lr_likes_views_b = lr_likes_views.intercept_\n",
    "lv_resid = lr_likes_views.predict(X) - y\n",
    "lr_likes_views_std = np.std(lv_resid)\n",
    "r2_score(y, lr_likes_views.predict(X))"
   ]
  },
  {
   "cell_type": "code",
   "execution_count": 18,
   "metadata": {},
   "outputs": [],
   "source": [
    "df_formodel['like_baseline_delta'] = (lr_likes_views.predict(X) - y) / lr_likes_views_std"
   ]
  },
  {
   "cell_type": "markdown",
   "metadata": {},
   "source": [
    "### Comments "
   ]
  },
  {
   "cell_type": "code",
   "execution_count": 19,
   "metadata": {},
   "outputs": [
    {
     "data": {
      "text/plain": [
       "0.14905333750463512"
      ]
     },
     "execution_count": 19,
     "metadata": {},
     "output_type": "execute_result"
    }
   ],
   "source": [
    "y = df_formodel.view_log - df_formodel.comment_log\n",
    "lr_comments_views = LinearRegression()\n",
    "lr_comments_views.fit(X,y)\n",
    "lr_comments_views_m = lr_comments_views.coef_\n",
    "lr_comments_views_b = lr_comments_views.intercept_\n",
    "cv_resid = lr_likes_views.predict(X) - y\n",
    "lr_comments_views_std = np.std(cv_resid)\n",
    "r2_score(y, lr_comments_views.predict(X))"
   ]
  },
  {
   "cell_type": "code",
   "execution_count": 20,
   "metadata": {},
   "outputs": [],
   "source": [
    "df_formodel['comment_baseline_delta'] = (lr_comments_views.predict(X) - y) / lr_comments_views_std"
   ]
  },
  {
   "cell_type": "code",
   "execution_count": 21,
   "metadata": {},
   "outputs": [
    {
     "data": {
      "text/plain": [
       "[<matplotlib.lines.Line2D at 0x2026bc9d860>]"
      ]
     },
     "execution_count": 21,
     "metadata": {},
     "output_type": "execute_result"
    },
    {
     "data": {
      "image/png": "[encoded data removed]",
      "text/plain": [
       "<Figure size 432x288 with 1 Axes>"
      ]
     },
     "metadata": {},
     "output_type": "display_data"
    }
   ],
   "source": [
    "x = np.linspace(4, 10, 100)\n",
    "\n",
    "fig, ax = plt.subplots()\n",
    "ax.scatter(X, y)\n",
    "ax.plot(x, x*lr_comments_views_m[0]+lr_comments_views_b ,'k')"
   ]
  },
  {
   "cell_type": "code",
   "execution_count": 22,
   "metadata": {},
   "outputs": [
    {
     "data": {
      "text/plain": [
       "<matplotlib.collections.PathCollection at 0x2026c4a5b00>"
      ]
     },
     "execution_count": 22,
     "metadata": {},
     "output_type": "execute_result"
    },
    {
     "data": {
      "image/png": "[encoded data removed]",
      "text/plain": [
       "<Figure size 432x288 with 1 Axes>"
      ]
     },
     "metadata": {},
     "output_type": "display_data"
    }
   ],
   "source": [
    "x = np.linspace(4, 10, 100)\n",
    "\n",
    "fig, ax = plt.subplots()\n",
    "ax.scatter(X, lr_comments_views.predict(X) - y)"
   ]
  },
  {
   "cell_type": "markdown",
   "metadata": {},
   "source": [
    "### Dislikes"
   ]
  },
  {
   "cell_type": "code",
   "execution_count": 169,
   "metadata": {},
   "outputs": [],
   "source": [
    "#Creating this for consistency\n",
    "df_main['dislike_view_ratio'] = df_main.dislike_log / df_main.view_log"
   ]
  },
  {
   "cell_type": "code",
   "execution_count": 23,
   "metadata": {},
   "outputs": [
    {
     "data": {
      "text/plain": [
       "0.007346286490757636"
      ]
     },
     "execution_count": 23,
     "metadata": {},
     "output_type": "execute_result"
    }
   ],
   "source": [
    "y = df_formodel.view_log-df_formodel.dislike_log\n",
    "lr_dislikes_views = LinearRegression()\n",
    "lr_dislikes_views.fit(X,y)\n",
    "lr_dislikes_views_m = lr_dislikes_views.coef_\n",
    "lr_dislikes_views_b = lr_dislikes_views.intercept_\n",
    "dv_resid = lr_dislikes_views.predict(X) - y\n",
    "lr_dislikes_views_std = np.std(dv_resid)\n",
    "r2_score(y, lr_dislikes_views.predict(X))"
   ]
  },
  {
   "cell_type": "code",
   "execution_count": 24,
   "metadata": {},
   "outputs": [],
   "source": [
    "df_formodel['dislike_baseline_delta'] = (lr_dislikes_views.predict(X) -y) / lr_dislikes_views_std"
   ]
  },
  {
   "cell_type": "markdown",
   "metadata": {},
   "source": [
    "### Like to Dislike Ratio"
   ]
  },
  {
   "cell_type": "code",
   "execution_count": 25,
   "metadata": {},
   "outputs": [
    {
     "data": {
      "text/plain": [
       "0.05270725362984685"
      ]
     },
     "execution_count": 25,
     "metadata": {},
     "output_type": "execute_result"
    }
   ],
   "source": [
    "y = df_formodel.like_log - df_formodel.dislike_log\n",
    "lr_likes_dislikes = LinearRegression()\n",
    "lr_likes_dislikes.fit(X,y)\n",
    "lr_likes_dislikes_m = lr_likes_dislikes.coef_\n",
    "lr_likes_dislikes_b = lr_likes_dislikes.intercept_\n",
    "lr_likes_dislikes_std = np.std(lr_likes_dislikes.predict(X) - y)\n",
    "r2_score(y, lr_likes_dislikes.predict(X))"
   ]
  },
  {
   "cell_type": "code",
   "execution_count": 26,
   "metadata": {},
   "outputs": [],
   "source": [
    "df_formodel['ld_baseline_delta'] = (pd.Series(lr_likes_dislikes.predict(X)).map(lambda x: max(1, x)) - y) / lr_dislikes_views_std"
   ]
  },
  {
   "cell_type": "code",
   "execution_count": 27,
   "metadata": {},
   "outputs": [
    {
     "data": {
      "text/plain": [
       "0.05270725362984685"
      ]
     },
     "execution_count": 27,
     "metadata": {},
     "output_type": "execute_result"
    }
   ],
   "source": [
    "preds_ld_adj =pd.Series(lr_likes_dislikes.predict(X)).map(lambda x: max(1, x))\n",
    "\n",
    "r2_score(y, preds_ld_adj)"
   ]
  },
  {
   "cell_type": "code",
   "execution_count": 28,
   "metadata": {},
   "outputs": [
    {
     "data": {
      "text/plain": [
       "[<matplotlib.lines.Line2D at 0x20200014e80>]"
      ]
     },
     "execution_count": 28,
     "metadata": {},
     "output_type": "execute_result"
    },
    {
     "data": {
      "image/png": "[encoded data removed]",
      "text/plain": [
       "<Figure size 432x288 with 1 Axes>"
      ]
     },
     "metadata": {},
     "output_type": "display_data"
    }
   ],
   "source": [
    "x = np.linspace(4, 10, 100)\n",
    "\n",
    "fig, ax = plt.subplots()\n",
    "ax.scatter(X, y)\n",
    "ax.plot(x, x*lr_likes_dislikes_m+lr_likes_dislikes_b ,'k')"
   ]
  },
  {
   "cell_type": "code",
   "execution_count": 29,
   "metadata": {},
   "outputs": [
    {
     "data": {
      "text/html": [
       "<div>\n",
       "<style scoped>\n",
       "    .dataframe tbody tr th:only-of-type {\n",
       "        vertical-align: middle;\n",
       "    }\n",
       "\n",
       "    .dataframe tbody tr th {\n",
       "        vertical-align: top;\n",
       "    }\n",
       "\n",
       "    .dataframe thead th {\n",
       "        text-align: right;\n",
       "    }\n",
       "</style>\n",
       "<table border=\"1\" class=\"dataframe\">\n",
       "  <thead>\n",
       "    <tr style=\"text-align: right;\">\n",
       "      <th></th>\n",
       "      <th>title</th>\n",
       "      <th>view_log</th>\n",
       "    </tr>\n",
       "  </thead>\n",
       "  <tbody>\n",
       "    <tr>\n",
       "      <th>2458</th>\n",
       "      <td>Bibi H - How it is ( wap bap ... ) [Official V...</td>\n",
       "      <td>7.736840</td>\n",
       "    </tr>\n",
       "    <tr>\n",
       "      <th>3405</th>\n",
       "      <td>L'attaque des Titans Saison 3 Épisode 11 [VOST...</td>\n",
       "      <td>4.798644</td>\n",
       "    </tr>\n",
       "  </tbody>\n",
       "</table>\n",
       "</div>"
      ],
      "text/plain": [
       "                                                  title  view_log\n",
       "2458  Bibi H - How it is ( wap bap ... ) [Official V...  7.736840\n",
       "3405  L'attaque des Titans Saison 3 Épisode 11 [VOST...  4.798644"
      ]
     },
     "execution_count": 29,
     "metadata": {},
     "output_type": "execute_result"
    }
   ],
   "source": [
    "df_formodel[df_formodel.like_dislike_ratio<1].loc[:, ['title', 'view_log']]\n",
    "#Convert preds to min 1 on likes to dislikes"
   ]
  },
  {
   "cell_type": "code",
   "execution_count": 30,
   "metadata": {},
   "outputs": [],
   "source": [
    "slopes_list = pd.Series([lr_likes_views_m[0], lr_comments_views_m[0], lr_dislikes_views_m[0], lr_likes_dislikes_m[0]])\n",
    "ints_list = pd.Series([lr_likes_views_b, lr_comments_views_b, lr_dislikes_views_b, lr_likes_dislikes_b])\n",
    "stds_list = pd.Series([lr_likes_views_std, lr_comments_views_std, lr_dislikes_views_std, lr_likes_dislikes_std])"
   ]
  },
  {
   "cell_type": "code",
   "execution_count": 31,
   "metadata": {},
   "outputs": [],
   "source": [
    "df_stats = pd.DataFrame([slopes_list, ints_list, stds_list], index=['Slopes', \"Intercepts\", \"St_Dev\"])"
   ]
  },
  {
   "cell_type": "code",
   "execution_count": 32,
   "metadata": {},
   "outputs": [],
   "source": [
    "df_stats.columns=['likes_est', 'comments_est', 'dislikes_est', 'ld_ratio']"
   ]
  },
  {
   "cell_type": "code",
   "execution_count": 33,
   "metadata": {},
   "outputs": [],
   "source": [
    "df_stats=df_stats.T"
   ]
  },
  {
   "cell_type": "code",
   "execution_count": 34,
   "metadata": {},
   "outputs": [
    {
     "data": {
      "text/plain": [
       "0.09175390758873542"
      ]
     },
     "execution_count": 34,
     "metadata": {},
     "output_type": "execute_result"
    }
   ],
   "source": [
    "df_stats.loc['likes_est', 'Slopes']"
   ]
  },
  {
   "cell_type": "code",
   "execution_count": null,
   "metadata": {},
   "outputs": [],
   "source": [
    "df_formodel.to_csv('./data/engineered_data/data_genres_v2.csv', index=False)\n",
    "\n",
    "df_stats.to_csv('./data/engineered_data/engagement_matrix_v2.csv')"
   ]
  },
  {
   "cell_type": "code",
   "execution_count": 185,
   "metadata": {},
   "outputs": [],
   "source": [
    "deltas_list = ['like_baseline_delta', 'comment_baseline_delta', 'dislike_baseline_delta', 'ld_baseline_delta' ]"
   ]
  },
  {
   "cell_type": "code",
   "execution_count": null,
   "metadata": {},
   "outputs": [],
   "source": []
  }
 ],
 "metadata": {
  "kernelspec": {
   "display_name": "Python 3",
   "language": "python",
   "name": "python3"
  },
  "language_info": {
   "codemirror_mode": {
    "name": "ipython",
    "version": 3
   },
   "file_extension": ".py",
   "mimetype": "text/x-python",
   "name": "python",
   "nbconvert_exporter": "python",
   "pygments_lexer": "ipython3",
   "version": "3.6.5"
  }
 },
 "nbformat": 4,
 "nbformat_minor": 2
}
