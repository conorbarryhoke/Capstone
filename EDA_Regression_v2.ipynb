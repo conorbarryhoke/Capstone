{
 "cells": [
  {
   "cell_type": "code",
   "execution_count": 1,
   "metadata": {},
   "outputs": [],
   "source": [
    "#do this later from admin: !python -m pip install --upgrade pip\n"
   ]
  },
  {
   "cell_type": "markdown",
   "metadata": {},
   "source": [
    "# TOC"
   ]
  },
  {
   "cell_type": "markdown",
   "metadata": {},
   "source": [
    "0. [Imports](#first-bullet)\n",
    "1. [EDA](#1.0-bullet)\n",
    "2. [Feature Engineering](#2.0-bullet)  \n",
    " 2.1 [Pt 1 - Regression](#2.1-bullet)  \n",
    " 2.2 [Pt 2 - Classification](#2.2-bullet)\n",
    "3. [Basic Model](#3.0-bullet)  \n",
    " 3.1 [Pt 1 - Regression](#3.1-bullet)  \n",
    " 3.2 [Pt 2 - Classification](#3.2-bullet)\n",
    "4. [Reference and Planning](#4.0-bullet)"
   ]
  },
  {
   "cell_type": "markdown",
   "metadata": {},
   "source": [
    "Date Time\n",
    "* General: publishedAt\n",
    "* Friday (is_friday)\n",
    "* Is weekend (is_weekend)\n",
    "* week number (week)\n",
    "* Month day (month_day)\n",
    "* Month (month)\n",
    "* 2 digit year number (year)\n",
    "\n",
    "* Ignoring overall day count - possible overfit to search algorithm\n",
    "\n",
    "Description\n",
    "* Sentiment (description_sentiment)\n",
    "* Overall word count (description_wordcount)\n",
    "* CVEC (./data/engineered_data/description_wordvec.csv)\n",
    "\n",
    "\n",
    "Tags\n",
    "* Sentiment (tags_sentiment)\n",
    "* Num tags (tags_wordcount)\n",
    "* CVEC (./data/engineered_data/tag_wordvec.csv)\n",
    "\n",
    "Title\n",
    "* Sentiment (title_sentiment)\n",
    "* Word count (title_wordcount)\n",
    "* feat / ft. (title_featuring)\n",
    "* Letter Count (intitle_ + a,b,c,...)\n",
    "* String length (title_length)\n",
    "* Which letters\n",
    "* Length  \n",
    "* CVEC (./data/engineered_data/title_wordvec.csv)\n",
    "\n",
    "Ratios\n",
    "* likes / views (lv_ratio)\n",
    "* comments / view (comment_view_ratio)\n",
    "* likes / dislikes (like_dislike_ratio)\n",
    "\n",
    "Measures (includes log)\n",
    "  * commentCount\n",
    "  * dislikeCount \n",
    "  * favoriteCount \n",
    "  * likeCount: \n",
    "  * viewCount: view_log\n",
    "\n",
    "Other\n",
    "* Has content rating restriction (contentRating)\n",
    "* Has any region Restriction (regionRestriction)\n",
    "* Has captioned text (caption)\n",
    "* Content has approved license (licensedContent)\n",
    "* Duration of video (duration)\n",
    "* High definition 1 or std (0) (definition)\n"
   ]
  },
  {
   "cell_type": "code",
   "execution_count": 2,
   "metadata": {},
   "outputs": [],
   "source": [
    "#Basic\n",
    "import pandas as pd\n",
    "import numpy as np\n",
    "#Math\n",
    "import scipy as sp\n",
    "from random import randint\n",
    "from math import exp\n",
    "import operator\n",
    "\n",
    "#Scraping\n",
    "import requests\n",
    "import json\n",
    "\n",
    "#Youtube Data API Packages: \n",
    "\"\"\"from apiclient.discovery import build\n",
    "from apiclient.errors import HttpError\n",
    "from oauth2client.tools import argparser\n",
    "from googleapiclient.discovery import build\n",
    "import argparse\n",
    "from googleapiclient.errors import HttpError\"\"\"\n",
    "\n",
    "#Modeling\n",
    "from sklearn.model_selection import cross_val_score, train_test_split, GridSearchCV\n",
    "from sklearn.metrics import r2_score\n",
    "from sklearn.preprocessing import StandardScaler\n",
    "#from sklearn.linear_model import LogisticRegression\n",
    "#from sklearn.naive_bayes import MultinomialNB\n",
    "from sklearn.ensemble import RandomForestRegressor, GradientBoostingRegressor\n",
    "from sklearn.neighbors import KNeighborsRegressor\n",
    "#from sklearn.cluster import KMeans\n",
    "#from sklearn.svm import SVC\n",
    "#from sklearn.metrics import confusion_matrix, roc_auc_score, roc_curve\n",
    "\n",
    "#NLP & Text Management\n",
    "from sklearn.feature_extraction import stop_words\n",
    "from sklearn.feature_extraction.text import CountVectorizer\n",
    "from sklearn.feature_extraction.text import TfidfVectorizer\n",
    "import re\n",
    "\"\"\"from textblob import TextBlob\n",
    "from wordcloud import WordCloud\n",
    "from nltk.stem import PorterStemmer\"\"\"\n",
    "\n",
    "#Time analysis\n",
    "import time\n",
    "import datetime as dt\n",
    "\"\"\"from statsmodels.tsa.stattools import pacf\n",
    "from statsmodels.graphics.tsaplots import plot_pacf\"\"\"\n",
    "\n",
    "#Plotting\n",
    "import matplotlib.pyplot as plt\n",
    "import seaborn as sns\n",
    "#from wordcloud import WordCloud\n",
    "\n",
    "%matplotlib inline\n",
    "plt.style.use('seaborn-whitegrid')\n",
    "sns.set_style('whitegrid')"
   ]
  },
  {
   "cell_type": "code",
   "execution_count": 3,
   "metadata": {},
   "outputs": [],
   "source": [
    "df_main = pd.read_csv('./data/engineered_data/data_engineered_10.9_2019.csv')"
   ]
  },
  {
   "cell_type": "code",
   "execution_count": 4,
   "metadata": {},
   "outputs": [],
   "source": [
    "model_time = ['is_weekend', 'is_friday', 'year_day', 'week', 'week_day', 'month', 'month_day', 'year',  ]\n",
    "model_text = ['description_sentiment', 'description_wordcount',\n",
    "  'tags_sentiment', 'tags_wordcount', 'title_sentiment',\n",
    " 'title_wordcount', 'title_featuring', 'title_length', ]\n",
    "model_title_letter = ['intitle_a',  'intitle_b', 'intitle_c', 'intitle_d', 'intitle_e', 'intitle_f', 'intitle_g',\n",
    " 'intitle_h', 'intitle_i', 'intitle_j', 'intitle_k', 'intitle_l', 'intitle_m', 'intitle_n', 'intitle_o',\n",
    " 'intitle_p', 'intitle_q', 'intitle_r', 'intitle_s', 'intitle_t', 'intitle_u', 'intitle_v', 'intitle_w',\n",
    " 'intitle_x', 'intitle_y', 'intitle_z',]              \n",
    "model_ratios = ['lv_ratio', 'comment_view_ratio', 'like_dislike_ratio',]\n",
    "model_other = ['duration', 'contentRating', 'regionRestriction',  'licensedContent', 'caption', 'definition']\n",
    "measures = ['likeCount', 'dislikeCount', 'commentCount', 'viewCount',\n",
    "            'view_log',  'comment_log',  'like_log', 'dislike_log', \n",
    "            'view_class' ]\n",
    "non_model_cols = ['request_token', 'letter_search','channelTitle', 'tags', 'title', 'vidId','publishedAt','favoriteCount',\n",
    "              'description','defaultLanguage', ]"
   ]
  },
  {
   "cell_type": "markdown",
   "metadata": {},
   "source": [
    "# <a class=\"anchor\" id=\"1.0-bullet\"> 1. EDA</a>"
   ]
  },
  {
   "cell_type": "markdown",
   "metadata": {},
   "source": [
    "# <a class=\"anchor\" id=\"2.0-bullet\"> 2. Feature Engineering</a>"
   ]
  },
  {
   "cell_type": "markdown",
   "metadata": {},
   "source": [
    "## <a class=\"anchor\" id=\"2.1-bullet\">2.1 Adding Features</a>\n",
    "\n"
   ]
  },
  {
   "cell_type": "markdown",
   "metadata": {},
   "source": [
    "## <a class=\"anchor\" id=\"2.2-bullet\">2.2 Classification</a>\n",
    "\n"
   ]
  },
  {
   "cell_type": "markdown",
   "metadata": {},
   "source": [
    "# <a class=\"anchor\" id=\"3.0-bullet\"> 3. Basic Model</a>"
   ]
  },
  {
   "cell_type": "markdown",
   "metadata": {},
   "source": [
    "## <a class=\"anchor\" id=\"3.1-bullet\">3.1 Regression</a>\n",
    "\n"
   ]
  },
  {
   "cell_type": "code",
   "execution_count": 6,
   "metadata": {},
   "outputs": [
    {
     "data": {
      "text/plain": [
       "Index(['caption', 'channelTitle', 'commentCount', 'defaultLanguage',\n",
       "       'definition', 'description', 'dislikeCount', 'duration',\n",
       "       'favoriteCount', 'licensedContent', 'likeCount', 'publishedAt',\n",
       "       'regionRestriction', 'tags', 'title', 'vidId', 'viewCount',\n",
       "       'request_token', 'letter_search', 'contentRating', 'year', 'month',\n",
       "       'month_day', 'year_day', 'week_day', 'view_log', 'comment_log',\n",
       "       'like_log', 'dislike_log', 'view_class', 'week',\n",
       "       'description_sentiment', 'description_wordcount', 'tags_sentiment',\n",
       "       'tags_wordcount', 'title_sentiment', 'title_wordcount',\n",
       "       'title_featuring', 'intitle_a', 'intitle_b', 'intitle_c', 'intitle_d',\n",
       "       'intitle_e', 'intitle_f', 'intitle_g', 'intitle_h', 'intitle_i',\n",
       "       'intitle_j', 'intitle_k', 'intitle_l', 'intitle_m', 'intitle_n',\n",
       "       'intitle_o', 'intitle_p', 'intitle_q', 'intitle_r', 'intitle_s',\n",
       "       'intitle_t', 'intitle_u', 'intitle_v', 'intitle_w', 'intitle_x',\n",
       "       'intitle_y', 'intitle_z', 'title_length', 'lv_ratio',\n",
       "       'comment_view_ratio', 'like_dislike_ratio', 'is_weekend', 'is_friday'],\n",
       "      dtype='object')"
      ]
     },
     "execution_count": 6,
     "metadata": {},
     "output_type": "execute_result"
    }
   ],
   "source": [
    "df_main.columns"
   ]
  },
  {
   "cell_type": "code",
   "execution_count": 43,
   "metadata": {},
   "outputs": [],
   "source": []
  },
  {
   "cell_type": "code",
   "execution_count": 56,
   "metadata": {},
   "outputs": [],
   "source": [
    "cols_alphabet = ['intitle_a', 'intitle_d', 'intitle_f', 'intitle_g', 'intitle_i', \n",
    "                 'intitle_k', 'intitle_l','intitle_p','intitle_v','intitle_x','intitle_y' ]\n",
    "cols_exclude = ['year_day', 'month', 'tags_sentiment','title_sentiment', 'title_wordcount' , ]\n",
    "cols_include_initial = [col for col in df_main.columns if \\\n",
    "(col in model_time or \\\n",
    "col in model_text or \\\n",
    "col in cols_alphabet or \\\n",
    "col in model_ratios or \\\n",
    "col in model_other) and \\\n",
    "col not in cols_exclude]\n",
    "\n",
    "#'lv_ratio','comment_view_ratio' take this between .85 and .9"
   ]
  },
  {
   "cell_type": "code",
   "execution_count": 57,
   "metadata": {},
   "outputs": [],
   "source": [
    "df_formodel = df_main\n",
    "df_formodel = df_formodel[df_formodel['view_class']>1]"
   ]
  },
  {
   "cell_type": "code",
   "execution_count": 58,
   "metadata": {},
   "outputs": [
    {
     "data": {
      "text/plain": [
       "GradientBoostingRegressor(alpha=0.9, criterion='friedman_mse', init=None,\n",
       "             learning_rate=0.1, loss='ls', max_depth=3, max_features=None,\n",
       "             max_leaf_nodes=None, min_impurity_decrease=0.0,\n",
       "             min_impurity_split=None, min_samples_leaf=1,\n",
       "             min_samples_split=2, min_weight_fraction_leaf=0.0,\n",
       "             n_estimators=100, presort='auto', random_state=None,\n",
       "             subsample=1.0, verbose=0, warm_start=False)"
      ]
     },
     "execution_count": 58,
     "metadata": {},
     "output_type": "execute_result"
    }
   ],
   "source": [
    "y = df_formodel.view_log\n",
    "X = df_formodel.loc[:, cols_include_initial]\n",
    "X_train, X_test, y_train, y_test=train_test_split(X, y, random_state=42)\n",
    "\n",
    "ss = StandardScaler()\n",
    "X_train_sc = ss.fit_transform(X_train)\n",
    "X_test_sc = ss.transform(X_test)\n",
    "\n",
    "model = GradientBoostingRegressor()\n",
    "model.fit(X_train_sc, y_train)\n",
    "    #return model, X_test_sc, y_test, ss"
   ]
  },
  {
   "cell_type": "code",
   "execution_count": 59,
   "metadata": {},
   "outputs": [
    {
     "data": {
      "text/plain": [
       "0.9068004751726582"
      ]
     },
     "execution_count": 59,
     "metadata": {},
     "output_type": "execute_result"
    }
   ],
   "source": [
    "#model, X_test_sc, y_test, ss = test_model()\n",
    "model.score(X_test_sc, y_test)"
   ]
  },
  {
   "cell_type": "code",
   "execution_count": 19,
   "metadata": {
    "scrolled": true
   },
   "outputs": [
    {
     "data": {
      "text/plain": [
       "GridSearchCV(cv=None, error_score='raise',\n",
       "       estimator=GradientBoostingRegressor(alpha=0.9, criterion='friedman_mse', init=None,\n",
       "             learning_rate=0.1, loss='ls', max_depth=3, max_features=None,\n",
       "             max_leaf_nodes=None, min_impurity_decrease=0.0,\n",
       "             min_impurity_split=None, min_samples_leaf=1,\n",
       "             min_samples_split=2, min_weight_fraction_leaf=0.0,\n",
       "             n_estimators=100, presort='auto', random_state=None,\n",
       "             subsample=1.0, verbose=0, warm_start=False),\n",
       "       fit_params=None, iid=True, n_jobs=1,\n",
       "       param_grid={'n_estimators': [180, 225], 'subsample': [0.9, 0.8, 0.7], 'max_depth': [3, 5, 7]},\n",
       "       pre_dispatch='2*n_jobs', refit=True, return_train_score='warn',\n",
       "       scoring=None, verbose=0)"
      ]
     },
     "execution_count": 19,
     "metadata": {},
     "output_type": "execute_result"
    }
   ],
   "source": [
    "paramz = {\n",
    "    'n_estimators': [180, 225], \n",
    "    'subsample' : [.9, .8, .7],\n",
    "    'max_depth': [3, 5, 7]\n",
    "}\n",
    "gs = GridSearchCV(GradientBoostingRegressor(), param_grid=paramz)\n",
    "gs.fit(X_train_sc, y_train)"
   ]
  },
  {
   "cell_type": "code",
   "execution_count": 20,
   "metadata": {},
   "outputs": [
    {
     "data": {
      "text/plain": [
       "0.9141159095682608"
      ]
     },
     "execution_count": 20,
     "metadata": {},
     "output_type": "execute_result"
    }
   ],
   "source": [
    "gs.score(X_test_sc, y_test)\n",
    "#Score to beat: .5412844284274065 with best params:\n",
    "#{'max_depth': 3, 'n_estimators': 180, 'subsample': 0.9}"
   ]
  },
  {
   "cell_type": "code",
   "execution_count": null,
   "metadata": {},
   "outputs": [],
   "source": [
    "gs.best_params_"
   ]
  },
  {
   "cell_type": "code",
   "execution_count": null,
   "metadata": {},
   "outputs": [],
   "source": []
  },
  {
   "cell_type": "code",
   "execution_count": null,
   "metadata": {},
   "outputs": [],
   "source": [
    "df_residuals = pd.DataFrame(y_test)\n",
    "\n",
    "df_residuals['predicted'] = gs.predict(X_test_sc)\n",
    "df_residuals['residuals'] = df_residuals.predicted - df_residuals.view_log "
   ]
  },
  {
   "cell_type": "code",
   "execution_count": 69,
   "metadata": {},
   "outputs": [
    {
     "data": {
      "text/plain": [
       "<seaborn.axisgrid.FacetGrid at 0x13e114e6400>"
      ]
     },
     "execution_count": 69,
     "metadata": {},
     "output_type": "execute_result"
    },
    {
     "data": {
      "image/png": "[encoded data removed]",
      "text/plain": [
       "<Figure size 360x360 with 1 Axes>"
      ]
     },
     "metadata": {},
     "output_type": "display_data"
    }
   ],
   "source": [
    "sns.lmplot('view_log', 'predicted', data=df_residuals)"
   ]
  },
  {
   "cell_type": "code",
   "execution_count": 70,
   "metadata": {},
   "outputs": [],
   "source": [
    "outliers = list(df_residuals.sort_values(by='residuals').iloc[:7, :].index)"
   ]
  },
  {
   "cell_type": "code",
   "execution_count": 74,
   "metadata": {},
   "outputs": [],
   "source": [
    "temp = df_main"
   ]
  },
  {
   "cell_type": "code",
   "execution_count": 78,
   "metadata": {},
   "outputs": [],
   "source": [
    "outliers_df = df_residuals.sort_values(by='residuals').iloc[:7, :].loc[:, ['predicted', 'residuals']]"
   ]
  },
  {
   "cell_type": "code",
   "execution_count": 80,
   "metadata": {},
   "outputs": [
    {
     "data": {
      "text/html": [
       "<div>\n",
       "<style scoped>\n",
       "    .dataframe tbody tr th:only-of-type {\n",
       "        vertical-align: middle;\n",
       "    }\n",
       "\n",
       "    .dataframe tbody tr th {\n",
       "        vertical-align: top;\n",
       "    }\n",
       "\n",
       "    .dataframe thead th {\n",
       "        text-align: right;\n",
       "    }\n",
       "</style>\n",
       "<table border=\"1\" class=\"dataframe\">\n",
       "  <thead>\n",
       "    <tr style=\"text-align: right;\">\n",
       "      <th></th>\n",
       "      <th>title</th>\n",
       "      <th>view_log</th>\n",
       "      <th>predicted</th>\n",
       "    </tr>\n",
       "  </thead>\n",
       "  <tbody>\n",
       "    <tr>\n",
       "      <th>1754</th>\n",
       "      <td>Meiga e Abusada (Clipe Oficial) - Anitta</td>\n",
       "      <td>7.989248</td>\n",
       "      <td>4.737690</td>\n",
       "    </tr>\n",
       "    <tr>\n",
       "      <th>4712</th>\n",
       "      <td>Freaks'n'Beatz - We Are Back</td>\n",
       "      <td>5.131664</td>\n",
       "      <td>2.010735</td>\n",
       "    </tr>\n",
       "    <tr>\n",
       "      <th>7089</th>\n",
       "      <td>東方神起 / Stand by U</td>\n",
       "      <td>7.095374</td>\n",
       "      <td>4.004374</td>\n",
       "    </tr>\n",
       "    <tr>\n",
       "      <th>8418</th>\n",
       "      <td>Şimal - Z Raporu</td>\n",
       "      <td>6.843051</td>\n",
       "      <td>4.585274</td>\n",
       "    </tr>\n",
       "    <tr>\n",
       "      <th>5010</th>\n",
       "      <td>O Come to the Altar | Live | Elevation Worship</td>\n",
       "      <td>7.534772</td>\n",
       "      <td>5.374828</td>\n",
       "    </tr>\n",
       "    <tr>\n",
       "      <th>4792</th>\n",
       "      <td>Mi C Mi Bed N Miss U - Dexta Daps (Official Vi...</td>\n",
       "      <td>6.688778</td>\n",
       "      <td>4.629842</td>\n",
       "    </tr>\n",
       "    <tr>\n",
       "      <th>4571</th>\n",
       "      <td>Bossa n` Adele - Full Album! - The Sexiest Ele...</td>\n",
       "      <td>6.719950</td>\n",
       "      <td>4.922499</td>\n",
       "    </tr>\n",
       "  </tbody>\n",
       "</table>\n",
       "</div>"
      ],
      "text/plain": [
       "                                                  title  view_log  predicted\n",
       "1754           Meiga e Abusada (Clipe Oficial) - Anitta  7.989248   4.737690\n",
       "4712                       Freaks'n'Beatz - We Are Back  5.131664   2.010735\n",
       "7089                                  東方神起 / Stand by U  7.095374   4.004374\n",
       "8418                                   Şimal - Z Raporu  6.843051   4.585274\n",
       "5010     O Come to the Altar | Live | Elevation Worship  7.534772   5.374828\n",
       "4792  Mi C Mi Bed N Miss U - Dexta Daps (Official Vi...  6.688778   4.629842\n",
       "4571  Bossa n` Adele - Full Album! - The Sexiest Ele...  6.719950   4.922499"
      ]
     },
     "execution_count": 80,
     "metadata": {},
     "output_type": "execute_result"
    }
   ],
   "source": [
    "temp.join(outliers_df, how='right').loc[:, ['title', 'view_log', 'predicted']]"
   ]
  },
  {
   "cell_type": "code",
   "execution_count": 23,
   "metadata": {
    "scrolled": true
   },
   "outputs": [
    {
     "name": "stderr",
     "output_type": "stream",
     "text": [
      "C:\\ProgramData\\Anaconda3\\lib\\site-packages\\ipykernel_launcher.py:4: SettingWithCopyWarning: \n",
      "A value is trying to be set on a copy of a slice from a DataFrame.\n",
      "Try using .loc[row_indexer,col_indexer] = value instead\n",
      "\n",
      "See the caveats in the documentation: http://pandas.pydata.org/pandas-docs/stable/indexing.html#indexing-view-versus-copy\n",
      "  after removing the cwd from sys.path.\n"
     ]
    },
    {
     "data": {
      "text/html": [
       "<div>\n",
       "<style scoped>\n",
       "    .dataframe tbody tr th:only-of-type {\n",
       "        vertical-align: middle;\n",
       "    }\n",
       "\n",
       "    .dataframe tbody tr th {\n",
       "        vertical-align: top;\n",
       "    }\n",
       "\n",
       "    .dataframe thead th {\n",
       "        text-align: right;\n",
       "    }\n",
       "</style>\n",
       "<table border=\"1\" class=\"dataframe\">\n",
       "  <thead>\n",
       "    <tr style=\"text-align: right;\">\n",
       "      <th></th>\n",
       "      <th>title</th>\n",
       "      <th>viewCount</th>\n",
       "      <th>predicted</th>\n",
       "    </tr>\n",
       "  </thead>\n",
       "  <tbody>\n",
       "    <tr>\n",
       "      <th>7479</th>\n",
       "      <td>Luis Fonsi - Despacito ft. Daddy Yankee</td>\n",
       "      <td>5555912002</td>\n",
       "      <td>2.489287e+09</td>\n",
       "    </tr>\n",
       "    <tr>\n",
       "      <th>4268</th>\n",
       "      <td>Ed Sheeran - Shape of You [Official Video]</td>\n",
       "      <td>3827104659</td>\n",
       "      <td>1.812437e+09</td>\n",
       "    </tr>\n",
       "    <tr>\n",
       "      <th>7190</th>\n",
       "      <td>Wiz Khalifa - See You Again ft. Charlie Puth [...</td>\n",
       "      <td>3788737518</td>\n",
       "      <td>6.790424e+08</td>\n",
       "    </tr>\n",
       "    <tr>\n",
       "      <th>5540</th>\n",
       "      <td>Mark Ronson - Uptown Funk ft. Bruno Mars</td>\n",
       "      <td>3256917992</td>\n",
       "      <td>1.278338e+09</td>\n",
       "    </tr>\n",
       "    <tr>\n",
       "      <th>3634</th>\n",
       "      <td>PSY - GANGNAM STYLE(강남스타일) M/V</td>\n",
       "      <td>3218413082</td>\n",
       "      <td>1.924939e+09</td>\n",
       "    </tr>\n",
       "    <tr>\n",
       "      <th>569</th>\n",
       "      <td>Justin Bieber - Sorry (PURPOSE : The Movement)</td>\n",
       "      <td>3014897224</td>\n",
       "      <td>1.295505e+09</td>\n",
       "    </tr>\n",
       "    <tr>\n",
       "      <th>7417</th>\n",
       "      <td>Maroon 5 - Sugar</td>\n",
       "      <td>2756205542</td>\n",
       "      <td>9.598417e+08</td>\n",
       "    </tr>\n",
       "    <tr>\n",
       "      <th>7514</th>\n",
       "      <td>Taylor Swift - Shake It Off</td>\n",
       "      <td>2650920924</td>\n",
       "      <td>3.221417e+08</td>\n",
       "    </tr>\n",
       "    <tr>\n",
       "      <th>5506</th>\n",
       "      <td>Katy Perry - Roar (Official)</td>\n",
       "      <td>2638406673</td>\n",
       "      <td>1.451664e+09</td>\n",
       "    </tr>\n",
       "    <tr>\n",
       "      <th>627</th>\n",
       "      <td>Enrique Iglesias - Bailando (Español) ft. Desc...</td>\n",
       "      <td>2582945265</td>\n",
       "      <td>5.393226e+08</td>\n",
       "    </tr>\n",
       "    <tr>\n",
       "      <th>5532</th>\n",
       "      <td>Ed Sheeran - Thinking Out Loud [Official Video]</td>\n",
       "      <td>2496797028</td>\n",
       "      <td>1.108605e+09</td>\n",
       "    </tr>\n",
       "    <tr>\n",
       "      <th>3220</th>\n",
       "      <td>Katy Perry - Dark Horse (Official) ft. Juicy J</td>\n",
       "      <td>2429899549</td>\n",
       "      <td>1.242652e+09</td>\n",
       "    </tr>\n",
       "    <tr>\n",
       "      <th>7602</th>\n",
       "      <td>Taylor Swift - Blank Space</td>\n",
       "      <td>2343876199</td>\n",
       "      <td>1.174802e+09</td>\n",
       "    </tr>\n",
       "    <tr>\n",
       "      <th>7555</th>\n",
       "      <td>Shakira - Chantaje ft. Maluma</td>\n",
       "      <td>2255261833</td>\n",
       "      <td>9.150489e+08</td>\n",
       "    </tr>\n",
       "    <tr>\n",
       "      <th>4251</th>\n",
       "      <td>Meghan Trainor - All About That Bass</td>\n",
       "      <td>2227064426</td>\n",
       "      <td>1.143178e+09</td>\n",
       "    </tr>\n",
       "    <tr>\n",
       "      <th>7214</th>\n",
       "      <td>Calvin Harris - This Is What You Came For (Off...</td>\n",
       "      <td>2097510786</td>\n",
       "      <td>1.542388e+09</td>\n",
       "    </tr>\n",
       "    <tr>\n",
       "      <th>7425</th>\n",
       "      <td>Passenger | Let Her Go (Official Video)</td>\n",
       "      <td>2068337176</td>\n",
       "      <td>6.021104e+08</td>\n",
       "    </tr>\n",
       "    <tr>\n",
       "      <th>7516</th>\n",
       "      <td>Shakira - Waka Waka (This Time for Africa) (Th...</td>\n",
       "      <td>2041632211</td>\n",
       "      <td>8.905179e+08</td>\n",
       "    </tr>\n",
       "    <tr>\n",
       "      <th>3208</th>\n",
       "      <td>J Balvin, Willy William - Mi Gente (Official V...</td>\n",
       "      <td>2041493278</td>\n",
       "      <td>1.155732e+09</td>\n",
       "    </tr>\n",
       "    <tr>\n",
       "      <th>7531</th>\n",
       "      <td>Justin Bieber - Baby ft. Ludacris</td>\n",
       "      <td>1985152808</td>\n",
       "      <td>3.947337e+09</td>\n",
       "    </tr>\n",
       "    <tr>\n",
       "      <th>7427</th>\n",
       "      <td>Alan Walker - Faded</td>\n",
       "      <td>1975021362</td>\n",
       "      <td>6.233003e+08</td>\n",
       "    </tr>\n",
       "    <tr>\n",
       "      <th>7174</th>\n",
       "      <td>Justin Bieber - What Do You Mean?</td>\n",
       "      <td>1944265383</td>\n",
       "      <td>6.313766e+08</td>\n",
       "    </tr>\n",
       "    <tr>\n",
       "      <th>6846</th>\n",
       "      <td>Charlie Puth - We Don't Talk Anymore (feat. Se...</td>\n",
       "      <td>1935955368</td>\n",
       "      <td>5.545511e+08</td>\n",
       "    </tr>\n",
       "    <tr>\n",
       "      <th>8637</th>\n",
       "      <td>Fifth Harmony - Work from Home ft. Ty Dolla $ign</td>\n",
       "      <td>1919599269</td>\n",
       "      <td>1.054024e+09</td>\n",
       "    </tr>\n",
       "    <tr>\n",
       "      <th>7461</th>\n",
       "      <td>Sia - Chandelier (Official Video)</td>\n",
       "      <td>1910731681</td>\n",
       "      <td>1.286574e+09</td>\n",
       "    </tr>\n",
       "    <tr>\n",
       "      <th>7164</th>\n",
       "      <td>Ellie Goulding - Love Me Like You Do (Official...</td>\n",
       "      <td>1802662468</td>\n",
       "      <td>5.781694e+08</td>\n",
       "    </tr>\n",
       "    <tr>\n",
       "      <th>7527</th>\n",
       "      <td>Avicii - Wake Me Up (Official Video)</td>\n",
       "      <td>1673921749</td>\n",
       "      <td>5.599589e+08</td>\n",
       "    </tr>\n",
       "    <tr>\n",
       "      <th>7434</th>\n",
       "      <td>Luis Fonsi, Demi Lovato - Échame La Culpa</td>\n",
       "      <td>1619227144</td>\n",
       "      <td>8.579412e+08</td>\n",
       "    </tr>\n",
       "    <tr>\n",
       "      <th>4319</th>\n",
       "      <td>Fifth Harmony - Worth It ft. Kid Ink</td>\n",
       "      <td>1617220892</td>\n",
       "      <td>5.164604e+08</td>\n",
       "    </tr>\n",
       "    <tr>\n",
       "      <th>5567</th>\n",
       "      <td>Eminem - Love The Way You Lie ft. Rihanna</td>\n",
       "      <td>1607500199</td>\n",
       "      <td>1.164472e+09</td>\n",
       "    </tr>\n",
       "    <tr>\n",
       "      <th>...</th>\n",
       "      <td>...</td>\n",
       "      <td>...</td>\n",
       "      <td>...</td>\n",
       "    </tr>\n",
       "    <tr>\n",
       "      <th>689</th>\n",
       "      <td>Britney Spears - I'm A Slave 4 U</td>\n",
       "      <td>105422444</td>\n",
       "      <td>8.322110e+07</td>\n",
       "    </tr>\n",
       "    <tr>\n",
       "      <th>7907</th>\n",
       "      <td>Pantera - Walk (Official Video)</td>\n",
       "      <td>105391869</td>\n",
       "      <td>2.004959e+08</td>\n",
       "    </tr>\n",
       "    <tr>\n",
       "      <th>4331</th>\n",
       "      <td>Boney M - Rasputin</td>\n",
       "      <td>105231093</td>\n",
       "      <td>8.050424e+07</td>\n",
       "    </tr>\n",
       "    <tr>\n",
       "      <th>5006</th>\n",
       "      <td>MC Vitão feat. Dennis DJ - Olha o Gás (KondZilla)</td>\n",
       "      <td>105228657</td>\n",
       "      <td>2.754481e+08</td>\n",
       "    </tr>\n",
       "    <tr>\n",
       "      <th>419</th>\n",
       "      <td>Juan Magan, Belinda, Manuel Turizo, Snova, B-C...</td>\n",
       "      <td>105218524</td>\n",
       "      <td>7.170705e+07</td>\n",
       "    </tr>\n",
       "    <tr>\n",
       "      <th>5519</th>\n",
       "      <td>Mike Perry - The Ocean ft. Shy Martin</td>\n",
       "      <td>105022999</td>\n",
       "      <td>1.553986e+07</td>\n",
       "    </tr>\n",
       "    <tr>\n",
       "      <th>5451</th>\n",
       "      <td>米津玄師 MV「ピースサイン」Kenshi Yonezu / Peace Sign</td>\n",
       "      <td>104756642</td>\n",
       "      <td>2.348679e+07</td>\n",
       "    </tr>\n",
       "    <tr>\n",
       "      <th>6113</th>\n",
       "      <td>R. Kelly - Same Girl</td>\n",
       "      <td>104626707</td>\n",
       "      <td>8.064017e+07</td>\n",
       "    </tr>\n",
       "    <tr>\n",
       "      <th>4933</th>\n",
       "      <td>Cia. SALT - Quero Conhecer Jesus (Cover Alessa...</td>\n",
       "      <td>104487992</td>\n",
       "      <td>9.428118e+07</td>\n",
       "    </tr>\n",
       "    <tr>\n",
       "      <th>5465</th>\n",
       "      <td>Red Velvet 레드벨벳 '피카부 (Peek-A-Boo)' MV</td>\n",
       "      <td>104447825</td>\n",
       "      <td>1.246850e+08</td>\n",
       "    </tr>\n",
       "    <tr>\n",
       "      <th>1545</th>\n",
       "      <td>Takagi &amp; Ketra - Amore e Capoeira ft. Giusy Fe...</td>\n",
       "      <td>104190060</td>\n",
       "      <td>8.599994e+07</td>\n",
       "    </tr>\n",
       "    <tr>\n",
       "      <th>3265</th>\n",
       "      <td>Jennifer Lopez featuring LL Cool J - All I Hav...</td>\n",
       "      <td>103975303</td>\n",
       "      <td>9.125277e+07</td>\n",
       "    </tr>\n",
       "    <tr>\n",
       "      <th>6790</th>\n",
       "      <td>T-Pain - Buy U A Drank (Shawty Snappin') ft. Y...</td>\n",
       "      <td>103859271</td>\n",
       "      <td>1.053770e+08</td>\n",
       "    </tr>\n",
       "    <tr>\n",
       "      <th>3306</th>\n",
       "      <td>Jessie J - Nobody's Perfect</td>\n",
       "      <td>103445230</td>\n",
       "      <td>9.038404e+07</td>\n",
       "    </tr>\n",
       "    <tr>\n",
       "      <th>8668</th>\n",
       "      <td>Lil Dicky - $ave Dat Money feat. Fetty Wap and...</td>\n",
       "      <td>103268539</td>\n",
       "      <td>8.693224e+07</td>\n",
       "    </tr>\n",
       "    <tr>\n",
       "      <th>4985</th>\n",
       "      <td>O Rappa - Anjos \"Pra Quem Tem Fé\"  (Webclipe) ...</td>\n",
       "      <td>102721066</td>\n",
       "      <td>5.861367e+07</td>\n",
       "    </tr>\n",
       "    <tr>\n",
       "      <th>7235</th>\n",
       "      <td>Stefflon Don, French Montana - Hurtin' Me (Off...</td>\n",
       "      <td>102543325</td>\n",
       "      <td>1.021000e+08</td>\n",
       "    </tr>\n",
       "    <tr>\n",
       "      <th>8615</th>\n",
       "      <td>Red Velvet 레드벨벳 '빨간 맛 (Red Flavor)' MV</td>\n",
       "      <td>102499330</td>\n",
       "      <td>1.302421e+08</td>\n",
       "    </tr>\n",
       "    <tr>\n",
       "      <th>8675</th>\n",
       "      <td>Ed Sheeran - Small Bump [Official Video]</td>\n",
       "      <td>102464464</td>\n",
       "      <td>3.997672e+07</td>\n",
       "    </tr>\n",
       "    <tr>\n",
       "      <th>5312</th>\n",
       "      <td>Akon - Locked Up ft. Styles P</td>\n",
       "      <td>101963775</td>\n",
       "      <td>1.005777e+08</td>\n",
       "    </tr>\n",
       "    <tr>\n",
       "      <th>2558</th>\n",
       "      <td>G-DRAGON - 니가 뭔데(WHO YOU?) M/V</td>\n",
       "      <td>101891506</td>\n",
       "      <td>3.034443e+07</td>\n",
       "    </tr>\n",
       "    <tr>\n",
       "      <th>3639</th>\n",
       "      <td>Kodak Black, 21 Savage, Lil Uzi Vert, Lil Yach...</td>\n",
       "      <td>101605159</td>\n",
       "      <td>1.516005e+08</td>\n",
       "    </tr>\n",
       "    <tr>\n",
       "      <th>86</th>\n",
       "      <td>P!nk - Beautiful Trauma (Official Video)</td>\n",
       "      <td>101434044</td>\n",
       "      <td>1.638068e+08</td>\n",
       "    </tr>\n",
       "    <tr>\n",
       "      <th>6631</th>\n",
       "      <td>X Ambassadors - Unsteady</td>\n",
       "      <td>101401422</td>\n",
       "      <td>5.621752e+07</td>\n",
       "    </tr>\n",
       "    <tr>\n",
       "      <th>8624</th>\n",
       "      <td>Gladiator - Now We Are Free Super Theme Song</td>\n",
       "      <td>101305195</td>\n",
       "      <td>4.380008e+07</td>\n",
       "    </tr>\n",
       "    <tr>\n",
       "      <th>4261</th>\n",
       "      <td>Lauv - I Like Me Better [Official Audio]</td>\n",
       "      <td>100986069</td>\n",
       "      <td>4.031483e+07</td>\n",
       "    </tr>\n",
       "    <tr>\n",
       "      <th>7463</th>\n",
       "      <td>Ed Sheeran &amp; Passenger - No Diggity vs. Thrift...</td>\n",
       "      <td>100744773</td>\n",
       "      <td>1.450465e+07</td>\n",
       "    </tr>\n",
       "    <tr>\n",
       "      <th>8123</th>\n",
       "      <td>Jose Luis Perales - Y como es él (1982)</td>\n",
       "      <td>100581018</td>\n",
       "      <td>8.716520e+07</td>\n",
       "    </tr>\n",
       "    <tr>\n",
       "      <th>6920</th>\n",
       "      <td>Flux Pavilion - I Can't Stop</td>\n",
       "      <td>100415567</td>\n",
       "      <td>1.078380e+08</td>\n",
       "    </tr>\n",
       "    <tr>\n",
       "      <th>1172</th>\n",
       "      <td>Dynoro &amp; Gigi D’Agostino - In My Mind</td>\n",
       "      <td>100087673</td>\n",
       "      <td>1.962396e+07</td>\n",
       "    </tr>\n",
       "  </tbody>\n",
       "</table>\n",
       "<p>900 rows × 3 columns</p>\n",
       "</div>"
      ],
      "text/plain": [
       "                                                  title   viewCount  \\\n",
       "7479            Luis Fonsi - Despacito ft. Daddy Yankee  5555912002   \n",
       "4268         Ed Sheeran - Shape of You [Official Video]  3827104659   \n",
       "7190  Wiz Khalifa - See You Again ft. Charlie Puth [...  3788737518   \n",
       "5540           Mark Ronson - Uptown Funk ft. Bruno Mars  3256917992   \n",
       "3634                     PSY - GANGNAM STYLE(강남스타일) M/V  3218413082   \n",
       "569      Justin Bieber - Sorry (PURPOSE : The Movement)  3014897224   \n",
       "7417                                   Maroon 5 - Sugar  2756205542   \n",
       "7514                        Taylor Swift - Shake It Off  2650920924   \n",
       "5506                       Katy Perry - Roar (Official)  2638406673   \n",
       "627   Enrique Iglesias - Bailando (Español) ft. Desc...  2582945265   \n",
       "5532    Ed Sheeran - Thinking Out Loud [Official Video]  2496797028   \n",
       "3220     Katy Perry - Dark Horse (Official) ft. Juicy J  2429899549   \n",
       "7602                         Taylor Swift - Blank Space  2343876199   \n",
       "7555                      Shakira - Chantaje ft. Maluma  2255261833   \n",
       "4251               Meghan Trainor - All About That Bass  2227064426   \n",
       "7214  Calvin Harris - This Is What You Came For (Off...  2097510786   \n",
       "7425            Passenger | Let Her Go (Official Video)  2068337176   \n",
       "7516  Shakira - Waka Waka (This Time for Africa) (Th...  2041632211   \n",
       "3208  J Balvin, Willy William - Mi Gente (Official V...  2041493278   \n",
       "7531                  Justin Bieber - Baby ft. Ludacris  1985152808   \n",
       "7427                                Alan Walker - Faded  1975021362   \n",
       "7174                  Justin Bieber - What Do You Mean?  1944265383   \n",
       "6846  Charlie Puth - We Don't Talk Anymore (feat. Se...  1935955368   \n",
       "8637   Fifth Harmony - Work from Home ft. Ty Dolla $ign  1919599269   \n",
       "7461                  Sia - Chandelier (Official Video)  1910731681   \n",
       "7164  Ellie Goulding - Love Me Like You Do (Official...  1802662468   \n",
       "7527               Avicii - Wake Me Up (Official Video)  1673921749   \n",
       "7434          Luis Fonsi, Demi Lovato - Échame La Culpa  1619227144   \n",
       "4319               Fifth Harmony - Worth It ft. Kid Ink  1617220892   \n",
       "5567          Eminem - Love The Way You Lie ft. Rihanna  1607500199   \n",
       "...                                                 ...         ...   \n",
       "689                    Britney Spears - I'm A Slave 4 U   105422444   \n",
       "7907                    Pantera - Walk (Official Video)   105391869   \n",
       "4331                                 Boney M - Rasputin   105231093   \n",
       "5006  MC Vitão feat. Dennis DJ - Olha o Gás (KondZilla)   105228657   \n",
       "419   Juan Magan, Belinda, Manuel Turizo, Snova, B-C...   105218524   \n",
       "5519              Mike Perry - The Ocean ft. Shy Martin   105022999   \n",
       "5451          米津玄師 MV「ピースサイン」Kenshi Yonezu / Peace Sign   104756642   \n",
       "6113                               R. Kelly - Same Girl   104626707   \n",
       "4933  Cia. SALT - Quero Conhecer Jesus (Cover Alessa...   104487992   \n",
       "5465              Red Velvet 레드벨벳 '피카부 (Peek-A-Boo)' MV   104447825   \n",
       "1545  Takagi & Ketra - Amore e Capoeira ft. Giusy Fe...   104190060   \n",
       "3265  Jennifer Lopez featuring LL Cool J - All I Hav...   103975303   \n",
       "6790  T-Pain - Buy U A Drank (Shawty Snappin') ft. Y...   103859271   \n",
       "3306                        Jessie J - Nobody's Perfect   103445230   \n",
       "8668  Lil Dicky - $ave Dat Money feat. Fetty Wap and...   103268539   \n",
       "4985  O Rappa - Anjos \"Pra Quem Tem Fé\"  (Webclipe) ...   102721066   \n",
       "7235  Stefflon Don, French Montana - Hurtin' Me (Off...   102543325   \n",
       "8615             Red Velvet 레드벨벳 '빨간 맛 (Red Flavor)' MV   102499330   \n",
       "8675           Ed Sheeran - Small Bump [Official Video]   102464464   \n",
       "5312                      Akon - Locked Up ft. Styles P   101963775   \n",
       "2558                     G-DRAGON - 니가 뭔데(WHO YOU?) M/V   101891506   \n",
       "3639  Kodak Black, 21 Savage, Lil Uzi Vert, Lil Yach...   101605159   \n",
       "86             P!nk - Beautiful Trauma (Official Video)   101434044   \n",
       "6631                           X Ambassadors - Unsteady   101401422   \n",
       "8624       Gladiator - Now We Are Free Super Theme Song   101305195   \n",
       "4261           Lauv - I Like Me Better [Official Audio]   100986069   \n",
       "7463  Ed Sheeran & Passenger - No Diggity vs. Thrift...   100744773   \n",
       "8123            Jose Luis Perales - Y como es él (1982)   100581018   \n",
       "6920                       Flux Pavilion - I Can't Stop   100415567   \n",
       "1172              Dynoro & Gigi D’Agostino - In My Mind   100087673   \n",
       "\n",
       "         predicted  \n",
       "7479  2.489287e+09  \n",
       "4268  1.812437e+09  \n",
       "7190  6.790424e+08  \n",
       "5540  1.278338e+09  \n",
       "3634  1.924939e+09  \n",
       "569   1.295505e+09  \n",
       "7417  9.598417e+08  \n",
       "7514  3.221417e+08  \n",
       "5506  1.451664e+09  \n",
       "627   5.393226e+08  \n",
       "5532  1.108605e+09  \n",
       "3220  1.242652e+09  \n",
       "7602  1.174802e+09  \n",
       "7555  9.150489e+08  \n",
       "4251  1.143178e+09  \n",
       "7214  1.542388e+09  \n",
       "7425  6.021104e+08  \n",
       "7516  8.905179e+08  \n",
       "3208  1.155732e+09  \n",
       "7531  3.947337e+09  \n",
       "7427  6.233003e+08  \n",
       "7174  6.313766e+08  \n",
       "6846  5.545511e+08  \n",
       "8637  1.054024e+09  \n",
       "7461  1.286574e+09  \n",
       "7164  5.781694e+08  \n",
       "7527  5.599589e+08  \n",
       "7434  8.579412e+08  \n",
       "4319  5.164604e+08  \n",
       "5567  1.164472e+09  \n",
       "...            ...  \n",
       "689   8.322110e+07  \n",
       "7907  2.004959e+08  \n",
       "4331  8.050424e+07  \n",
       "5006  2.754481e+08  \n",
       "419   7.170705e+07  \n",
       "5519  1.553986e+07  \n",
       "5451  2.348679e+07  \n",
       "6113  8.064017e+07  \n",
       "4933  9.428118e+07  \n",
       "5465  1.246850e+08  \n",
       "1545  8.599994e+07  \n",
       "3265  9.125277e+07  \n",
       "6790  1.053770e+08  \n",
       "3306  9.038404e+07  \n",
       "8668  8.693224e+07  \n",
       "4985  5.861367e+07  \n",
       "7235  1.021000e+08  \n",
       "8615  1.302421e+08  \n",
       "8675  3.997672e+07  \n",
       "5312  1.005777e+08  \n",
       "2558  3.034443e+07  \n",
       "3639  1.516005e+08  \n",
       "86    1.638068e+08  \n",
       "6631  5.621752e+07  \n",
       "8624  4.380008e+07  \n",
       "4261  4.031483e+07  \n",
       "7463  1.450465e+07  \n",
       "8123  8.716520e+07  \n",
       "6920  1.078380e+08  \n",
       "1172  1.962396e+07  \n",
       "\n",
       "[900 rows x 3 columns]"
      ]
     },
     "execution_count": 23,
     "metadata": {},
     "output_type": "execute_result"
    }
   ],
   "source": [
    "df_big = df_main[df_main.viewCount > 100000000]\n",
    "df_big_ss = ss.transform(df_big.loc[:, cols_include_initial])\n",
    "\n",
    "df_big['predicted'] = 10**gs.predict(df_big_ss)\n",
    "\n",
    "#df_big.viewCount = df_big.viewCount.map(lambda x: '{:.6g}'.format(x))\n",
    "\n",
    "df_big.loc[:, ['title', 'viewCount', 'predicted']].sort_values(by='viewCount', ascending=False)"
   ]
  },
  {
   "cell_type": "markdown",
   "metadata": {},
   "source": [
    "## <a class=\"anchor\" id=\"3.2-bullet\">3.2 Neural Net</a>\n",
    "\n"
   ]
  },
  {
   "cell_type": "code",
   "execution_count": 82,
   "metadata": {},
   "outputs": [
    {
     "name": "stderr",
     "output_type": "stream",
     "text": [
      "C:\\ProgramData\\Anaconda3\\lib\\site-packages\\h5py\\__init__.py:36: FutureWarning: Conversion of the second argument of issubdtype from `float` to `np.floating` is deprecated. In future, it will be treated as `np.float64 == np.dtype(float).type`.\n",
      "  from ._conv import register_converters as _register_converters\n",
      "Using TensorFlow backend.\n"
     ]
    },
    {
     "name": "stdout",
     "output_type": "stream",
     "text": [
      "Couldn't import dot_parser, loading of dot files will not be possible.\n"
     ]
    }
   ],
   "source": [
    "from keras.models import Sequential\n",
    "from keras.layers import Dense, Dropout"
   ]
  },
  {
   "cell_type": "code",
   "execution_count": 91,
   "metadata": {
    "scrolled": true
   },
   "outputs": [
    {
     "name": "stdout",
     "output_type": "stream",
     "text": [
      "score:  0.7342118975759212\n"
     ]
    }
   ],
   "source": [
    "model = Sequential()\n",
    "#this does input and first activation\n",
    "model.add(Dense(X_train_sc.shape[1], activation='relu', input_dim=X_train_sc.shape[1]))\n",
    "model.add(Dropout(.5))\n",
    "model.add(Dense(20, activation='relu'))\n",
    "model.add(Dense(1, activation=None)) #1 neuron\n",
    "model.compile(loss='mean_squared_error', optimizer='adam')\n",
    "history = model.fit(X_train_sc, y_train, validation_data=(X_test_sc, y_test), epochs=30, batch_size=50, verbose=0)\n",
    "preds = model.predict(X_test_sc)\n",
    "print( 'score: ', r2_score(y_test, preds))"
   ]
  },
  {
   "cell_type": "code",
   "execution_count": 92,
   "metadata": {},
   "outputs": [
    {
     "data": {
      "image/png": "[encoded data removed]",
      "text/plain": [
       "<Figure size 432x288 with 1 Axes>"
      ]
     },
     "metadata": {},
     "output_type": "display_data"
    }
   ],
   "source": [
    "plt.figure()\n",
    "plt.plot(history.history['loss'])\n",
    "plt.plot(history.history['val_loss'])\n",
    "plt.title('model loss')\n",
    "plt.ylabel('loss')\n",
    "plt.xlabel('epoch')\n",
    "plt.legend(['train', 'test'], loc='best')\n",
    "plt.show();"
   ]
  },
  {
   "cell_type": "code",
   "execution_count": null,
   "metadata": {},
   "outputs": [],
   "source": []
  },
  {
   "cell_type": "markdown",
   "metadata": {},
   "source": [
    "## <a class=\"anchor\" id=\"3.3-bullet\">3.3 Random Forrest</a>\n"
   ]
  },
  {
   "cell_type": "code",
   "execution_count": 93,
   "metadata": {},
   "outputs": [
    {
     "data": {
      "text/plain": [
       "0.8970721322012407"
      ]
     },
     "execution_count": 93,
     "metadata": {},
     "output_type": "execute_result"
    }
   ],
   "source": [
    "model = RandomForestRegressor()\n",
    "model.fit(X_train_sc, y_train)\n",
    "model.score(X_test_sc, y_test)"
   ]
  },
  {
   "cell_type": "markdown",
   "metadata": {},
   "source": [
    "# <a class=\"anchor\" id=\"4.0-bullet\"> 4.0 Reference and Planning</a>"
   ]
  },
  {
   "cell_type": "code",
   "execution_count": null,
   "metadata": {},
   "outputs": [],
   "source": [
    "# all views over 400M https://www.youtube.com/playlist?list=PLirAqAtl_h2r5g8xGajEwdXd3x1sZh8hC"
   ]
  },
  {
   "cell_type": "markdown",
   "metadata": {},
   "source": [
    "Are there bots? would explain difference in like / view ratio."
   ]
  },
  {
   "cell_type": "markdown",
   "metadata": {},
   "source": [
    "### Next Steps\n",
    "Feature engineering\n",
    "* NLP - check only most 1000 common words according to corpus string (or above threshold) xx\n",
    "* Comments / likes to views ratio? x"
   ]
  },
  {
   "cell_type": "markdown",
   "metadata": {},
   "source": [
    "## Columns Decisions\n",
    "* Convert \n",
    " * Duration x\n",
    " * PublishedAt X\n",
    "* Get dummies: \n",
    " * definition, (0 for sd, 1 for hd)\n",
    " * licensedContent (map)\n",
    " * Caption (map)\n",
    "* Drop:\n",
    " * Projection, \n",
    " * Dimension\n",
    " * 3d movies,\n",
    " * livebroadcast\n",
    " * CategoryID\n",
    " * channelID (already have title, which has text!!)\n",
    " * LiveBroadCastContent\n",
    "* Leave in for EDA, but anticipate dropping during most analysis (basically stuff that might be interesting)\n",
    " * Region restriction should be dropped until modeling - consider bringing this back later\n",
    " * ContentRating - insignificant but interesting\n",
    " * Could look at channelTitle\n",
    " * request_token\n",
    " * letter_search\n",
    " * defaultLanguage, (might be better as 1 / 0 for set / not set. leave for model)"
   ]
  }
 ],
 "metadata": {
  "kernelspec": {
   "display_name": "Python 3",
   "language": "python",
   "name": "python3"
  },
  "language_info": {
   "codemirror_mode": {
    "name": "ipython",
    "version": 3
   },
   "file_extension": ".py",
   "mimetype": "text/x-python",
   "name": "python",
   "nbconvert_exporter": "python",
   "pygments_lexer": "ipython3",
   "version": "3.6.5"
  }
 },
 "nbformat": 4,
 "nbformat_minor": 2
}
