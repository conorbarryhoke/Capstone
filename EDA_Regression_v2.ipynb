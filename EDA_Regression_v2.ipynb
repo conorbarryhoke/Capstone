{
 "cells": [
  {
   "cell_type": "code",
   "execution_count": 1,
   "metadata": {},
   "outputs": [],
   "source": [
    "#do this later from admin: !python -m pip install --upgrade pip\n"
   ]
  },
  {
   "cell_type": "markdown",
   "metadata": {},
   "source": [
    "# TOC"
   ]
  },
  {
   "cell_type": "markdown",
   "metadata": {},
   "source": [
    "0. [Imports](#first-bullet)\n",
    "1. [EDA](#1.0-bullet)\n",
    "2. [Feature Engineering](#2.0-bullet)  \n",
    " 2.1 [Pt 1 - Regression](#2.1-bullet)  \n",
    " 2.2 [Pt 2 - Classification](#2.2-bullet)\n",
    "3. [Basic Model](#3.0-bullet)  \n",
    " 3.1 [Pt 1 - Regression](#3.1-bullet)  \n",
    " 3.2 [Pt 2 - Classification](#3.2-bullet)\n",
    "4. [Reference and Planning](#4.0-bullet)"
   ]
  },
  {
   "cell_type": "markdown",
   "metadata": {},
   "source": [
    "# Do not Run All cells - lots of charts"
   ]
  },
  {
   "cell_type": "code",
   "execution_count": 2,
   "metadata": {},
   "outputs": [],
   "source": [
    "#Basic\n",
    "import pandas as pd\n",
    "import numpy as np\n",
    "#Math\n",
    "import scipy as sp\n",
    "from random import randint\n",
    "from math import exp\n",
    "import operator\n",
    "\n",
    "#Scraping\n",
    "import requests\n",
    "import json\n",
    "\n",
    "#Youtube Data API Packages: \n",
    "\"\"\"from apiclient.discovery import build\n",
    "from apiclient.errors import HttpError\n",
    "from oauth2client.tools import argparser\n",
    "from googleapiclient.discovery import build\n",
    "import argparse\n",
    "from googleapiclient.errors import HttpError\"\"\"\n",
    "\n",
    "#Modeling\n",
    "from sklearn.model_selection import cross_val_score, train_test_split, GridSearchCV\n",
    "from sklearn.metrics import r2_score\n",
    "from sklearn.preprocessing import StandardScaler\n",
    "#from sklearn.linear_model import LogisticRegression\n",
    "#from sklearn.naive_bayes import MultinomialNB\n",
    "from sklearn.ensemble import RandomForestRegressor, GradientBoostingRegressor\n",
    "from sklearn.neighbors import KNeighborsRegressor\n",
    "#from sklearn.cluster import KMeans\n",
    "#from sklearn.svm import SVC\n",
    "#from sklearn.metrics import confusion_matrix, roc_auc_score, roc_curve\n",
    "\n",
    "#NLP & Text Management\n",
    "from sklearn.feature_extraction import stop_words\n",
    "from sklearn.feature_extraction.text import CountVectorizer\n",
    "from sklearn.feature_extraction.text import TfidfVectorizer\n",
    "import re\n",
    "from textblob import TextBlob\n",
    "from wordcloud import WordCloud\n",
    "from nltk.stem import PorterStemmer\n",
    "\n",
    "#Time analysis\n",
    "import time\n",
    "import datetime as dt\n",
    "\"\"\"from statsmodels.tsa.stattools import pacf\n",
    "from statsmodels.graphics.tsaplots import plot_pacf\"\"\"\n",
    "\n",
    "#Plotting\n",
    "import matplotlib.pyplot as plt\n",
    "import seaborn as sns\n",
    "#from wordcloud import WordCloud\n",
    "\n",
    "%matplotlib inline\n",
    "plt.style.use('seaborn-whitegrid')\n",
    "sns.set_style('whitegrid')"
   ]
  },
  {
   "cell_type": "markdown",
   "metadata": {},
   "source": [
    "Date Time\n",
    "* General: publishedAt\n",
    "* Friday (is_friday)\n",
    "* Is weekend (is_weekend)\n",
    "* week number (week)\n",
    "* Month day (month_day)\n",
    "* Month (month)\n",
    "* 2 digit year number (year)\n",
    "\n",
    "* Ignoring overall day count - possible overfit to search algorithm\n",
    "\n",
    "Description\n",
    "* Sentiment (description_sentiment)\n",
    "* Overall word count (description_wordcount)\n",
    "* CVEC (./data/engineered_data/description_wordvec.csv)\n",
    "\n",
    "\n",
    "Tags\n",
    "* Sentiment (tags_sentiment)\n",
    "* Num tags (tags_wordcount)\n",
    "* CVEC (./data/engineered_data/tag_wordvec.csv)\n",
    "\n",
    "Title\n",
    "* Sentiment (title_sentiment)\n",
    "* Word count (title_wordcount)\n",
    "* feat / ft. (title_featuring)\n",
    "* Letter Count (intitle_ + a,b,c,...)\n",
    "* String length (title_length)\n",
    "* Which letters\n",
    "* Length  \n",
    "* CVEC (./data/engineered_data/title_wordvec.csv)\n",
    "\n",
    "Ratios\n",
    "* likes / views (lv_ratio)\n",
    "* comments / view (comment_view_ratio)\n",
    "* likes / dislikes (like_dislike_ratio)\n",
    "\n",
    "Measures (includes log)\n",
    "  * commentCount\n",
    "  * dislikeCount \n",
    "  * favoriteCount \n",
    "  * likeCount: \n",
    "  * viewCount: view_log\n",
    "\n",
    "Other\n",
    "* Has content rating restriction (contentRating)\n",
    "* Has any region Restriction (regionRestriction)\n",
    "* Has captioned text (caption)\n",
    "* Content has approved license (licensedContent)\n",
    "* Duration of video (duration)\n",
    "* High definition 1 or std (0) (definition)\n"
   ]
  },
  {
   "cell_type": "code",
   "execution_count": 3,
   "metadata": {},
   "outputs": [],
   "source": [
    "df_main = pd.read_csv('./data/clean_data_nocomments_noviews_02.10.18.csv')\n",
    "\n",
    "#create log features"
   ]
  },
  {
   "cell_type": "code",
   "execution_count": 4,
   "metadata": {},
   "outputs": [],
   "source": [
    "df_main['view_log'] = df_main['viewCount'].map(lambda x: 0 if x==0 else np.log10(x)) #Which log to use???\n",
    "df_main.publishedAt = pd.to_datetime(df_main.publishedAt)\n",
    "df_main['week'] = df_main.publishedAt.map(lambda x: x.week)\n",
    "\n",
    "df_main.description.fillna('', inplace=True)\n",
    "\n",
    "df_main.tags.fillna('', inplace=True)"
   ]
  },
  {
   "cell_type": "markdown",
   "metadata": {},
   "source": [
    "# <a class=\"anchor\" id=\"1.0-bullet\"> 1. EDA</a>"
   ]
  },
  {
   "cell_type": "markdown",
   "metadata": {},
   "source": [
    "# <a class=\"anchor\" id=\"2.0-bullet\"> 2. Feature Engineering</a>"
   ]
  },
  {
   "cell_type": "markdown",
   "metadata": {},
   "source": [
    "* Description\n",
    " * Sentiment\n",
    " * CVEC x\n",
    " * Overall word count\n",
    "* Tags\n",
    " * Sentiment\n",
    " * CVEC\n",
    " * Num tags\n",
    "* Title\n",
    " * Sentiment\n",
    " * CVEC predictions\n",
    " * feat / ft. \n",
    " * Which letters\n",
    " * Length\n",
    "* Measures\n",
    " * Log features\n",
    "  * commentCount, \n",
    "  * dislikeCount, \n",
    "  * favoriteCount, \n",
    "  * likeCount\n",
    "  * viewCount: view_log\n"
   ]
  },
  {
   "cell_type": "markdown",
   "metadata": {},
   "source": [
    "## <a class=\"anchor\" id=\"2.1-bullet\">2.1 Adding Features</a>\n",
    "\n"
   ]
  },
  {
   "cell_type": "markdown",
   "metadata": {},
   "source": [
    "## <a class=\"anchor\" id=\"2.2-bullet\">2.2 Classification</a>\n",
    "\n"
   ]
  },
  {
   "cell_type": "markdown",
   "metadata": {},
   "source": [
    "# <a class=\"anchor\" id=\"3.0-bullet\"> 3. Basic Model</a>"
   ]
  },
  {
   "cell_type": "markdown",
   "metadata": {},
   "source": [
    "## <a class=\"anchor\" id=\"3.1-bullet\">3.1 Regression</a>\n",
    "\n"
   ]
  },
  {
   "cell_type": "code",
   "execution_count": 55,
   "metadata": {},
   "outputs": [
    {
     "data": {
      "text/plain": [
       "Index(['caption', 'channelTitle', 'commentCount', 'defaultLanguage',\n",
       "       'definition', 'description', 'dislikeCount', 'duration',\n",
       "       'favoriteCount', 'licensedContent', 'likeCount', 'publishedAt',\n",
       "       'regionRestriction', 'tags', 'title', 'vidId', 'viewCount',\n",
       "       'request_token', 'letter_search', 'contentRating', 'year', 'month',\n",
       "       'month_day', 'year_day', 'week_day', 'view_log', 'week',\n",
       "       'description_sentiment', 'description_wordcount', 'tags_sentiment',\n",
       "       'tags_wordcount', 'title_sentiment', 'title_wordcount',\n",
       "       'title_featuring', 'intitle_a', 'intitle_b', 'intitle_c', 'intitle_d',\n",
       "       'intitle_e', 'intitle_f', 'intitle_g', 'intitle_h', 'intitle_i',\n",
       "       'intitle_j', 'intitle_k', 'intitle_l', 'intitle_m', 'intitle_n',\n",
       "       'intitle_o', 'intitle_p', 'intitle_q', 'intitle_r', 'intitle_s',\n",
       "       'intitle_t', 'intitle_u', 'intitle_v', 'intitle_w', 'intitle_x',\n",
       "       'intitle_y', 'intitle_z', 'title_length', 'lv_ratio'],\n",
       "      dtype='object')"
      ]
     },
     "execution_count": 55,
     "metadata": {},
     "output_type": "execute_result"
    }
   ],
   "source": [
    "df_main.columns"
   ]
  },
  {
   "cell_type": "code",
   "execution_count": 86,
   "metadata": {},
   "outputs": [],
   "source": [
    "cols_exclude = ['letter_search', 'request_token', 'channelTitle', 'defaultLanguage', 'description', 'tags', \n",
    "               'title', 'vidId', \n",
    "               'month', 'publishedAt', \n",
    "               'viewCount','view_log',  'commentCount', 'favoriteCount', 'dislikeCount', 'likeCount']\n",
    "cols_include_initial = [col for col in df_main.columns if col not in cols_exclude]\n",
    "y = df_main.view_log"
   ]
  },
  {
   "cell_type": "code",
   "execution_count": 87,
   "metadata": {},
   "outputs": [],
   "source": [
    "#def test_model(additional_columns_exlude=[]):\n",
    "#others_to_exclude = additional_columns_exlude\n",
    "cols_include_final = [col for col in df_main.columns if col not in cols_exclude ]#and col not in others_to_exclude\n",
    "\n",
    "X = df_main.loc[:, cols_include_final]\n",
    "X_train, X_test, y_train, y_test=train_test_split(X, y)"
   ]
  },
  {
   "cell_type": "code",
   "execution_count": 88,
   "metadata": {},
   "outputs": [],
   "source": [
    "ss = StandardScaler()\n",
    "X_train_sc = ss.fit_transform(X_train)\n",
    "X_test_sc = ss.transform(X_test)"
   ]
  },
  {
   "cell_type": "code",
   "execution_count": 40,
   "metadata": {},
   "outputs": [
    {
     "data": {
      "text/plain": [
       "GradientBoostingRegressor(alpha=0.9, criterion='friedman_mse', init=None,\n",
       "             learning_rate=0.1, loss='ls', max_depth=3, max_features=None,\n",
       "             max_leaf_nodes=None, min_impurity_decrease=0.0,\n",
       "             min_impurity_split=None, min_samples_leaf=1,\n",
       "             min_samples_split=2, min_weight_fraction_leaf=0.0,\n",
       "             n_estimators=100, presort='auto', random_state=None,\n",
       "             subsample=1.0, verbose=0, warm_start=False)"
      ]
     },
     "execution_count": 40,
     "metadata": {},
     "output_type": "execute_result"
    }
   ],
   "source": [
    "model = GradientBoostingRegressor()\n",
    "model.fit(X_train_sc, y_train)\n",
    "    #return model, X_test_sc, y_test, ss"
   ]
  },
  {
   "cell_type": "code",
   "execution_count": 42,
   "metadata": {},
   "outputs": [
    {
     "data": {
      "text/plain": [
       "0.5303109241726187"
      ]
     },
     "execution_count": 42,
     "metadata": {},
     "output_type": "execute_result"
    }
   ],
   "source": [
    "#model, X_test_sc, y_test, ss = test_model()\n",
    "model.score(X_test_sc, y_test)"
   ]
  },
  {
   "cell_type": "code",
   "execution_count": 92,
   "metadata": {
    "scrolled": true
   },
   "outputs": [
    {
     "ename": "KeyboardInterrupt",
     "evalue": "",
     "output_type": "error",
     "traceback": [
      "\u001b[1;31m---------------------------------------------------------------------------\u001b[0m",
      "\u001b[1;31mKeyboardInterrupt\u001b[0m                         Traceback (most recent call last)",
      "\u001b[1;32m<ipython-input-92-a040a3c34300>\u001b[0m in \u001b[0;36m<module>\u001b[1;34m()\u001b[0m\n\u001b[0;32m      5\u001b[0m }\n\u001b[0;32m      6\u001b[0m \u001b[0mgs\u001b[0m \u001b[1;33m=\u001b[0m \u001b[0mGridSearchCV\u001b[0m\u001b[1;33m(\u001b[0m\u001b[0mGradientBoostingRegressor\u001b[0m\u001b[1;33m(\u001b[0m\u001b[1;33m)\u001b[0m\u001b[1;33m,\u001b[0m \u001b[0mparam_grid\u001b[0m\u001b[1;33m=\u001b[0m\u001b[0mparamz\u001b[0m\u001b[1;33m)\u001b[0m\u001b[1;33m\u001b[0m\u001b[0m\n\u001b[1;32m----> 7\u001b[1;33m \u001b[0mgs\u001b[0m\u001b[1;33m.\u001b[0m\u001b[0mfit\u001b[0m\u001b[1;33m(\u001b[0m\u001b[0mX_train_sc\u001b[0m\u001b[1;33m,\u001b[0m \u001b[0my_train\u001b[0m\u001b[1;33m)\u001b[0m\u001b[1;33m\u001b[0m\u001b[0m\n\u001b[0m",
      "\u001b[1;32mC:\\ProgramData\\Anaconda3\\lib\\site-packages\\sklearn\\model_selection\\_search.py\u001b[0m in \u001b[0;36mfit\u001b[1;34m(self, X, y, groups, **fit_params)\u001b[0m\n\u001b[0;32m    637\u001b[0m                                   error_score=self.error_score)\n\u001b[0;32m    638\u001b[0m           for parameters, (train, test) in product(candidate_params,\n\u001b[1;32m--> 639\u001b[1;33m                                                    cv.split(X, y, groups)))\n\u001b[0m\u001b[0;32m    640\u001b[0m \u001b[1;33m\u001b[0m\u001b[0m\n\u001b[0;32m    641\u001b[0m         \u001b[1;31m# if one choose to see train score, \"out\" will contain train score info\u001b[0m\u001b[1;33m\u001b[0m\u001b[1;33m\u001b[0m\u001b[0m\n",
      "\u001b[1;32mC:\\ProgramData\\Anaconda3\\lib\\site-packages\\sklearn\\externals\\joblib\\parallel.py\u001b[0m in \u001b[0;36m__call__\u001b[1;34m(self, iterable)\u001b[0m\n\u001b[0;32m    777\u001b[0m             \u001b[1;31m# was dispatched. In particular this covers the edge\u001b[0m\u001b[1;33m\u001b[0m\u001b[1;33m\u001b[0m\u001b[0m\n\u001b[0;32m    778\u001b[0m             \u001b[1;31m# case of Parallel used with an exhausted iterator.\u001b[0m\u001b[1;33m\u001b[0m\u001b[1;33m\u001b[0m\u001b[0m\n\u001b[1;32m--> 779\u001b[1;33m             \u001b[1;32mwhile\u001b[0m \u001b[0mself\u001b[0m\u001b[1;33m.\u001b[0m\u001b[0mdispatch_one_batch\u001b[0m\u001b[1;33m(\u001b[0m\u001b[0miterator\u001b[0m\u001b[1;33m)\u001b[0m\u001b[1;33m:\u001b[0m\u001b[1;33m\u001b[0m\u001b[0m\n\u001b[0m\u001b[0;32m    780\u001b[0m                 \u001b[0mself\u001b[0m\u001b[1;33m.\u001b[0m\u001b[0m_iterating\u001b[0m \u001b[1;33m=\u001b[0m \u001b[1;32mTrue\u001b[0m\u001b[1;33m\u001b[0m\u001b[0m\n\u001b[0;32m    781\u001b[0m             \u001b[1;32melse\u001b[0m\u001b[1;33m:\u001b[0m\u001b[1;33m\u001b[0m\u001b[0m\n",
      "\u001b[1;32mC:\\ProgramData\\Anaconda3\\lib\\site-packages\\sklearn\\externals\\joblib\\parallel.py\u001b[0m in \u001b[0;36mdispatch_one_batch\u001b[1;34m(self, iterator)\u001b[0m\n\u001b[0;32m    623\u001b[0m                 \u001b[1;32mreturn\u001b[0m \u001b[1;32mFalse\u001b[0m\u001b[1;33m\u001b[0m\u001b[0m\n\u001b[0;32m    624\u001b[0m             \u001b[1;32melse\u001b[0m\u001b[1;33m:\u001b[0m\u001b[1;33m\u001b[0m\u001b[0m\n\u001b[1;32m--> 625\u001b[1;33m                 \u001b[0mself\u001b[0m\u001b[1;33m.\u001b[0m\u001b[0m_dispatch\u001b[0m\u001b[1;33m(\u001b[0m\u001b[0mtasks\u001b[0m\u001b[1;33m)\u001b[0m\u001b[1;33m\u001b[0m\u001b[0m\n\u001b[0m\u001b[0;32m    626\u001b[0m                 \u001b[1;32mreturn\u001b[0m \u001b[1;32mTrue\u001b[0m\u001b[1;33m\u001b[0m\u001b[0m\n\u001b[0;32m    627\u001b[0m \u001b[1;33m\u001b[0m\u001b[0m\n",
      "\u001b[1;32mC:\\ProgramData\\Anaconda3\\lib\\site-packages\\sklearn\\externals\\joblib\\parallel.py\u001b[0m in \u001b[0;36m_dispatch\u001b[1;34m(self, batch)\u001b[0m\n\u001b[0;32m    586\u001b[0m         \u001b[0mdispatch_timestamp\u001b[0m \u001b[1;33m=\u001b[0m \u001b[0mtime\u001b[0m\u001b[1;33m.\u001b[0m\u001b[0mtime\u001b[0m\u001b[1;33m(\u001b[0m\u001b[1;33m)\u001b[0m\u001b[1;33m\u001b[0m\u001b[0m\n\u001b[0;32m    587\u001b[0m         \u001b[0mcb\u001b[0m \u001b[1;33m=\u001b[0m \u001b[0mBatchCompletionCallBack\u001b[0m\u001b[1;33m(\u001b[0m\u001b[0mdispatch_timestamp\u001b[0m\u001b[1;33m,\u001b[0m \u001b[0mlen\u001b[0m\u001b[1;33m(\u001b[0m\u001b[0mbatch\u001b[0m\u001b[1;33m)\u001b[0m\u001b[1;33m,\u001b[0m \u001b[0mself\u001b[0m\u001b[1;33m)\u001b[0m\u001b[1;33m\u001b[0m\u001b[0m\n\u001b[1;32m--> 588\u001b[1;33m         \u001b[0mjob\u001b[0m \u001b[1;33m=\u001b[0m \u001b[0mself\u001b[0m\u001b[1;33m.\u001b[0m\u001b[0m_backend\u001b[0m\u001b[1;33m.\u001b[0m\u001b[0mapply_async\u001b[0m\u001b[1;33m(\u001b[0m\u001b[0mbatch\u001b[0m\u001b[1;33m,\u001b[0m \u001b[0mcallback\u001b[0m\u001b[1;33m=\u001b[0m\u001b[0mcb\u001b[0m\u001b[1;33m)\u001b[0m\u001b[1;33m\u001b[0m\u001b[0m\n\u001b[0m\u001b[0;32m    589\u001b[0m         \u001b[0mself\u001b[0m\u001b[1;33m.\u001b[0m\u001b[0m_jobs\u001b[0m\u001b[1;33m.\u001b[0m\u001b[0mappend\u001b[0m\u001b[1;33m(\u001b[0m\u001b[0mjob\u001b[0m\u001b[1;33m)\u001b[0m\u001b[1;33m\u001b[0m\u001b[0m\n\u001b[0;32m    590\u001b[0m \u001b[1;33m\u001b[0m\u001b[0m\n",
      "\u001b[1;32mC:\\ProgramData\\Anaconda3\\lib\\site-packages\\sklearn\\externals\\joblib\\_parallel_backends.py\u001b[0m in \u001b[0;36mapply_async\u001b[1;34m(self, func, callback)\u001b[0m\n\u001b[0;32m    109\u001b[0m     \u001b[1;32mdef\u001b[0m \u001b[0mapply_async\u001b[0m\u001b[1;33m(\u001b[0m\u001b[0mself\u001b[0m\u001b[1;33m,\u001b[0m \u001b[0mfunc\u001b[0m\u001b[1;33m,\u001b[0m \u001b[0mcallback\u001b[0m\u001b[1;33m=\u001b[0m\u001b[1;32mNone\u001b[0m\u001b[1;33m)\u001b[0m\u001b[1;33m:\u001b[0m\u001b[1;33m\u001b[0m\u001b[0m\n\u001b[0;32m    110\u001b[0m         \u001b[1;34m\"\"\"Schedule a func to be run\"\"\"\u001b[0m\u001b[1;33m\u001b[0m\u001b[0m\n\u001b[1;32m--> 111\u001b[1;33m         \u001b[0mresult\u001b[0m \u001b[1;33m=\u001b[0m \u001b[0mImmediateResult\u001b[0m\u001b[1;33m(\u001b[0m\u001b[0mfunc\u001b[0m\u001b[1;33m)\u001b[0m\u001b[1;33m\u001b[0m\u001b[0m\n\u001b[0m\u001b[0;32m    112\u001b[0m         \u001b[1;32mif\u001b[0m \u001b[0mcallback\u001b[0m\u001b[1;33m:\u001b[0m\u001b[1;33m\u001b[0m\u001b[0m\n\u001b[0;32m    113\u001b[0m             \u001b[0mcallback\u001b[0m\u001b[1;33m(\u001b[0m\u001b[0mresult\u001b[0m\u001b[1;33m)\u001b[0m\u001b[1;33m\u001b[0m\u001b[0m\n",
      "\u001b[1;32mC:\\ProgramData\\Anaconda3\\lib\\site-packages\\sklearn\\externals\\joblib\\_parallel_backends.py\u001b[0m in \u001b[0;36m__init__\u001b[1;34m(self, batch)\u001b[0m\n\u001b[0;32m    330\u001b[0m         \u001b[1;31m# Don't delay the application, to avoid keeping the input\u001b[0m\u001b[1;33m\u001b[0m\u001b[1;33m\u001b[0m\u001b[0m\n\u001b[0;32m    331\u001b[0m         \u001b[1;31m# arguments in memory\u001b[0m\u001b[1;33m\u001b[0m\u001b[1;33m\u001b[0m\u001b[0m\n\u001b[1;32m--> 332\u001b[1;33m         \u001b[0mself\u001b[0m\u001b[1;33m.\u001b[0m\u001b[0mresults\u001b[0m \u001b[1;33m=\u001b[0m \u001b[0mbatch\u001b[0m\u001b[1;33m(\u001b[0m\u001b[1;33m)\u001b[0m\u001b[1;33m\u001b[0m\u001b[0m\n\u001b[0m\u001b[0;32m    333\u001b[0m \u001b[1;33m\u001b[0m\u001b[0m\n\u001b[0;32m    334\u001b[0m     \u001b[1;32mdef\u001b[0m \u001b[0mget\u001b[0m\u001b[1;33m(\u001b[0m\u001b[0mself\u001b[0m\u001b[1;33m)\u001b[0m\u001b[1;33m:\u001b[0m\u001b[1;33m\u001b[0m\u001b[0m\n",
      "\u001b[1;32mC:\\ProgramData\\Anaconda3\\lib\\site-packages\\sklearn\\externals\\joblib\\parallel.py\u001b[0m in \u001b[0;36m__call__\u001b[1;34m(self)\u001b[0m\n\u001b[0;32m    129\u001b[0m \u001b[1;33m\u001b[0m\u001b[0m\n\u001b[0;32m    130\u001b[0m     \u001b[1;32mdef\u001b[0m \u001b[0m__call__\u001b[0m\u001b[1;33m(\u001b[0m\u001b[0mself\u001b[0m\u001b[1;33m)\u001b[0m\u001b[1;33m:\u001b[0m\u001b[1;33m\u001b[0m\u001b[0m\n\u001b[1;32m--> 131\u001b[1;33m         \u001b[1;32mreturn\u001b[0m \u001b[1;33m[\u001b[0m\u001b[0mfunc\u001b[0m\u001b[1;33m(\u001b[0m\u001b[1;33m*\u001b[0m\u001b[0margs\u001b[0m\u001b[1;33m,\u001b[0m \u001b[1;33m**\u001b[0m\u001b[0mkwargs\u001b[0m\u001b[1;33m)\u001b[0m \u001b[1;32mfor\u001b[0m \u001b[0mfunc\u001b[0m\u001b[1;33m,\u001b[0m \u001b[0margs\u001b[0m\u001b[1;33m,\u001b[0m \u001b[0mkwargs\u001b[0m \u001b[1;32min\u001b[0m \u001b[0mself\u001b[0m\u001b[1;33m.\u001b[0m\u001b[0mitems\u001b[0m\u001b[1;33m]\u001b[0m\u001b[1;33m\u001b[0m\u001b[0m\n\u001b[0m\u001b[0;32m    132\u001b[0m \u001b[1;33m\u001b[0m\u001b[0m\n\u001b[0;32m    133\u001b[0m     \u001b[1;32mdef\u001b[0m \u001b[0m__len__\u001b[0m\u001b[1;33m(\u001b[0m\u001b[0mself\u001b[0m\u001b[1;33m)\u001b[0m\u001b[1;33m:\u001b[0m\u001b[1;33m\u001b[0m\u001b[0m\n",
      "\u001b[1;32mC:\\ProgramData\\Anaconda3\\lib\\site-packages\\sklearn\\externals\\joblib\\parallel.py\u001b[0m in \u001b[0;36m<listcomp>\u001b[1;34m(.0)\u001b[0m\n\u001b[0;32m    129\u001b[0m \u001b[1;33m\u001b[0m\u001b[0m\n\u001b[0;32m    130\u001b[0m     \u001b[1;32mdef\u001b[0m \u001b[0m__call__\u001b[0m\u001b[1;33m(\u001b[0m\u001b[0mself\u001b[0m\u001b[1;33m)\u001b[0m\u001b[1;33m:\u001b[0m\u001b[1;33m\u001b[0m\u001b[0m\n\u001b[1;32m--> 131\u001b[1;33m         \u001b[1;32mreturn\u001b[0m \u001b[1;33m[\u001b[0m\u001b[0mfunc\u001b[0m\u001b[1;33m(\u001b[0m\u001b[1;33m*\u001b[0m\u001b[0margs\u001b[0m\u001b[1;33m,\u001b[0m \u001b[1;33m**\u001b[0m\u001b[0mkwargs\u001b[0m\u001b[1;33m)\u001b[0m \u001b[1;32mfor\u001b[0m \u001b[0mfunc\u001b[0m\u001b[1;33m,\u001b[0m \u001b[0margs\u001b[0m\u001b[1;33m,\u001b[0m \u001b[0mkwargs\u001b[0m \u001b[1;32min\u001b[0m \u001b[0mself\u001b[0m\u001b[1;33m.\u001b[0m\u001b[0mitems\u001b[0m\u001b[1;33m]\u001b[0m\u001b[1;33m\u001b[0m\u001b[0m\n\u001b[0m\u001b[0;32m    132\u001b[0m \u001b[1;33m\u001b[0m\u001b[0m\n\u001b[0;32m    133\u001b[0m     \u001b[1;32mdef\u001b[0m \u001b[0m__len__\u001b[0m\u001b[1;33m(\u001b[0m\u001b[0mself\u001b[0m\u001b[1;33m)\u001b[0m\u001b[1;33m:\u001b[0m\u001b[1;33m\u001b[0m\u001b[0m\n",
      "\u001b[1;32mC:\\ProgramData\\Anaconda3\\lib\\site-packages\\sklearn\\model_selection\\_validation.py\u001b[0m in \u001b[0;36m_fit_and_score\u001b[1;34m(estimator, X, y, scorer, train, test, verbose, parameters, fit_params, return_train_score, return_parameters, return_n_test_samples, return_times, error_score)\u001b[0m\n\u001b[0;32m    456\u001b[0m             \u001b[0mestimator\u001b[0m\u001b[1;33m.\u001b[0m\u001b[0mfit\u001b[0m\u001b[1;33m(\u001b[0m\u001b[0mX_train\u001b[0m\u001b[1;33m,\u001b[0m \u001b[1;33m**\u001b[0m\u001b[0mfit_params\u001b[0m\u001b[1;33m)\u001b[0m\u001b[1;33m\u001b[0m\u001b[0m\n\u001b[0;32m    457\u001b[0m         \u001b[1;32melse\u001b[0m\u001b[1;33m:\u001b[0m\u001b[1;33m\u001b[0m\u001b[0m\n\u001b[1;32m--> 458\u001b[1;33m             \u001b[0mestimator\u001b[0m\u001b[1;33m.\u001b[0m\u001b[0mfit\u001b[0m\u001b[1;33m(\u001b[0m\u001b[0mX_train\u001b[0m\u001b[1;33m,\u001b[0m \u001b[0my_train\u001b[0m\u001b[1;33m,\u001b[0m \u001b[1;33m**\u001b[0m\u001b[0mfit_params\u001b[0m\u001b[1;33m)\u001b[0m\u001b[1;33m\u001b[0m\u001b[0m\n\u001b[0m\u001b[0;32m    459\u001b[0m \u001b[1;33m\u001b[0m\u001b[0m\n\u001b[0;32m    460\u001b[0m     \u001b[1;32mexcept\u001b[0m \u001b[0mException\u001b[0m \u001b[1;32mas\u001b[0m \u001b[0me\u001b[0m\u001b[1;33m:\u001b[0m\u001b[1;33m\u001b[0m\u001b[0m\n",
      "\u001b[1;32mC:\\ProgramData\\Anaconda3\\lib\\site-packages\\sklearn\\ensemble\\gradient_boosting.py\u001b[0m in \u001b[0;36mfit\u001b[1;34m(self, X, y, sample_weight, monitor)\u001b[0m\n\u001b[0;32m   1032\u001b[0m         \u001b[1;31m# fit the boosting stages\u001b[0m\u001b[1;33m\u001b[0m\u001b[1;33m\u001b[0m\u001b[0m\n\u001b[0;32m   1033\u001b[0m         n_stages = self._fit_stages(X, y, y_pred, sample_weight, random_state,\n\u001b[1;32m-> 1034\u001b[1;33m                                     begin_at_stage, monitor, X_idx_sorted)\n\u001b[0m\u001b[0;32m   1035\u001b[0m         \u001b[1;31m# change shape of arrays after fit (early-stopping or additional ests)\u001b[0m\u001b[1;33m\u001b[0m\u001b[1;33m\u001b[0m\u001b[0m\n\u001b[0;32m   1036\u001b[0m         \u001b[1;32mif\u001b[0m \u001b[0mn_stages\u001b[0m \u001b[1;33m!=\u001b[0m \u001b[0mself\u001b[0m\u001b[1;33m.\u001b[0m\u001b[0mestimators_\u001b[0m\u001b[1;33m.\u001b[0m\u001b[0mshape\u001b[0m\u001b[1;33m[\u001b[0m\u001b[1;36m0\u001b[0m\u001b[1;33m]\u001b[0m\u001b[1;33m:\u001b[0m\u001b[1;33m\u001b[0m\u001b[0m\n",
      "\u001b[1;32mC:\\ProgramData\\Anaconda3\\lib\\site-packages\\sklearn\\ensemble\\gradient_boosting.py\u001b[0m in \u001b[0;36m_fit_stages\u001b[1;34m(self, X, y, y_pred, sample_weight, random_state, begin_at_stage, monitor, X_idx_sorted)\u001b[0m\n\u001b[0;32m   1087\u001b[0m             y_pred = self._fit_stage(i, X, y, y_pred, sample_weight,\n\u001b[0;32m   1088\u001b[0m                                      \u001b[0msample_mask\u001b[0m\u001b[1;33m,\u001b[0m \u001b[0mrandom_state\u001b[0m\u001b[1;33m,\u001b[0m \u001b[0mX_idx_sorted\u001b[0m\u001b[1;33m,\u001b[0m\u001b[1;33m\u001b[0m\u001b[0m\n\u001b[1;32m-> 1089\u001b[1;33m                                      X_csc, X_csr)\n\u001b[0m\u001b[0;32m   1090\u001b[0m \u001b[1;33m\u001b[0m\u001b[0m\n\u001b[0;32m   1091\u001b[0m             \u001b[1;31m# track deviance (= loss)\u001b[0m\u001b[1;33m\u001b[0m\u001b[1;33m\u001b[0m\u001b[0m\n",
      "\u001b[1;32mC:\\ProgramData\\Anaconda3\\lib\\site-packages\\sklearn\\ensemble\\gradient_boosting.py\u001b[0m in \u001b[0;36m_fit_stage\u001b[1;34m(self, i, X, y, y_pred, sample_weight, sample_mask, random_state, X_idx_sorted, X_csc, X_csr)\u001b[0m\n\u001b[0;32m    786\u001b[0m             \u001b[1;32melse\u001b[0m\u001b[1;33m:\u001b[0m\u001b[1;33m\u001b[0m\u001b[0m\n\u001b[0;32m    787\u001b[0m                 tree.fit(X, residual, sample_weight=sample_weight,\n\u001b[1;32m--> 788\u001b[1;33m                          check_input=False, X_idx_sorted=X_idx_sorted)\n\u001b[0m\u001b[0;32m    789\u001b[0m \u001b[1;33m\u001b[0m\u001b[0m\n\u001b[0;32m    790\u001b[0m             \u001b[1;31m# update tree leaves\u001b[0m\u001b[1;33m\u001b[0m\u001b[1;33m\u001b[0m\u001b[0m\n",
      "\u001b[1;32mC:\\ProgramData\\Anaconda3\\lib\\site-packages\\sklearn\\tree\\tree.py\u001b[0m in \u001b[0;36mfit\u001b[1;34m(self, X, y, sample_weight, check_input, X_idx_sorted)\u001b[0m\n\u001b[0;32m   1122\u001b[0m             \u001b[0msample_weight\u001b[0m\u001b[1;33m=\u001b[0m\u001b[0msample_weight\u001b[0m\u001b[1;33m,\u001b[0m\u001b[1;33m\u001b[0m\u001b[0m\n\u001b[0;32m   1123\u001b[0m             \u001b[0mcheck_input\u001b[0m\u001b[1;33m=\u001b[0m\u001b[0mcheck_input\u001b[0m\u001b[1;33m,\u001b[0m\u001b[1;33m\u001b[0m\u001b[0m\n\u001b[1;32m-> 1124\u001b[1;33m             X_idx_sorted=X_idx_sorted)\n\u001b[0m\u001b[0;32m   1125\u001b[0m         \u001b[1;32mreturn\u001b[0m \u001b[0mself\u001b[0m\u001b[1;33m\u001b[0m\u001b[0m\n\u001b[0;32m   1126\u001b[0m \u001b[1;33m\u001b[0m\u001b[0m\n",
      "\u001b[1;32mC:\\ProgramData\\Anaconda3\\lib\\site-packages\\sklearn\\tree\\tree.py\u001b[0m in \u001b[0;36mfit\u001b[1;34m(self, X, y, sample_weight, check_input, X_idx_sorted)\u001b[0m\n\u001b[0;32m    360\u001b[0m                                            min_impurity_split)\n\u001b[0;32m    361\u001b[0m \u001b[1;33m\u001b[0m\u001b[0m\n\u001b[1;32m--> 362\u001b[1;33m         \u001b[0mbuilder\u001b[0m\u001b[1;33m.\u001b[0m\u001b[0mbuild\u001b[0m\u001b[1;33m(\u001b[0m\u001b[0mself\u001b[0m\u001b[1;33m.\u001b[0m\u001b[0mtree_\u001b[0m\u001b[1;33m,\u001b[0m \u001b[0mX\u001b[0m\u001b[1;33m,\u001b[0m \u001b[0my\u001b[0m\u001b[1;33m,\u001b[0m \u001b[0msample_weight\u001b[0m\u001b[1;33m,\u001b[0m \u001b[0mX_idx_sorted\u001b[0m\u001b[1;33m)\u001b[0m\u001b[1;33m\u001b[0m\u001b[0m\n\u001b[0m\u001b[0;32m    363\u001b[0m \u001b[1;33m\u001b[0m\u001b[0m\n\u001b[0;32m    364\u001b[0m         \u001b[1;32mif\u001b[0m \u001b[0mself\u001b[0m\u001b[1;33m.\u001b[0m\u001b[0mn_outputs_\u001b[0m \u001b[1;33m==\u001b[0m \u001b[1;36m1\u001b[0m\u001b[1;33m:\u001b[0m\u001b[1;33m\u001b[0m\u001b[0m\n",
      "\u001b[1;31mKeyboardInterrupt\u001b[0m: "
     ]
    }
   ],
   "source": [
    "paramz = {\n",
    "    'n_estimators': [180, 225], \n",
    "    'subsample' : [.9, .8, .7],\n",
    "    'max_depth': [3, 5, 7]\n",
    "}\n",
    "gs = GridSearchCV(GradientBoostingRegressor(), param_grid=paramz)\n",
    "gs.fit(X_train_sc, y_train)"
   ]
  },
  {
   "cell_type": "code",
   "execution_count": null,
   "metadata": {},
   "outputs": [],
   "source": [
    "gs.score(X_test_sc, y_test)\n",
    "#Score to beat: .5412844284274065 with best params:\n",
    "#{'max_depth': 3, 'n_estimators': 180, 'subsample': 0.9}"
   ]
  },
  {
   "cell_type": "code",
   "execution_count": null,
   "metadata": {},
   "outputs": [],
   "source": [
    "gs.best_params_"
   ]
  },
  {
   "cell_type": "code",
   "execution_count": null,
   "metadata": {},
   "outputs": [],
   "source": []
  },
  {
   "cell_type": "code",
   "execution_count": 107,
   "metadata": {
    "collapsed": true
   },
   "outputs": [
    {
     "name": "stdout",
     "output_type": "stream",
     "text": [
      "   exclude: caption, score: 0.4506522768603689\n",
      "   exclude: definition, score: 0.456403898513306\n",
      "   exclude: duration, score: 0.4193551881956773\n",
      "   exclude: licensedContent, score: 0.3945045071681035\n",
      "   exclude: regionRestriction, score: 0.4360957787223314\n",
      "   exclude: contentRating, score: 0.44014210931131204\n",
      "   exclude: year, score: 0.40663308845559887\n",
      "   exclude: month_day, score: 0.46881973669928423\n",
      "   exclude: year_day, score: 0.43834407130779074\n",
      "   exclude: week_day, score: 0.44838234053842596\n",
      "   exclude: week, score: 0.4548864600965362\n",
      "   exclude: description_sentiment, score: 0.4571258803425873\n",
      "   exclude: description_wordcount, score: 0.44485611429061955\n",
      "   exclude: tags_sentiment, score: 0.45587569316122256\n",
      "   exclude: tags_wordcount, score: 0.44854450616631614\n",
      "   exclude: title_sentiment, score: 0.4272494501419024\n",
      "   exclude: title_wordcount, score: 0.4466738965717165\n",
      "   exclude: title_featuring, score: 0.42243292704912416\n",
      "   exclude: intitle_a, score: 0.45618789689444217\n",
      "   exclude: intitle_b, score: 0.45249422745155654\n",
      "   exclude: intitle_c, score: 0.4440295040938731\n",
      "   exclude: intitle_d, score: 0.4484594075877827\n",
      "   exclude: intitle_e, score: 0.4587868813223017\n",
      "   exclude: intitle_f, score: 0.4286768734001304\n",
      "   exclude: intitle_g, score: 0.43760673216252\n",
      "   exclude: intitle_h, score: 0.4568019350864315\n",
      "   exclude: intitle_i, score: 0.4432446736692214\n",
      "   exclude: intitle_j, score: 0.4534338786007909\n",
      "   exclude: intitle_k, score: 0.4536761432043003\n",
      "   exclude: intitle_l, score: 0.46208267153119886\n",
      "   exclude: intitle_m, score: 0.44528672676149705\n",
      "   exclude: intitle_n, score: 0.46890675508000174\n",
      "   exclude: intitle_o, score: 0.46765129355434043\n",
      "   exclude: intitle_p, score: 0.4689411142619846\n",
      "   exclude: intitle_q, score: 0.46257801789917186\n",
      "   exclude: intitle_r, score: 0.4212447798203651\n",
      "   exclude: intitle_s, score: 0.45164967560892877\n",
      "   exclude: intitle_t, score: 0.43596598671772024\n",
      "   exclude: intitle_u, score: 0.4520239187421763\n",
      "   exclude: intitle_v, score: 0.4411369878949123\n",
      "   exclude: intitle_w, score: 0.46373874325650005\n",
      "   exclude: intitle_x, score: 0.4433347907052235\n",
      "   exclude: intitle_y, score: 0.43845806700873935\n",
      "   exclude: intitle_z, score: 0.4373253128315465\n",
      "   exclude: title_length, score: 0.46179083330040305\n"
     ]
    }
   ],
   "source": [
    "\"\"\"for colz in cols_include_initial:\n",
    "    cols_include_final = [col for col in df_main.columns if col not in cols_exclude and col != colz]\n",
    "\n",
    "    X = df_main.loc[:, cols_include_final]\n",
    "\n",
    "    X_train, X_test, y_train, y_test=train_test_split(X, y)\n",
    "    ss = StandardScaler()\n",
    "    X_train_sc = ss.fit_transform(X_train)\n",
    "    X_test_sc = ss.transform(X_test)\n",
    "\n",
    "    model = GradientBoostingRegressor()\n",
    "    model.fit(X_train_sc, y_train)\n",
    "    _this_score = model.score(X_test_sc, y_test)\n",
    "    print('   exclude: {}, score: {}'.format(colz,_this_score ))\n",
    "    if _this_score<base_score:\n",
    "        best_to_remove.append(colz)\"\"\"\n",
    "\"\"\"Removing best to remove actually makes the model worse.\"\"\""
   ]
  },
  {
   "cell_type": "code",
   "execution_count": 63,
   "metadata": {},
   "outputs": [
    {
     "data": {
      "text/plain": [
       "<seaborn.axisgrid.FacetGrid at 0x1c7d652c390>"
      ]
     },
     "execution_count": 63,
     "metadata": {},
     "output_type": "execute_result"
    },
    {
     "data": {
      "image/png": "[encoded data removed]",
      "text/plain": [
       "<Figure size 360x360 with 1 Axes>"
      ]
     },
     "metadata": {},
     "output_type": "display_data"
    }
   ],
   "source": [
    "df_residuals = pd.DataFrame(y_test)\n",
    "\n",
    "df_residuals['predicted'] = gs.predict(X_test_sc)\n",
    "df_residuals['residuals'] = df_residuals.predicted - df_residuals.view_log \n",
    "\n",
    "sns.lmplot('view_log', 'predicted', data=df_residuals)"
   ]
  },
  {
   "cell_type": "code",
   "execution_count": null,
   "metadata": {},
   "outputs": [],
   "source": []
  },
  {
   "cell_type": "code",
   "execution_count": 65,
   "metadata": {},
   "outputs": [
    {
     "name": "stderr",
     "output_type": "stream",
     "text": [
      "C:\\ProgramData\\Anaconda3\\lib\\site-packages\\ipykernel_launcher.py:4: SettingWithCopyWarning: \n",
      "A value is trying to be set on a copy of a slice from a DataFrame.\n",
      "Try using .loc[row_indexer,col_indexer] = value instead\n",
      "\n",
      "See the caveats in the documentation: http://pandas.pydata.org/pandas-docs/stable/indexing.html#indexing-view-versus-copy\n",
      "  after removing the cwd from sys.path.\n"
     ]
    },
    {
     "data": {
      "text/html": [
       "<div>\n",
       "<style scoped>\n",
       "    .dataframe tbody tr th:only-of-type {\n",
       "        vertical-align: middle;\n",
       "    }\n",
       "\n",
       "    .dataframe tbody tr th {\n",
       "        vertical-align: top;\n",
       "    }\n",
       "\n",
       "    .dataframe thead th {\n",
       "        text-align: right;\n",
       "    }\n",
       "</style>\n",
       "<table border=\"1\" class=\"dataframe\">\n",
       "  <thead>\n",
       "    <tr style=\"text-align: right;\">\n",
       "      <th></th>\n",
       "      <th>title</th>\n",
       "      <th>viewCount</th>\n",
       "      <th>predicted</th>\n",
       "    </tr>\n",
       "  </thead>\n",
       "  <tbody>\n",
       "    <tr>\n",
       "      <th>7479</th>\n",
       "      <td>Luis Fonsi - Despacito ft. Daddy Yankee</td>\n",
       "      <td>5555912002</td>\n",
       "      <td>1.046082e+08</td>\n",
       "    </tr>\n",
       "    <tr>\n",
       "      <th>4268</th>\n",
       "      <td>Ed Sheeran - Shape of You [Official Video]</td>\n",
       "      <td>3827104659</td>\n",
       "      <td>6.046835e+07</td>\n",
       "    </tr>\n",
       "    <tr>\n",
       "      <th>7190</th>\n",
       "      <td>Wiz Khalifa - See You Again ft. Charlie Puth [...</td>\n",
       "      <td>3788737518</td>\n",
       "      <td>2.874485e+08</td>\n",
       "    </tr>\n",
       "    <tr>\n",
       "      <th>5540</th>\n",
       "      <td>Mark Ronson - Uptown Funk ft. Bruno Mars</td>\n",
       "      <td>3256917992</td>\n",
       "      <td>9.979310e+07</td>\n",
       "    </tr>\n",
       "    <tr>\n",
       "      <th>3634</th>\n",
       "      <td>PSY - GANGNAM STYLE(강남스타일) M/V</td>\n",
       "      <td>3218413082</td>\n",
       "      <td>2.557728e+07</td>\n",
       "    </tr>\n",
       "    <tr>\n",
       "      <th>569</th>\n",
       "      <td>Justin Bieber - Sorry (PURPOSE : The Movement)</td>\n",
       "      <td>3014897224</td>\n",
       "      <td>8.657425e+07</td>\n",
       "    </tr>\n",
       "    <tr>\n",
       "      <th>7417</th>\n",
       "      <td>Maroon 5 - Sugar</td>\n",
       "      <td>2756205542</td>\n",
       "      <td>1.209376e+07</td>\n",
       "    </tr>\n",
       "    <tr>\n",
       "      <th>7514</th>\n",
       "      <td>Taylor Swift - Shake It Off</td>\n",
       "      <td>2650920924</td>\n",
       "      <td>5.626524e+07</td>\n",
       "    </tr>\n",
       "    <tr>\n",
       "      <th>5506</th>\n",
       "      <td>Katy Perry - Roar (Official)</td>\n",
       "      <td>2638406673</td>\n",
       "      <td>8.192447e+07</td>\n",
       "    </tr>\n",
       "    <tr>\n",
       "      <th>627</th>\n",
       "      <td>Enrique Iglesias - Bailando (Español) ft. Desc...</td>\n",
       "      <td>2582945265</td>\n",
       "      <td>6.961266e+07</td>\n",
       "    </tr>\n",
       "    <tr>\n",
       "      <th>5532</th>\n",
       "      <td>Ed Sheeran - Thinking Out Loud [Official Video]</td>\n",
       "      <td>2496797028</td>\n",
       "      <td>2.724749e+07</td>\n",
       "    </tr>\n",
       "    <tr>\n",
       "      <th>3220</th>\n",
       "      <td>Katy Perry - Dark Horse (Official) ft. Juicy J</td>\n",
       "      <td>2429899549</td>\n",
       "      <td>1.152618e+08</td>\n",
       "    </tr>\n",
       "    <tr>\n",
       "      <th>7602</th>\n",
       "      <td>Taylor Swift - Blank Space</td>\n",
       "      <td>2343876199</td>\n",
       "      <td>3.594035e+07</td>\n",
       "    </tr>\n",
       "    <tr>\n",
       "      <th>7555</th>\n",
       "      <td>Shakira - Chantaje ft. Maluma</td>\n",
       "      <td>2255261833</td>\n",
       "      <td>2.419553e+08</td>\n",
       "    </tr>\n",
       "    <tr>\n",
       "      <th>4251</th>\n",
       "      <td>Meghan Trainor - All About That Bass</td>\n",
       "      <td>2227064426</td>\n",
       "      <td>4.226658e+07</td>\n",
       "    </tr>\n",
       "    <tr>\n",
       "      <th>7214</th>\n",
       "      <td>Calvin Harris - This Is What You Came For (Off...</td>\n",
       "      <td>2097510786</td>\n",
       "      <td>2.911382e+08</td>\n",
       "    </tr>\n",
       "    <tr>\n",
       "      <th>7425</th>\n",
       "      <td>Passenger | Let Her Go (Official Video)</td>\n",
       "      <td>2068337176</td>\n",
       "      <td>5.152433e+07</td>\n",
       "    </tr>\n",
       "    <tr>\n",
       "      <th>7516</th>\n",
       "      <td>Shakira - Waka Waka (This Time for Africa) (Th...</td>\n",
       "      <td>2041632211</td>\n",
       "      <td>1.112012e+08</td>\n",
       "    </tr>\n",
       "    <tr>\n",
       "      <th>3208</th>\n",
       "      <td>J Balvin, Willy William - Mi Gente (Official V...</td>\n",
       "      <td>2041493278</td>\n",
       "      <td>7.301133e+07</td>\n",
       "    </tr>\n",
       "    <tr>\n",
       "      <th>7531</th>\n",
       "      <td>Justin Bieber - Baby ft. Ludacris</td>\n",
       "      <td>1985152808</td>\n",
       "      <td>8.067458e+07</td>\n",
       "    </tr>\n",
       "    <tr>\n",
       "      <th>7427</th>\n",
       "      <td>Alan Walker - Faded</td>\n",
       "      <td>1975021362</td>\n",
       "      <td>6.543827e+07</td>\n",
       "    </tr>\n",
       "    <tr>\n",
       "      <th>7174</th>\n",
       "      <td>Justin Bieber - What Do You Mean?</td>\n",
       "      <td>1944265383</td>\n",
       "      <td>7.765864e+07</td>\n",
       "    </tr>\n",
       "    <tr>\n",
       "      <th>6846</th>\n",
       "      <td>Charlie Puth - We Don't Talk Anymore (feat. Se...</td>\n",
       "      <td>1935955368</td>\n",
       "      <td>1.304066e+08</td>\n",
       "    </tr>\n",
       "    <tr>\n",
       "      <th>8637</th>\n",
       "      <td>Fifth Harmony - Work from Home ft. Ty Dolla $ign</td>\n",
       "      <td>1919599269</td>\n",
       "      <td>1.292850e+08</td>\n",
       "    </tr>\n",
       "    <tr>\n",
       "      <th>7461</th>\n",
       "      <td>Sia - Chandelier (Official Video)</td>\n",
       "      <td>1910731681</td>\n",
       "      <td>1.179722e+08</td>\n",
       "    </tr>\n",
       "    <tr>\n",
       "      <th>7164</th>\n",
       "      <td>Ellie Goulding - Love Me Like You Do (Official...</td>\n",
       "      <td>1802662468</td>\n",
       "      <td>4.377387e+07</td>\n",
       "    </tr>\n",
       "    <tr>\n",
       "      <th>7527</th>\n",
       "      <td>Avicii - Wake Me Up (Official Video)</td>\n",
       "      <td>1673921749</td>\n",
       "      <td>2.687231e+07</td>\n",
       "    </tr>\n",
       "    <tr>\n",
       "      <th>7434</th>\n",
       "      <td>Luis Fonsi, Demi Lovato - Échame La Culpa</td>\n",
       "      <td>1619227144</td>\n",
       "      <td>4.669596e+07</td>\n",
       "    </tr>\n",
       "    <tr>\n",
       "      <th>4319</th>\n",
       "      <td>Fifth Harmony - Worth It ft. Kid Ink</td>\n",
       "      <td>1617220892</td>\n",
       "      <td>1.331763e+08</td>\n",
       "    </tr>\n",
       "    <tr>\n",
       "      <th>5567</th>\n",
       "      <td>Eminem - Love The Way You Lie ft. Rihanna</td>\n",
       "      <td>1607500199</td>\n",
       "      <td>9.414507e+07</td>\n",
       "    </tr>\n",
       "    <tr>\n",
       "      <th>...</th>\n",
       "      <td>...</td>\n",
       "      <td>...</td>\n",
       "      <td>...</td>\n",
       "    </tr>\n",
       "    <tr>\n",
       "      <th>689</th>\n",
       "      <td>Britney Spears - I'm A Slave 4 U</td>\n",
       "      <td>105422444</td>\n",
       "      <td>2.852554e+07</td>\n",
       "    </tr>\n",
       "    <tr>\n",
       "      <th>7907</th>\n",
       "      <td>Pantera - Walk (Official Video)</td>\n",
       "      <td>105391869</td>\n",
       "      <td>6.137038e+07</td>\n",
       "    </tr>\n",
       "    <tr>\n",
       "      <th>4331</th>\n",
       "      <td>Boney M - Rasputin</td>\n",
       "      <td>105231093</td>\n",
       "      <td>3.663589e+06</td>\n",
       "    </tr>\n",
       "    <tr>\n",
       "      <th>5006</th>\n",
       "      <td>MC Vitão feat. Dennis DJ - Olha o Gás (KondZilla)</td>\n",
       "      <td>105228657</td>\n",
       "      <td>1.106544e+07</td>\n",
       "    </tr>\n",
       "    <tr>\n",
       "      <th>419</th>\n",
       "      <td>Juan Magan, Belinda, Manuel Turizo, Snova, B-C...</td>\n",
       "      <td>105218524</td>\n",
       "      <td>1.267498e+07</td>\n",
       "    </tr>\n",
       "    <tr>\n",
       "      <th>5519</th>\n",
       "      <td>Mike Perry - The Ocean ft. Shy Martin</td>\n",
       "      <td>105022999</td>\n",
       "      <td>2.971170e+07</td>\n",
       "    </tr>\n",
       "    <tr>\n",
       "      <th>5451</th>\n",
       "      <td>米津玄師 MV「ピースサイン」Kenshi Yonezu / Peace Sign</td>\n",
       "      <td>104756642</td>\n",
       "      <td>1.725150e+07</td>\n",
       "    </tr>\n",
       "    <tr>\n",
       "      <th>6113</th>\n",
       "      <td>R. Kelly - Same Girl</td>\n",
       "      <td>104626707</td>\n",
       "      <td>5.510225e+07</td>\n",
       "    </tr>\n",
       "    <tr>\n",
       "      <th>4933</th>\n",
       "      <td>Cia. SALT - Quero Conhecer Jesus (Cover Alessa...</td>\n",
       "      <td>104487992</td>\n",
       "      <td>2.080876e+07</td>\n",
       "    </tr>\n",
       "    <tr>\n",
       "      <th>5465</th>\n",
       "      <td>Red Velvet 레드벨벳 '피카부 (Peek-A-Boo)' MV</td>\n",
       "      <td>104447825</td>\n",
       "      <td>9.117626e+06</td>\n",
       "    </tr>\n",
       "    <tr>\n",
       "      <th>1545</th>\n",
       "      <td>Takagi &amp; Ketra - Amore e Capoeira ft. Giusy Fe...</td>\n",
       "      <td>104190060</td>\n",
       "      <td>7.968755e+07</td>\n",
       "    </tr>\n",
       "    <tr>\n",
       "      <th>3265</th>\n",
       "      <td>Jennifer Lopez featuring LL Cool J - All I Hav...</td>\n",
       "      <td>103975303</td>\n",
       "      <td>3.747690e+07</td>\n",
       "    </tr>\n",
       "    <tr>\n",
       "      <th>6790</th>\n",
       "      <td>T-Pain - Buy U A Drank (Shawty Snappin') ft. Y...</td>\n",
       "      <td>103859271</td>\n",
       "      <td>4.881779e+07</td>\n",
       "    </tr>\n",
       "    <tr>\n",
       "      <th>3306</th>\n",
       "      <td>Jessie J - Nobody's Perfect</td>\n",
       "      <td>103445230</td>\n",
       "      <td>3.479916e+07</td>\n",
       "    </tr>\n",
       "    <tr>\n",
       "      <th>8668</th>\n",
       "      <td>Lil Dicky - $ave Dat Money feat. Fetty Wap and...</td>\n",
       "      <td>103268539</td>\n",
       "      <td>1.560666e+07</td>\n",
       "    </tr>\n",
       "    <tr>\n",
       "      <th>4985</th>\n",
       "      <td>O Rappa - Anjos \"Pra Quem Tem Fé\"  (Webclipe) ...</td>\n",
       "      <td>102721066</td>\n",
       "      <td>8.650425e+06</td>\n",
       "    </tr>\n",
       "    <tr>\n",
       "      <th>7235</th>\n",
       "      <td>Stefflon Don, French Montana - Hurtin' Me (Off...</td>\n",
       "      <td>102543325</td>\n",
       "      <td>2.142641e+07</td>\n",
       "    </tr>\n",
       "    <tr>\n",
       "      <th>8615</th>\n",
       "      <td>Red Velvet 레드벨벳 '빨간 맛 (Red Flavor)' MV</td>\n",
       "      <td>102499330</td>\n",
       "      <td>5.406729e+06</td>\n",
       "    </tr>\n",
       "    <tr>\n",
       "      <th>8675</th>\n",
       "      <td>Ed Sheeran - Small Bump [Official Video]</td>\n",
       "      <td>102464464</td>\n",
       "      <td>5.251563e+07</td>\n",
       "    </tr>\n",
       "    <tr>\n",
       "      <th>5312</th>\n",
       "      <td>Akon - Locked Up ft. Styles P</td>\n",
       "      <td>101963775</td>\n",
       "      <td>9.764494e+07</td>\n",
       "    </tr>\n",
       "    <tr>\n",
       "      <th>2558</th>\n",
       "      <td>G-DRAGON - 니가 뭔데(WHO YOU?) M/V</td>\n",
       "      <td>101891506</td>\n",
       "      <td>1.527551e+07</td>\n",
       "    </tr>\n",
       "    <tr>\n",
       "      <th>3639</th>\n",
       "      <td>Kodak Black, 21 Savage, Lil Uzi Vert, Lil Yach...</td>\n",
       "      <td>101605159</td>\n",
       "      <td>4.599486e+06</td>\n",
       "    </tr>\n",
       "    <tr>\n",
       "      <th>86</th>\n",
       "      <td>P!nk - Beautiful Trauma (Official Video)</td>\n",
       "      <td>101434044</td>\n",
       "      <td>2.791084e+07</td>\n",
       "    </tr>\n",
       "    <tr>\n",
       "      <th>6631</th>\n",
       "      <td>X Ambassadors - Unsteady</td>\n",
       "      <td>101401422</td>\n",
       "      <td>7.682173e+06</td>\n",
       "    </tr>\n",
       "    <tr>\n",
       "      <th>8624</th>\n",
       "      <td>Gladiator - Now We Are Free Super Theme Song</td>\n",
       "      <td>101305195</td>\n",
       "      <td>9.435673e+05</td>\n",
       "    </tr>\n",
       "    <tr>\n",
       "      <th>4261</th>\n",
       "      <td>Lauv - I Like Me Better [Official Audio]</td>\n",
       "      <td>100986069</td>\n",
       "      <td>5.084789e+07</td>\n",
       "    </tr>\n",
       "    <tr>\n",
       "      <th>7463</th>\n",
       "      <td>Ed Sheeran &amp; Passenger - No Diggity vs. Thrift...</td>\n",
       "      <td>100744773</td>\n",
       "      <td>2.168002e+07</td>\n",
       "    </tr>\n",
       "    <tr>\n",
       "      <th>8123</th>\n",
       "      <td>Jose Luis Perales - Y como es él (1982)</td>\n",
       "      <td>100581018</td>\n",
       "      <td>3.840517e+06</td>\n",
       "    </tr>\n",
       "    <tr>\n",
       "      <th>6920</th>\n",
       "      <td>Flux Pavilion - I Can't Stop</td>\n",
       "      <td>100415567</td>\n",
       "      <td>4.362724e+06</td>\n",
       "    </tr>\n",
       "    <tr>\n",
       "      <th>1172</th>\n",
       "      <td>Dynoro &amp; Gigi D’Agostino - In My Mind</td>\n",
       "      <td>100087673</td>\n",
       "      <td>5.873755e+05</td>\n",
       "    </tr>\n",
       "  </tbody>\n",
       "</table>\n",
       "<p>900 rows × 3 columns</p>\n",
       "</div>"
      ],
      "text/plain": [
       "                                                  title   viewCount  \\\n",
       "7479            Luis Fonsi - Despacito ft. Daddy Yankee  5555912002   \n",
       "4268         Ed Sheeran - Shape of You [Official Video]  3827104659   \n",
       "7190  Wiz Khalifa - See You Again ft. Charlie Puth [...  3788737518   \n",
       "5540           Mark Ronson - Uptown Funk ft. Bruno Mars  3256917992   \n",
       "3634                     PSY - GANGNAM STYLE(강남스타일) M/V  3218413082   \n",
       "569      Justin Bieber - Sorry (PURPOSE : The Movement)  3014897224   \n",
       "7417                                   Maroon 5 - Sugar  2756205542   \n",
       "7514                        Taylor Swift - Shake It Off  2650920924   \n",
       "5506                       Katy Perry - Roar (Official)  2638406673   \n",
       "627   Enrique Iglesias - Bailando (Español) ft. Desc...  2582945265   \n",
       "5532    Ed Sheeran - Thinking Out Loud [Official Video]  2496797028   \n",
       "3220     Katy Perry - Dark Horse (Official) ft. Juicy J  2429899549   \n",
       "7602                         Taylor Swift - Blank Space  2343876199   \n",
       "7555                      Shakira - Chantaje ft. Maluma  2255261833   \n",
       "4251               Meghan Trainor - All About That Bass  2227064426   \n",
       "7214  Calvin Harris - This Is What You Came For (Off...  2097510786   \n",
       "7425            Passenger | Let Her Go (Official Video)  2068337176   \n",
       "7516  Shakira - Waka Waka (This Time for Africa) (Th...  2041632211   \n",
       "3208  J Balvin, Willy William - Mi Gente (Official V...  2041493278   \n",
       "7531                  Justin Bieber - Baby ft. Ludacris  1985152808   \n",
       "7427                                Alan Walker - Faded  1975021362   \n",
       "7174                  Justin Bieber - What Do You Mean?  1944265383   \n",
       "6846  Charlie Puth - We Don't Talk Anymore (feat. Se...  1935955368   \n",
       "8637   Fifth Harmony - Work from Home ft. Ty Dolla $ign  1919599269   \n",
       "7461                  Sia - Chandelier (Official Video)  1910731681   \n",
       "7164  Ellie Goulding - Love Me Like You Do (Official...  1802662468   \n",
       "7527               Avicii - Wake Me Up (Official Video)  1673921749   \n",
       "7434          Luis Fonsi, Demi Lovato - Échame La Culpa  1619227144   \n",
       "4319               Fifth Harmony - Worth It ft. Kid Ink  1617220892   \n",
       "5567          Eminem - Love The Way You Lie ft. Rihanna  1607500199   \n",
       "...                                                 ...         ...   \n",
       "689                    Britney Spears - I'm A Slave 4 U   105422444   \n",
       "7907                    Pantera - Walk (Official Video)   105391869   \n",
       "4331                                 Boney M - Rasputin   105231093   \n",
       "5006  MC Vitão feat. Dennis DJ - Olha o Gás (KondZilla)   105228657   \n",
       "419   Juan Magan, Belinda, Manuel Turizo, Snova, B-C...   105218524   \n",
       "5519              Mike Perry - The Ocean ft. Shy Martin   105022999   \n",
       "5451          米津玄師 MV「ピースサイン」Kenshi Yonezu / Peace Sign   104756642   \n",
       "6113                               R. Kelly - Same Girl   104626707   \n",
       "4933  Cia. SALT - Quero Conhecer Jesus (Cover Alessa...   104487992   \n",
       "5465              Red Velvet 레드벨벳 '피카부 (Peek-A-Boo)' MV   104447825   \n",
       "1545  Takagi & Ketra - Amore e Capoeira ft. Giusy Fe...   104190060   \n",
       "3265  Jennifer Lopez featuring LL Cool J - All I Hav...   103975303   \n",
       "6790  T-Pain - Buy U A Drank (Shawty Snappin') ft. Y...   103859271   \n",
       "3306                        Jessie J - Nobody's Perfect   103445230   \n",
       "8668  Lil Dicky - $ave Dat Money feat. Fetty Wap and...   103268539   \n",
       "4985  O Rappa - Anjos \"Pra Quem Tem Fé\"  (Webclipe) ...   102721066   \n",
       "7235  Stefflon Don, French Montana - Hurtin' Me (Off...   102543325   \n",
       "8615             Red Velvet 레드벨벳 '빨간 맛 (Red Flavor)' MV   102499330   \n",
       "8675           Ed Sheeran - Small Bump [Official Video]   102464464   \n",
       "5312                      Akon - Locked Up ft. Styles P   101963775   \n",
       "2558                     G-DRAGON - 니가 뭔데(WHO YOU?) M/V   101891506   \n",
       "3639  Kodak Black, 21 Savage, Lil Uzi Vert, Lil Yach...   101605159   \n",
       "86             P!nk - Beautiful Trauma (Official Video)   101434044   \n",
       "6631                           X Ambassadors - Unsteady   101401422   \n",
       "8624       Gladiator - Now We Are Free Super Theme Song   101305195   \n",
       "4261           Lauv - I Like Me Better [Official Audio]   100986069   \n",
       "7463  Ed Sheeran & Passenger - No Diggity vs. Thrift...   100744773   \n",
       "8123            Jose Luis Perales - Y como es él (1982)   100581018   \n",
       "6920                       Flux Pavilion - I Can't Stop   100415567   \n",
       "1172              Dynoro & Gigi D’Agostino - In My Mind   100087673   \n",
       "\n",
       "         predicted  \n",
       "7479  1.046082e+08  \n",
       "4268  6.046835e+07  \n",
       "7190  2.874485e+08  \n",
       "5540  9.979310e+07  \n",
       "3634  2.557728e+07  \n",
       "569   8.657425e+07  \n",
       "7417  1.209376e+07  \n",
       "7514  5.626524e+07  \n",
       "5506  8.192447e+07  \n",
       "627   6.961266e+07  \n",
       "5532  2.724749e+07  \n",
       "3220  1.152618e+08  \n",
       "7602  3.594035e+07  \n",
       "7555  2.419553e+08  \n",
       "4251  4.226658e+07  \n",
       "7214  2.911382e+08  \n",
       "7425  5.152433e+07  \n",
       "7516  1.112012e+08  \n",
       "3208  7.301133e+07  \n",
       "7531  8.067458e+07  \n",
       "7427  6.543827e+07  \n",
       "7174  7.765864e+07  \n",
       "6846  1.304066e+08  \n",
       "8637  1.292850e+08  \n",
       "7461  1.179722e+08  \n",
       "7164  4.377387e+07  \n",
       "7527  2.687231e+07  \n",
       "7434  4.669596e+07  \n",
       "4319  1.331763e+08  \n",
       "5567  9.414507e+07  \n",
       "...            ...  \n",
       "689   2.852554e+07  \n",
       "7907  6.137038e+07  \n",
       "4331  3.663589e+06  \n",
       "5006  1.106544e+07  \n",
       "419   1.267498e+07  \n",
       "5519  2.971170e+07  \n",
       "5451  1.725150e+07  \n",
       "6113  5.510225e+07  \n",
       "4933  2.080876e+07  \n",
       "5465  9.117626e+06  \n",
       "1545  7.968755e+07  \n",
       "3265  3.747690e+07  \n",
       "6790  4.881779e+07  \n",
       "3306  3.479916e+07  \n",
       "8668  1.560666e+07  \n",
       "4985  8.650425e+06  \n",
       "7235  2.142641e+07  \n",
       "8615  5.406729e+06  \n",
       "8675  5.251563e+07  \n",
       "5312  9.764494e+07  \n",
       "2558  1.527551e+07  \n",
       "3639  4.599486e+06  \n",
       "86    2.791084e+07  \n",
       "6631  7.682173e+06  \n",
       "8624  9.435673e+05  \n",
       "4261  5.084789e+07  \n",
       "7463  2.168002e+07  \n",
       "8123  3.840517e+06  \n",
       "6920  4.362724e+06  \n",
       "1172  5.873755e+05  \n",
       "\n",
       "[900 rows x 3 columns]"
      ]
     },
     "execution_count": 65,
     "metadata": {},
     "output_type": "execute_result"
    }
   ],
   "source": [
    "df_big = df_main[df_main.viewCount > 100000000]\n",
    "df_big_ss = ss.transform(df_big.loc[:, cols_include_initial])\n",
    "\n",
    "df_big['predicted'] = 10**gs.predict(df_big_ss)\n",
    "\n",
    "#df_big.viewCount = df_big.viewCount.map(lambda x: '{:.6g}'.format(x))\n",
    "\n",
    "df_big.loc[:, ['title', 'viewCount', 'predicted']].sort_values(by='viewCount', ascending=False)"
   ]
  },
  {
   "cell_type": "markdown",
   "metadata": {},
   "source": [
    "## <a class=\"anchor\" id=\"3.2-bullet\">3.2 Neural Net</a>\n",
    "\n"
   ]
  },
  {
   "cell_type": "code",
   "execution_count": 51,
   "metadata": {},
   "outputs": [
    {
     "name": "stderr",
     "output_type": "stream",
     "text": [
      "C:\\ProgramData\\Anaconda3\\lib\\site-packages\\h5py\\__init__.py:36: FutureWarning: Conversion of the second argument of issubdtype from `float` to `np.floating` is deprecated. In future, it will be treated as `np.float64 == np.dtype(float).type`.\n",
      "  from ._conv import register_converters as _register_converters\n",
      "Using TensorFlow backend.\n"
     ]
    },
    {
     "name": "stdout",
     "output_type": "stream",
     "text": [
      "Couldn't import dot_parser, loading of dot files will not be possible.\n"
     ]
    }
   ],
   "source": [
    "from keras.models import Sequential\n",
    "from keras.layers import Dense, Dropout\n",
    "from keras.utils import to_categorical"
   ]
  },
  {
   "cell_type": "code",
   "execution_count": 52,
   "metadata": {},
   "outputs": [],
   "source": [
    "X = df_main.loc[:, cols_include_initial]"
   ]
  },
  {
   "cell_type": "code",
   "execution_count": 53,
   "metadata": {
    "scrolled": true
   },
   "outputs": [
    {
     "name": "stdout",
     "output_type": "stream",
     "text": [
      "score:  0.017801094505758397\n"
     ]
    }
   ],
   "source": [
    "#for state in range(5, 56, 10):\n",
    "X_train, X_test, y_train, y_test=train_test_split(X, y, random_state=42)\n",
    "ss = StandardScaler()\n",
    "X_train_sc = ss.fit_transform(X_train)\n",
    "X_test_sc = ss.transform(X_test)\n",
    "\n",
    "model = Sequential()\n",
    "#this does input and first activation\n",
    "model.add(Dense(X_train_sc.shape[1], activation='relu', input_dim=X_train_sc.shape[1]))\n",
    "model.add(Dropout(.5))\n",
    "model.add(Dense(20, activation='relu'))\n",
    "model.add(Dropout(.5))\n",
    "model.add(Dense(10, activation='relu'))\n",
    "\n",
    "model.add(Dense(1, activation=None)) #1 neuron\n",
    "model.compile(loss='mean_squared_error', optimizer='adam')\n",
    "history = model.fit(X_train_sc, y_train, validation_data=(X_test_sc, y_test), epochs=40, batch_size=50, verbose=0)\n",
    "preds = model.predict(X_test_sc)\n",
    "print( 'score: ', r2_score(y_test, preds))"
   ]
  },
  {
   "cell_type": "code",
   "execution_count": 54,
   "metadata": {},
   "outputs": [
    {
     "data": {
      "image/png": "[encoded data removed]",
      "text/plain": [
       "<Figure size 432x288 with 1 Axes>"
      ]
     },
     "metadata": {},
     "output_type": "display_data"
    }
   ],
   "source": [
    "plt.figure()\n",
    "plt.plot(history.history['loss'])\n",
    "plt.plot(history.history['val_loss'])\n",
    "plt.title('model loss')\n",
    "plt.ylabel('loss')\n",
    "plt.xlabel('epoch')\n",
    "plt.legend(['train', 'test'], loc='best')\n",
    "plt.show();"
   ]
  },
  {
   "cell_type": "code",
   "execution_count": 55,
   "metadata": {},
   "outputs": [],
   "source": [
    "#Save point 1\n",
    "#df_new.to_csv('./data/alphabet_pull_init_01.10.18.csv', index=False)"
   ]
  },
  {
   "cell_type": "code",
   "execution_count": null,
   "metadata": {},
   "outputs": [],
   "source": [
    "#nope: AdaBoostRegressor, "
   ]
  },
  {
   "cell_type": "markdown",
   "metadata": {},
   "source": [
    "## <a class=\"anchor\" id=\"3.2-bullet\">3.2 Interpretation and Advanced Cleaning</a>\n"
   ]
  },
  {
   "cell_type": "markdown",
   "metadata": {},
   "source": [
    "# <a class=\"anchor\" id=\"4.0-bullet\"> 4.0 Reference and Planning</a>"
   ]
  },
  {
   "cell_type": "code",
   "execution_count": null,
   "metadata": {},
   "outputs": [],
   "source": [
    "# all views over 400M https://www.youtube.com/playlist?list=PLirAqAtl_h2r5g8xGajEwdXd3x1sZh8hC"
   ]
  },
  {
   "cell_type": "markdown",
   "metadata": {},
   "source": [
    "Are there bots? would explain difference in like / view ratio."
   ]
  },
  {
   "cell_type": "markdown",
   "metadata": {},
   "source": [
    "### Next Steps\n",
    "Feature engineering\n",
    "* NLP - check only most 1000 common words according to corpus string (or above threshold) xx\n",
    "* Comments / likes to views ratio? x\n",
    "* Duration group classifications instead of just duration (eh)\n",
    "\n",
    "Classification\n",
    "* Do breakpoints by order of magnitude? That's sort of where this started. By analyzing differences, can establish if/then statements\n",
    "* Find k classifications\n"
   ]
  },
  {
   "cell_type": "markdown",
   "metadata": {},
   "source": [
    "## Columns Decisions\n",
    "* Convert \n",
    " * Duration x\n",
    " * PublishedAt X\n",
    "* Get dummies: \n",
    " * definition, (0 for sd, 1 for hd)\n",
    " * licensedContent (map)\n",
    " * Caption (map)\n",
    "* Drop:\n",
    " * Projection, \n",
    " * Dimension\n",
    " * 3d movies,\n",
    " * livebroadcast\n",
    " * CategoryID\n",
    " * channelID (already have title, which has text!!)\n",
    " * LiveBroadCastContent\n",
    "* Leave in for EDA, but anticipate dropping during most analysis (basically stuff that might be interesting)\n",
    " * Region restriction should be dropped until modeling - consider bringing this back later\n",
    " * ContentRating - insignificant but interesting\n",
    " * Could look at channelTitle\n",
    " * request_token\n",
    " * letter_search\n",
    " * defaultLanguage, (might be better as 1 / 0 for set / not set. leave for model)"
   ]
  }
 ],
 "metadata": {
  "kernelspec": {
   "display_name": "Python 3",
   "language": "python",
   "name": "python3"
  },
  "language_info": {
   "codemirror_mode": {
    "name": "ipython",
    "version": 3
   },
   "file_extension": ".py",
   "mimetype": "text/x-python",
   "name": "python",
   "nbconvert_exporter": "python",
   "pygments_lexer": "ipython3",
   "version": "3.6.5"
  }
 },
 "nbformat": 4,
 "nbformat_minor": 2
}
