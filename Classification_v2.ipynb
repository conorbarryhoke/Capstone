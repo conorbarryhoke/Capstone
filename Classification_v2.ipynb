{
 "cells": [
  {
   "cell_type": "code",
   "execution_count": 1,
   "metadata": {},
   "outputs": [],
   "source": [
    "#do this later from admin: !python -m pip install --upgrade pip\n"
   ]
  },
  {
   "cell_type": "markdown",
   "metadata": {},
   "source": [
    "# TOC"
   ]
  },
  {
   "cell_type": "markdown",
   "metadata": {},
   "source": [
    "Should have:\n",
    "1. ETL\n",
    "2. EDA\n",
    "3. Feature Engineering - Permanent\n",
    "4. Modeling - Pure Regression\n",
    "5. Modeling - Pure classification\n",
    "6. Modeling - combination\n"
   ]
  },
  {
   "cell_type": "markdown",
   "metadata": {},
   "source": [
    "Find centroids on train, predict test centroids"
   ]
  },
  {
   "cell_type": "markdown",
   "metadata": {},
   "source": [
    "0. [Imports](#first-bullet)\n",
    "1. [EDA](#1.0-bullet)\n",
    "2. [Feature Engineering](#2.0-bullet)  \n",
    " 2.1 [Pt 1 - Regression](#2.1-bullet)  \n",
    " 2.2 [Pt 2 - Classification](#2.2-bullet)\n",
    "3. [Basic Model](#3.0-bullet)  \n",
    " 3.1 [Pt 1 - Regression](#3.1-bullet)  \n",
    " 3.2 [Pt 2 - Classification](#3.2-bullet)\n",
    "4. [Reference and Planning](#4.0-bullet)"
   ]
  },
  {
   "cell_type": "markdown",
   "metadata": {},
   "source": [
    "# Do not Run All cells - lots of charts"
   ]
  },
  {
   "cell_type": "code",
   "execution_count": 40,
   "metadata": {},
   "outputs": [],
   "source": [
    "#Basic\n",
    "import pandas as pd\n",
    "import numpy as np\n",
    "#Math\n",
    "import scipy as sp\n",
    "from random import randint\n",
    "from math import exp\n",
    "import operator\n",
    "\n",
    "#Scraping\n",
    "import requests\n",
    "import json\n",
    "\n",
    "#Youtube Data API Packages: \n",
    "\"\"\"from apiclient.discovery import build\n",
    "from apiclient.errors import HttpError\n",
    "from oauth2client.tools import argparser\n",
    "from googleapiclient.discovery import build\n",
    "import argparse\n",
    "from googleapiclient.errors import HttpError\"\"\"\n",
    "\n",
    "#Modeling\n",
    "from sklearn.model_selection import cross_val_score, train_test_split, GridSearchCV\n",
    "from sklearn.preprocessing import StandardScaler\n",
    "from sklearn.linear_model import LogisticRegression\n",
    "#from sklearn.naive_bayes import MultinomialNB\n",
    "from sklearn.ensemble import RandomForestClassifier, GradientBoostingClassifier\n",
    "from sklearn.neighbors import KNeighborsClassifier\n",
    "#from sklearn.cluster import KMeans\n",
    "from sklearn.svm import SVC\n",
    "from sklearn.metrics import r2_score,confusion_matrix, roc_auc_score, roc_curve\n",
    "\n",
    "#NLP & Text Management\n",
    "# from sklearn.feature_extraction import stop_words\n",
    "# from sklearn.feature_extraction.text import CountVectorizer\n",
    "# from sklearn.feature_extraction.text import TfidfVectorizer\n",
    "# import re\n",
    "# from textblob import TextBlob\n",
    "# from wordcloud import WordCloud\n",
    "# from nltk.stem import PorterStemmer\n",
    "\n",
    "#Time analysis\n",
    "import time\n",
    "import datetime\n",
    "# from statsmodels.tsa.stattools import pacf\n",
    "# from statsmodels.graphics.tsaplots import plot_pacf\n",
    "\n",
    "#Plotting\n",
    "import matplotlib.pyplot as plt\n",
    "import seaborn as sns\n",
    "#from wordcloud import WordCloud\n",
    "\n",
    "%matplotlib inline\n",
    "plt.style.use('classic')\n",
    "sns.set_style('whitegrid')"
   ]
  },
  {
   "cell_type": "code",
   "execution_count": 2,
   "metadata": {},
   "outputs": [],
   "source": [
    "df_main = pd.read_csv('./data/engineered_data/data_engineered_10.9_2019.csv')"
   ]
  },
  {
   "cell_type": "code",
   "execution_count": 5,
   "metadata": {},
   "outputs": [],
   "source": [
    "model_time = ['is_weekend', 'is_friday', 'year_day', 'week', 'week_day', 'month', 'month_day', 'year',  ]\n",
    "model_text = ['description_sentiment', 'description_wordcount',\n",
    "  'tags_sentiment', 'tags_wordcount', 'title_sentiment',\n",
    " 'title_wordcount', 'title_featuring', 'title_length', ]\n",
    "model_title_letter = ['intitle_a',  'intitle_b', 'intitle_c', 'intitle_d', 'intitle_e', 'intitle_f', 'intitle_g',\n",
    " 'intitle_h', 'intitle_i', 'intitle_j', 'intitle_k', 'intitle_l', 'intitle_m', 'intitle_n', 'intitle_o',\n",
    " 'intitle_p', 'intitle_q', 'intitle_r', 'intitle_s', 'intitle_t', 'intitle_u', 'intitle_v', 'intitle_w',\n",
    " 'intitle_x', 'intitle_y', 'intitle_z',]              \n",
    "model_ratios = ['lv_ratio', 'comment_view_ratio', 'like_dislike_ratio',]\n",
    "model_other = ['duration', 'contentRating', 'regionRestriction',  'licensedContent', 'caption', 'definition']\n",
    "measures = ['likeCount', 'dislikeCount', 'commentCount', 'viewCount',\n",
    "            'view_log',  'comment_log',  'like_log', 'dislike_log', \n",
    "            'view_class' ]\n",
    "non_model_cols = ['request_token', 'letter_search','channelTitle', 'tags', 'title', 'vidId','publishedAt','favoriteCount',\n",
    "              'description','defaultLanguage', ]"
   ]
  },
  {
   "cell_type": "markdown",
   "metadata": {},
   "source": [
    "# <a class=\"anchor\" id=\"3.0-bullet\"> 3. Basic Model</a>"
   ]
  },
  {
   "cell_type": "code",
   "execution_count": 106,
   "metadata": {},
   "outputs": [],
   "source": [
    "df_formodel = df_main"
   ]
  },
  {
   "cell_type": "code",
   "execution_count": 170,
   "metadata": {},
   "outputs": [],
   "source": [
    "df_description = pd.read_csv('./data/engineered_data/description_wordvec.csv')\n",
    "df_tag = pd.read_csv('./data/engineered_data/tag_wordvec.csv')\n",
    "df_title = pd.read_csv('./data/engineered_data/title_wordvec.csv')\n",
    "df_combined = df_description.join(df_tag.set_index('vidId'), on=df_description['vidId'], how='left', rsuffix='tag')\n",
    "df_combined = df_combined.join(df_title.set_index('vidId'), on=df_combined['vidId'], how='left', rsuffix='title')\n",
    "\n",
    "cols_exclude_text = [col for col in df_combined.columns if '_word_' not in str(col)]\n",
    "cols_include_initial_text = [col for col in df_combined.columns if col not in cols_exclude]\n",
    "\n",
    "df_formodel = df_main.join(df_combined.set_index('vidId'), on=df_main['vidId'], how='left', rsuffix='text_combo')"
   ]
  },
  {
   "cell_type": "code",
   "execution_count": 171,
   "metadata": {},
   "outputs": [
    {
     "data": {
      "text/plain": [
       "['duration', 'lv_ratio', 'comment_view_ratio', 'like_dislike_ratio']"
      ]
     },
     "execution_count": 171,
     "metadata": {},
     "output_type": "execute_result"
    }
   ],
   "source": [
    "[col for col in df_main.columns if 'ratio' in col]"
   ]
  },
  {
   "cell_type": "code",
   "execution_count": 172,
   "metadata": {},
   "outputs": [],
   "source": [
    "cols_alphabet = ['intitle_a', 'intitle_d', 'intitle_f', 'intitle_g', 'intitle_i', \n",
    "                 'intitle_k', 'intitle_l','intitle_p','intitle_v','intitle_x','intitle_y' ]\n",
    "cols_exclude = ['year_day', 'month', 'vidId', \n",
    "                'titletext_combo', 'tagstext_combo', 'descriptiontext_combo', 'description', 'tags', 'title', 'view_log', \n",
    "               'view_logtitle', 'view_logtag', 'Unnamed: 0title', 'Unnamed: 0']\n",
    "#'tags_sentiment','title_sentiment', 'title_wordcount' \n",
    "\n",
    "cols_include_initial = [col for col in df_formodel.columns if \\\n",
    "(col in model_time or \\\n",
    "col in model_text or \\\n",
    "col in cols_alphabet or \\\n",
    "col in model_ratios or \\\n",
    "col in model_other ) and \\\n",
    "col not in cols_exclude]\n",
    "\"\"\"or \\\n",
    "col in cols_include_initial_text\"\"\"\n",
    "\n",
    "#'lv_ratio','comment_view_ratio' take this between .85 and .9\n",
    "df_formodel = df_formodel[df_formodel['view_class']>1]"
   ]
  },
  {
   "cell_type": "code",
   "execution_count": 173,
   "metadata": {},
   "outputs": [],
   "source": [
    "y = df_formodel.view_class\n",
    "X = df_formodel.loc[:, cols_include_initial]\n",
    "X_train, X_test, y_train, y_test=train_test_split(X, y, random_state=30)\n",
    "\n",
    "ss = StandardScaler()\n",
    "X_train_sc = ss.fit_transform(X_train)\n",
    "X_test_sc = ss.transform(X_test)"
   ]
  },
  {
   "cell_type": "code",
   "execution_count": 109,
   "metadata": {},
   "outputs": [
    {
     "data": {
      "text/plain": [
       "0"
      ]
     },
     "execution_count": 109,
     "metadata": {},
     "output_type": "execute_result"
    }
   ],
   "source": [
    "y.isnull().sum()"
   ]
  },
  {
   "cell_type": "markdown",
   "metadata": {},
   "source": [
    "## <a class=\"anchor\" id=\"3.1-bullet\">3.1 Unsupervised Learning</a>\n",
    "\n"
   ]
  },
  {
   "cell_type": "markdown",
   "metadata": {},
   "source": [
    "### KMeans"
   ]
  },
  {
   "cell_type": "code",
   "execution_count": 174,
   "metadata": {},
   "outputs": [],
   "source": [
    "uns_X = df_formodel.loc[:, cols_include_initial+['view_class']]\n",
    "\n",
    "ss2 = StandardScaler()\n",
    "uns_X_sc = ss.fit_transform(uns_X)"
   ]
  },
  {
   "cell_type": "code",
   "execution_count": 175,
   "metadata": {},
   "outputs": [],
   "source": [
    "from sklearn.cluster import DBSCAN, KMeans"
   ]
  },
  {
   "cell_type": "code",
   "execution_count": 176,
   "metadata": {},
   "outputs": [],
   "source": [
    "from sklearn.metrics import silhouette_score"
   ]
  },
  {
   "cell_type": "code",
   "execution_count": 177,
   "metadata": {},
   "outputs": [
    {
     "name": "stdout",
     "output_type": "stream",
     "text": [
      "   n:  3  score:  258976.94672131332\n",
      "   n:  4  score:  248781.3687853264\n",
      "   n:  5  score:  240224.05235717952\n",
      "   n:  6  score:  233631.48239741093\n",
      "   n:  7  score:  226990.0802880939\n",
      "   n:  8  score:  222466.1960529029\n",
      "   n:  9  score:  217129.58473626763\n",
      "   n:  10  score:  213447.81148673507\n"
     ]
    }
   ],
   "source": [
    "for n in range(3, 11):\n",
    "    classifier = KMeans(n_clusters=n)\n",
    "    classifier.fit_predict(X=uns_X_sc)\n",
    "    print('   n: ', n, ' score: ', classifier.inertia_)\n"
   ]
  },
  {
   "cell_type": "code",
   "execution_count": 126,
   "metadata": {
    "collapsed": true
   },
   "outputs": [
    {
     "name": "stdout",
     "output_type": "stream",
     "text": [
      "    i:  30  max:  view_log    6.546026\n",
      "dtype: float64\n",
      "    i:  31  max:  view_log    6.568186\n",
      "dtype: float64\n",
      "    i:  32  max:  view_log    6.549206\n",
      "dtype: float64\n",
      "    i:  33  max:  view_log    6.581191\n",
      "dtype: float64\n",
      "    i:  34  max:  view_log    6.553523\n",
      "dtype: float64\n",
      "    i:  35  max:  view_log    6.581191\n",
      "dtype: float64\n",
      "    i:  36  max:  view_log    6.568186\n",
      "dtype: float64\n",
      "    i:  37  max:  view_log    6.568186\n",
      "dtype: float64\n",
      "    i:  38  max:  view_log    6.568186\n",
      "dtype: float64\n",
      "    i:  39  max:  view_log    6.568186\n",
      "dtype: float64\n",
      "    i:  40  max:  view_log    6.568186\n",
      "dtype: float64\n",
      "    i:  41  max:  view_log    6.44031\n",
      "dtype: float64\n",
      "    i:  42  max:  view_log    6.536831\n",
      "dtype: float64\n",
      "    i:  43  max:  view_log    6.47426\n",
      "dtype: float64\n",
      "    i:  44  max:  view_log    6.487877\n",
      "dtype: float64\n",
      "    i:  45  max:  view_log    6.536831\n",
      "dtype: float64\n",
      "    i:  46  max:  view_log    6.581191\n",
      "dtype: float64\n",
      "    i:  47  max:  view_log    6.47114\n",
      "dtype: float64\n",
      "    i:  48  max:  view_log    6.544083\n",
      "dtype: float64\n",
      "    i:  49  max:  view_log    6.43483\n",
      "dtype: float64\n"
     ]
    }
   ],
   "source": [
    "for i in range(30, 50):\n",
    "    classifier = KMeans(n_clusters=25, random_state=i)\n",
    "    df_classified = df_main.join(pd.DataFrame(pd.Series(classifier.fit_predict(X=uns_X_sc)), columns=['kclass']))\n",
    "    print('    i: ', i, ' max: ', df_classified.loc[:, ['kclass', 'view_log']].groupby('kclass').mean().max())"
   ]
  },
  {
   "cell_type": "code",
   "execution_count": 178,
   "metadata": {},
   "outputs": [],
   "source": [
    "classifier = KMeans(n_clusters=8, random_state=43)\n",
    "df_classified = df_main.join(pd.DataFrame(pd.Series(classifier.fit_predict(X=uns_X_sc)), columns=['kclass']))"
   ]
  },
  {
   "cell_type": "code",
   "execution_count": 179,
   "metadata": {
    "scrolled": true
   },
   "outputs": [
    {
     "data": {
      "text/html": [
       "<div>\n",
       "<style scoped>\n",
       "    .dataframe tbody tr th:only-of-type {\n",
       "        vertical-align: middle;\n",
       "    }\n",
       "\n",
       "    .dataframe tbody tr th {\n",
       "        vertical-align: top;\n",
       "    }\n",
       "\n",
       "    .dataframe thead th {\n",
       "        text-align: right;\n",
       "    }\n",
       "</style>\n",
       "<table border=\"1\" class=\"dataframe\">\n",
       "  <thead>\n",
       "    <tr style=\"text-align: right;\">\n",
       "      <th></th>\n",
       "      <th>title</th>\n",
       "      <th>viewCount</th>\n",
       "      <th>kclass</th>\n",
       "    </tr>\n",
       "  </thead>\n",
       "  <tbody>\n",
       "    <tr>\n",
       "      <th>3270</th>\n",
       "      <td>Luis Fonsi - Despacito ( cover by J.Fla )</td>\n",
       "      <td>127411039</td>\n",
       "      <td>7.0</td>\n",
       "    </tr>\n",
       "    <tr>\n",
       "      <th>7479</th>\n",
       "      <td>Luis Fonsi - Despacito ft. Daddy Yankee</td>\n",
       "      <td>5555912002</td>\n",
       "      <td>1.0</td>\n",
       "    </tr>\n",
       "    <tr>\n",
       "      <th>7594</th>\n",
       "      <td>Luis Fonsi, Daddy Yankee - Despacito (Remix Au...</td>\n",
       "      <td>633857377</td>\n",
       "      <td>5.0</td>\n",
       "    </tr>\n",
       "  </tbody>\n",
       "</table>\n",
       "</div>"
      ],
      "text/plain": [
       "                                                  title   viewCount  kclass\n",
       "3270          Luis Fonsi - Despacito ( cover by J.Fla )   127411039     7.0\n",
       "7479            Luis Fonsi - Despacito ft. Daddy Yankee  5555912002     1.0\n",
       "7594  Luis Fonsi, Daddy Yankee - Despacito (Remix Au...   633857377     5.0"
      ]
     },
     "execution_count": 179,
     "metadata": {},
     "output_type": "execute_result"
    }
   ],
   "source": [
    "df_classified[df_classified.title.str.contains('Despacito')].loc[:, ['title', 'viewCount', 'kclass']]"
   ]
  },
  {
   "cell_type": "code",
   "execution_count": 189,
   "metadata": {},
   "outputs": [
    {
     "name": "stdout",
     "output_type": "stream",
     "text": [
      "    0 997\n",
      "    1 1440\n",
      "    2 1224\n",
      "    3 1927\n",
      "    4 589\n",
      "    5 1050\n",
      "    6 17\n",
      "    7 1358\n",
      "    8 0\n"
     ]
    }
   ],
   "source": [
    "for i in range(9):\n",
    "     print('   ', i, df_classified[df_classified.kclass==i].shape[0])"
   ]
  },
  {
   "cell_type": "code",
   "execution_count": 190,
   "metadata": {},
   "outputs": [
    {
     "data": {
      "text/plain": [
       "caption                   3.483436\n",
       "commentCount              5.710380\n",
       "definition                0.658243\n",
       "dislikeCount              7.359757\n",
       "duration                  2.627418\n",
       "favoriteCount                  NaN\n",
       "licensedContent           0.852121\n",
       "likeCount                 3.361724\n",
       "regionRestriction         2.605975\n",
       "viewCount                 3.845415\n",
       "contentRating            22.593594\n",
       "year                      0.239841\n",
       "month                     0.483853\n",
       "month_day                 0.538086\n",
       "year_day                  0.524002\n",
       "week_day                  0.656964\n",
       "view_log                  0.266202\n",
       "comment_log               0.491606\n",
       "like_log                  0.383135\n",
       "dislike_log               0.551699\n",
       "view_class                0.293376\n",
       "week                      0.516395\n",
       "description_sentiment     1.827508\n",
       "description_wordcount     1.367966\n",
       "tags_sentiment            3.380355\n",
       "tags_wordcount            0.856608\n",
       "title_sentiment           5.362453\n",
       "title_wordcount           0.469499\n",
       "title_featuring           2.483559\n",
       "intitle_a                 0.874397\n",
       "                           ...    \n",
       "intitle_d                 1.118088\n",
       "intitle_e                 0.747816\n",
       "intitle_f                 1.520708\n",
       "intitle_g                 1.732331\n",
       "intitle_h                 1.408636\n",
       "intitle_i                 0.785104\n",
       "intitle_j                 3.884919\n",
       "intitle_k                 1.995134\n",
       "intitle_l                 0.965911\n",
       "intitle_m                 1.402794\n",
       "intitle_n                 0.903275\n",
       "intitle_o                 0.812535\n",
       "intitle_p                 1.822870\n",
       "intitle_q                 5.509838\n",
       "intitle_r                 0.954505\n",
       "intitle_s                 1.112071\n",
       "intitle_t                 0.999411\n",
       "intitle_u                 1.149984\n",
       "intitle_v                 1.896516\n",
       "intitle_w                 2.690355\n",
       "intitle_x                 3.076532\n",
       "intitle_y                 1.437573\n",
       "intitle_z                 2.952975\n",
       "title_length              0.421618\n",
       "lv_ratio                  0.274775\n",
       "comment_view_ratio        0.444904\n",
       "like_dislike_ratio        1.033800\n",
       "is_weekend                1.934806\n",
       "is_friday                 1.927480\n",
       "kclass                    0.711216\n",
       "Length: 62, dtype: float64"
      ]
     },
     "execution_count": 190,
     "metadata": {},
     "output_type": "execute_result"
    }
   ],
   "source": [
    "df_classified.std() / df_classified.mean()"
   ]
  },
  {
   "cell_type": "markdown",
   "metadata": {},
   "source": [
    "It looks like the cutoff should be somewhere around 8.5 for view log"
   ]
  },
  {
   "cell_type": "code",
   "execution_count": 26,
   "metadata": {},
   "outputs": [
    {
     "data": {
      "text/plain": [
       "(337, 70)"
      ]
     },
     "execution_count": 26,
     "metadata": {},
     "output_type": "execute_result"
    }
   ],
   "source": [
    "df_main[df_main.view_log>8.5].shape"
   ]
  },
  {
   "cell_type": "code",
   "execution_count": 134,
   "metadata": {},
   "outputs": [
    {
     "data": {
      "text/plain": [
       "favoriteCount            0.000000e+00\n",
       "contentRating            4.089615e-03\n",
       "title_sentiment          1.674895e-02\n",
       "intitle_q                1.829676e-02\n",
       "tags_sentiment           1.834269e-02\n",
       "lv_ratio                 2.321357e-02\n",
       "comment_view_ratio       2.477155e-02\n",
       "description_sentiment    2.608703e-02\n",
       "caption                  3.277385e-02\n",
       "intitle_j                3.297021e-02\n",
       "title_featuring          3.508933e-02\n",
       "regionRestriction        3.664481e-02\n",
       "is_friday                3.920021e-02\n",
       "is_weekend               4.594237e-02\n",
       "intitle_z                4.936614e-02\n",
       "intitle_x                5.049607e-02\n",
       "intitle_b                5.142826e-02\n",
       "intitle_w                5.263046e-02\n",
       "intitle_v                5.427701e-02\n",
       "definition               5.774341e-02\n",
       "licensedContent          6.249108e-02\n",
       "intitle_y                7.156791e-02\n",
       "intitle_p                7.375208e-02\n",
       "intitle_m                8.163824e-02\n",
       "intitle_g                8.191738e-02\n",
       "intitle_k                8.364927e-02\n",
       "intitle_u                9.272182e-02\n",
       "intitle_d                1.031492e-01\n",
       "intitle_c                1.033625e-01\n",
       "intitle_h                1.102266e-01\n",
       "                             ...     \n",
       "intitle_s                1.366023e-01\n",
       "intitle_r                1.431690e-01\n",
       "intitle_l                1.450358e-01\n",
       "intitle_t                1.664851e-01\n",
       "intitle_n                1.797572e-01\n",
       "intitle_o                1.850410e-01\n",
       "intitle_e                1.900213e-01\n",
       "intitle_i                2.096830e-01\n",
       "week_day                 2.118531e-01\n",
       "comment_log              2.193598e-01\n",
       "dislike_log              2.513902e-01\n",
       "like_log                 2.600143e-01\n",
       "view_log                 2.602285e-01\n",
       "view_class               2.635335e-01\n",
       "intitle_a                3.255877e-01\n",
       "like_dislike_ratio       3.447975e-01\n",
       "title_wordcount          3.756676e-01\n",
       "month                    4.357338e-01\n",
       "year                     4.957262e-01\n",
       "month_day                9.291645e-01\n",
       "tags_wordcount           1.086252e+00\n",
       "title_length             1.850535e+00\n",
       "week                     1.916952e+00\n",
       "description_wordcount    1.240059e+01\n",
       "year_day                 1.331924e+01\n",
       "duration                 2.617430e+02\n",
       "commentCount             1.061510e+04\n",
       "dislikeCount             1.206249e+04\n",
       "likeCount                1.144191e+05\n",
       "viewCount                2.283236e+07\n",
       "Length: 61, dtype: float64"
      ]
     },
     "execution_count": 134,
     "metadata": {},
     "output_type": "execute_result"
    }
   ],
   "source": [
    "df_classified.groupby('kclass').mean().std().sort_values()"
   ]
  },
  {
   "cell_type": "code",
   "execution_count": 144,
   "metadata": {},
   "outputs": [],
   "source": [
    "#df_classified.to_csv('./data/k_classified_data.csv', index=False)"
   ]
  },
  {
   "cell_type": "markdown",
   "metadata": {},
   "source": [
    "### DBScan"
   ]
  },
  {
   "cell_type": "code",
   "execution_count": 137,
   "metadata": {},
   "outputs": [
    {
     "data": {
      "text/plain": [
       " 0    8250\n",
       "-1     352\n",
       "Name: class, dtype: int64"
      ]
     },
     "execution_count": 137,
     "metadata": {},
     "output_type": "execute_result"
    }
   ],
   "source": [
    "db_model = DBSCAN(eps=5)\n",
    "\n",
    "pd.DataFrame(db_model.fit_predict(uns_X_sc), columns=['class'])['class'].value_counts()"
   ]
  },
  {
   "cell_type": "code",
   "execution_count": 138,
   "metadata": {},
   "outputs": [],
   "source": [
    "db_preds = db_model.fit_predict(uns_X_sc)\n",
    "df_db_classes = df_main[df_main.view_class>1]"
   ]
  },
  {
   "cell_type": "code",
   "execution_count": 139,
   "metadata": {},
   "outputs": [
    {
     "name": "stderr",
     "output_type": "stream",
     "text": [
      "C:\\ProgramData\\Anaconda3\\lib\\site-packages\\ipykernel_launcher.py:1: SettingWithCopyWarning: \n",
      "A value is trying to be set on a copy of a slice from a DataFrame.\n",
      "Try using .loc[row_indexer,col_indexer] = value instead\n",
      "\n",
      "See the caveats in the documentation: http://pandas.pydata.org/pandas-docs/stable/indexing.html#indexing-view-versus-copy\n",
      "  \"\"\"Entry point for launching an IPython kernel.\n"
     ]
    }
   ],
   "source": [
    "df_db_classes['db_class'] = db_preds"
   ]
  },
  {
   "cell_type": "code",
   "execution_count": 142,
   "metadata": {},
   "outputs": [
    {
     "data": {
      "text/plain": [
       "5.770894846454698"
      ]
     },
     "execution_count": 142,
     "metadata": {},
     "output_type": "execute_result"
    }
   ],
   "source": [
    "df_db_classes[df_db_classes.db_class==-1].view_log.mean()"
   ]
  },
  {
   "cell_type": "markdown",
   "metadata": {},
   "source": [
    "## <a class=\"anchor\" id=\"3.2-bullet\">3.2 Supervised Classification</a>\n",
    "\n"
   ]
  },
  {
   "cell_type": "markdown",
   "metadata": {},
   "source": [
    "### 3.2.1 Classification - Gradient Boost"
   ]
  },
  {
   "cell_type": "code",
   "execution_count": 155,
   "metadata": {},
   "outputs": [],
   "source": [
    "gb = GradientBoostingClassifier()\n",
    "gb.fit(X_train_sc, y_train)\n",
    "\n",
    "preds = gb.predict(X_test_sc)"
   ]
  },
  {
   "cell_type": "code",
   "execution_count": 156,
   "metadata": {},
   "outputs": [
    {
     "data": {
      "text/html": [
       "<div>\n",
       "<style scoped>\n",
       "    .dataframe tbody tr th:only-of-type {\n",
       "        vertical-align: middle;\n",
       "    }\n",
       "\n",
       "    .dataframe tbody tr th {\n",
       "        vertical-align: top;\n",
       "    }\n",
       "\n",
       "    .dataframe thead th {\n",
       "        text-align: right;\n",
       "    }\n",
       "</style>\n",
       "<table border=\"1\" class=\"dataframe\">\n",
       "  <thead>\n",
       "    <tr style=\"text-align: right;\">\n",
       "      <th></th>\n",
       "      <th>2</th>\n",
       "      <th>3</th>\n",
       "      <th>4</th>\n",
       "      <th>5</th>\n",
       "      <th>6</th>\n",
       "      <th>7</th>\n",
       "      <th>8</th>\n",
       "      <th>9</th>\n",
       "    </tr>\n",
       "  </thead>\n",
       "  <tbody>\n",
       "    <tr>\n",
       "      <th>2</th>\n",
       "      <td>34</td>\n",
       "      <td>12</td>\n",
       "      <td>4</td>\n",
       "      <td>12</td>\n",
       "      <td>44</td>\n",
       "      <td>2</td>\n",
       "      <td>0</td>\n",
       "      <td>0</td>\n",
       "    </tr>\n",
       "    <tr>\n",
       "      <th>3</th>\n",
       "      <td>11</td>\n",
       "      <td>21</td>\n",
       "      <td>16</td>\n",
       "      <td>23</td>\n",
       "      <td>65</td>\n",
       "      <td>7</td>\n",
       "      <td>0</td>\n",
       "      <td>0</td>\n",
       "    </tr>\n",
       "    <tr>\n",
       "      <th>4</th>\n",
       "      <td>9</td>\n",
       "      <td>20</td>\n",
       "      <td>22</td>\n",
       "      <td>42</td>\n",
       "      <td>80</td>\n",
       "      <td>16</td>\n",
       "      <td>0</td>\n",
       "      <td>0</td>\n",
       "    </tr>\n",
       "    <tr>\n",
       "      <th>5</th>\n",
       "      <td>7</td>\n",
       "      <td>5</td>\n",
       "      <td>17</td>\n",
       "      <td>81</td>\n",
       "      <td>181</td>\n",
       "      <td>49</td>\n",
       "      <td>1</td>\n",
       "      <td>0</td>\n",
       "    </tr>\n",
       "    <tr>\n",
       "      <th>6</th>\n",
       "      <td>11</td>\n",
       "      <td>5</td>\n",
       "      <td>11</td>\n",
       "      <td>84</td>\n",
       "      <td>287</td>\n",
       "      <td>189</td>\n",
       "      <td>12</td>\n",
       "      <td>0</td>\n",
       "    </tr>\n",
       "    <tr>\n",
       "      <th>7</th>\n",
       "      <td>2</td>\n",
       "      <td>3</td>\n",
       "      <td>2</td>\n",
       "      <td>20</td>\n",
       "      <td>199</td>\n",
       "      <td>294</td>\n",
       "      <td>21</td>\n",
       "      <td>1</td>\n",
       "    </tr>\n",
       "    <tr>\n",
       "      <th>8</th>\n",
       "      <td>1</td>\n",
       "      <td>0</td>\n",
       "      <td>0</td>\n",
       "      <td>6</td>\n",
       "      <td>45</td>\n",
       "      <td>128</td>\n",
       "      <td>33</td>\n",
       "      <td>0</td>\n",
       "    </tr>\n",
       "    <tr>\n",
       "      <th>9</th>\n",
       "      <td>0</td>\n",
       "      <td>0</td>\n",
       "      <td>0</td>\n",
       "      <td>0</td>\n",
       "      <td>1</td>\n",
       "      <td>11</td>\n",
       "      <td>4</td>\n",
       "      <td>0</td>\n",
       "    </tr>\n",
       "  </tbody>\n",
       "</table>\n",
       "</div>"
      ],
      "text/plain": [
       "    2   3   4   5    6    7   8  9\n",
       "2  34  12   4  12   44    2   0  0\n",
       "3  11  21  16  23   65    7   0  0\n",
       "4   9  20  22  42   80   16   0  0\n",
       "5   7   5  17  81  181   49   1  0\n",
       "6  11   5  11  84  287  189  12  0\n",
       "7   2   3   2  20  199  294  21  1\n",
       "8   1   0   0   6   45  128  33  0\n",
       "9   0   0   0   0    1   11   4  0"
      ]
     },
     "execution_count": 156,
     "metadata": {},
     "output_type": "execute_result"
    }
   ],
   "source": [
    "cm = confusion_matrix(y_test, preds)\n",
    "pd.DataFrame(cm, columns=range(2,10), index=range(2,10))"
   ]
  },
  {
   "cell_type": "code",
   "execution_count": 157,
   "metadata": {},
   "outputs": [
    {
     "data": {
      "text/plain": [
       "<seaborn.axisgrid.FacetGrid at 0x18c813ddeb8>"
      ]
     },
     "execution_count": 157,
     "metadata": {},
     "output_type": "execute_result"
    },
    {
     "data": {
      "image/png": "[encoded data removed]",
      "text/plain": [
       "<Figure size 400x400 with 1 Axes>"
      ]
     },
     "metadata": {},
     "output_type": "display_data"
    }
   ],
   "source": [
    "df_residuals = pd.DataFrame(y_test)\n",
    "df_residuals['predicted'] = preds\n",
    "df_residuals['residuals'] = df_residuals.predicted - df_residuals.view_class\n",
    "sns.lmplot('view_class', 'predicted', data=df_residuals)"
   ]
  },
  {
   "cell_type": "code",
   "execution_count": 158,
   "metadata": {},
   "outputs": [
    {
     "data": {
      "text/plain": [
       "0.23393125202470566"
      ]
     },
     "execution_count": 158,
     "metadata": {},
     "output_type": "execute_result"
    }
   ],
   "source": [
    "r2_score(df_residuals.view_class, df_residuals.predicted)\n"
   ]
  },
  {
   "cell_type": "code",
   "execution_count": 34,
   "metadata": {
    "collapsed": true
   },
   "outputs": [
    {
     "name": "stderr",
     "output_type": "stream",
     "text": [
      "C:\\ProgramData\\Anaconda3\\lib\\site-packages\\ipykernel_launcher.py:4: SettingWithCopyWarning: \n",
      "A value is trying to be set on a copy of a slice from a DataFrame.\n",
      "Try using .loc[row_indexer,col_indexer] = value instead\n",
      "\n",
      "See the caveats in the documentation: http://pandas.pydata.org/pandas-docs/stable/indexing.html#indexing-view-versus-copy\n",
      "  after removing the cwd from sys.path.\n"
     ]
    },
    {
     "data": {
      "text/html": [
       "<div>\n",
       "<style scoped>\n",
       "    .dataframe tbody tr th:only-of-type {\n",
       "        vertical-align: middle;\n",
       "    }\n",
       "\n",
       "    .dataframe tbody tr th {\n",
       "        vertical-align: top;\n",
       "    }\n",
       "\n",
       "    .dataframe thead th {\n",
       "        text-align: right;\n",
       "    }\n",
       "</style>\n",
       "<table border=\"1\" class=\"dataframe\">\n",
       "  <thead>\n",
       "    <tr style=\"text-align: right;\">\n",
       "      <th></th>\n",
       "      <th>title</th>\n",
       "      <th>viewCount</th>\n",
       "      <th>predicted</th>\n",
       "    </tr>\n",
       "  </thead>\n",
       "  <tbody>\n",
       "    <tr>\n",
       "      <th>7479</th>\n",
       "      <td>Luis Fonsi - Despacito ft. Daddy Yankee</td>\n",
       "      <td>5555912002</td>\n",
       "      <td>1000000000</td>\n",
       "    </tr>\n",
       "    <tr>\n",
       "      <th>4268</th>\n",
       "      <td>Ed Sheeran - Shape of You [Official Video]</td>\n",
       "      <td>3827104659</td>\n",
       "      <td>1000000000</td>\n",
       "    </tr>\n",
       "    <tr>\n",
       "      <th>7190</th>\n",
       "      <td>Wiz Khalifa - See You Again ft. Charlie Puth [...</td>\n",
       "      <td>3788737518</td>\n",
       "      <td>1000000000</td>\n",
       "    </tr>\n",
       "    <tr>\n",
       "      <th>5540</th>\n",
       "      <td>Mark Ronson - Uptown Funk ft. Bruno Mars</td>\n",
       "      <td>3256917992</td>\n",
       "      <td>1000000000</td>\n",
       "    </tr>\n",
       "    <tr>\n",
       "      <th>3634</th>\n",
       "      <td>PSY - GANGNAM STYLE(강남스타일) M/V</td>\n",
       "      <td>3218413082</td>\n",
       "      <td>1000000000</td>\n",
       "    </tr>\n",
       "    <tr>\n",
       "      <th>569</th>\n",
       "      <td>Justin Bieber - Sorry (PURPOSE : The Movement)</td>\n",
       "      <td>3014897224</td>\n",
       "      <td>1000000000</td>\n",
       "    </tr>\n",
       "    <tr>\n",
       "      <th>7417</th>\n",
       "      <td>Maroon 5 - Sugar</td>\n",
       "      <td>2756205542</td>\n",
       "      <td>1000000000</td>\n",
       "    </tr>\n",
       "    <tr>\n",
       "      <th>7514</th>\n",
       "      <td>Taylor Swift - Shake It Off</td>\n",
       "      <td>2650920924</td>\n",
       "      <td>1000000000</td>\n",
       "    </tr>\n",
       "    <tr>\n",
       "      <th>5506</th>\n",
       "      <td>Katy Perry - Roar (Official)</td>\n",
       "      <td>2638406673</td>\n",
       "      <td>1000000000</td>\n",
       "    </tr>\n",
       "    <tr>\n",
       "      <th>627</th>\n",
       "      <td>Enrique Iglesias - Bailando (Español) ft. Desc...</td>\n",
       "      <td>2582945265</td>\n",
       "      <td>100000000</td>\n",
       "    </tr>\n",
       "    <tr>\n",
       "      <th>5532</th>\n",
       "      <td>Ed Sheeran - Thinking Out Loud [Official Video]</td>\n",
       "      <td>2496797028</td>\n",
       "      <td>1000000000</td>\n",
       "    </tr>\n",
       "    <tr>\n",
       "      <th>3220</th>\n",
       "      <td>Katy Perry - Dark Horse (Official) ft. Juicy J</td>\n",
       "      <td>2429899549</td>\n",
       "      <td>1000000000</td>\n",
       "    </tr>\n",
       "    <tr>\n",
       "      <th>7602</th>\n",
       "      <td>Taylor Swift - Blank Space</td>\n",
       "      <td>2343876199</td>\n",
       "      <td>1000000000</td>\n",
       "    </tr>\n",
       "    <tr>\n",
       "      <th>7555</th>\n",
       "      <td>Shakira - Chantaje ft. Maluma</td>\n",
       "      <td>2255261833</td>\n",
       "      <td>100000000</td>\n",
       "    </tr>\n",
       "    <tr>\n",
       "      <th>4251</th>\n",
       "      <td>Meghan Trainor - All About That Bass</td>\n",
       "      <td>2227064426</td>\n",
       "      <td>100000000</td>\n",
       "    </tr>\n",
       "    <tr>\n",
       "      <th>7214</th>\n",
       "      <td>Calvin Harris - This Is What You Came For (Off...</td>\n",
       "      <td>2097510786</td>\n",
       "      <td>100000000</td>\n",
       "    </tr>\n",
       "    <tr>\n",
       "      <th>7425</th>\n",
       "      <td>Passenger | Let Her Go (Official Video)</td>\n",
       "      <td>2068337176</td>\n",
       "      <td>1000000000</td>\n",
       "    </tr>\n",
       "    <tr>\n",
       "      <th>7516</th>\n",
       "      <td>Shakira - Waka Waka (This Time for Africa) (Th...</td>\n",
       "      <td>2041632211</td>\n",
       "      <td>1000000000</td>\n",
       "    </tr>\n",
       "    <tr>\n",
       "      <th>3208</th>\n",
       "      <td>J Balvin, Willy William - Mi Gente (Official V...</td>\n",
       "      <td>2041493278</td>\n",
       "      <td>1000000000</td>\n",
       "    </tr>\n",
       "    <tr>\n",
       "      <th>7531</th>\n",
       "      <td>Justin Bieber - Baby ft. Ludacris</td>\n",
       "      <td>1985152808</td>\n",
       "      <td>1000000000</td>\n",
       "    </tr>\n",
       "    <tr>\n",
       "      <th>7427</th>\n",
       "      <td>Alan Walker - Faded</td>\n",
       "      <td>1975021362</td>\n",
       "      <td>1000000000</td>\n",
       "    </tr>\n",
       "    <tr>\n",
       "      <th>7174</th>\n",
       "      <td>Justin Bieber - What Do You Mean?</td>\n",
       "      <td>1944265383</td>\n",
       "      <td>1000000000</td>\n",
       "    </tr>\n",
       "    <tr>\n",
       "      <th>6846</th>\n",
       "      <td>Charlie Puth - We Don't Talk Anymore (feat. Se...</td>\n",
       "      <td>1935955368</td>\n",
       "      <td>1000000000</td>\n",
       "    </tr>\n",
       "    <tr>\n",
       "      <th>8637</th>\n",
       "      <td>Fifth Harmony - Work from Home ft. Ty Dolla $ign</td>\n",
       "      <td>1919599269</td>\n",
       "      <td>1000000000</td>\n",
       "    </tr>\n",
       "    <tr>\n",
       "      <th>7461</th>\n",
       "      <td>Sia - Chandelier (Official Video)</td>\n",
       "      <td>1910731681</td>\n",
       "      <td>1000000000</td>\n",
       "    </tr>\n",
       "    <tr>\n",
       "      <th>7164</th>\n",
       "      <td>Ellie Goulding - Love Me Like You Do (Official...</td>\n",
       "      <td>1802662468</td>\n",
       "      <td>1000000000</td>\n",
       "    </tr>\n",
       "    <tr>\n",
       "      <th>7527</th>\n",
       "      <td>Avicii - Wake Me Up (Official Video)</td>\n",
       "      <td>1673921749</td>\n",
       "      <td>1000000000</td>\n",
       "    </tr>\n",
       "    <tr>\n",
       "      <th>7434</th>\n",
       "      <td>Luis Fonsi, Demi Lovato - Échame La Culpa</td>\n",
       "      <td>1619227144</td>\n",
       "      <td>1000000000</td>\n",
       "    </tr>\n",
       "    <tr>\n",
       "      <th>4319</th>\n",
       "      <td>Fifth Harmony - Worth It ft. Kid Ink</td>\n",
       "      <td>1617220892</td>\n",
       "      <td>1000000000</td>\n",
       "    </tr>\n",
       "    <tr>\n",
       "      <th>5567</th>\n",
       "      <td>Eminem - Love The Way You Lie ft. Rihanna</td>\n",
       "      <td>1607500199</td>\n",
       "      <td>100000000</td>\n",
       "    </tr>\n",
       "    <tr>\n",
       "      <th>...</th>\n",
       "      <td>...</td>\n",
       "      <td>...</td>\n",
       "      <td>...</td>\n",
       "    </tr>\n",
       "    <tr>\n",
       "      <th>689</th>\n",
       "      <td>Britney Spears - I'm A Slave 4 U</td>\n",
       "      <td>105422444</td>\n",
       "      <td>10000000</td>\n",
       "    </tr>\n",
       "    <tr>\n",
       "      <th>7907</th>\n",
       "      <td>Pantera - Walk (Official Video)</td>\n",
       "      <td>105391869</td>\n",
       "      <td>100000000</td>\n",
       "    </tr>\n",
       "    <tr>\n",
       "      <th>4331</th>\n",
       "      <td>Boney M - Rasputin</td>\n",
       "      <td>105231093</td>\n",
       "      <td>100000000</td>\n",
       "    </tr>\n",
       "    <tr>\n",
       "      <th>5006</th>\n",
       "      <td>MC Vitão feat. Dennis DJ - Olha o Gás (KondZilla)</td>\n",
       "      <td>105228657</td>\n",
       "      <td>100000000</td>\n",
       "    </tr>\n",
       "    <tr>\n",
       "      <th>419</th>\n",
       "      <td>Juan Magan, Belinda, Manuel Turizo, Snova, B-C...</td>\n",
       "      <td>105218524</td>\n",
       "      <td>100000000</td>\n",
       "    </tr>\n",
       "    <tr>\n",
       "      <th>5519</th>\n",
       "      <td>Mike Perry - The Ocean ft. Shy Martin</td>\n",
       "      <td>105022999</td>\n",
       "      <td>10000000</td>\n",
       "    </tr>\n",
       "    <tr>\n",
       "      <th>5451</th>\n",
       "      <td>米津玄師 MV「ピースサイン」Kenshi Yonezu / Peace Sign</td>\n",
       "      <td>104756642</td>\n",
       "      <td>10000000</td>\n",
       "    </tr>\n",
       "    <tr>\n",
       "      <th>6113</th>\n",
       "      <td>R. Kelly - Same Girl</td>\n",
       "      <td>104626707</td>\n",
       "      <td>100000000</td>\n",
       "    </tr>\n",
       "    <tr>\n",
       "      <th>4933</th>\n",
       "      <td>Cia. SALT - Quero Conhecer Jesus (Cover Alessa...</td>\n",
       "      <td>104487992</td>\n",
       "      <td>100000000</td>\n",
       "    </tr>\n",
       "    <tr>\n",
       "      <th>5465</th>\n",
       "      <td>Red Velvet 레드벨벳 '피카부 (Peek-A-Boo)' MV</td>\n",
       "      <td>104447825</td>\n",
       "      <td>100000000</td>\n",
       "    </tr>\n",
       "    <tr>\n",
       "      <th>1545</th>\n",
       "      <td>Takagi &amp; Ketra - Amore e Capoeira ft. Giusy Fe...</td>\n",
       "      <td>104190060</td>\n",
       "      <td>100000000</td>\n",
       "    </tr>\n",
       "    <tr>\n",
       "      <th>3265</th>\n",
       "      <td>Jennifer Lopez featuring LL Cool J - All I Hav...</td>\n",
       "      <td>103975303</td>\n",
       "      <td>10000000</td>\n",
       "    </tr>\n",
       "    <tr>\n",
       "      <th>6790</th>\n",
       "      <td>T-Pain - Buy U A Drank (Shawty Snappin') ft. Y...</td>\n",
       "      <td>103859271</td>\n",
       "      <td>100000000</td>\n",
       "    </tr>\n",
       "    <tr>\n",
       "      <th>3306</th>\n",
       "      <td>Jessie J - Nobody's Perfect</td>\n",
       "      <td>103445230</td>\n",
       "      <td>10000000</td>\n",
       "    </tr>\n",
       "    <tr>\n",
       "      <th>8668</th>\n",
       "      <td>Lil Dicky - $ave Dat Money feat. Fetty Wap and...</td>\n",
       "      <td>103268539</td>\n",
       "      <td>100000000</td>\n",
       "    </tr>\n",
       "    <tr>\n",
       "      <th>4985</th>\n",
       "      <td>O Rappa - Anjos \"Pra Quem Tem Fé\"  (Webclipe) ...</td>\n",
       "      <td>102721066</td>\n",
       "      <td>100000000</td>\n",
       "    </tr>\n",
       "    <tr>\n",
       "      <th>7235</th>\n",
       "      <td>Stefflon Don, French Montana - Hurtin' Me (Off...</td>\n",
       "      <td>102543325</td>\n",
       "      <td>10000000</td>\n",
       "    </tr>\n",
       "    <tr>\n",
       "      <th>8615</th>\n",
       "      <td>Red Velvet 레드벨벳 '빨간 맛 (Red Flavor)' MV</td>\n",
       "      <td>102499330</td>\n",
       "      <td>100000000</td>\n",
       "    </tr>\n",
       "    <tr>\n",
       "      <th>8675</th>\n",
       "      <td>Ed Sheeran - Small Bump [Official Video]</td>\n",
       "      <td>102464464</td>\n",
       "      <td>10000000</td>\n",
       "    </tr>\n",
       "    <tr>\n",
       "      <th>5312</th>\n",
       "      <td>Akon - Locked Up ft. Styles P</td>\n",
       "      <td>101963775</td>\n",
       "      <td>10000000</td>\n",
       "    </tr>\n",
       "    <tr>\n",
       "      <th>2558</th>\n",
       "      <td>G-DRAGON - 니가 뭔데(WHO YOU?) M/V</td>\n",
       "      <td>101891506</td>\n",
       "      <td>10000000</td>\n",
       "    </tr>\n",
       "    <tr>\n",
       "      <th>3639</th>\n",
       "      <td>Kodak Black, 21 Savage, Lil Uzi Vert, Lil Yach...</td>\n",
       "      <td>101605159</td>\n",
       "      <td>100000000</td>\n",
       "    </tr>\n",
       "    <tr>\n",
       "      <th>86</th>\n",
       "      <td>P!nk - Beautiful Trauma (Official Video)</td>\n",
       "      <td>101434044</td>\n",
       "      <td>100000000</td>\n",
       "    </tr>\n",
       "    <tr>\n",
       "      <th>6631</th>\n",
       "      <td>X Ambassadors - Unsteady</td>\n",
       "      <td>101401422</td>\n",
       "      <td>10000000</td>\n",
       "    </tr>\n",
       "    <tr>\n",
       "      <th>8624</th>\n",
       "      <td>Gladiator - Now We Are Free Super Theme Song</td>\n",
       "      <td>101305195</td>\n",
       "      <td>10000000</td>\n",
       "    </tr>\n",
       "    <tr>\n",
       "      <th>4261</th>\n",
       "      <td>Lauv - I Like Me Better [Official Audio]</td>\n",
       "      <td>100986069</td>\n",
       "      <td>10000000</td>\n",
       "    </tr>\n",
       "    <tr>\n",
       "      <th>7463</th>\n",
       "      <td>Ed Sheeran &amp; Passenger - No Diggity vs. Thrift...</td>\n",
       "      <td>100744773</td>\n",
       "      <td>10000000</td>\n",
       "    </tr>\n",
       "    <tr>\n",
       "      <th>8123</th>\n",
       "      <td>Jose Luis Perales - Y como es él (1982)</td>\n",
       "      <td>100581018</td>\n",
       "      <td>10000000</td>\n",
       "    </tr>\n",
       "    <tr>\n",
       "      <th>6920</th>\n",
       "      <td>Flux Pavilion - I Can't Stop</td>\n",
       "      <td>100415567</td>\n",
       "      <td>100000000</td>\n",
       "    </tr>\n",
       "    <tr>\n",
       "      <th>1172</th>\n",
       "      <td>Dynoro &amp; Gigi D’Agostino - In My Mind</td>\n",
       "      <td>100087673</td>\n",
       "      <td>10000000</td>\n",
       "    </tr>\n",
       "  </tbody>\n",
       "</table>\n",
       "<p>900 rows × 3 columns</p>\n",
       "</div>"
      ],
      "text/plain": [
       "                                                  title   viewCount  \\\n",
       "7479            Luis Fonsi - Despacito ft. Daddy Yankee  5555912002   \n",
       "4268         Ed Sheeran - Shape of You [Official Video]  3827104659   \n",
       "7190  Wiz Khalifa - See You Again ft. Charlie Puth [...  3788737518   \n",
       "5540           Mark Ronson - Uptown Funk ft. Bruno Mars  3256917992   \n",
       "3634                     PSY - GANGNAM STYLE(강남스타일) M/V  3218413082   \n",
       "569      Justin Bieber - Sorry (PURPOSE : The Movement)  3014897224   \n",
       "7417                                   Maroon 5 - Sugar  2756205542   \n",
       "7514                        Taylor Swift - Shake It Off  2650920924   \n",
       "5506                       Katy Perry - Roar (Official)  2638406673   \n",
       "627   Enrique Iglesias - Bailando (Español) ft. Desc...  2582945265   \n",
       "5532    Ed Sheeran - Thinking Out Loud [Official Video]  2496797028   \n",
       "3220     Katy Perry - Dark Horse (Official) ft. Juicy J  2429899549   \n",
       "7602                         Taylor Swift - Blank Space  2343876199   \n",
       "7555                      Shakira - Chantaje ft. Maluma  2255261833   \n",
       "4251               Meghan Trainor - All About That Bass  2227064426   \n",
       "7214  Calvin Harris - This Is What You Came For (Off...  2097510786   \n",
       "7425            Passenger | Let Her Go (Official Video)  2068337176   \n",
       "7516  Shakira - Waka Waka (This Time for Africa) (Th...  2041632211   \n",
       "3208  J Balvin, Willy William - Mi Gente (Official V...  2041493278   \n",
       "7531                  Justin Bieber - Baby ft. Ludacris  1985152808   \n",
       "7427                                Alan Walker - Faded  1975021362   \n",
       "7174                  Justin Bieber - What Do You Mean?  1944265383   \n",
       "6846  Charlie Puth - We Don't Talk Anymore (feat. Se...  1935955368   \n",
       "8637   Fifth Harmony - Work from Home ft. Ty Dolla $ign  1919599269   \n",
       "7461                  Sia - Chandelier (Official Video)  1910731681   \n",
       "7164  Ellie Goulding - Love Me Like You Do (Official...  1802662468   \n",
       "7527               Avicii - Wake Me Up (Official Video)  1673921749   \n",
       "7434          Luis Fonsi, Demi Lovato - Échame La Culpa  1619227144   \n",
       "4319               Fifth Harmony - Worth It ft. Kid Ink  1617220892   \n",
       "5567          Eminem - Love The Way You Lie ft. Rihanna  1607500199   \n",
       "...                                                 ...         ...   \n",
       "689                    Britney Spears - I'm A Slave 4 U   105422444   \n",
       "7907                    Pantera - Walk (Official Video)   105391869   \n",
       "4331                                 Boney M - Rasputin   105231093   \n",
       "5006  MC Vitão feat. Dennis DJ - Olha o Gás (KondZilla)   105228657   \n",
       "419   Juan Magan, Belinda, Manuel Turizo, Snova, B-C...   105218524   \n",
       "5519              Mike Perry - The Ocean ft. Shy Martin   105022999   \n",
       "5451          米津玄師 MV「ピースサイン」Kenshi Yonezu / Peace Sign   104756642   \n",
       "6113                               R. Kelly - Same Girl   104626707   \n",
       "4933  Cia. SALT - Quero Conhecer Jesus (Cover Alessa...   104487992   \n",
       "5465              Red Velvet 레드벨벳 '피카부 (Peek-A-Boo)' MV   104447825   \n",
       "1545  Takagi & Ketra - Amore e Capoeira ft. Giusy Fe...   104190060   \n",
       "3265  Jennifer Lopez featuring LL Cool J - All I Hav...   103975303   \n",
       "6790  T-Pain - Buy U A Drank (Shawty Snappin') ft. Y...   103859271   \n",
       "3306                        Jessie J - Nobody's Perfect   103445230   \n",
       "8668  Lil Dicky - $ave Dat Money feat. Fetty Wap and...   103268539   \n",
       "4985  O Rappa - Anjos \"Pra Quem Tem Fé\"  (Webclipe) ...   102721066   \n",
       "7235  Stefflon Don, French Montana - Hurtin' Me (Off...   102543325   \n",
       "8615             Red Velvet 레드벨벳 '빨간 맛 (Red Flavor)' MV   102499330   \n",
       "8675           Ed Sheeran - Small Bump [Official Video]   102464464   \n",
       "5312                      Akon - Locked Up ft. Styles P   101963775   \n",
       "2558                     G-DRAGON - 니가 뭔데(WHO YOU?) M/V   101891506   \n",
       "3639  Kodak Black, 21 Savage, Lil Uzi Vert, Lil Yach...   101605159   \n",
       "86             P!nk - Beautiful Trauma (Official Video)   101434044   \n",
       "6631                           X Ambassadors - Unsteady   101401422   \n",
       "8624       Gladiator - Now We Are Free Super Theme Song   101305195   \n",
       "4261           Lauv - I Like Me Better [Official Audio]   100986069   \n",
       "7463  Ed Sheeran & Passenger - No Diggity vs. Thrift...   100744773   \n",
       "8123            Jose Luis Perales - Y como es él (1982)   100581018   \n",
       "6920                       Flux Pavilion - I Can't Stop   100415567   \n",
       "1172              Dynoro & Gigi D’Agostino - In My Mind   100087673   \n",
       "\n",
       "       predicted  \n",
       "7479  1000000000  \n",
       "4268  1000000000  \n",
       "7190  1000000000  \n",
       "5540  1000000000  \n",
       "3634  1000000000  \n",
       "569   1000000000  \n",
       "7417  1000000000  \n",
       "7514  1000000000  \n",
       "5506  1000000000  \n",
       "627    100000000  \n",
       "5532  1000000000  \n",
       "3220  1000000000  \n",
       "7602  1000000000  \n",
       "7555   100000000  \n",
       "4251   100000000  \n",
       "7214   100000000  \n",
       "7425  1000000000  \n",
       "7516  1000000000  \n",
       "3208  1000000000  \n",
       "7531  1000000000  \n",
       "7427  1000000000  \n",
       "7174  1000000000  \n",
       "6846  1000000000  \n",
       "8637  1000000000  \n",
       "7461  1000000000  \n",
       "7164  1000000000  \n",
       "7527  1000000000  \n",
       "7434  1000000000  \n",
       "4319  1000000000  \n",
       "5567   100000000  \n",
       "...          ...  \n",
       "689     10000000  \n",
       "7907   100000000  \n",
       "4331   100000000  \n",
       "5006   100000000  \n",
       "419    100000000  \n",
       "5519    10000000  \n",
       "5451    10000000  \n",
       "6113   100000000  \n",
       "4933   100000000  \n",
       "5465   100000000  \n",
       "1545   100000000  \n",
       "3265    10000000  \n",
       "6790   100000000  \n",
       "3306    10000000  \n",
       "8668   100000000  \n",
       "4985   100000000  \n",
       "7235    10000000  \n",
       "8615   100000000  \n",
       "8675    10000000  \n",
       "5312    10000000  \n",
       "2558    10000000  \n",
       "3639   100000000  \n",
       "86     100000000  \n",
       "6631    10000000  \n",
       "8624    10000000  \n",
       "4261    10000000  \n",
       "7463    10000000  \n",
       "8123    10000000  \n",
       "6920   100000000  \n",
       "1172    10000000  \n",
       "\n",
       "[900 rows x 3 columns]"
      ]
     },
     "execution_count": 34,
     "metadata": {},
     "output_type": "execute_result"
    }
   ],
   "source": [
    "df_big = df_main[df_main.viewCount > 100000000]\n",
    "df_big_ss = ss.transform(df_big.loc[:, cols_include_initial])\n",
    "\n",
    "df_big['predicted'] = 10**model.predict(df_big_ss)\n",
    "\n",
    "#df_big.viewCount = df_big.viewCount.map(lambda x: '{:.6g}'.format(x))\n",
    "\n",
    "df_big.loc[:, ['title', 'viewCount', 'predicted']].sort_values(by='viewCount', ascending=False)"
   ]
  },
  {
   "cell_type": "markdown",
   "metadata": {},
   "source": [
    "## <a class=\"anchor\" id=\"3.2-bullet\">3.2 KClass binary</a>\n",
    "\n"
   ]
  },
  {
   "cell_type": "code",
   "execution_count": 159,
   "metadata": {},
   "outputs": [],
   "source": [
    "y=1*(df_formodel.view_log>8)\n",
    "X = df_formodel.loc[:, cols_include_initial]\n",
    "\n",
    "X_train, X_test, y_train, y_test=train_test_split(X, y, random_state=25)\n",
    "ss = StandardScaler()\n",
    "X_train_sc = ss.fit_transform(X_train)\n",
    "X_test_sc = ss.transform(X_test)"
   ]
  },
  {
   "cell_type": "code",
   "execution_count": 160,
   "metadata": {},
   "outputs": [
    {
     "data": {
      "text/plain": [
       "0.897721989772199"
      ]
     },
     "execution_count": 160,
     "metadata": {},
     "output_type": "execute_result"
    }
   ],
   "source": [
    "gb_bin = GradientBoostingClassifier()\n",
    "gb_bin.fit(X_train_sc, y_train)\n",
    "gb_bin.score(X_test_sc, y_test)"
   ]
  },
  {
   "cell_type": "code",
   "execution_count": 161,
   "metadata": {},
   "outputs": [
    {
     "name": "stdout",
     "output_type": "stream",
     "text": [
      "    accuracy:  0.897721989772199 roc:  0.8452105819288909\n"
     ]
    }
   ],
   "source": [
    "preds = gb_bin.predict_proba(X_test_sc)\n",
    "print('    accuracy: ', gb_bin.score(X_test_sc, y_test), 'roc: ', roc_auc_score(y_test, [element[1] for element in preds]))"
   ]
  },
  {
   "cell_type": "code",
   "execution_count": 162,
   "metadata": {},
   "outputs": [
    {
     "data": {
      "text/html": [
       "<div>\n",
       "<style scoped>\n",
       "    .dataframe tbody tr th:only-of-type {\n",
       "        vertical-align: middle;\n",
       "    }\n",
       "\n",
       "    .dataframe tbody tr th {\n",
       "        vertical-align: top;\n",
       "    }\n",
       "\n",
       "    .dataframe thead th {\n",
       "        text-align: right;\n",
       "    }\n",
       "</style>\n",
       "<table border=\"1\" class=\"dataframe\">\n",
       "  <thead>\n",
       "    <tr style=\"text-align: right;\">\n",
       "      <th></th>\n",
       "      <th>0</th>\n",
       "      <th>1</th>\n",
       "    </tr>\n",
       "  </thead>\n",
       "  <tbody>\n",
       "    <tr>\n",
       "      <th>0</th>\n",
       "      <td>1912</td>\n",
       "      <td>25</td>\n",
       "    </tr>\n",
       "    <tr>\n",
       "      <th>1</th>\n",
       "      <td>195</td>\n",
       "      <td>19</td>\n",
       "    </tr>\n",
       "  </tbody>\n",
       "</table>\n",
       "</div>"
      ],
      "text/plain": [
       "      0   1\n",
       "0  1912  25\n",
       "1   195  19"
      ]
     },
     "execution_count": 162,
     "metadata": {},
     "output_type": "execute_result"
    }
   ],
   "source": [
    "cm = confusion_matrix(y_test, gb_bin.predict(X_test_sc))\n",
    "pd.DataFrame(cm)"
   ]
  },
  {
   "cell_type": "code",
   "execution_count": 146,
   "metadata": {},
   "outputs": [
    {
     "data": {
      "text/plain": [
       "(900, 70)"
      ]
     },
     "execution_count": 146,
     "metadata": {},
     "output_type": "execute_result"
    }
   ],
   "source": [
    "df_main[df_main.view_log>8].shape"
   ]
  },
  {
   "cell_type": "markdown",
   "metadata": {},
   "source": [
    "## <a class=\"anchor\" id=\"3.3-bullet\">3.3 Neural Net</a>\n",
    "\n"
   ]
  },
  {
   "cell_type": "code",
   "execution_count": 45,
   "metadata": {},
   "outputs": [
    {
     "name": "stderr",
     "output_type": "stream",
     "text": [
      "C:\\ProgramData\\Anaconda3\\lib\\site-packages\\h5py\\__init__.py:36: FutureWarning: Conversion of the second argument of issubdtype from `float` to `np.floating` is deprecated. In future, it will be treated as `np.float64 == np.dtype(float).type`.\n",
      "  from ._conv import register_converters as _register_converters\n",
      "Using TensorFlow backend.\n"
     ]
    },
    {
     "name": "stdout",
     "output_type": "stream",
     "text": [
      "Couldn't import dot_parser, loading of dot files will not be possible.\n"
     ]
    }
   ],
   "source": [
    "from keras.models import Sequential\n",
    "from keras.layers import Dense, Dropout\n",
    "from keras.utils import to_categorical"
   ]
  },
  {
   "cell_type": "code",
   "execution_count": 46,
   "metadata": {},
   "outputs": [],
   "source": [
    "y = df_formodel.view_class\n",
    "X = df_formodel.loc[:, cols_include_initial]\n",
    "X_train, X_test, y_train, y_test=train_test_split(X, y, random_state=30)\n",
    "\n",
    "ss = StandardScaler()\n",
    "X_train_sc = ss.fit_transform(X_train)\n",
    "X_test_sc = ss.transform(X_test)"
   ]
  },
  {
   "cell_type": "code",
   "execution_count": 47,
   "metadata": {},
   "outputs": [],
   "source": [
    "y_train_cat = to_categorical(y_train)\n",
    "y_test_cat = to_categorical(y_test)"
   ]
  },
  {
   "cell_type": "code",
   "execution_count": null,
   "metadata": {},
   "outputs": [],
   "source": []
  },
  {
   "cell_type": "code",
   "execution_count": 61,
   "metadata": {},
   "outputs": [],
   "source": [
    "model = Sequential()\n",
    "#this does input and first activation\n",
    "model.add(Dense(X_train_sc.shape[1], activation='relu', input_dim=X_train_sc.shape[1]))\n",
    "model.add(Dropout(.5))\n",
    "model.add(Dense(20, activation='relu'))\n",
    "model.add(Dropout(.5))\n",
    "model.add(Dense(10, activation='relu'))\n",
    "\n",
    "model.add(Dense(y_train_cat.shape[1], activation='softmax')) #1 neuron\n",
    "model.compile(loss='categorical_crossentropy', optimizer='adam')\n",
    "\n",
    "history = model.fit(X_train_sc, y_train_cat, validation_data=(X_test_sc, y_test_cat), epochs=100, verbose=0)\n",
    "preds = model.predict(X_test_sc)\n",
    "#print( 'score: ', r2_score(y_test, preds))"
   ]
  },
  {
   "cell_type": "code",
   "execution_count": 62,
   "metadata": {},
   "outputs": [],
   "source": [
    "preds_cat = []\n",
    "for i in range(len(preds)):\n",
    "    preds_cat.append(list(preds[i]).index(max(preds[i])))"
   ]
  },
  {
   "cell_type": "code",
   "execution_count": 63,
   "metadata": {},
   "outputs": [
    {
     "data": {
      "text/plain": [
       "2151"
      ]
     },
     "execution_count": 63,
     "metadata": {},
     "output_type": "execute_result"
    }
   ],
   "source": [
    "len(preds_cat)"
   ]
  },
  {
   "cell_type": "code",
   "execution_count": 64,
   "metadata": {},
   "outputs": [],
   "source": [
    "temp = pd.DataFrame([y_test]).T.reset_index().drop('index', axis=1)\n",
    "temp['predicted'] = preds_cat"
   ]
  },
  {
   "cell_type": "code",
   "execution_count": 65,
   "metadata": {},
   "outputs": [
    {
     "data": {
      "text/plain": [
       "<seaborn.axisgrid.FacetGrid at 0x18ced890ba8>"
      ]
     },
     "execution_count": 65,
     "metadata": {},
     "output_type": "execute_result"
    },
    {
     "data": {
      "image/png": "[encoded data removed]",
      "text/plain": [
       "<Figure size 400x400 with 1 Axes>"
      ]
     },
     "metadata": {},
     "output_type": "display_data"
    }
   ],
   "source": [
    "sns.lmplot('view_class', 'predicted', data=temp)"
   ]
  },
  {
   "cell_type": "code",
   "execution_count": 66,
   "metadata": {},
   "outputs": [
    {
     "data": {
      "image/png": "[encoded data removed]",
      "text/plain": [
       "<Figure size 640x480 with 1 Axes>"
      ]
     },
     "metadata": {},
     "output_type": "display_data"
    }
   ],
   "source": [
    "plt.figure()\n",
    "plt.plot(history.history['loss'])\n",
    "plt.plot(history.history['val_loss'])\n",
    "plt.title('model loss')\n",
    "plt.ylabel('loss')\n",
    "plt.xlabel('epoch')\n",
    "plt.legend(['train', 'test'], loc='best')\n",
    "plt.show();"
   ]
  },
  {
   "cell_type": "code",
   "execution_count": 55,
   "metadata": {},
   "outputs": [],
   "source": [
    "#Save point 1\n",
    "#df_new.to_csv('./data/alphabet_pull_init_01.10.18.csv', index=False)"
   ]
  },
  {
   "cell_type": "code",
   "execution_count": null,
   "metadata": {},
   "outputs": [],
   "source": [
    "#nope: AdaBoostRegressor, "
   ]
  },
  {
   "cell_type": "markdown",
   "metadata": {},
   "source": [
    "## <a class=\"anchor\" id=\"3.2-bullet\">3.2 Interpretation and Advanced Cleaning</a>\n"
   ]
  },
  {
   "cell_type": "markdown",
   "metadata": {},
   "source": [
    "# <a class=\"anchor\" id=\"4.0-bullet\"> 4.0 Reference and Planning</a>"
   ]
  },
  {
   "cell_type": "code",
   "execution_count": null,
   "metadata": {},
   "outputs": [],
   "source": []
  }
 ],
 "metadata": {
  "kernelspec": {
   "display_name": "Python 3",
   "language": "python",
   "name": "python3"
  },
  "language_info": {
   "codemirror_mode": {
    "name": "ipython",
    "version": 3
   },
   "file_extension": ".py",
   "mimetype": "text/x-python",
   "name": "python",
   "nbconvert_exporter": "python",
   "pygments_lexer": "ipython3",
   "version": "3.6.5"
  }
 },
 "nbformat": 4,
 "nbformat_minor": 2
}
