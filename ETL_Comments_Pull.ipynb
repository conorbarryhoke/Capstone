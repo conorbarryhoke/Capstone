{
 "cells": [
  {
   "cell_type": "code",
   "execution_count": 1,
   "metadata": {},
   "outputs": [],
   "source": [
    "#do this later from admin: !python -m pip install --upgrade pip\n"
   ]
  },
  {
   "cell_type": "markdown",
   "metadata": {},
   "source": [
    "# TOC"
   ]
  },
  {
   "cell_type": "markdown",
   "metadata": {},
   "source": [
    "0. [Imports](#first-bullet)\n",
    "1. [Functions](#1.0-bullet)\n",
    "2. [Main Pull](#2.0-bullet)\n",
    "3. [Cleaning](#3.0-bullet)  \n",
    " 3.1 [Pt 1 - Basic Cleaning](#3.1-bullet)  \n",
    " 3.2 [Pt 2 - Advanced Cleaning and feature engineering](#3.2-bullet)\n",
    "4. [Reference and Planning](#4.0-bullet)"
   ]
  },
  {
   "cell_type": "markdown",
   "metadata": {},
   "source": [
    "# The intent of this workbook is to pull and deal with comments only\n",
    "\n",
    "I am waiting until I can get the view count max stuff to be able to pull comments from peak month. \n",
    "Too many of these are just people 'membering watching it. \n",
    "\n",
    "Possible question: how long until people start those stupid posts?"
   ]
  },
  {
   "cell_type": "code",
   "execution_count": 2,
   "metadata": {},
   "outputs": [],
   "source": [
    "#Basic\n",
    "import pandas as pd\n",
    "import numpy as np\n",
    "#Math\n",
    "import scipy as sp\n",
    "from random import randint\n",
    "from math import exp\n",
    "import operator\n",
    "\n",
    "#Scraping\n",
    "import requests\n",
    "import json\n",
    "\n",
    "#Youtube Data API Packages: \n",
    "from apiclient.discovery import build\n",
    "from apiclient.errors import HttpError\n",
    "from oauth2client.tools import argparser\n",
    "from googleapiclient.discovery import build\n",
    "import argparse\n",
    "\"\"\"\n",
    "from googleapiclient.errors import HttpError\"\"\"\n",
    "\n",
    "#Modeling\n",
    "#from sklearn.model_selection import cross_val_score, train_test_split, GridSearchCV\n",
    "#from sklearn.linear_model import LogisticRegression\n",
    "#from sklearn.naive_bayes import MultinomialNB\n",
    "#from sklearn.ensemble import RandomForestClassifier, AdaBoostClassifier, BaggingClassifier\n",
    "#from sklearn.neighbors import KNeighborsClassifier\n",
    "#from sklearn.cluster import KMeans\n",
    "#from sklearn.svm import SVC\n",
    "#from sklearn.metrics import confusion_matrix, roc_auc_score, roc_curve\n",
    "\n",
    "#NLP & Text Management\n",
    "'''from sklearn.feature_extraction import stop_words\n",
    "from sklearn.feature_extraction.text import CountVectorizer\n",
    "from sklearn.feature_extraction.text import TfidfVectorizer'''\n",
    "import re\n",
    "\n",
    "#Time analysis\n",
    "import time\n",
    "import datetime as dt\n",
    "from statsmodels.tsa.stattools import pacf\n",
    "from statsmodels.graphics.tsaplots import plot_pacf\n",
    "\n",
    "#Plotting\n",
    "import matplotlib.pyplot as plt\n",
    "import seaborn as sns\n",
    "#from wordcloud import WordCloud\n",
    "\n",
    "%matplotlib inline\n",
    "plt.style.use('seaborn-whitegrid')\n",
    "sns.set_style('whitegrid')"
   ]
  },
  {
   "cell_type": "code",
   "execution_count": 3,
   "metadata": {},
   "outputs": [],
   "source": [
    "my_api_file = open(\"./mykey.txt\", 'r')\n",
    "my_api_str = my_api_file.read()\n",
    "my_api_file.close()"
   ]
  },
  {
   "cell_type": "code",
   "execution_count": 4,
   "metadata": {},
   "outputs": [],
   "source": [
    "DEVELOPER_KEY = my_api_str\n",
    "YOUTUBE_API_SERVICE_NAME = \"youtube\"\n",
    "YOUTUBE_API_VERSION = \"v3\""
   ]
  },
  {
   "cell_type": "code",
   "execution_count": null,
   "metadata": {},
   "outputs": [],
   "source": []
  },
  {
   "cell_type": "markdown",
   "metadata": {},
   "source": [
    "# <a class=\"anchor\" id=\"1.0-bullet\"> 1. Functions</a>"
   ]
  },
  {
   "cell_type": "code",
   "execution_count": 5,
   "metadata": {},
   "outputs": [],
   "source": [
    "#This function will grab 50 comments at a time from the video. \n",
    "def youtube_comment_list(video_id, max_results=50, sort_method='viewCount', token=None):\n",
    "  # Call the search.list method to retrieve results matching the specified query term.\n",
    "    youtube = build(YOUTUBE_API_SERVICE_NAME, YOUTUBE_API_VERSION,\n",
    "    developerKey=DEVELOPER_KEY)\n",
    "\n",
    "  # Call the search.list method to retrieve results matching the specified query term.\n",
    "    search_response = youtube.commentThreads().list(\n",
    "        videoId = video_id,\n",
    "        part='snippet, replies',\n",
    "        pageToken=token,\n",
    "        order = 'relevance',\n",
    "        maxResults=max_results,\n",
    "      ).execute()\n",
    "    \n",
    "    return search_response"
   ]
  },
  {
   "cell_type": "markdown",
   "metadata": {},
   "source": [
    "# <a class=\"anchor\" id=\"2.0-bullet\"> 2. Data Pull</a>"
   ]
  },
  {
   "cell_type": "code",
   "execution_count": 26,
   "metadata": {},
   "outputs": [],
   "source": [
    "letters = 'abcdefghijklmnopqrxtuvwxyz'"
   ]
  },
  {
   "cell_type": "code",
   "execution_count": 35,
   "metadata": {},
   "outputs": [],
   "source": [
    "df_main = pd.read_csv('./data/clean_data_nocomments_noviews_02.10.18.csv')"
   ]
  },
  {
   "cell_type": "code",
   "execution_count": 36,
   "metadata": {},
   "outputs": [],
   "source": [
    "df_rel_ids = df_main.loc[:, ['vidId']]"
   ]
  },
  {
   "cell_type": "code",
   "execution_count": 59,
   "metadata": {},
   "outputs": [
    {
     "data": {
      "text/html": [
       "<div>\n",
       "<style scoped>\n",
       "    .dataframe tbody tr th:only-of-type {\n",
       "        vertical-align: middle;\n",
       "    }\n",
       "\n",
       "    .dataframe tbody tr th {\n",
       "        vertical-align: top;\n",
       "    }\n",
       "\n",
       "    .dataframe thead th {\n",
       "        text-align: right;\n",
       "    }\n",
       "</style>\n",
       "<table border=\"1\" class=\"dataframe\">\n",
       "  <thead>\n",
       "    <tr style=\"text-align: right;\">\n",
       "      <th></th>\n",
       "      <th>title</th>\n",
       "      <th>description</th>\n",
       "      <th>viewCount</th>\n",
       "      <th>vidId</th>\n",
       "      <th>commentCount</th>\n",
       "    </tr>\n",
       "  </thead>\n",
       "  <tbody>\n",
       "    <tr>\n",
       "      <th>3634</th>\n",
       "      <td>PSY - GANGNAM STYLE(강남스타일) M/V</td>\n",
       "      <td>PSY - ‘I LUV IT’ M/V @ https://youtu.be/Xvjnoa...</td>\n",
       "      <td>3218413082</td>\n",
       "      <td>9bZkp7q19f0</td>\n",
       "      <td>5263218</td>\n",
       "    </tr>\n",
       "  </tbody>\n",
       "</table>\n",
       "</div>"
      ],
      "text/plain": [
       "                               title  \\\n",
       "3634  PSY - GANGNAM STYLE(강남스타일) M/V   \n",
       "\n",
       "                                            description   viewCount  \\\n",
       "3634  PSY - ‘I LUV IT’ M/V @ https://youtu.be/Xvjnoa...  3218413082   \n",
       "\n",
       "            vidId  commentCount  \n",
       "3634  9bZkp7q19f0       5263218  "
      ]
     },
     "execution_count": 59,
     "metadata": {},
     "output_type": "execute_result"
    }
   ],
   "source": [
    "df_main[df_main.title.str.contains('GANGNAM')].sort_values(by='viewCount', ascending=False).loc[:, ['title', 'description', 'viewCount', 'vidId', 'commentCount']]"
   ]
  },
  {
   "cell_type": "code",
   "execution_count": 40,
   "metadata": {},
   "outputs": [],
   "source": [
    "test_id = 'DRS_PpOrUZ4'\n",
    "result = youtube_comment_list(test_id)"
   ]
  },
  {
   "cell_type": "code",
   "execution_count": 50,
   "metadata": {
    "scrolled": true
   },
   "outputs": [
    {
     "data": {
      "text/plain": [
       "{'kind': 'youtube#commentThread',\n",
       " 'etag': '\"XI7nbFXulYBIpL0ayR_gDh3eu1k/l-UuTX60ouqvQTU_USZ3sayAri0\"',\n",
       " 'id': 'UgwSWFnRgSmJTxiKlBR4AaABAg',\n",
       " 'snippet': {'videoId': 'DRS_PpOrUZ4',\n",
       "  'topLevelComment': {'kind': 'youtube#comment',\n",
       "   'etag': '\"XI7nbFXulYBIpL0ayR_gDh3eu1k/bczmlzzMlUPLjzu90A987EJCg3o\"',\n",
       "   'id': 'UgwSWFnRgSmJTxiKlBR4AaABAg',\n",
       "   'snippet': {'authorDisplayName': 'Van Hendrix',\n",
       "    'authorProfileImageUrl': 'https://yt3.ggpht.com/-Vk4yQ_apc6s/AAAAAAAAAAI/AAAAAAAAAAA/i9KiAMa0Kzc/s28-c-k-no-mo-rj-c0xffffff/photo.jpg',\n",
       "    'authorChannelUrl': 'http://www.youtube.com/channel/UC-8iT0qiulLECvKjkRwvfKw',\n",
       "    'authorChannelId': {'value': 'UC-8iT0qiulLECvKjkRwvfKw'},\n",
       "    'videoId': 'DRS_PpOrUZ4',\n",
       "    'textDisplay': '&quot;Don&#39;t forget to go when you leave&quot;',\n",
       "    'textOriginal': '\"Don\\'t forget to go when you leave\"',\n",
       "    'canRate': True,\n",
       "    'viewerRating': 'none',\n",
       "    'likeCount': 8003,\n",
       "    'publishedAt': '2018-08-03T06:46:46.000Z',\n",
       "    'updatedAt': '2018-08-03T06:46:46.000Z'}},\n",
       "  'canReply': True,\n",
       "  'totalReplyCount': 124,\n",
       "  'isPublic': True},\n",
       " 'replies': {'comments': [{'kind': 'youtube#comment',\n",
       "    'etag': '\"XI7nbFXulYBIpL0ayR_gDh3eu1k/kjKfZ13BSohvT7-yZAGPcONvwX4\"',\n",
       "    'id': 'UgwSWFnRgSmJTxiKlBR4AaABAg.8jTyLIlrypz8luiz3twxj1',\n",
       "    'snippet': {'authorDisplayName': 'Tiffany Wilson',\n",
       "     'authorProfileImageUrl': 'https://yt3.ggpht.com/-Ov6BV-WcuEo/AAAAAAAAAAI/AAAAAAAAAAA/XFYipNXo1yY/s28-c-k-no-mo-rj-c0xffffff/photo.jpg',\n",
       "     'authorChannelUrl': 'http://www.youtube.com/channel/UCd0VAt-mxce9OgSjmXLZO3A',\n",
       "     'authorChannelId': {'value': 'UCd0VAt-mxce9OgSjmXLZO3A'},\n",
       "     'videoId': 'DRS_PpOrUZ4',\n",
       "     'textDisplay': '+Kohl poo osoi76tr',\n",
       "     'textOriginal': '+Kohl poo osoi76tr',\n",
       "     'parentId': 'UgwSWFnRgSmJTxiKlBR4AaABAg',\n",
       "     'canRate': True,\n",
       "     'viewerRating': 'none',\n",
       "     'likeCount': 0,\n",
       "     'publishedAt': '2018-10-02T18:34:03.000Z',\n",
       "     'updatedAt': '2018-10-02T18:34:03.000Z'}},\n",
       "   {'kind': 'youtube#comment',\n",
       "    'etag': '\"XI7nbFXulYBIpL0ayR_gDh3eu1k/Iz28t7tcnzraspjyFYMNOpj79EI\"',\n",
       "    'id': 'UgwSWFnRgSmJTxiKlBR4AaABAg.8jTyLIlrypz8luc6awt2ea',\n",
       "    'snippet': {'authorDisplayName': 'Naee Paillett',\n",
       "     'authorProfileImageUrl': 'https://yt3.ggpht.com/-X0-iW6ooW4c/AAAAAAAAAAI/AAAAAAAAAAA/Xyiv12ZzEHM/s28-c-k-no-mo-rj-c0xffffff/photo.jpg',\n",
       "     'authorChannelUrl': 'http://www.youtube.com/channel/UC5m_rBtLJSwDkLGZhBwSdvA',\n",
       "     'authorChannelId': {'value': 'UC5m_rBtLJSwDkLGZhBwSdvA'},\n",
       "     'videoId': 'DRS_PpOrUZ4',\n",
       "     'textDisplay': 'Like.    I. 😍 you too 👶   love',\n",
       "     'textOriginal': 'Like.    I. 😍 you too 👶   love',\n",
       "     'parentId': 'UgwSWFnRgSmJTxiKlBR4AaABAg',\n",
       "     'canRate': True,\n",
       "     'viewerRating': 'none',\n",
       "     'likeCount': 0,\n",
       "     'publishedAt': '2018-10-02T17:34:02.000Z',\n",
       "     'updatedAt': '2018-10-02T17:34:02.000Z'}},\n",
       "   {'kind': 'youtube#comment',\n",
       "    'etag': '\"XI7nbFXulYBIpL0ayR_gDh3eu1k/VLVTds0k6AlaftDYO8nPDiTrSVI\"',\n",
       "    'id': 'UgwSWFnRgSmJTxiKlBR4AaABAg.8jTyLIlrypz8lkKHCSzjI0',\n",
       "    'snippet': {'authorDisplayName': 'Mz Missy',\n",
       "     'authorProfileImageUrl': 'https://yt3.ggpht.com/-aA-mOFssn5E/AAAAAAAAAAI/AAAAAAAAAAA/BfoYof1q1fM/s28-c-k-no-mo-rj-c0xffffff/photo.jpg',\n",
       "     'authorChannelUrl': 'http://www.youtube.com/channel/UCTCvMxY1CewHc0nF_gADz8g',\n",
       "     'authorChannelId': {'value': 'UCTCvMxY1CewHc0nF_gADz8g'},\n",
       "     'videoId': 'DRS_PpOrUZ4',\n",
       "     'textDisplay': 'Lol that&#39;s the 👑',\n",
       "     'textOriginal': \"Lol that's the 👑\",\n",
       "     'parentId': 'UgwSWFnRgSmJTxiKlBR4AaABAg',\n",
       "     'canRate': True,\n",
       "     'viewerRating': 'none',\n",
       "     'likeCount': 0,\n",
       "     'publishedAt': '2018-09-28T17:37:03.000Z',\n",
       "     'updatedAt': '2018-09-28T17:37:03.000Z'}},\n",
       "   {'kind': 'youtube#comment',\n",
       "    'etag': '\"XI7nbFXulYBIpL0ayR_gDh3eu1k/DvuRJl49cnuYsroJGzG413nf0CE\"',\n",
       "    'id': 'UgwSWFnRgSmJTxiKlBR4AaABAg.8jTyLIlrypz8lgIFKmfajA',\n",
       "    'snippet': {'authorDisplayName': 'Rick maloca maloca',\n",
       "     'authorProfileImageUrl': 'https://yt3.ggpht.com/-zrEgKtjnpJA/AAAAAAAAAAI/AAAAAAAAAAA/nkGtQQ0yFDg/s28-c-k-no-mo-rj-c0xffffff/photo.jpg',\n",
       "     'authorChannelUrl': 'http://www.youtube.com/channel/UCDX73ZbzyTbi13WAr9Dqvew',\n",
       "     'authorChannelId': {'value': 'UCDX73ZbzyTbi13WAr9Dqvew'},\n",
       "     'videoId': 'DRS_PpOrUZ4',\n",
       "     'textDisplay': 'Delícia gostosa',\n",
       "     'textOriginal': 'Delícia gostosa',\n",
       "     'parentId': 'UgwSWFnRgSmJTxiKlBR4AaABAg',\n",
       "     'canRate': True,\n",
       "     'viewerRating': 'none',\n",
       "     'likeCount': 0,\n",
       "     'publishedAt': '2018-09-27T04:02:22.000Z',\n",
       "     'updatedAt': '2018-09-27T04:02:22.000Z'}},\n",
       "   {'kind': 'youtube#comment',\n",
       "    'etag': '\"XI7nbFXulYBIpL0ayR_gDh3eu1k/f-whnX_wA8F5mbtdru7H9i6ntyw\"',\n",
       "    'id': 'UgwSWFnRgSmJTxiKlBR4AaABAg.8jTyLIlrypz8lgIBwYmUpy',\n",
       "    'snippet': {'authorDisplayName': 'Rick maloca maloca',\n",
       "     'authorProfileImageUrl': 'https://yt3.ggpht.com/-zrEgKtjnpJA/AAAAAAAAAAI/AAAAAAAAAAA/nkGtQQ0yFDg/s28-c-k-no-mo-rj-c0xffffff/photo.jpg',\n",
       "     'authorChannelUrl': 'http://www.youtube.com/channel/UCDX73ZbzyTbi13WAr9Dqvew',\n",
       "     'authorChannelId': {'value': 'UCDX73ZbzyTbi13WAr9Dqvew'},\n",
       "     'videoId': 'DRS_PpOrUZ4',\n",
       "     'textDisplay': 'Gostosa vc bbb',\n",
       "     'textOriginal': 'Gostosa vc bbb',\n",
       "     'parentId': 'UgwSWFnRgSmJTxiKlBR4AaABAg',\n",
       "     'canRate': True,\n",
       "     'viewerRating': 'none',\n",
       "     'likeCount': 0,\n",
       "     'publishedAt': '2018-09-27T04:01:54.000Z',\n",
       "     'updatedAt': '2018-09-27T04:01:54.000Z'}}]}}"
      ]
     },
     "execution_count": 50,
     "metadata": {},
     "output_type": "execute_result"
    }
   ],
   "source": [
    "result['items'][0]"
   ]
  },
  {
   "cell_type": "code",
   "execution_count": null,
   "metadata": {},
   "outputs": [],
   "source": []
  },
  {
   "cell_type": "code",
   "execution_count": 51,
   "metadata": {},
   "outputs": [],
   "source": [
    "results2 = youtube_comment_list('9wnbDGh7bEY')"
   ]
  },
  {
   "cell_type": "code",
   "execution_count": 58,
   "metadata": {
    "scrolled": true
   },
   "outputs": [
    {
     "data": {
      "text/plain": [
       "{'kind': 'youtube#commentThread',\n",
       " 'etag': '\"XI7nbFXulYBIpL0ayR_gDh3eu1k/7qkmfur0QRkndzMgW99AvgNtVn0\"',\n",
       " 'id': 'Ugyau--00Twca_Yd1o14AaABAg',\n",
       " 'snippet': {'videoId': '9wnbDGh7bEY',\n",
       "  'topLevelComment': {'kind': 'youtube#comment',\n",
       "   'etag': '\"XI7nbFXulYBIpL0ayR_gDh3eu1k/FrwsrQaswau7r-BLmOErMpTXSEY\"',\n",
       "   'id': 'Ugyau--00Twca_Yd1o14AaABAg',\n",
       "   'snippet': {'authorDisplayName': 'Hebrew Samurai Go Ichi',\n",
       "    'authorProfileImageUrl': 'https://yt3.ggpht.com/-3QpWLWhiWdc/AAAAAAAAAAI/AAAAAAAAAAA/9Brb4tKCT08/s28-c-k-no-mo-rj-c0xffffff/photo.jpg',\n",
       "    'authorChannelUrl': 'http://www.youtube.com/channel/UC4MhWbDuTHvHtS3NlxbcvCw',\n",
       "    'authorChannelId': {'value': 'UC4MhWbDuTHvHtS3NlxbcvCw'},\n",
       "    'videoId': '9wnbDGh7bEY',\n",
       "    'textDisplay': 'Wow...... If they will give us each $100,000 a piece plus airfare I would go',\n",
       "    'textOriginal': 'Wow...... If they will give us each $100,000 a piece plus airfare I would go',\n",
       "    'canRate': True,\n",
       "    'viewerRating': 'none',\n",
       "    'likeCount': 0,\n",
       "    'publishedAt': '2018-07-17T12:52:38.000Z',\n",
       "    'updatedAt': '2018-07-17T12:52:38.000Z'}},\n",
       "  'canReply': True,\n",
       "  'totalReplyCount': 0,\n",
       "  'isPublic': True}}"
      ]
     },
     "execution_count": 58,
     "metadata": {},
     "output_type": "execute_result"
    }
   ],
   "source": [
    "results2['items'][2]"
   ]
  },
  {
   "cell_type": "code",
   "execution_count": 60,
   "metadata": {},
   "outputs": [],
   "source": [
    "results3 = youtube_comment_list('9bZkp7q19f0')"
   ]
  },
  {
   "cell_type": "code",
   "execution_count": 80,
   "metadata": {},
   "outputs": [],
   "source": [
    "df_list = []\n",
    "for i in range(50):\n",
    "    df_list.append({'comment':results3['items'][i]['snippet']['topLevelComment']['snippet']['textDisplay']})"
   ]
  },
  {
   "cell_type": "code",
   "execution_count": 82,
   "metadata": {},
   "outputs": [
    {
     "data": {
      "text/html": [
       "<div>\n",
       "<style scoped>\n",
       "    .dataframe tbody tr th:only-of-type {\n",
       "        vertical-align: middle;\n",
       "    }\n",
       "\n",
       "    .dataframe tbody tr th {\n",
       "        vertical-align: top;\n",
       "    }\n",
       "\n",
       "    .dataframe thead th {\n",
       "        text-align: right;\n",
       "    }\n",
       "</style>\n",
       "<table border=\"1\" class=\"dataframe\">\n",
       "  <thead>\n",
       "    <tr style=\"text-align: right;\">\n",
       "      <th></th>\n",
       "      <th>comment</th>\n",
       "    </tr>\n",
       "  </thead>\n",
       "  <tbody>\n",
       "    <tr>\n",
       "      <th>0</th>\n",
       "      <td>September 2018? PS: who came to see the number...</td>\n",
       "    </tr>\n",
       "    <tr>\n",
       "      <th>1</th>\n",
       "      <td>&lt;b&gt;2018????&lt;/b&gt;</td>\n",
       "    </tr>\n",
       "    <tr>\n",
       "      <th>2</th>\n",
       "      <td>Who is just here to feel the old vibes??</td>\n",
       "    </tr>\n",
       "    <tr>\n",
       "      <th>3</th>\n",
       "      <td>&lt;b&gt;Who came to see the number of views?&lt;/b&gt;</td>\n",
       "    </tr>\n",
       "    <tr>\n",
       "      <th>4</th>\n",
       "      <td>5% 2012 comments &lt;br /&gt;&lt;br /&gt;93% “Who’s watchi...</td>\n",
       "    </tr>\n",
       "    <tr>\n",
       "      <th>5</th>\n",
       "      <td>Who else came back just to see the views?</td>\n",
       "    </tr>\n",
       "    <tr>\n",
       "      <th>6</th>\n",
       "      <td>Six years since this dropped onto the World? H...</td>\n",
       "    </tr>\n",
       "    <tr>\n",
       "      <th>7</th>\n",
       "      <td>&lt;b&gt;Inglish&lt;/b&gt;&lt;br /&gt;&lt;br /&gt;&amp;quot;Despacito&amp;quot...</td>\n",
       "    </tr>\n",
       "    <tr>\n",
       "      <th>8</th>\n",
       "      <td>Who&amp;#39;s here in 2018, 2019, 2020,&lt;br /&gt;&lt;br /...</td>\n",
       "    </tr>\n",
       "    <tr>\n",
       "      <th>9</th>\n",
       "      <td>No👏One👏Cares👏What👏Year👏Your👏Watching👏This👏 Per...</td>\n",
       "    </tr>\n",
       "    <tr>\n",
       "      <th>10</th>\n",
       "      <td>I still can&amp;#39;t believe this isn&amp;#39;t the m...</td>\n",
       "    </tr>\n",
       "    <tr>\n",
       "      <th>11</th>\n",
       "      <td>I remember watching this in school now that I ...</td>\n",
       "    </tr>\n",
       "    <tr>\n",
       "      <th>12</th>\n",
       "      <td>vim ver a Hyuna de novo</td>\n",
       "    </tr>\n",
       "    <tr>\n",
       "      <th>13</th>\n",
       "      <td>2018?&lt;br /&gt;This is better than Despacito 😂😂</td>\n",
       "    </tr>\n",
       "    <tr>\n",
       "      <th>14</th>\n",
       "      <td>me: holy sh*t I’m bored. I should see somethin...</td>\n",
       "    </tr>\n",
       "    <tr>\n",
       "      <th>15</th>\n",
       "      <td>This song changed the Internet forever.</td>\n",
       "    </tr>\n",
       "    <tr>\n",
       "      <th>16</th>\n",
       "      <td>&lt;b&gt;KPOP IS TAKING OVER THE WORLD&lt;/b&gt;</td>\n",
       "    </tr>\n",
       "    <tr>\n",
       "      <th>17</th>\n",
       "      <td>October? ?&lt;br /&gt; Who still here?  &lt;br /&gt;&lt;b&gt;1&lt;/...</td>\n",
       "    </tr>\n",
       "    <tr>\n",
       "      <th>18</th>\n",
       "      <td>Just realized the girl is HyunA.</td>\n",
       "    </tr>\n",
       "    <tr>\n",
       "      <th>19</th>\n",
       "      <td>🌩️🎶October 2018?🎶🌩️&lt;br /&gt;🌩️🎶¿Octubre 2018?🎶🌩️&lt;...</td>\n",
       "    </tr>\n",
       "    <tr>\n",
       "      <th>20</th>\n",
       "      <td>Who&amp;#39;s checking the views in 2018? 😄🎶</td>\n",
       "    </tr>\n",
       "    <tr>\n",
       "      <th>21</th>\n",
       "      <td>I remember watching this 5 years ago 😕 man I f...</td>\n",
       "    </tr>\n",
       "    <tr>\n",
       "      <th>22</th>\n",
       "      <td>e muito engraçado a much funny</td>\n",
       "    </tr>\n",
       "    <tr>\n",
       "      <th>23</th>\n",
       "      <td>october 1 2018</td>\n",
       "    </tr>\n",
       "    <tr>\n",
       "      <th>24</th>\n",
       "      <td>October 2018?</td>\n",
       "    </tr>\n",
       "    <tr>\n",
       "      <th>25</th>\n",
       "      <td>&lt;a href=\"https://www.youtube.com/watch?v=9bZkp...</td>\n",
       "    </tr>\n",
       "    <tr>\n",
       "      <th>26</th>\n",
       "      <td>Gangnam style is now the 4th most watched vide...</td>\n",
       "    </tr>\n",
       "    <tr>\n",
       "      <th>27</th>\n",
       "      <td>Like👍😍</td>\n",
       "    </tr>\n",
       "    <tr>\n",
       "      <th>28</th>\n",
       "      <td>Кто из 2018 лайк&lt;br /&gt;2018 Like</td>\n",
       "    </tr>\n",
       "    <tr>\n",
       "      <th>29</th>\n",
       "      <td>Youtube History.</td>\n",
       "    </tr>\n",
       "    <tr>\n",
       "      <th>30</th>\n",
       "      <td>Octombre 2018 ? Who came here for views?</td>\n",
       "    </tr>\n",
       "    <tr>\n",
       "      <th>31</th>\n",
       "      <td>Almost half the world has watched this</td>\n",
       "    </tr>\n",
       "    <tr>\n",
       "      <th>32</th>\n",
       "      <td>September 2018?</td>\n",
       "    </tr>\n",
       "    <tr>\n",
       "      <th>33</th>\n",
       "      <td>I came for da views man!😂</td>\n",
       "    </tr>\n",
       "    <tr>\n",
       "      <th>34</th>\n",
       "      <td>&lt;b&gt;I don&amp;#39;t know why I&amp;#39;m watching this&lt;/b&gt;</td>\n",
       "    </tr>\n",
       "    <tr>\n",
       "      <th>35</th>\n",
       "      <td>When he said imnazongningjova kyropangavanfkir...</td>\n",
       "    </tr>\n",
       "    <tr>\n",
       "      <th>36</th>\n",
       "      <td>I thought PSY was Mongolian😂 lmao</td>\n",
       "    </tr>\n",
       "    <tr>\n",
       "      <th>37</th>\n",
       "      <td>Yeah boy 2018 team?</td>\n",
       "    </tr>\n",
       "    <tr>\n",
       "      <th>38</th>\n",
       "      <td>Who &lt;a href=\"http://is.here/\"&gt;is.here&lt;/a&gt; at o...</td>\n",
       "    </tr>\n",
       "    <tr>\n",
       "      <th>39</th>\n",
       "      <td>I came again here today to check the views and...</td>\n",
       "    </tr>\n",
       "    <tr>\n",
       "      <th>40</th>\n",
       "      <td>In 50 years, I&amp;#39;ll turn on my grandchildren...</td>\n",
       "    </tr>\n",
       "    <tr>\n",
       "      <th>41</th>\n",
       "      <td>October 2018?</td>\n",
       "    </tr>\n",
       "    <tr>\n",
       "      <th>42</th>\n",
       "      <td>Its a paradox, originally went viral ---&amp;gt; p...</td>\n",
       "    </tr>\n",
       "    <tr>\n",
       "      <th>43</th>\n",
       "      <td>Anyone here in October 2018</td>\n",
       "    </tr>\n",
       "    <tr>\n",
       "      <th>44</th>\n",
       "      <td>6 years ago..🔥🔥💝🤘</td>\n",
       "    </tr>\n",
       "    <tr>\n",
       "      <th>45</th>\n",
       "      <td>Gangnam Style &lt;b&gt;Despacito War&lt;/b&gt;</td>\n",
       "    </tr>\n",
       "    <tr>\n",
       "      <th>46</th>\n",
       "      <td>&lt;b&gt;October 2018. Like - Who is here?&lt;/b&gt;</td>\n",
       "    </tr>\n",
       "    <tr>\n",
       "      <th>47</th>\n",
       "      <td>Октябрь 2018???</td>\n",
       "    </tr>\n",
       "    <tr>\n",
       "      <th>48</th>\n",
       "      <td>October 2018 ?? Memories...</td>\n",
       "    </tr>\n",
       "    <tr>\n",
       "      <th>49</th>\n",
       "      <td>Who is just here to check views? 😂</td>\n",
       "    </tr>\n",
       "  </tbody>\n",
       "</table>\n",
       "</div>"
      ],
      "text/plain": [
       "                                              comment\n",
       "0   September 2018? PS: who came to see the number...\n",
       "1                                     <b>2018????</b>\n",
       "2            Who is just here to feel the old vibes??\n",
       "3         <b>Who came to see the number of views?</b>\n",
       "4   5% 2012 comments <br /><br />93% “Who’s watchi...\n",
       "5           Who else came back just to see the views?\n",
       "6   Six years since this dropped onto the World? H...\n",
       "7   <b>Inglish</b><br /><br />&quot;Despacito&quot...\n",
       "8   Who&#39;s here in 2018, 2019, 2020,<br /><br /...\n",
       "9   No👏One👏Cares👏What👏Year👏Your👏Watching👏This👏 Per...\n",
       "10  I still can&#39;t believe this isn&#39;t the m...\n",
       "11  I remember watching this in school now that I ...\n",
       "12                            vim ver a Hyuna de novo\n",
       "13        2018?<br />This is better than Despacito 😂😂\n",
       "14  me: holy sh*t I’m bored. I should see somethin...\n",
       "15            This song changed the Internet forever.\n",
       "16               <b>KPOP IS TAKING OVER THE WORLD</b>\n",
       "17  October? ?<br /> Who still here?  <br /><b>1</...\n",
       "18                   Just realized the girl is HyunA.\n",
       "19  🌩️🎶October 2018?🎶🌩️<br />🌩️🎶¿Octubre 2018?🎶🌩️<...\n",
       "20           Who&#39;s checking the views in 2018? 😄🎶\n",
       "21  I remember watching this 5 years ago 😕 man I f...\n",
       "22                     e muito engraçado a much funny\n",
       "23                                     october 1 2018\n",
       "24                                      October 2018?\n",
       "25  <a href=\"https://www.youtube.com/watch?v=9bZkp...\n",
       "26  Gangnam style is now the 4th most watched vide...\n",
       "27                                             Like👍😍\n",
       "28                    Кто из 2018 лайк<br />2018 Like\n",
       "29                                   Youtube History.\n",
       "30           Octombre 2018 ? Who came here for views?\n",
       "31             Almost half the world has watched this\n",
       "32                                    September 2018?\n",
       "33                          I came for da views man!😂\n",
       "34  <b>I don&#39;t know why I&#39;m watching this</b>\n",
       "35  When he said imnazongningjova kyropangavanfkir...\n",
       "36                  I thought PSY was Mongolian😂 lmao\n",
       "37                                Yeah boy 2018 team?\n",
       "38  Who <a href=\"http://is.here/\">is.here</a> at o...\n",
       "39  I came again here today to check the views and...\n",
       "40  In 50 years, I&#39;ll turn on my grandchildren...\n",
       "41                                      October 2018?\n",
       "42  Its a paradox, originally went viral ---&gt; p...\n",
       "43                        Anyone here in October 2018\n",
       "44                                  6 years ago..🔥🔥💝🤘\n",
       "45                 Gangnam Style <b>Despacito War</b>\n",
       "46           <b>October 2018. Like - Who is here?</b>\n",
       "47                                    Октябрь 2018???\n",
       "48                        October 2018 ?? Memories...\n",
       "49                 Who is just here to check views? 😂"
      ]
     },
     "execution_count": 82,
     "metadata": {},
     "output_type": "execute_result"
    }
   ],
   "source": [
    "pd.DataFrame(df_list)"
   ]
  },
  {
   "cell_type": "code",
   "execution_count": 74,
   "metadata": {},
   "outputs": [
    {
     "data": {
      "text/plain": [
       "50"
      ]
     },
     "execution_count": 74,
     "metadata": {},
     "output_type": "execute_result"
    }
   ],
   "source": [
    "len(results3['items'])"
   ]
  },
  {
   "cell_type": "code",
   "execution_count": 86,
   "metadata": {},
   "outputs": [
    {
     "data": {
      "text/plain": [
       "0.0003646651019879802"
      ]
     },
     "execution_count": 86,
     "metadata": {},
     "output_type": "execute_result"
    }
   ],
   "source": [
    "df_main.commentCount.sum() / df_main.viewCount.sum()"
   ]
  },
  {
   "cell_type": "code",
   "execution_count": 84,
   "metadata": {},
   "outputs": [
    {
     "data": {
      "text/plain": [
       "<seaborn.axisgrid.FacetGrid at 0x26a33d28860>"
      ]
     },
     "execution_count": 84,
     "metadata": {},
     "output_type": "execute_result"
    },
    {
     "data": {
      "image/png": "[encoded data removed]",
      "text/plain": [
       "<Figure size 360x360 with 1 Axes>"
      ]
     },
     "metadata": {},
     "output_type": "display_data"
    }
   ],
   "source": [
    "sns.lmplot('viewCount', 'commentCount', data=df_main[df_main['viewCount']<10000000])"
   ]
  },
  {
   "cell_type": "markdown",
   "metadata": {},
   "source": [
    "# <a class=\"anchor\" id=\"3.0-bullet\"> 3. Cleanup</a>"
   ]
  },
  {
   "cell_type": "markdown",
   "metadata": {},
   "source": [
    "# <a class=\"anchor\" id=\"4.0-bullet\"> 4.0 Reference and Planning</a>"
   ]
  },
  {
   "cell_type": "markdown",
   "metadata": {},
   "source": [
    "YouTube Search_list filtering parameters (sort_method):\n",
    "* date – Resources are sorted in reverse chronological order based on the date they were created.\n",
    "* rating – Resources are sorted from highest to lowest rating.\n",
    "* relevance – Resources are sorted based on their relevance to the search query. This is the default value for this parameter.\n",
    "* title – Resources are sorted alphabetically by title.\n",
    "* videoCount – Channels are sorted in descending order of their number of uploaded videos.\n",
    "* viewCount – Resources are sorted from highest to lowest number of views. For live broadcasts, videos are sorted by number of concurrent viewers while the broadcasts are ongoing."
   ]
  },
  {
   "cell_type": "markdown",
   "metadata": {},
   "source": [
    "More cleanup needed in main EDA: \n",
    "* separate artist and title\n",
    "* find feat artists\n",
    "* fillna description"
   ]
  }
 ],
 "metadata": {
  "kernelspec": {
   "display_name": "Python 3",
   "language": "python",
   "name": "python3"
  },
  "language_info": {
   "codemirror_mode": {
    "name": "ipython",
    "version": 3
   },
   "file_extension": ".py",
   "mimetype": "text/x-python",
   "name": "python",
   "nbconvert_exporter": "python",
   "pygments_lexer": "ipython3",
   "version": "3.6.5"
  }
 },
 "nbformat": 4,
 "nbformat_minor": 2
}
