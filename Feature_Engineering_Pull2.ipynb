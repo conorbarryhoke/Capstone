{
 "cells": [
  {
   "cell_type": "code",
   "execution_count": 1,
   "metadata": {},
   "outputs": [],
   "source": [
    "#do this later from admin: !python -m pip install --upgrade pip\n"
   ]
  },
  {
   "cell_type": "markdown",
   "metadata": {},
   "source": [
    "# TOC"
   ]
  },
  {
   "cell_type": "markdown",
   "metadata": {},
   "source": [
    "0. [Imports](#first-bullet)\n",
    "1. [EDA](#1.0-bullet)\n",
    "2. [Feature Engineering](#2.0-bullet)  \n",
    " 2.1 [Pt 1 - Regression](#2.1-bullet)  \n",
    " 2.2 [Pt 2 - Classification](#2.2-bullet)\n",
    "3. [Basic Model](#3.0-bullet)  \n",
    " 3.1 [Pt 1 - Regression](#3.1-bullet)  \n",
    " 3.2 [Pt 2 - Classification](#3.2-bullet)\n",
    "4. [Reference and Planning](#4.0-bullet)"
   ]
  },
  {
   "cell_type": "markdown",
   "metadata": {},
   "source": [
    "# Do not Run All cells - lots of charts"
   ]
  },
  {
   "cell_type": "code",
   "execution_count": 1,
   "metadata": {},
   "outputs": [],
   "source": [
    "#Basic\n",
    "import pandas as pd\n",
    "import numpy as np\n",
    "#Math\n",
    "import scipy as sp\n",
    "from random import randint\n",
    "from math import exp\n",
    "import operator\n",
    "\n",
    "#Scraping\n",
    "#import requests\n",
    "#import json\n",
    "\n",
    "#Youtube Data API Packages: \n",
    "\"\"\"from apiclient.discovery import build\n",
    "from apiclient.errors import HttpError\n",
    "from oauth2client.tools import argparser\n",
    "from googleapiclient.discovery import build\n",
    "import argparse\n",
    "from googleapiclient.errors import HttpError\"\"\"\n",
    "\n",
    "#Modeling\n",
    "\"\"\"from sklearn.model_selection import cross_val_score, train_test_split, GridSearchCV\n",
    "from sklearn.metrics import r2_score\n",
    "from sklearn.preprocessing import StandardScaler\n",
    "#from sklearn.linear_model import LogisticRegression\n",
    "#from sklearn.naive_bayes import MultinomialNB\n",
    "from sklearn.ensemble import RandomForestClassifier, GradientBoostingClassifier\n",
    "from sklearn.neighbors import KNeighborsClassifier\n",
    "#from sklearn.cluster import KMeans\n",
    "#from sklearn.svm import SVC\n",
    "from sklearn.metrics import confusion_matrix, roc_auc_score, roc_curve\"\"\"\n",
    "\n",
    "#NLP & Text Management\n",
    "from sklearn.feature_extraction import stop_words\n",
    "from sklearn.feature_extraction.text import CountVectorizer\n",
    "from sklearn.feature_extraction.text import TfidfVectorizer\n",
    "import re\n",
    "from textblob import TextBlob\n",
    "from wordcloud import WordCloud\n",
    "from nltk.stem import PorterStemmer\n",
    "\n",
    "#Time analysis\n",
    "import time\n",
    "import datetime\n",
    "\"\"\"from statsmodels.tsa.stattools import pacf\n",
    "from statsmodels.graphics.tsaplots import plot_pacf\"\"\"\n",
    "\n",
    "#Plotting\n",
    "import matplotlib.pyplot as plt\n",
    "import seaborn as sns\n",
    "#from wordcloud import WordCloud\n",
    "\n",
    "%matplotlib inline\n",
    "plt.style.use('seaborn-whitegrid')\n",
    "sns.set_style('whitegrid')"
   ]
  },
  {
   "cell_type": "code",
   "execution_count": 2,
   "metadata": {},
   "outputs": [],
   "source": [
    "df_main = pd.read_csv('./data/clean_data_nocomments_noviews_10.10.18.csv')\n",
    "\n",
    "#create log features\n",
    "df_main['view_log'] = df_main['viewCount'].map(lambda x: 0 if x==0 else np.log10(x)) #Which log to use???\n",
    "df_main['comment_log'] = df_main['commentCount'].map(lambda x: 0 if x==0 else np.log10(x))\n",
    "df_main['like_log'] = df_main['likeCount'].map(lambda x: 0 if x==0 else np.log10(x))\n",
    "df_main['dislike_log'] = df_main['dislikeCount'].map(lambda x: 0 if x==0 else np.log10(x))\n",
    "df_main['view_class'] = df_main.view_log.astype(int)\n",
    "\n",
    "df_main.publishedAt = pd.to_datetime(df_main.publishedAt)\n",
    "\n",
    "df_main.description.fillna('', inplace=True)\n",
    "df_main.tags.fillna('', inplace=True)\n",
    "\n",
    "Run_Text_Analysis = False"
   ]
  },
  {
   "cell_type": "code",
   "execution_count": null,
   "metadata": {},
   "outputs": [],
   "source": []
  },
  {
   "cell_type": "markdown",
   "metadata": {},
   "source": [
    "# <a class=\"anchor\" id=\"2.0-bullet\"> 2. Feature Engineering</a>"
   ]
  },
  {
   "cell_type": "markdown",
   "metadata": {},
   "source": [
    "## <a class=\"anchor\" id=\"2.1-bullet\">2.1 Adding Features</a>\n",
    "\n"
   ]
  },
  {
   "cell_type": "markdown",
   "metadata": {},
   "source": [
    "### Date Time\n",
    " * Week Number\n",
    " * is Weekend\n",
    " * Year"
   ]
  },
  {
   "cell_type": "code",
   "execution_count": 3,
   "metadata": {},
   "outputs": [],
   "source": [
    "df_main['week'] = df_main.publishedAt.map(lambda x: x.week)"
   ]
  },
  {
   "cell_type": "code",
   "execution_count": 4,
   "metadata": {},
   "outputs": [],
   "source": [
    "df_main['is_weekend'] = df_main.publishedAt.dt.weekday.map(lambda x: 1 if x == 5 or x==6 else 0)"
   ]
  },
  {
   "cell_type": "code",
   "execution_count": 5,
   "metadata": {},
   "outputs": [],
   "source": [
    "df_main['is_friday'] = df_main.publishedAt.dt.weekday.map(lambda x: 1 if x == 4 else 0)"
   ]
  },
  {
   "cell_type": "code",
   "execution_count": 6,
   "metadata": {},
   "outputs": [],
   "source": [
    "# df_main['year'] exists"
   ]
  },
  {
   "cell_type": "markdown",
   "metadata": {},
   "source": [
    "### Description\n",
    " * Sentiment description_sentiment\n",
    " * Overall word count description_wordcount\n",
    " * CVEC matrix"
   ]
  },
  {
   "cell_type": "code",
   "execution_count": 7,
   "metadata": {},
   "outputs": [],
   "source": [
    "df_main['description_sentiment'] = df_main['description'].map(lambda x: TextBlob(str(x)).sentiment.polarity) #Title)"
   ]
  },
  {
   "cell_type": "code",
   "execution_count": 8,
   "metadata": {},
   "outputs": [],
   "source": [
    "df_main['description_wordcount'] = df_main['description'].map(lambda x: str(x).count(' '))"
   ]
  },
  {
   "cell_type": "code",
   "execution_count": 9,
   "metadata": {},
   "outputs": [],
   "source": [
    "if Run_Text_Analysis: \n",
    "    corp = ''\n",
    "    for i in range(df_main.shape[0]):\n",
    "        corp += re.sub(r'http[^ ]+', '',df_main.iloc[i]['description']).replace(\"\\r\", '').replace(\"\\n\", '')\n",
    "\n",
    "    df_corp= pd.DataFrame([corp], index=[1])\n",
    "    cvec = CountVectorizer()\n",
    "    df_cvec_description = cvec.fit_transform(df_corp[0]).todense()\n",
    "    df_cvec_description = pd.DataFrame(df_cvec_description, columns = cvec.get_feature_names())\n",
    "\n",
    "    descr_words = [col for col in df_cvec_description.columns if df_cvec_description[col].sum()>200]\n",
    "\n",
    "    lmtzr = PorterStemmer()\n",
    "    lem_list = []\n",
    "    for word in descr_words:\n",
    "        lem_list.append(lmtzr.stem(word))\n",
    "    lem_list = list(set(lem_list))\n",
    "    df_descr_word_vec = df_main.loc[:, ['description', 'vidId']]\n",
    "\n",
    "    for i in range(df_descr_word_vec.shape[0]):\n",
    "        df_descr_word_vec.at[i,'description'] = ' '.join([lmtzr.stem(word) for word in (re.sub(r'http[^ ]+', '', \\\n",
    "                                                                                               df_descr_word_vec.description[i]).replace(\"\\r\", '').replace(\"\\n\", '')).split(' ')])\n",
    "\n",
    "    for word in lem_list:\n",
    "        df_descr_word_vec[str('descr_word_' + word)] = df_descr_word_vec.description.str.count(word)\n",
    "\n",
    "    df_descr_word_vec.to_csv('./data/description_wordvec2.csv')"
   ]
  },
  {
   "cell_type": "markdown",
   "metadata": {},
   "source": [
    "### Tags\n",
    " * Sentiment\n",
    " * CVEC\n",
    " * Num tags"
   ]
  },
  {
   "cell_type": "code",
   "execution_count": 10,
   "metadata": {},
   "outputs": [],
   "source": [
    "df_main['tags_sentiment'] = df_main['tags'].map(lambda x: TextBlob(str(x)).sentiment.polarity)\n",
    "\n",
    "df_main['tags_wordcount'] = df_main['tags'].map(lambda x: str(x).count(','))"
   ]
  },
  {
   "cell_type": "code",
   "execution_count": 11,
   "metadata": {},
   "outputs": [],
   "source": [
    "if Run_Text_Analysis: \n",
    "    corp = ''\n",
    "    for i in range(df_main.shape[0]):\n",
    "        try:\n",
    "            corp += re.sub(r'http[^ ]+', '',df_main.iloc[i]['tags']).replace(\"\\r\", '').replace(\"\\n\", '')\n",
    "        except:\n",
    "            next\n",
    "\n",
    "    df_corp= pd.DataFrame([corp], index=[1])\n",
    "    cvec = CountVectorizer()\n",
    "    df_cvec_tags = cvec.fit_transform(df_corp[0]).todense()\n",
    "    df_cvec_tags = pd.DataFrame(df_cvec_tags, columns = cvec.get_feature_names())\n",
    "\n",
    "    tags_words = [col for col in df_cvec_tags.columns if df_cvec_tags[col].sum()>200]\n",
    "\n",
    "    lmtzr = PorterStemmer()\n",
    "    lem_list = []\n",
    "    for word in tags_words:\n",
    "        lem_list.append(lmtzr.stem(word))\n",
    "    lem_list = list(set(lem_list))\n",
    "    df_tags_word_vec = df_main.loc[:, ['tags', 'vidId']]\n",
    "\n",
    "    for i in range(df_tags_word_vec.shape[0]):\n",
    "        try:\n",
    "            df_tags_word_vec.at[i,'tags'] = ' '.join([lmtzr.stem(word) for word in (re.sub(r'http[^ ]+', '', \\\n",
    "                                                                                           df_tags_word_vec.tags[i]).replace(\"\\r\", '').replace(\"\\n\", '')).split(' ')])\n",
    "        except:\n",
    "            df_tags_word_vec.at[i,'tags'] = ''\n",
    "\n",
    "    for word in lem_list:\n",
    "        df_tags_word_vec[str('tags_word_' + word)] = df_tags_word_vec.tags.str.count(word)\n",
    "\n",
    "    df_tags_word_vec.fillna(0, inplace=True)\n",
    "\n",
    "    #df_tags_word_vec.to_csv('./data/tag_wordvec2.csv')"
   ]
  },
  {
   "cell_type": "markdown",
   "metadata": {},
   "source": [
    "### Title\n",
    " * Sentiment\n",
    " * Wordcount\n",
    " * CVEC predictions\n",
    " * feat / ft. \n",
    " * Which letters\n",
    " * Length"
   ]
  },
  {
   "cell_type": "code",
   "execution_count": 12,
   "metadata": {},
   "outputs": [],
   "source": [
    "df_main['title_sentiment'] = df_main['title'].map(lambda x: TextBlob(str(x)).sentiment.polarity)\n",
    "df_main['title_wordcount'] = df_main['title'].map(lambda x: str(x).count(' '))"
   ]
  },
  {
   "cell_type": "code",
   "execution_count": 13,
   "metadata": {},
   "outputs": [],
   "source": [
    "feat_words = ['feat', 'ft', 'featur']\n",
    "def find_feats(text_string):\n",
    "    text_string = text_string.lower()\n",
    "    for word in feat_words:\n",
    "        if word in text_string:\n",
    "            return 1\n",
    "    return 0\n",
    "df_main['title_featuring'] = df_main['title'].map(lambda x: find_feats(x))"
   ]
  },
  {
   "cell_type": "code",
   "execution_count": 14,
   "metadata": {},
   "outputs": [
    {
     "data": {
      "text/plain": [
       "2.8603427786398767"
      ]
     },
     "execution_count": 14,
     "metadata": {},
     "output_type": "execute_result"
    }
   ],
   "source": [
    "df_main[df_main['title_featuring']==1]['viewCount'].mean() / df_main[df_main['title_featuring']==0]['viewCount'].mean()"
   ]
  },
  {
   "cell_type": "code",
   "execution_count": 15,
   "metadata": {},
   "outputs": [],
   "source": [
    "letters = 'abcdefghijklmnopqrstuvwxyz'\n",
    "for letter in letters:\n",
    "    df_main[str('intitle_' + letter)] = df_main.title.str.count(letter)"
   ]
  },
  {
   "cell_type": "code",
   "execution_count": 16,
   "metadata": {},
   "outputs": [
    {
     "data": {
      "text/plain": [
       "-4.909150499504149e-05"
      ]
     },
     "execution_count": 16,
     "metadata": {},
     "output_type": "execute_result"
    }
   ],
   "source": [
    "df_main.intitle_e.corr(df_main.viewCount)"
   ]
  },
  {
   "cell_type": "code",
   "execution_count": 17,
   "metadata": {},
   "outputs": [
    {
     "data": {
      "text/plain": [
       "[('p', -0.04000300086280226),\n",
       " ('s', -0.03754157090929833),\n",
       " ('b', -0.03595935668289338),\n",
       " ('m', -0.033256677040368686),\n",
       " ('r', -0.032486695162294),\n",
       " ('v', -0.031097787374934398),\n",
       " ('z', -0.023971870954070173),\n",
       " ('g', -0.02137616539138603),\n",
       " ('o', -0.020916860900920094),\n",
       " ('x', -0.018601016174218863),\n",
       " ('j', -0.01761572654265915),\n",
       " ('w', -0.015499996520572504),\n",
       " ('q', -0.009614216359448539),\n",
       " ('n', -0.005906172544945663),\n",
       " ('t', -0.0017217805286332197),\n",
       " ('e', -4.909150499504149e-05),\n",
       " ('y', 0.0007098444506370824),\n",
       " ('c', 0.000986900500183664),\n",
       " ('u', 0.001448120383550104),\n",
       " ('h', 0.0051633083765732415),\n",
       " ('l', 0.007845902261759201),\n",
       " ('d', 0.02424417914699086),\n",
       " ('a', 0.028695981590447797),\n",
       " ('k', 0.03151026259519688),\n",
       " ('i', 0.0460620475440144),\n",
       " ('f', 0.13754559376827483)]"
      ]
     },
     "execution_count": 17,
     "metadata": {},
     "output_type": "execute_result"
    }
   ],
   "source": [
    "dict_letters = {}\n",
    "for letter in letters:\n",
    "     dict_letters[letter] = df_main['intitle_'+letter].corr(df_main.viewCount)\n",
    "\n",
    "sorted_by_value = sorted(dict_letters.items(), key=lambda kv: kv[1])\n",
    "\n",
    "sorted_by_value"
   ]
  },
  {
   "cell_type": "markdown",
   "metadata": {},
   "source": [
    "Look at f go!"
   ]
  },
  {
   "cell_type": "code",
   "execution_count": 18,
   "metadata": {},
   "outputs": [],
   "source": [
    "df_main['title_length'] = df_main['title'].map(lambda x: len(str(x)))"
   ]
  },
  {
   "cell_type": "code",
   "execution_count": 19,
   "metadata": {},
   "outputs": [
    {
     "data": {
      "text/plain": [
       "0.04400583186930594"
      ]
     },
     "execution_count": 19,
     "metadata": {},
     "output_type": "execute_result"
    }
   ],
   "source": [
    "df_main.title_length.corr(df_main.view_log)"
   ]
  },
  {
   "cell_type": "code",
   "execution_count": 20,
   "metadata": {},
   "outputs": [],
   "source": [
    "if Run_Text_Analysis: \n",
    "    corp = ''\n",
    "    for i in range(df_main.shape[0]):\n",
    "        try:\n",
    "            corp += re.sub(r'http[^ ]+', '',df_main.iloc[i]['title']).replace(\"\\r\", '').replace(\"\\n\", '')\n",
    "        except:\n",
    "            next\n",
    "\n",
    "    df_corp= pd.DataFrame([corp], index=[1])\n",
    "    cvec = CountVectorizer()\n",
    "    df_cvec_title = cvec.fit_transform(df_corp[0]).todense()\n",
    "    df_cvec_title = pd.DataFrame(df_cvec_title, columns = cvec.get_feature_names())\n",
    "\n",
    "    title_words = [col for col in df_cvec_title.columns if df_cvec_title[col].sum()>200]\n",
    "\n",
    "    lmtzr = PorterStemmer()\n",
    "    lem_list = []\n",
    "    for word in title_words:\n",
    "        lem_list.append(lmtzr.stem(word))\n",
    "    lem_list = list(set(lem_list))\n",
    "    df_title_word_vec = df_main.loc[:, ['title', 'vidId']]\n",
    "\n",
    "    for i in range(df_title_word_vec.shape[0]):\n",
    "        try:\n",
    "            df_title_word_vec.at[i,'title'] = ' '.join([lmtzr.stem(word) for word in (re.sub(r'http[^ ]+', '', \\\n",
    "                                                                                           df_title_word_vec.title[i]).replace(\"\\r\", '').replace(\"\\n\", '')).split(' ')])\n",
    "        except:\n",
    "            df_title_word_vec.at[i,'title'] = ''\n",
    "\n",
    "    for word in lem_list:\n",
    "        df_title_word_vec[str('title_word_' + word)] = df_title_word_vec.title.str.count(word)\n",
    "\n",
    "    df_title_word_vec.fillna(0, inplace=True)\n",
    "\n",
    "    df_title_word_vec.to_csv('./data/title_wordvec2.csv')"
   ]
  },
  {
   "cell_type": "markdown",
   "metadata": {},
   "source": [
    "### Ratios"
   ]
  },
  {
   "cell_type": "markdown",
   "metadata": {},
   "source": [
    "#### Likes / Views"
   ]
  },
  {
   "cell_type": "code",
   "execution_count": 21,
   "metadata": {},
   "outputs": [
    {
     "data": {
      "text/plain": [
       "6263     1\n",
       "8495    82\n",
       "8532    10\n",
       "Name: likeCount, dtype: int64"
      ]
     },
     "execution_count": 21,
     "metadata": {},
     "output_type": "execute_result"
    }
   ],
   "source": [
    "df_main[(df_main['likeCount']>0)&(df_main['viewCount']<=5)]['likeCount']"
   ]
  },
  {
   "cell_type": "code",
   "execution_count": 22,
   "metadata": {},
   "outputs": [],
   "source": [
    "#Messing up the ratios with likecounts on videos with no views\n",
    "df_main.at[6263, 'likeCount'] = 0\n",
    "df_main.at[8495, 'likeCount'] = 0\n",
    "df_main.at[8532, 'likeCount'] = 0\n"
   ]
  },
  {
   "cell_type": "code",
   "execution_count": 23,
   "metadata": {},
   "outputs": [
    {
     "data": {
      "text/html": [
       "<div>\n",
       "<style scoped>\n",
       "    .dataframe tbody tr th:only-of-type {\n",
       "        vertical-align: middle;\n",
       "    }\n",
       "\n",
       "    .dataframe tbody tr th {\n",
       "        vertical-align: top;\n",
       "    }\n",
       "\n",
       "    .dataframe thead th {\n",
       "        text-align: right;\n",
       "    }\n",
       "</style>\n",
       "<table border=\"1\" class=\"dataframe\">\n",
       "  <thead>\n",
       "    <tr style=\"text-align: right;\">\n",
       "      <th></th>\n",
       "      <th>lv_ratio</th>\n",
       "      <th>viewCount</th>\n",
       "      <th>view_log</th>\n",
       "    </tr>\n",
       "  </thead>\n",
       "  <tbody>\n",
       "    <tr>\n",
       "      <th>lv_ratio</th>\n",
       "      <td>1.000000</td>\n",
       "      <td>0.174481</td>\n",
       "      <td>0.664305</td>\n",
       "    </tr>\n",
       "    <tr>\n",
       "      <th>viewCount</th>\n",
       "      <td>0.174481</td>\n",
       "      <td>1.000000</td>\n",
       "      <td>0.372559</td>\n",
       "    </tr>\n",
       "    <tr>\n",
       "      <th>view_log</th>\n",
       "      <td>0.664305</td>\n",
       "      <td>0.372559</td>\n",
       "      <td>1.000000</td>\n",
       "    </tr>\n",
       "  </tbody>\n",
       "</table>\n",
       "</div>"
      ],
      "text/plain": [
       "           lv_ratio  viewCount  view_log\n",
       "lv_ratio   1.000000   0.174481  0.664305\n",
       "viewCount  0.174481   1.000000  0.372559\n",
       "view_log   0.664305   0.372559  1.000000"
      ]
     },
     "execution_count": 23,
     "metadata": {},
     "output_type": "execute_result"
    }
   ],
   "source": [
    "df_main['lv_ratio'] = (df_main['like_log'] / df_main['view_log'])\n",
    "\n",
    "df_main['lv_ratio'].fillna(1, inplace=True)\n",
    "\n",
    "df_main.loc[: , ['lv_ratio', 'viewCount', 'view_log']].corr()"
   ]
  },
  {
   "cell_type": "markdown",
   "metadata": {},
   "source": [
    "#### comments / views"
   ]
  },
  {
   "cell_type": "code",
   "execution_count": 24,
   "metadata": {},
   "outputs": [
    {
     "data": {
      "text/plain": [
       "8495    3\n",
       "Name: commentCount, dtype: int64"
      ]
     },
     "execution_count": 24,
     "metadata": {},
     "output_type": "execute_result"
    }
   ],
   "source": [
    "df_main[(df_main['commentCount']>0)&(df_main['viewCount']<=0)]['commentCount']"
   ]
  },
  {
   "cell_type": "code",
   "execution_count": 25,
   "metadata": {},
   "outputs": [],
   "source": [
    "df_main.at[8495, 'commentCount'] = 0"
   ]
  },
  {
   "cell_type": "code",
   "execution_count": 26,
   "metadata": {},
   "outputs": [
    {
     "data": {
      "text/html": [
       "<div>\n",
       "<style scoped>\n",
       "    .dataframe tbody tr th:only-of-type {\n",
       "        vertical-align: middle;\n",
       "    }\n",
       "\n",
       "    .dataframe tbody tr th {\n",
       "        vertical-align: top;\n",
       "    }\n",
       "\n",
       "    .dataframe thead th {\n",
       "        text-align: right;\n",
       "    }\n",
       "</style>\n",
       "<table border=\"1\" class=\"dataframe\">\n",
       "  <thead>\n",
       "    <tr style=\"text-align: right;\">\n",
       "      <th></th>\n",
       "      <th>comment_view_ratio</th>\n",
       "      <th>viewCount</th>\n",
       "      <th>view_log</th>\n",
       "    </tr>\n",
       "  </thead>\n",
       "  <tbody>\n",
       "    <tr>\n",
       "      <th>comment_view_ratio</th>\n",
       "      <td>1.000000</td>\n",
       "      <td>0.231102</td>\n",
       "      <td>0.721300</td>\n",
       "    </tr>\n",
       "    <tr>\n",
       "      <th>viewCount</th>\n",
       "      <td>0.231102</td>\n",
       "      <td>1.000000</td>\n",
       "      <td>0.372559</td>\n",
       "    </tr>\n",
       "    <tr>\n",
       "      <th>view_log</th>\n",
       "      <td>0.721300</td>\n",
       "      <td>0.372559</td>\n",
       "      <td>1.000000</td>\n",
       "    </tr>\n",
       "  </tbody>\n",
       "</table>\n",
       "</div>"
      ],
      "text/plain": [
       "                    comment_view_ratio  viewCount  view_log\n",
       "comment_view_ratio            1.000000   0.231102  0.721300\n",
       "viewCount                     0.231102   1.000000  0.372559\n",
       "view_log                      0.721300   0.372559  1.000000"
      ]
     },
     "execution_count": 26,
     "metadata": {},
     "output_type": "execute_result"
    }
   ],
   "source": [
    "df_main['comment_view_ratio'] = (df_main['comment_log'] / df_main['view_log'])\n",
    "\n",
    "df_main['comment_view_ratio'].fillna(1, inplace=True)\n",
    "\n",
    "df_main.loc[: , ['comment_view_ratio', 'viewCount', 'view_log']].corr()"
   ]
  },
  {
   "cell_type": "code",
   "execution_count": 27,
   "metadata": {},
   "outputs": [],
   "source": [
    "#Skip dislike / view: same as comment"
   ]
  },
  {
   "cell_type": "markdown",
   "metadata": {},
   "source": [
    "#### Dislikes / Likes"
   ]
  },
  {
   "cell_type": "code",
   "execution_count": 28,
   "metadata": {},
   "outputs": [
    {
     "data": {
      "text/plain": [
       "8495    10\n",
       "Name: dislikeCount, dtype: int64"
      ]
     },
     "execution_count": 28,
     "metadata": {},
     "output_type": "execute_result"
    }
   ],
   "source": [
    "df_main[(df_main['dislikeCount']>0)&(df_main['viewCount']<=0)]['dislikeCount']"
   ]
  },
  {
   "cell_type": "code",
   "execution_count": 29,
   "metadata": {},
   "outputs": [],
   "source": [
    "df_main.at[8495, 'dislikeCount'] = 0"
   ]
  },
  {
   "cell_type": "code",
   "execution_count": 30,
   "metadata": {},
   "outputs": [
    {
     "data": {
      "text/html": [
       "<div>\n",
       "<style scoped>\n",
       "    .dataframe tbody tr th:only-of-type {\n",
       "        vertical-align: middle;\n",
       "    }\n",
       "\n",
       "    .dataframe tbody tr th {\n",
       "        vertical-align: top;\n",
       "    }\n",
       "\n",
       "    .dataframe thead th {\n",
       "        text-align: right;\n",
       "    }\n",
       "</style>\n",
       "<table border=\"1\" class=\"dataframe\">\n",
       "  <thead>\n",
       "    <tr style=\"text-align: right;\">\n",
       "      <th></th>\n",
       "      <th>like_dislike_ratio</th>\n",
       "      <th>viewCount</th>\n",
       "      <th>view_log</th>\n",
       "    </tr>\n",
       "  </thead>\n",
       "  <tbody>\n",
       "    <tr>\n",
       "      <th>like_dislike_ratio</th>\n",
       "      <td>1.000000</td>\n",
       "      <td>-0.137531</td>\n",
       "      <td>-0.517068</td>\n",
       "    </tr>\n",
       "    <tr>\n",
       "      <th>viewCount</th>\n",
       "      <td>-0.137531</td>\n",
       "      <td>1.000000</td>\n",
       "      <td>0.372559</td>\n",
       "    </tr>\n",
       "    <tr>\n",
       "      <th>view_log</th>\n",
       "      <td>-0.517068</td>\n",
       "      <td>0.372559</td>\n",
       "      <td>1.000000</td>\n",
       "    </tr>\n",
       "  </tbody>\n",
       "</table>\n",
       "</div>"
      ],
      "text/plain": [
       "                    like_dislike_ratio  viewCount  view_log\n",
       "like_dislike_ratio            1.000000  -0.137531 -0.517068\n",
       "viewCount                    -0.137531   1.000000  0.372559\n",
       "view_log                     -0.517068   0.372559  1.000000"
      ]
     },
     "execution_count": 30,
     "metadata": {},
     "output_type": "execute_result"
    }
   ],
   "source": [
    "df_main['like_dislike_ratio'] = (df_main['like_log'] / df_main['dislike_log'])\n",
    "\n",
    "df_main['like_dislike_ratio'].fillna(1, inplace=True)\n",
    "\n",
    "df_main.loc[: , ['like_dislike_ratio', 'viewCount', 'view_log']].corr()"
   ]
  },
  {
   "cell_type": "markdown",
   "metadata": {},
   "source": [
    "#### Deal with infinities"
   ]
  },
  {
   "cell_type": "code",
   "execution_count": 31,
   "metadata": {},
   "outputs": [
    {
     "data": {
      "text/plain": [
       "inf          2\n",
       "1.000000    20\n",
       "Name: lv_ratio, dtype: int64"
      ]
     },
     "execution_count": 31,
     "metadata": {},
     "output_type": "execute_result"
    }
   ],
   "source": [
    "df_main['lv_ratio'].value_counts().sort_index(ascending=False).iloc[:2]"
   ]
  },
  {
   "cell_type": "code",
   "execution_count": 32,
   "metadata": {},
   "outputs": [
    {
     "data": {
      "text/plain": [
       "inf          1\n",
       "1.000000    22\n",
       "Name: comment_view_ratio, dtype: int64"
      ]
     },
     "execution_count": 32,
     "metadata": {},
     "output_type": "execute_result"
    }
   ],
   "source": [
    "df_main['comment_view_ratio'].value_counts().sort_index(ascending=False).iloc[:2]"
   ]
  },
  {
   "cell_type": "code",
   "execution_count": 33,
   "metadata": {},
   "outputs": [
    {
     "data": {
      "text/plain": [
       "inf          787\n",
       "10.022368      1\n",
       "Name: like_dislike_ratio, dtype: int64"
      ]
     },
     "execution_count": 33,
     "metadata": {},
     "output_type": "execute_result"
    }
   ],
   "source": [
    "df_main['like_dislike_ratio'].value_counts().sort_index(ascending=False).iloc[:2]"
   ]
  },
  {
   "cell_type": "code",
   "execution_count": 34,
   "metadata": {},
   "outputs": [],
   "source": [
    "df_main.lv_ratio = df_main.lv_ratio.map(lambda x: 7 if x == np.inf else x)\n",
    "\n",
    "df_main.comment_view_ratio = df_main.comment_view_ratio.map(lambda x: 7 if x == np.inf else x)\n",
    "df_main.like_dislike_ratio = df_main.like_dislike_ratio.map(lambda x: 10 if x == np.inf else x)"
   ]
  },
  {
   "cell_type": "code",
   "execution_count": null,
   "metadata": {},
   "outputs": [],
   "source": []
  },
  {
   "cell_type": "markdown",
   "metadata": {},
   "source": [
    "# <a class=\"anchor\" id=\"3.0-bullet\"> 3. Output</a>"
   ]
  },
  {
   "cell_type": "code",
   "execution_count": 35,
   "metadata": {},
   "outputs": [],
   "source": [
    "now_month = datetime.datetime.now().month\n",
    "now_day = datetime.datetime.now().day\n",
    "now_hour = datetime.datetime.now().hour\n",
    "now_minute = datetime.datetime.now().minute\n",
    "output_title = './data/engineered_data/data_engineered_round2_{}.{}_{}{}.csv'.format(now_month, now_day, now_hour, now_minute)\n",
    "\n",
    "df_main.to_csv(output_title, index=False)"
   ]
  },
  {
   "cell_type": "markdown",
   "metadata": {},
   "source": [
    "## Features Description"
   ]
  },
  {
   "cell_type": "markdown",
   "metadata": {},
   "source": [
    "Date Time\n",
    "* General: publishedAt\n",
    "* Friday (is_friday)\n",
    "* Is weekend (is_weekend)\n",
    "* week number (week)\n",
    "* Month day (month_day)\n",
    "* Month (month)\n",
    "* 2 digit year number (year)\n",
    "\n",
    "* Ignoring overall day count - possible overfit to search algorithm\n",
    "\n",
    "Description\n",
    "* Sentiment (description_sentiment)\n",
    "* Overall word count (description_wordcount)\n",
    "* CVEC (./data/engineered_data/description_wordvec.csv)\n",
    "\n",
    "\n",
    "Tags\n",
    "* Sentiment (tags_sentiment)\n",
    "* Num tags (tags_wordcount)\n",
    "* CVEC (./data/engineered_data/tag_wordvec.csv)\n",
    "\n",
    "Title\n",
    "* Sentiment (title_sentiment)\n",
    "* Word count (title_wordcount)\n",
    "* feat / ft. (title_featuring)\n",
    "* Letter Count (intitle_ + a,b,c,...)\n",
    "* String length (title_length)\n",
    "* Which letters\n",
    "* Length  \n",
    "* CVEC (./data/engineered_data/title_wordvec.csv)\n",
    "\n",
    "Ratios\n",
    "* likes / views (lv_ratio)\n",
    "* comments / view (comment_view_ratio)\n",
    "* likes / dislikes (like_dislike_ratio)\n",
    "\n",
    "Measures (includes log)\n",
    "* commentCount\n",
    "* dislikeCount \n",
    "* favoriteCount \n",
    "* likeCount: \n",
    "* viewCount: view_log\n",
    "\n",
    "Other\n",
    "* Has content rating restriction (contentRating)\n",
    "* Has any region Restriction (regionRestriction)\n",
    "* Has captioned text (caption)\n",
    "* Content has approved license (licensedContent)\n",
    "* Duration of video (duration)\n",
    "* High definition 1 or std (0) (definition)\n"
   ]
  },
  {
   "cell_type": "code",
   "execution_count": 36,
   "metadata": {},
   "outputs": [
    {
     "data": {
      "text/plain": [
       "[]"
      ]
     },
     "execution_count": 36,
     "metadata": {},
     "output_type": "execute_result"
    }
   ],
   "source": [
    "model_time = ['is_weekend', 'is_friday', 'year_day', 'week', 'week_day', 'month', 'month_day', 'year',  ]\n",
    "model_text = ['description_sentiment', 'description_wordcount',\n",
    "  'tags_sentiment', 'tags_wordcount', 'title_sentiment',\n",
    " 'title_wordcount', 'title_featuring', 'title_length', ]\n",
    "model_title_letter = ['intitle_a',  'intitle_b', 'intitle_c', 'intitle_d', 'intitle_e', 'intitle_f', 'intitle_g',\n",
    " 'intitle_h', 'intitle_i', 'intitle_j', 'intitle_k', 'intitle_l', 'intitle_m', 'intitle_n', 'intitle_o',\n",
    " 'intitle_p', 'intitle_q', 'intitle_r', 'intitle_s', 'intitle_t', 'intitle_u', 'intitle_v', 'intitle_w',\n",
    " 'intitle_x', 'intitle_y', 'intitle_z',]              \n",
    "model_ratios = ['lv_ratio', 'comment_view_ratio', 'like_dislike_ratio',]\n",
    "model_other = ['duration', 'contentRating', 'regionRestriction',  'licensedContent', 'caption', 'definition']\n",
    "measures = ['likeCount', 'dislikeCount', 'commentCount', 'viewCount',\n",
    "            'view_log',  'comment_log',  'like_log', 'dislike_log', \n",
    "            'view_class' ]\n",
    "non_model_cols = ['request_token', 'letter_search','channelTitle', 'tags', 'title', 'vidId','publishedAt','favoriteCount',\n",
    "              'description','defaultLanguage', ]\n",
    "\n",
    "\n",
    "[col for col in df_main.columns if \\\n",
    " col not in model_time and \\\n",
    " col not in model_text and \\\n",
    "col not in model_title_letter and \\\n",
    "col not in model_ratios and \\\n",
    "col not in model_other and \n",
    "col not in measures and \\\n",
    "col not in non_model_cols]"
   ]
  },
  {
   "cell_type": "code",
   "execution_count": null,
   "metadata": {},
   "outputs": [],
   "source": []
  }
 ],
 "metadata": {
  "kernelspec": {
   "display_name": "Python 3",
   "language": "python",
   "name": "python3"
  },
  "language_info": {
   "codemirror_mode": {
    "name": "ipython",
    "version": 3
   },
   "file_extension": ".py",
   "mimetype": "text/x-python",
   "name": "python",
   "nbconvert_exporter": "python",
   "pygments_lexer": "ipython3",
   "version": "3.6.5"
  }
 },
 "nbformat": 4,
 "nbformat_minor": 2
}
