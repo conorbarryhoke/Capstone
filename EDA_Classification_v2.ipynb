{
 "cells": [
  {
   "cell_type": "code",
   "execution_count": 1,
   "metadata": {},
   "outputs": [],
   "source": [
    "#do this later from admin: !python -m pip install --upgrade pip\n"
   ]
  },
  {
   "cell_type": "markdown",
   "metadata": {},
   "source": [
    "# TOC"
   ]
  },
  {
   "cell_type": "markdown",
   "metadata": {},
   "source": [
    "The move is\n",
    "1. Move true and final feature engineering to new book\n",
    "2. Consolidate EDA into single book\n",
    "3. Separate modeling books\n",
    "\n",
    "Should have:\n",
    "1. ETL\n",
    "2. EDA\n",
    "3. Feature Engineering - Permanent\n",
    "4. Modeling - Pure Regression\n",
    "5. Modeling - Pure classification\n",
    "6. Modeling - combination\n"
   ]
  },
  {
   "cell_type": "markdown",
   "metadata": {},
   "source": [
    "Before going too much further, start write up and PPT now. (Google sheets later -- want quick viz)\n",
    "May help focus in next phase, and will definitely nail down descriptive aspect"
   ]
  },
  {
   "cell_type": "markdown",
   "metadata": {},
   "source": [
    "Find centroids on train, predict test centroids"
   ]
  },
  {
   "cell_type": "markdown",
   "metadata": {},
   "source": [
    "Build function 2 ways to assess deltas between groups: \n",
    "1. cat, mean OR std, group a, group b, group c (multiclass)\n",
    "2. Binary: cat, measure 1, measure 2, delta to class (other)\n",
    "\n",
    "Remember to Standard SCale for comparison\n",
    "Add: weekend day"
   ]
  },
  {
   "cell_type": "markdown",
   "metadata": {},
   "source": [
    "Still haven't added weekday features"
   ]
  },
  {
   "cell_type": "markdown",
   "metadata": {},
   "source": [
    "0. [Imports](#first-bullet)\n",
    "1. [EDA](#1.0-bullet)\n",
    "2. [Feature Engineering](#2.0-bullet)  \n",
    " 2.1 [Pt 1 - Regression](#2.1-bullet)  \n",
    " 2.2 [Pt 2 - Classification](#2.2-bullet)\n",
    "3. [Basic Model](#3.0-bullet)  \n",
    " 3.1 [Pt 1 - Regression](#3.1-bullet)  \n",
    " 3.2 [Pt 2 - Classification](#3.2-bullet)\n",
    "4. [Reference and Planning](#4.0-bullet)"
   ]
  },
  {
   "cell_type": "markdown",
   "metadata": {},
   "source": [
    "# Do not Run All cells - lots of charts"
   ]
  },
  {
   "cell_type": "code",
   "execution_count": 1,
   "metadata": {},
   "outputs": [],
   "source": [
    "#Basic\n",
    "import pandas as pd\n",
    "import numpy as np\n",
    "#Math\n",
    "import scipy as sp\n",
    "from random import randint\n",
    "from math import exp\n",
    "import operator\n",
    "\n",
    "#Scraping\n",
    "import requests\n",
    "import json\n",
    "\n",
    "#Youtube Data API Packages: \n",
    "from apiclient.discovery import build\n",
    "from apiclient.errors import HttpError\n",
    "from oauth2client.tools import argparser\n",
    "from googleapiclient.discovery import build\n",
    "import argparse\n",
    "\"\"\"\n",
    "from googleapiclient.errors import HttpError\"\"\"\n",
    "\n",
    "#Modeling\n",
    "from sklearn.model_selection import cross_val_score, train_test_split, GridSearchCV\n",
    "from sklearn.metrics import r2_score\n",
    "from sklearn.preprocessing import StandardScaler\n",
    "#from sklearn.linear_model import LogisticRegression\n",
    "#from sklearn.naive_bayes import MultinomialNB\n",
    "from sklearn.ensemble import RandomForestClassifier, GradientBoostingClassifier\n",
    "from sklearn.neighbors import KNeighborsClassifier\n",
    "#from sklearn.cluster import KMeans\n",
    "#from sklearn.svm import SVC\n",
    "from sklearn.metrics import confusion_matrix, roc_auc_score, roc_curve\n",
    "\n",
    "#NLP & Text Management\n",
    "from sklearn.feature_extraction import stop_words\n",
    "from sklearn.feature_extraction.text import CountVectorizer\n",
    "from sklearn.feature_extraction.text import TfidfVectorizer\n",
    "import re\n",
    "from textblob import TextBlob\n",
    "from wordcloud import WordCloud\n",
    "from nltk.stem import PorterStemmer\n",
    "\n",
    "#Time analysis\n",
    "import time\n",
    "import datetime as dt\n",
    "\"\"\"from statsmodels.tsa.stattools import pacf\n",
    "from statsmodels.graphics.tsaplots import plot_pacf\"\"\"\n",
    "\n",
    "#Plotting\n",
    "import matplotlib.pyplot as plt\n",
    "import seaborn as sns\n",
    "#from wordcloud import WordCloud\n",
    "\n",
    "%matplotlib inline\n",
    "plt.style.use('seaborn-whitegrid')\n",
    "sns.set_style('whitegrid')"
   ]
  },
  {
   "cell_type": "code",
   "execution_count": 2,
   "metadata": {},
   "outputs": [],
   "source": [
    "df_main = pd.read_csv('./data/clean_data_nocomments_noviews_02.10.18.csv')\n",
    "\n",
    "#create log features"
   ]
  },
  {
   "cell_type": "code",
   "execution_count": 3,
   "metadata": {},
   "outputs": [],
   "source": [
    "df_main['view_log'] = df_main['viewCount'].map(lambda x: 0 if x==0 else np.log10(x)) #Which log to use???\n",
    "df_main['comment_log'] = df_main['commentCount'].map(lambda x: 0 if x==0 else np.log10(x))\n",
    "df_main['like_log'] = df_main['likeCount'].map(lambda x: 0 if x==0 else np.log10(x))\n",
    "df_main['dislike_log'] = df_main['dislikeCount'].map(lambda x: 0 if x==0 else np.log10(x))\n",
    "\n",
    "\n",
    "df_main.publishedAt = pd.to_datetime(df_main.publishedAt)\n",
    "df_main['week'] = df_main.publishedAt.map(lambda x: x.week)\n",
    "\n",
    "df_main.description.fillna('', inplace=True)\n",
    "\n",
    "df_main.tags.fillna('', inplace=True)"
   ]
  },
  {
   "cell_type": "code",
   "execution_count": 1,
   "metadata": {},
   "outputs": [],
   "source": [
    "Run_Text_Analysis = False"
   ]
  },
  {
   "cell_type": "markdown",
   "metadata": {},
   "source": [
    "# <a class=\"anchor\" id=\"2.0-bullet\"> 2. Feature Engineering</a>"
   ]
  },
  {
   "cell_type": "markdown",
   "metadata": {},
   "source": [
    "* Description\n",
    " * Sentiment\n",
    " * CVEC x\n",
    " * Overall word count\n",
    "* Tags\n",
    " * Sentiment\n",
    " * CVEC\n",
    " * Num tags\n",
    "* Title\n",
    " * Sentiment\n",
    " * CVEC predictions\n",
    " * feat / ft. \n",
    " * Which letters\n",
    " * Length\n",
    "* Measures\n",
    " * Log features\n",
    "  * commentCount, \n",
    "  * dislikeCount, \n",
    "  * favoriteCount, \n",
    "  * likeCount\n",
    "  * viewCount: view_log\n"
   ]
  },
  {
   "cell_type": "markdown",
   "metadata": {},
   "source": [
    "## <a class=\"anchor\" id=\"2.1-bullet\">2.1 Adding Features</a>\n",
    "\n"
   ]
  },
  {
   "cell_type": "markdown",
   "metadata": {},
   "source": [
    "### Description\n",
    " * Sentiment description_sentiment\n",
    " * Overall word count description_wordcount\n",
    " * CVEC matrix"
   ]
  },
  {
   "cell_type": "markdown",
   "metadata": {},
   "source": [
    "### Tags\n",
    " * Sentiment\n",
    " * CVEC\n",
    " * Num tags"
   ]
  },
  {
   "cell_type": "markdown",
   "metadata": {},
   "source": [
    "### Title\n",
    " * Sentiment\n",
    " * Wordcount\n",
    " * CVEC predictions\n",
    " * feat / ft. \n",
    " * Which letters\n",
    " * Length"
   ]
  },
  {
   "cell_type": "markdown",
   "metadata": {},
   "source": [
    "Look at f go!"
   ]
  },
  {
   "cell_type": "markdown",
   "metadata": {},
   "source": [
    "### Other"
   ]
  },
  {
   "cell_type": "code",
   "execution_count": null,
   "metadata": {},
   "outputs": [],
   "source": []
  },
  {
   "cell_type": "markdown",
   "metadata": {},
   "source": [
    "## <a class=\"anchor\" id=\"2.2-bullet\">2.2 Classification</a>\n",
    "\n"
   ]
  },
  {
   "cell_type": "markdown",
   "metadata": {},
   "source": [
    "# <a class=\"anchor\" id=\"3.0-bullet\"> 3. Basic Model</a>"
   ]
  },
  {
   "cell_type": "code",
   "execution_count": 26,
   "metadata": {},
   "outputs": [],
   "source": [
    "cols_exclude = ['letter_search', 'request_token', 'channelTitle', 'defaultLanguage', 'description', 'tags', \n",
    "               'title', 'vidId', \n",
    "               'month', 'publishedAt', \n",
    "               'viewCount','view_log','view_class', 'commentCount', 'favoriteCount', 'dislikeCount', 'likeCount']\n",
    "cols_include_initial = [col for col in df_main.columns if col not in cols_exclude]\n",
    "cols_include_final = [col for col in df_main.columns if col not in cols_exclude ]#and col not in others_to_exclude\n",
    "X = df_main.loc[:, cols_include_final]\n",
    "y = df_main.view_class"
   ]
  },
  {
   "cell_type": "markdown",
   "metadata": {},
   "source": [
    "## <a class=\"anchor\" id=\"3.1-bullet\">3.1 Unsupervised Learning</a>\n",
    "\n"
   ]
  },
  {
   "cell_type": "code",
   "execution_count": 27,
   "metadata": {},
   "outputs": [],
   "source": [
    "from sklearn.cluster import DBSCAN, KMeans"
   ]
  },
  {
   "cell_type": "code",
   "execution_count": 28,
   "metadata": {},
   "outputs": [],
   "source": [
    "from sklearn.metrics import silhouette_score"
   ]
  },
  {
   "cell_type": "code",
   "execution_count": 146,
   "metadata": {},
   "outputs": [
    {
     "name": "stdout",
     "output_type": "stream",
     "text": [
      "   n:  10  score:  323735.0154664527\n",
      "   n:  15  score:  304300.95188746974\n",
      "   n:  20  score:  289835.56074752053\n",
      "   n:  25  score:  281633.9412256931\n",
      "   n:  30  score:  274818.29518382373\n",
      "   n:  35  score:  268994.23680192244\n",
      "   n:  40  score:  264631.0371473209\n",
      "   n:  45  score:  260375.46011602212\n",
      "   n:  50  score:  256977.50355105224\n",
      "   n:  55  score:  253389.46560993863\n",
      "   n:  60  score:  250997.27975188356\n"
     ]
    }
   ],
   "source": [
    "for n in range(10, 61, 5):\n",
    "    classifier = KMeans(n_clusters=n)\n",
    "    classifier.fit_predict(X=df_classified)\n",
    "    print('   n: ', n, ' score: ', classifier.inertia_)\n"
   ]
  },
  {
   "cell_type": "code",
   "execution_count": 171,
   "metadata": {},
   "outputs": [
    {
     "name": "stdout",
     "output_type": "stream",
     "text": [
      "    i:  30  max:  view_log    7.337068\n",
      "dtype: float64\n",
      "    i:  31  max:  view_log    7.351191\n",
      "dtype: float64\n",
      "    i:  32  max:  view_log    7.349823\n",
      "dtype: float64\n",
      "    i:  33  max:  view_log    7.39974\n",
      "dtype: float64\n",
      "    i:  34  max:  view_log    7.347003\n",
      "dtype: float64\n",
      "    i:  35  max:  view_log    7.372282\n",
      "dtype: float64\n",
      "    i:  36  max:  view_log    7.508084\n",
      "dtype: float64\n",
      "    i:  37  max:  view_log    7.35118\n",
      "dtype: float64\n",
      "    i:  38  max:  view_log    7.326899\n",
      "dtype: float64\n",
      "    i:  39  max:  view_log    7.350033\n",
      "dtype: float64\n",
      "    i:  40  max:  view_log    7.350779\n",
      "dtype: float64\n",
      "    i:  41  max:  view_log    7.510703\n",
      "dtype: float64\n",
      "    i:  42  max:  view_log    7.33851\n",
      "dtype: float64\n",
      "    i:  43  max:  view_log    7.341986\n",
      "dtype: float64\n",
      "    i:  44  max:  view_log    7.327781\n",
      "dtype: float64\n",
      "    i:  45  max:  view_log    7.514125\n",
      "dtype: float64\n",
      "    i:  46  max:  view_log    7.357322\n",
      "dtype: float64\n",
      "    i:  47  max:  view_log    7.342221\n",
      "dtype: float64\n",
      "    i:  48  max:  view_log    7.492615\n",
      "dtype: float64\n",
      "    i:  49  max:  view_log    7.349364\n",
      "dtype: float64\n"
     ]
    }
   ],
   "source": [
    "for i in range(30, 50):\n",
    "    df_classified = pd.DataFrame(StandardScaler().fit_transform(X)).join(y)\n",
    "    classifier = KMeans(n_clusters=20, random_state=i)\n",
    "    df_classified = df_main.join(pd.DataFrame(pd.Series(classifier.fit_predict(X=df_clssified)), columns=['kclass']))\n",
    "    print('    i: ', i, ' max: ', df_classified.loc[:, ['kclass', 'view_log']].groupby('kclass').mean().max())"
   ]
  },
  {
   "cell_type": "code",
   "execution_count": 169,
   "metadata": {},
   "outputs": [
    {
     "data": {
      "text/html": [
       "<div>\n",
       "<style scoped>\n",
       "    .dataframe tbody tr th:only-of-type {\n",
       "        vertical-align: middle;\n",
       "    }\n",
       "\n",
       "    .dataframe tbody tr th {\n",
       "        vertical-align: top;\n",
       "    }\n",
       "\n",
       "    .dataframe thead th {\n",
       "        text-align: right;\n",
       "    }\n",
       "</style>\n",
       "<table border=\"1\" class=\"dataframe\">\n",
       "  <thead>\n",
       "    <tr style=\"text-align: right;\">\n",
       "      <th></th>\n",
       "      <th>title</th>\n",
       "      <th>viewCount</th>\n",
       "      <th>kclass</th>\n",
       "    </tr>\n",
       "  </thead>\n",
       "  <tbody>\n",
       "    <tr>\n",
       "      <th>3270</th>\n",
       "      <td>Luis Fonsi - Despacito ( cover by J.Fla )</td>\n",
       "      <td>127411039</td>\n",
       "      <td>1</td>\n",
       "    </tr>\n",
       "    <tr>\n",
       "      <th>7479</th>\n",
       "      <td>Luis Fonsi - Despacito ft. Daddy Yankee</td>\n",
       "      <td>5555912002</td>\n",
       "      <td>1</td>\n",
       "    </tr>\n",
       "    <tr>\n",
       "      <th>7594</th>\n",
       "      <td>Luis Fonsi, Daddy Yankee - Despacito (Remix Au...</td>\n",
       "      <td>633857377</td>\n",
       "      <td>13</td>\n",
       "    </tr>\n",
       "  </tbody>\n",
       "</table>\n",
       "</div>"
      ],
      "text/plain": [
       "                                                  title   viewCount  kclass\n",
       "3270          Luis Fonsi - Despacito ( cover by J.Fla )   127411039       1\n",
       "7479            Luis Fonsi - Despacito ft. Daddy Yankee  5555912002       1\n",
       "7594  Luis Fonsi, Daddy Yankee - Despacito (Remix Au...   633857377      13"
      ]
     },
     "execution_count": 169,
     "metadata": {},
     "output_type": "execute_result"
    }
   ],
   "source": [
    "df_classified[df_classified.title.str.contains('Despacito')].loc[:, ['title', 'viewCount', 'kclass']]"
   ]
  },
  {
   "cell_type": "markdown",
   "metadata": {},
   "source": [
    "It looks like the cutoff should be somewhere around 7.4 for view log"
   ]
  },
  {
   "cell_type": "code",
   "execution_count": 174,
   "metadata": {},
   "outputs": [
    {
     "data": {
      "text/plain": [
       "(1799, 63)"
      ]
     },
     "execution_count": 174,
     "metadata": {},
     "output_type": "execute_result"
    }
   ],
   "source": [
    "df_main[df_main.view_log>7.5].shape"
   ]
  },
  {
   "cell_type": "code",
   "execution_count": 177,
   "metadata": {},
   "outputs": [
    {
     "data": {
      "text/html": [
       "<div>\n",
       "<style scoped>\n",
       "    .dataframe tbody tr th:only-of-type {\n",
       "        vertical-align: middle;\n",
       "    }\n",
       "\n",
       "    .dataframe tbody tr th {\n",
       "        vertical-align: top;\n",
       "    }\n",
       "\n",
       "    .dataframe thead th {\n",
       "        text-align: right;\n",
       "    }\n",
       "</style>\n",
       "<table border=\"1\" class=\"dataframe\">\n",
       "  <thead>\n",
       "    <tr style=\"text-align: right;\">\n",
       "      <th></th>\n",
       "      <th>view_log</th>\n",
       "      <th>viewCount</th>\n",
       "    </tr>\n",
       "  </thead>\n",
       "  <tbody>\n",
       "    <tr>\n",
       "      <th>0</th>\n",
       "      <td>6.571227</td>\n",
       "      <td>3725863</td>\n",
       "    </tr>\n",
       "  </tbody>\n",
       "</table>\n",
       "</div>"
      ],
      "text/plain": [
       "   view_log  viewCount\n",
       "0  6.571227    3725863"
      ]
     },
     "execution_count": 177,
     "metadata": {},
     "output_type": "execute_result"
    }
   ],
   "source": [
    "df_main.iloc[0:1, :].loc[:, ['view_log', 'viewCount']]"
   ]
  },
  {
   "cell_type": "code",
   "execution_count": 178,
   "metadata": {},
   "outputs": [
    {
     "data": {
      "text/plain": [
       "3725864.013677085"
      ]
     },
     "execution_count": 178,
     "metadata": {},
     "output_type": "execute_result"
    }
   ],
   "source": [
    "10**6.571227"
   ]
  },
  {
   "cell_type": "markdown",
   "metadata": {},
   "source": [
    "## <a class=\"anchor\" id=\"3.2-bullet\">3.2 Classification</a>\n",
    "\n"
   ]
  },
  {
   "cell_type": "markdown",
   "metadata": {},
   "source": [
    "### 3.2.1 Classification - Basic Basic"
   ]
  },
  {
   "cell_type": "code",
   "execution_count": 148,
   "metadata": {},
   "outputs": [],
   "source": [
    "X_train, X_test, y_train, y_test=train_test_split(X, y)\n",
    "\n",
    "ss = StandardScaler()\n",
    "X_train_sc = ss.fit_transform(X_train)\n",
    "X_test_sc = ss.transform(X_test)\n",
    "\n",
    "model = GradientBoostingClassifier()\n",
    "model.fit(X_train_sc, y_train)\n",
    "\n",
    "preds = model.predict(X_test_sc)"
   ]
  },
  {
   "cell_type": "code",
   "execution_count": 150,
   "metadata": {},
   "outputs": [
    {
     "data": {
      "text/plain": [
       "<matplotlib.axes._subplots.AxesSubplot at 0x23497ba37b8>"
      ]
     },
     "execution_count": 150,
     "metadata": {},
     "output_type": "execute_result"
    },
    {
     "data": {
      "image/png": "[encoded data removed]",
      "text/plain": [
       "<Figure size 432x288 with 2 Axes>"
      ]
     },
     "metadata": {},
     "output_type": "display_data"
    }
   ],
   "source": [
    "cm = confusion_matrix(y_test, preds)\n",
    "sns.heatmap(pd.DataFrame(cm))"
   ]
  },
  {
   "cell_type": "code",
   "execution_count": 30,
   "metadata": {},
   "outputs": [
    {
     "data": {
      "text/plain": [
       "<seaborn.axisgrid.FacetGrid at 0x234f3856320>"
      ]
     },
     "execution_count": 30,
     "metadata": {},
     "output_type": "execute_result"
    },
    {
     "data": {
      "image/png": "[encoded data removed]",
      "text/plain": [
       "<Figure size 360x360 with 1 Axes>"
      ]
     },
     "metadata": {},
     "output_type": "display_data"
    }
   ],
   "source": [
    "df_residuals = pd.DataFrame(y_test)\n",
    "df_residuals['predicted'] = preds\n",
    "df_residuals['residuals'] = df_residuals.predicted - df_residuals.view_class\n",
    "sns.lmplot('view_class', 'predicted', data=df_residuals)"
   ]
  },
  {
   "cell_type": "code",
   "execution_count": 31,
   "metadata": {},
   "outputs": [
    {
     "data": {
      "text/plain": [
       "0.40591238461227497"
      ]
     },
     "execution_count": 31,
     "metadata": {},
     "output_type": "execute_result"
    }
   ],
   "source": [
    "r2_score(df_residuals.view_class, df_residuals.predicted)"
   ]
  },
  {
   "cell_type": "code",
   "execution_count": 29,
   "metadata": {
    "collapsed": true
   },
   "outputs": [
    {
     "name": "stderr",
     "output_type": "stream",
     "text": [
      "C:\\ProgramData\\Anaconda3\\lib\\site-packages\\ipykernel_launcher.py:4: SettingWithCopyWarning: \n",
      "A value is trying to be set on a copy of a slice from a DataFrame.\n",
      "Try using .loc[row_indexer,col_indexer] = value instead\n",
      "\n",
      "See the caveats in the documentation: http://pandas.pydata.org/pandas-docs/stable/indexing.html#indexing-view-versus-copy\n",
      "  after removing the cwd from sys.path.\n"
     ]
    },
    {
     "data": {
      "text/html": [
       "<div>\n",
       "<style scoped>\n",
       "    .dataframe tbody tr th:only-of-type {\n",
       "        vertical-align: middle;\n",
       "    }\n",
       "\n",
       "    .dataframe tbody tr th {\n",
       "        vertical-align: top;\n",
       "    }\n",
       "\n",
       "    .dataframe thead th {\n",
       "        text-align: right;\n",
       "    }\n",
       "</style>\n",
       "<table border=\"1\" class=\"dataframe\">\n",
       "  <thead>\n",
       "    <tr style=\"text-align: right;\">\n",
       "      <th></th>\n",
       "      <th>title</th>\n",
       "      <th>viewCount</th>\n",
       "      <th>predicted</th>\n",
       "    </tr>\n",
       "  </thead>\n",
       "  <tbody>\n",
       "    <tr>\n",
       "      <th>7479</th>\n",
       "      <td>Luis Fonsi - Despacito ft. Daddy Yankee</td>\n",
       "      <td>5555912002</td>\n",
       "      <td>100000000</td>\n",
       "    </tr>\n",
       "    <tr>\n",
       "      <th>4268</th>\n",
       "      <td>Ed Sheeran - Shape of You [Official Video]</td>\n",
       "      <td>3827104659</td>\n",
       "      <td>10000000</td>\n",
       "    </tr>\n",
       "    <tr>\n",
       "      <th>7190</th>\n",
       "      <td>Wiz Khalifa - See You Again ft. Charlie Puth [...</td>\n",
       "      <td>3788737518</td>\n",
       "      <td>10000000</td>\n",
       "    </tr>\n",
       "    <tr>\n",
       "      <th>5540</th>\n",
       "      <td>Mark Ronson - Uptown Funk ft. Bruno Mars</td>\n",
       "      <td>3256917992</td>\n",
       "      <td>100000000</td>\n",
       "    </tr>\n",
       "    <tr>\n",
       "      <th>3634</th>\n",
       "      <td>PSY - GANGNAM STYLE(강남스타일) M/V</td>\n",
       "      <td>3218413082</td>\n",
       "      <td>10000000</td>\n",
       "    </tr>\n",
       "    <tr>\n",
       "      <th>569</th>\n",
       "      <td>Justin Bieber - Sorry (PURPOSE : The Movement)</td>\n",
       "      <td>3014897224</td>\n",
       "      <td>1000000000</td>\n",
       "    </tr>\n",
       "    <tr>\n",
       "      <th>7417</th>\n",
       "      <td>Maroon 5 - Sugar</td>\n",
       "      <td>2756205542</td>\n",
       "      <td>1000000000</td>\n",
       "    </tr>\n",
       "    <tr>\n",
       "      <th>7514</th>\n",
       "      <td>Taylor Swift - Shake It Off</td>\n",
       "      <td>2650920924</td>\n",
       "      <td>100000000</td>\n",
       "    </tr>\n",
       "    <tr>\n",
       "      <th>5506</th>\n",
       "      <td>Katy Perry - Roar (Official)</td>\n",
       "      <td>2638406673</td>\n",
       "      <td>100000000</td>\n",
       "    </tr>\n",
       "    <tr>\n",
       "      <th>627</th>\n",
       "      <td>Enrique Iglesias - Bailando (Español) ft. Desc...</td>\n",
       "      <td>2582945265</td>\n",
       "      <td>1000000000</td>\n",
       "    </tr>\n",
       "    <tr>\n",
       "      <th>5532</th>\n",
       "      <td>Ed Sheeran - Thinking Out Loud [Official Video]</td>\n",
       "      <td>2496797028</td>\n",
       "      <td>1000000000</td>\n",
       "    </tr>\n",
       "    <tr>\n",
       "      <th>3220</th>\n",
       "      <td>Katy Perry - Dark Horse (Official) ft. Juicy J</td>\n",
       "      <td>2429899549</td>\n",
       "      <td>10000000</td>\n",
       "    </tr>\n",
       "    <tr>\n",
       "      <th>7602</th>\n",
       "      <td>Taylor Swift - Blank Space</td>\n",
       "      <td>2343876199</td>\n",
       "      <td>1000000000</td>\n",
       "    </tr>\n",
       "    <tr>\n",
       "      <th>7555</th>\n",
       "      <td>Shakira - Chantaje ft. Maluma</td>\n",
       "      <td>2255261833</td>\n",
       "      <td>1000000000</td>\n",
       "    </tr>\n",
       "    <tr>\n",
       "      <th>4251</th>\n",
       "      <td>Meghan Trainor - All About That Bass</td>\n",
       "      <td>2227064426</td>\n",
       "      <td>10000000</td>\n",
       "    </tr>\n",
       "    <tr>\n",
       "      <th>7214</th>\n",
       "      <td>Calvin Harris - This Is What You Came For (Off...</td>\n",
       "      <td>2097510786</td>\n",
       "      <td>100000000</td>\n",
       "    </tr>\n",
       "    <tr>\n",
       "      <th>7425</th>\n",
       "      <td>Passenger | Let Her Go (Official Video)</td>\n",
       "      <td>2068337176</td>\n",
       "      <td>10000000</td>\n",
       "    </tr>\n",
       "    <tr>\n",
       "      <th>7516</th>\n",
       "      <td>Shakira - Waka Waka (This Time for Africa) (Th...</td>\n",
       "      <td>2041632211</td>\n",
       "      <td>1000000000</td>\n",
       "    </tr>\n",
       "    <tr>\n",
       "      <th>3208</th>\n",
       "      <td>J Balvin, Willy William - Mi Gente (Official V...</td>\n",
       "      <td>2041493278</td>\n",
       "      <td>100000000</td>\n",
       "    </tr>\n",
       "    <tr>\n",
       "      <th>7531</th>\n",
       "      <td>Justin Bieber - Baby ft. Ludacris</td>\n",
       "      <td>1985152808</td>\n",
       "      <td>1000000000</td>\n",
       "    </tr>\n",
       "    <tr>\n",
       "      <th>7427</th>\n",
       "      <td>Alan Walker - Faded</td>\n",
       "      <td>1975021362</td>\n",
       "      <td>100000000</td>\n",
       "    </tr>\n",
       "    <tr>\n",
       "      <th>7174</th>\n",
       "      <td>Justin Bieber - What Do You Mean?</td>\n",
       "      <td>1944265383</td>\n",
       "      <td>1000000000</td>\n",
       "    </tr>\n",
       "    <tr>\n",
       "      <th>6846</th>\n",
       "      <td>Charlie Puth - We Don't Talk Anymore (feat. Se...</td>\n",
       "      <td>1935955368</td>\n",
       "      <td>1000000000</td>\n",
       "    </tr>\n",
       "    <tr>\n",
       "      <th>8637</th>\n",
       "      <td>Fifth Harmony - Work from Home ft. Ty Dolla $ign</td>\n",
       "      <td>1919599269</td>\n",
       "      <td>10000000</td>\n",
       "    </tr>\n",
       "    <tr>\n",
       "      <th>7461</th>\n",
       "      <td>Sia - Chandelier (Official Video)</td>\n",
       "      <td>1910731681</td>\n",
       "      <td>100000000</td>\n",
       "    </tr>\n",
       "    <tr>\n",
       "      <th>7164</th>\n",
       "      <td>Ellie Goulding - Love Me Like You Do (Official...</td>\n",
       "      <td>1802662468</td>\n",
       "      <td>1000000000</td>\n",
       "    </tr>\n",
       "    <tr>\n",
       "      <th>7527</th>\n",
       "      <td>Avicii - Wake Me Up (Official Video)</td>\n",
       "      <td>1673921749</td>\n",
       "      <td>1000000000</td>\n",
       "    </tr>\n",
       "    <tr>\n",
       "      <th>7434</th>\n",
       "      <td>Luis Fonsi, Demi Lovato - Échame La Culpa</td>\n",
       "      <td>1619227144</td>\n",
       "      <td>100000000</td>\n",
       "    </tr>\n",
       "    <tr>\n",
       "      <th>4319</th>\n",
       "      <td>Fifth Harmony - Worth It ft. Kid Ink</td>\n",
       "      <td>1617220892</td>\n",
       "      <td>1000000000</td>\n",
       "    </tr>\n",
       "    <tr>\n",
       "      <th>5567</th>\n",
       "      <td>Eminem - Love The Way You Lie ft. Rihanna</td>\n",
       "      <td>1607500199</td>\n",
       "      <td>1000000000</td>\n",
       "    </tr>\n",
       "    <tr>\n",
       "      <th>...</th>\n",
       "      <td>...</td>\n",
       "      <td>...</td>\n",
       "      <td>...</td>\n",
       "    </tr>\n",
       "    <tr>\n",
       "      <th>689</th>\n",
       "      <td>Britney Spears - I'm A Slave 4 U</td>\n",
       "      <td>105422444</td>\n",
       "      <td>10000000</td>\n",
       "    </tr>\n",
       "    <tr>\n",
       "      <th>7907</th>\n",
       "      <td>Pantera - Walk (Official Video)</td>\n",
       "      <td>105391869</td>\n",
       "      <td>10000000</td>\n",
       "    </tr>\n",
       "    <tr>\n",
       "      <th>4331</th>\n",
       "      <td>Boney M - Rasputin</td>\n",
       "      <td>105231093</td>\n",
       "      <td>10000000</td>\n",
       "    </tr>\n",
       "    <tr>\n",
       "      <th>5006</th>\n",
       "      <td>MC Vitão feat. Dennis DJ - Olha o Gás (KondZilla)</td>\n",
       "      <td>105228657</td>\n",
       "      <td>10000000</td>\n",
       "    </tr>\n",
       "    <tr>\n",
       "      <th>419</th>\n",
       "      <td>Juan Magan, Belinda, Manuel Turizo, Snova, B-C...</td>\n",
       "      <td>105218524</td>\n",
       "      <td>10000000</td>\n",
       "    </tr>\n",
       "    <tr>\n",
       "      <th>5519</th>\n",
       "      <td>Mike Perry - The Ocean ft. Shy Martin</td>\n",
       "      <td>105022999</td>\n",
       "      <td>10000000</td>\n",
       "    </tr>\n",
       "    <tr>\n",
       "      <th>5451</th>\n",
       "      <td>米津玄師 MV「ピースサイン」Kenshi Yonezu / Peace Sign</td>\n",
       "      <td>104756642</td>\n",
       "      <td>10000000</td>\n",
       "    </tr>\n",
       "    <tr>\n",
       "      <th>6113</th>\n",
       "      <td>R. Kelly - Same Girl</td>\n",
       "      <td>104626707</td>\n",
       "      <td>10000000</td>\n",
       "    </tr>\n",
       "    <tr>\n",
       "      <th>4933</th>\n",
       "      <td>Cia. SALT - Quero Conhecer Jesus (Cover Alessa...</td>\n",
       "      <td>104487992</td>\n",
       "      <td>100000000</td>\n",
       "    </tr>\n",
       "    <tr>\n",
       "      <th>5465</th>\n",
       "      <td>Red Velvet 레드벨벳 '피카부 (Peek-A-Boo)' MV</td>\n",
       "      <td>104447825</td>\n",
       "      <td>1000000</td>\n",
       "    </tr>\n",
       "    <tr>\n",
       "      <th>1545</th>\n",
       "      <td>Takagi &amp; Ketra - Amore e Capoeira ft. Giusy Fe...</td>\n",
       "      <td>104190060</td>\n",
       "      <td>10000000</td>\n",
       "    </tr>\n",
       "    <tr>\n",
       "      <th>3265</th>\n",
       "      <td>Jennifer Lopez featuring LL Cool J - All I Hav...</td>\n",
       "      <td>103975303</td>\n",
       "      <td>100000000</td>\n",
       "    </tr>\n",
       "    <tr>\n",
       "      <th>6790</th>\n",
       "      <td>T-Pain - Buy U A Drank (Shawty Snappin') ft. Y...</td>\n",
       "      <td>103859271</td>\n",
       "      <td>10000000</td>\n",
       "    </tr>\n",
       "    <tr>\n",
       "      <th>3306</th>\n",
       "      <td>Jessie J - Nobody's Perfect</td>\n",
       "      <td>103445230</td>\n",
       "      <td>100000000</td>\n",
       "    </tr>\n",
       "    <tr>\n",
       "      <th>8668</th>\n",
       "      <td>Lil Dicky - $ave Dat Money feat. Fetty Wap and...</td>\n",
       "      <td>103268539</td>\n",
       "      <td>1000000</td>\n",
       "    </tr>\n",
       "    <tr>\n",
       "      <th>4985</th>\n",
       "      <td>O Rappa - Anjos \"Pra Quem Tem Fé\"  (Webclipe) ...</td>\n",
       "      <td>102721066</td>\n",
       "      <td>10000000</td>\n",
       "    </tr>\n",
       "    <tr>\n",
       "      <th>7235</th>\n",
       "      <td>Stefflon Don, French Montana - Hurtin' Me (Off...</td>\n",
       "      <td>102543325</td>\n",
       "      <td>10000000</td>\n",
       "    </tr>\n",
       "    <tr>\n",
       "      <th>8615</th>\n",
       "      <td>Red Velvet 레드벨벳 '빨간 맛 (Red Flavor)' MV</td>\n",
       "      <td>102499330</td>\n",
       "      <td>1000000</td>\n",
       "    </tr>\n",
       "    <tr>\n",
       "      <th>8675</th>\n",
       "      <td>Ed Sheeran - Small Bump [Official Video]</td>\n",
       "      <td>102464464</td>\n",
       "      <td>10000000</td>\n",
       "    </tr>\n",
       "    <tr>\n",
       "      <th>5312</th>\n",
       "      <td>Akon - Locked Up ft. Styles P</td>\n",
       "      <td>101963775</td>\n",
       "      <td>100000000</td>\n",
       "    </tr>\n",
       "    <tr>\n",
       "      <th>2558</th>\n",
       "      <td>G-DRAGON - 니가 뭔데(WHO YOU?) M/V</td>\n",
       "      <td>101891506</td>\n",
       "      <td>10000000</td>\n",
       "    </tr>\n",
       "    <tr>\n",
       "      <th>3639</th>\n",
       "      <td>Kodak Black, 21 Savage, Lil Uzi Vert, Lil Yach...</td>\n",
       "      <td>101605159</td>\n",
       "      <td>10000000</td>\n",
       "    </tr>\n",
       "    <tr>\n",
       "      <th>86</th>\n",
       "      <td>P!nk - Beautiful Trauma (Official Video)</td>\n",
       "      <td>101434044</td>\n",
       "      <td>100000000</td>\n",
       "    </tr>\n",
       "    <tr>\n",
       "      <th>6631</th>\n",
       "      <td>X Ambassadors - Unsteady</td>\n",
       "      <td>101401422</td>\n",
       "      <td>10000000</td>\n",
       "    </tr>\n",
       "    <tr>\n",
       "      <th>8624</th>\n",
       "      <td>Gladiator - Now We Are Free Super Theme Song</td>\n",
       "      <td>101305195</td>\n",
       "      <td>1000000</td>\n",
       "    </tr>\n",
       "    <tr>\n",
       "      <th>4261</th>\n",
       "      <td>Lauv - I Like Me Better [Official Audio]</td>\n",
       "      <td>100986069</td>\n",
       "      <td>10000000</td>\n",
       "    </tr>\n",
       "    <tr>\n",
       "      <th>7463</th>\n",
       "      <td>Ed Sheeran &amp; Passenger - No Diggity vs. Thrift...</td>\n",
       "      <td>100744773</td>\n",
       "      <td>100000000</td>\n",
       "    </tr>\n",
       "    <tr>\n",
       "      <th>8123</th>\n",
       "      <td>Jose Luis Perales - Y como es él (1982)</td>\n",
       "      <td>100581018</td>\n",
       "      <td>1000000</td>\n",
       "    </tr>\n",
       "    <tr>\n",
       "      <th>6920</th>\n",
       "      <td>Flux Pavilion - I Can't Stop</td>\n",
       "      <td>100415567</td>\n",
       "      <td>10000000</td>\n",
       "    </tr>\n",
       "    <tr>\n",
       "      <th>1172</th>\n",
       "      <td>Dynoro &amp; Gigi D’Agostino - In My Mind</td>\n",
       "      <td>100087673</td>\n",
       "      <td>10000000</td>\n",
       "    </tr>\n",
       "  </tbody>\n",
       "</table>\n",
       "<p>900 rows × 3 columns</p>\n",
       "</div>"
      ],
      "text/plain": [
       "                                                  title   viewCount  \\\n",
       "7479            Luis Fonsi - Despacito ft. Daddy Yankee  5555912002   \n",
       "4268         Ed Sheeran - Shape of You [Official Video]  3827104659   \n",
       "7190  Wiz Khalifa - See You Again ft. Charlie Puth [...  3788737518   \n",
       "5540           Mark Ronson - Uptown Funk ft. Bruno Mars  3256917992   \n",
       "3634                     PSY - GANGNAM STYLE(강남스타일) M/V  3218413082   \n",
       "569      Justin Bieber - Sorry (PURPOSE : The Movement)  3014897224   \n",
       "7417                                   Maroon 5 - Sugar  2756205542   \n",
       "7514                        Taylor Swift - Shake It Off  2650920924   \n",
       "5506                       Katy Perry - Roar (Official)  2638406673   \n",
       "627   Enrique Iglesias - Bailando (Español) ft. Desc...  2582945265   \n",
       "5532    Ed Sheeran - Thinking Out Loud [Official Video]  2496797028   \n",
       "3220     Katy Perry - Dark Horse (Official) ft. Juicy J  2429899549   \n",
       "7602                         Taylor Swift - Blank Space  2343876199   \n",
       "7555                      Shakira - Chantaje ft. Maluma  2255261833   \n",
       "4251               Meghan Trainor - All About That Bass  2227064426   \n",
       "7214  Calvin Harris - This Is What You Came For (Off...  2097510786   \n",
       "7425            Passenger | Let Her Go (Official Video)  2068337176   \n",
       "7516  Shakira - Waka Waka (This Time for Africa) (Th...  2041632211   \n",
       "3208  J Balvin, Willy William - Mi Gente (Official V...  2041493278   \n",
       "7531                  Justin Bieber - Baby ft. Ludacris  1985152808   \n",
       "7427                                Alan Walker - Faded  1975021362   \n",
       "7174                  Justin Bieber - What Do You Mean?  1944265383   \n",
       "6846  Charlie Puth - We Don't Talk Anymore (feat. Se...  1935955368   \n",
       "8637   Fifth Harmony - Work from Home ft. Ty Dolla $ign  1919599269   \n",
       "7461                  Sia - Chandelier (Official Video)  1910731681   \n",
       "7164  Ellie Goulding - Love Me Like You Do (Official...  1802662468   \n",
       "7527               Avicii - Wake Me Up (Official Video)  1673921749   \n",
       "7434          Luis Fonsi, Demi Lovato - Échame La Culpa  1619227144   \n",
       "4319               Fifth Harmony - Worth It ft. Kid Ink  1617220892   \n",
       "5567          Eminem - Love The Way You Lie ft. Rihanna  1607500199   \n",
       "...                                                 ...         ...   \n",
       "689                    Britney Spears - I'm A Slave 4 U   105422444   \n",
       "7907                    Pantera - Walk (Official Video)   105391869   \n",
       "4331                                 Boney M - Rasputin   105231093   \n",
       "5006  MC Vitão feat. Dennis DJ - Olha o Gás (KondZilla)   105228657   \n",
       "419   Juan Magan, Belinda, Manuel Turizo, Snova, B-C...   105218524   \n",
       "5519              Mike Perry - The Ocean ft. Shy Martin   105022999   \n",
       "5451          米津玄師 MV「ピースサイン」Kenshi Yonezu / Peace Sign   104756642   \n",
       "6113                               R. Kelly - Same Girl   104626707   \n",
       "4933  Cia. SALT - Quero Conhecer Jesus (Cover Alessa...   104487992   \n",
       "5465              Red Velvet 레드벨벳 '피카부 (Peek-A-Boo)' MV   104447825   \n",
       "1545  Takagi & Ketra - Amore e Capoeira ft. Giusy Fe...   104190060   \n",
       "3265  Jennifer Lopez featuring LL Cool J - All I Hav...   103975303   \n",
       "6790  T-Pain - Buy U A Drank (Shawty Snappin') ft. Y...   103859271   \n",
       "3306                        Jessie J - Nobody's Perfect   103445230   \n",
       "8668  Lil Dicky - $ave Dat Money feat. Fetty Wap and...   103268539   \n",
       "4985  O Rappa - Anjos \"Pra Quem Tem Fé\"  (Webclipe) ...   102721066   \n",
       "7235  Stefflon Don, French Montana - Hurtin' Me (Off...   102543325   \n",
       "8615             Red Velvet 레드벨벳 '빨간 맛 (Red Flavor)' MV   102499330   \n",
       "8675           Ed Sheeran - Small Bump [Official Video]   102464464   \n",
       "5312                      Akon - Locked Up ft. Styles P   101963775   \n",
       "2558                     G-DRAGON - 니가 뭔데(WHO YOU?) M/V   101891506   \n",
       "3639  Kodak Black, 21 Savage, Lil Uzi Vert, Lil Yach...   101605159   \n",
       "86             P!nk - Beautiful Trauma (Official Video)   101434044   \n",
       "6631                           X Ambassadors - Unsteady   101401422   \n",
       "8624       Gladiator - Now We Are Free Super Theme Song   101305195   \n",
       "4261           Lauv - I Like Me Better [Official Audio]   100986069   \n",
       "7463  Ed Sheeran & Passenger - No Diggity vs. Thrift...   100744773   \n",
       "8123            Jose Luis Perales - Y como es él (1982)   100581018   \n",
       "6920                       Flux Pavilion - I Can't Stop   100415567   \n",
       "1172              Dynoro & Gigi D’Agostino - In My Mind   100087673   \n",
       "\n",
       "       predicted  \n",
       "7479   100000000  \n",
       "4268    10000000  \n",
       "7190    10000000  \n",
       "5540   100000000  \n",
       "3634    10000000  \n",
       "569   1000000000  \n",
       "7417  1000000000  \n",
       "7514   100000000  \n",
       "5506   100000000  \n",
       "627   1000000000  \n",
       "5532  1000000000  \n",
       "3220    10000000  \n",
       "7602  1000000000  \n",
       "7555  1000000000  \n",
       "4251    10000000  \n",
       "7214   100000000  \n",
       "7425    10000000  \n",
       "7516  1000000000  \n",
       "3208   100000000  \n",
       "7531  1000000000  \n",
       "7427   100000000  \n",
       "7174  1000000000  \n",
       "6846  1000000000  \n",
       "8637    10000000  \n",
       "7461   100000000  \n",
       "7164  1000000000  \n",
       "7527  1000000000  \n",
       "7434   100000000  \n",
       "4319  1000000000  \n",
       "5567  1000000000  \n",
       "...          ...  \n",
       "689     10000000  \n",
       "7907    10000000  \n",
       "4331    10000000  \n",
       "5006    10000000  \n",
       "419     10000000  \n",
       "5519    10000000  \n",
       "5451    10000000  \n",
       "6113    10000000  \n",
       "4933   100000000  \n",
       "5465     1000000  \n",
       "1545    10000000  \n",
       "3265   100000000  \n",
       "6790    10000000  \n",
       "3306   100000000  \n",
       "8668     1000000  \n",
       "4985    10000000  \n",
       "7235    10000000  \n",
       "8615     1000000  \n",
       "8675    10000000  \n",
       "5312   100000000  \n",
       "2558    10000000  \n",
       "3639    10000000  \n",
       "86     100000000  \n",
       "6631    10000000  \n",
       "8624     1000000  \n",
       "4261    10000000  \n",
       "7463   100000000  \n",
       "8123     1000000  \n",
       "6920    10000000  \n",
       "1172    10000000  \n",
       "\n",
       "[900 rows x 3 columns]"
      ]
     },
     "execution_count": 29,
     "metadata": {},
     "output_type": "execute_result"
    }
   ],
   "source": [
    "df_big = df_main[df_main.viewCount > 100000000]\n",
    "df_big_ss = ss.transform(df_big.loc[:, cols_include_initial])\n",
    "\n",
    "df_big['predicted'] = 10**model.predict(df_big_ss)\n",
    "\n",
    "#df_big.viewCount = df_big.viewCount.map(lambda x: '{:.6g}'.format(x))\n",
    "\n",
    "df_big.loc[:, ['title', 'viewCount', 'predicted']].sort_values(by='viewCount', ascending=False)"
   ]
  },
  {
   "cell_type": "markdown",
   "metadata": {},
   "source": [
    "## <a class=\"anchor\" id=\"3.2-bullet\">3.2 KCLass binary</a>\n",
    "\n"
   ]
  },
  {
   "cell_type": "code",
   "execution_count": 62,
   "metadata": {},
   "outputs": [],
   "source": [
    "y=1*(df_main.view_log>7.5)\n",
    "X_train, X_test, y_train, y_test=train_test_split(X, y, random_state=25)\n",
    "ss = StandardScaler()\n",
    "X_train_sc = ss.fit_transform(X_train)\n",
    "X_test_sc = ss.transform(X_test)"
   ]
  },
  {
   "cell_type": "code",
   "execution_count": 63,
   "metadata": {},
   "outputs": [
    {
     "data": {
      "text/plain": [
       "GridSearchCV(cv=None, error_score='raise',\n",
       "       estimator=GradientBoostingClassifier(criterion='friedman_mse', init=None,\n",
       "              learning_rate=0.1, loss='deviance', max_depth=3,\n",
       "              max_features=None, max_leaf_nodes=None,\n",
       "              min_impurity_decrease=0.0, min_impurity_split=None,\n",
       "              min_samples_leaf=1, min_samples_split=2,\n",
       "              min_weight_fraction_leaf=0.0, n_estimators=100,\n",
       "              presort='auto', random_state=None, subsample=1.0, verbose=0,\n",
       "              warm_start=False),\n",
       "       fit_params=None, iid=True, n_jobs=1,\n",
       "       param_grid={'max_depth': [7, 10, 12], 'max_features': [0.5, 0.7, 0.9]},\n",
       "       pre_dispatch='2*n_jobs', refit=True, return_train_score='warn',\n",
       "       scoring=None, verbose=0)"
      ]
     },
     "execution_count": 63,
     "metadata": {},
     "output_type": "execute_result"
    }
   ],
   "source": [
    "paramz = {\n",
    "    'max_depth':[7, 10, 12], \n",
    "    'max_features':[.5, .7, .9]\n",
    "}\n",
    "gs = GridSearchCV(GradientBoostingClassifier(), param_grid=paramz)\n",
    "gs.fit(X_train_sc, y_train)"
   ]
  },
  {
   "cell_type": "code",
   "execution_count": 64,
   "metadata": {},
   "outputs": [
    {
     "name": "stdout",
     "output_type": "stream",
     "text": [
      "    accuracy:  0.8445262189512419 roc:  0.8679617564489644\n"
     ]
    },
    {
     "data": {
      "text/plain": [
       "{'max_depth': 7, 'max_features': 0.5}"
      ]
     },
     "execution_count": 64,
     "metadata": {},
     "output_type": "execute_result"
    }
   ],
   "source": [
    "preds = gs.predict_proba(X_test_sc)\n",
    "print('    accuracy: ', gs.score(X_test_sc, y_test), 'roc: ', roc_auc_score(y_test, [element[1] for element in preds]))\n",
    "gs.best_params_"
   ]
  },
  {
   "cell_type": "code",
   "execution_count": null,
   "metadata": {},
   "outputs": [],
   "source": [
    "model = GradientBoostingClassifier(subsample=.9, max_depth=10)\n",
    "model.fit(X_train_sc, y_train)\n",
    "\n",
    "preds = model.predict_proba(X_test_sc)\n",
    "print('    accuracy: ', model.score(X_test_sc, y_test), 'roc: ', roc_auc_score(y_test, [element[1] for element in preds]))"
   ]
  },
  {
   "cell_type": "code",
   "execution_count": null,
   "metadata": {},
   "outputs": [],
   "source": [
    "cm = confusion_matrix(y_test, model.predict(X_test_sc))\n",
    "pd.DataFrame(cm)"
   ]
  },
  {
   "cell_type": "markdown",
   "metadata": {},
   "source": [
    "## <a class=\"anchor\" id=\"3.3-bullet\">3.3 Neural Net</a>\n",
    "\n"
   ]
  },
  {
   "cell_type": "code",
   "execution_count": 33,
   "metadata": {},
   "outputs": [
    {
     "name": "stderr",
     "output_type": "stream",
     "text": [
      "C:\\ProgramData\\Anaconda3\\lib\\site-packages\\h5py\\__init__.py:36: FutureWarning: Conversion of the second argument of issubdtype from `float` to `np.floating` is deprecated. In future, it will be treated as `np.float64 == np.dtype(float).type`.\n",
      "  from ._conv import register_converters as _register_converters\n",
      "Using TensorFlow backend.\n"
     ]
    },
    {
     "name": "stdout",
     "output_type": "stream",
     "text": [
      "Couldn't import dot_parser, loading of dot files will not be possible.\n"
     ]
    }
   ],
   "source": [
    "from keras.models import Sequential\n",
    "from keras.layers import Dense, Dropout\n",
    "from keras.utils import to_categorical"
   ]
  },
  {
   "cell_type": "code",
   "execution_count": 34,
   "metadata": {},
   "outputs": [],
   "source": [
    "X = df_main.loc[:, cols_include_initial]"
   ]
  },
  {
   "cell_type": "code",
   "execution_count": null,
   "metadata": {},
   "outputs": [],
   "source": []
  },
  {
   "cell_type": "code",
   "execution_count": 38,
   "metadata": {},
   "outputs": [],
   "source": [
    "#for state in range(5, 56, 10):\n",
    "X_train, X_test, y_train, y_test=train_test_split(X, y, random_state=42)"
   ]
  },
  {
   "cell_type": "code",
   "execution_count": 39,
   "metadata": {},
   "outputs": [],
   "source": [
    "y_train_cat = to_categorical(y_train)\n",
    "y_test_cat = to_categorical(y_test)"
   ]
  },
  {
   "cell_type": "code",
   "execution_count": null,
   "metadata": {},
   "outputs": [],
   "source": []
  },
  {
   "cell_type": "code",
   "execution_count": 50,
   "metadata": {},
   "outputs": [],
   "source": [
    "ss = StandardScaler()\n",
    "X_train_sc = ss.fit_transform(X_train)\n",
    "X_test_sc = ss.transform(X_test)\n",
    "\n",
    "model = Sequential()\n",
    "#this does input and first activation\n",
    "model.add(Dense(X_train_sc.shape[1], activation='relu', input_dim=X_train_sc.shape[1]))\n",
    "model.add(Dropout(.5))\n",
    "#model.add(Dense(20, activation='relu'))\n",
    "#model.add(Dropout(.5))\n",
    "#model.add(Dense(10, activation='relu'))\n",
    "\n",
    "model.add(Dense(y_train_cat.shape[1], activation='softmax')) #1 neuron\n",
    "model.compile(loss='categorical_crossentropy', optimizer='adam')\n",
    "\n",
    "history = model.fit(X_train_sc, y_train_cat, validation_data=(X_test_sc, y_test_cat), epochs=40, verbose=0)\n",
    "preds = model.predict(X_test_sc)\n",
    "#print( 'score: ', r2_score(y_test, preds))"
   ]
  },
  {
   "cell_type": "code",
   "execution_count": 54,
   "metadata": {},
   "outputs": [
    {
     "data": {
      "text/plain": [
       "array([4.8751064e-10, 3.2303380e-08, 1.2714840e-03, 6.7004845e-02,\n",
       "       2.9312417e-01, 3.0991632e-01, 2.6155320e-01, 6.7083307e-02,\n",
       "       4.6626017e-05, 6.7871694e-11], dtype=float32)"
      ]
     },
     "execution_count": 54,
     "metadata": {},
     "output_type": "execute_result"
    }
   ],
   "source": [
    "preds[0]"
   ]
  },
  {
   "cell_type": "code",
   "execution_count": 58,
   "metadata": {},
   "outputs": [],
   "source": [
    "preds_cat = []\n",
    "for i in range(len(preds)):\n",
    "    preds_cat.append(list(preds[i]).index(max(preds[i])))"
   ]
  },
  {
   "cell_type": "code",
   "execution_count": 65,
   "metadata": {},
   "outputs": [
    {
     "data": {
      "text/plain": [
       "2174"
      ]
     },
     "execution_count": 65,
     "metadata": {},
     "output_type": "execute_result"
    }
   ],
   "source": [
    "len(preds_cat)"
   ]
  },
  {
   "cell_type": "code",
   "execution_count": 80,
   "metadata": {},
   "outputs": [
    {
     "data": {
      "text/plain": [
       "<seaborn.axisgrid.FacetGrid at 0x234fca7f630>"
      ]
     },
     "execution_count": 80,
     "metadata": {},
     "output_type": "execute_result"
    },
    {
     "data": {
      "image/png": "[encoded data removed]",
      "text/plain": [
       "<Figure size 360x360 with 1 Axes>"
      ]
     },
     "metadata": {},
     "output_type": "display_data"
    }
   ],
   "source": [
    "sns.lmplot('view_class', 'predicted', data=temp)"
   ]
  },
  {
   "cell_type": "code",
   "execution_count": 79,
   "metadata": {},
   "outputs": [
    {
     "data": {
      "text/plain": [
       "Index(['view_class', 'predicted'], dtype='object')"
      ]
     },
     "execution_count": 79,
     "metadata": {},
     "output_type": "execute_result"
    }
   ],
   "source": [
    "temp.columns"
   ]
  },
  {
   "cell_type": "code",
   "execution_count": 78,
   "metadata": {},
   "outputs": [],
   "source": [
    "temp = pd.DataFrame([y_test]).T.reset_index().drop('index', axis=1)\n",
    "temp['predicted'] = preds_cat"
   ]
  },
  {
   "cell_type": "code",
   "execution_count": 53,
   "metadata": {},
   "outputs": [
    {
     "data": {
      "image/png": "[encoded data removed]",
      "text/plain": [
       "<Figure size 432x288 with 1 Axes>"
      ]
     },
     "metadata": {},
     "output_type": "display_data"
    }
   ],
   "source": [
    "plt.figure()\n",
    "plt.plot(history.history['loss'])\n",
    "plt.plot(history.history['val_loss'])\n",
    "plt.title('model loss')\n",
    "plt.ylabel('loss')\n",
    "plt.xlabel('epoch')\n",
    "plt.legend(['train', 'test'], loc='best')\n",
    "plt.show();"
   ]
  },
  {
   "cell_type": "code",
   "execution_count": 55,
   "metadata": {},
   "outputs": [],
   "source": [
    "#Save point 1\n",
    "#df_new.to_csv('./data/alphabet_pull_init_01.10.18.csv', index=False)"
   ]
  },
  {
   "cell_type": "code",
   "execution_count": null,
   "metadata": {},
   "outputs": [],
   "source": [
    "#nope: AdaBoostRegressor, "
   ]
  },
  {
   "cell_type": "markdown",
   "metadata": {},
   "source": [
    "## <a class=\"anchor\" id=\"3.2-bullet\">3.2 Interpretation and Advanced Cleaning</a>\n"
   ]
  },
  {
   "cell_type": "markdown",
   "metadata": {},
   "source": [
    "# <a class=\"anchor\" id=\"4.0-bullet\"> 4.0 Reference and Planning</a>"
   ]
  },
  {
   "cell_type": "code",
   "execution_count": null,
   "metadata": {},
   "outputs": [],
   "source": [
    "# all views over 400M https://www.youtube.com/playlist?list=PLirAqAtl_h2r5g8xGajEwdXd3x1sZh8hC"
   ]
  },
  {
   "cell_type": "markdown",
   "metadata": {},
   "source": [
    "Are there bots? would explain difference in like / view ratio."
   ]
  },
  {
   "cell_type": "markdown",
   "metadata": {},
   "source": [
    "### Next Steps\n",
    "Feature engineering\n",
    "* NLP - check only most 1000 common words according to corpus string (or above threshold) xx\n",
    "* Comments / likes to views ratio? x\n",
    "* Duration group classifications instead of just duration (eh)\n",
    "\n",
    "Classification\n",
    "* Do breakpoints by order of magnitude? That's sort of where this started. By analyzing differences, can establish if/then statements\n",
    "* Find k classifications\n"
   ]
  },
  {
   "cell_type": "markdown",
   "metadata": {},
   "source": [
    "## Columns Decisions\n",
    "* Convert \n",
    " * Duration x\n",
    " * PublishedAt X\n",
    "* Get dummies: \n",
    " * definition, (0 for sd, 1 for hd)\n",
    " * licensedContent (map)\n",
    " * Caption (map)\n",
    "* Drop:\n",
    " * Projection, \n",
    " * Dimension\n",
    " * 3d movies,\n",
    " * livebroadcast\n",
    " * CategoryID\n",
    " * channelID (already have title, which has text!!)\n",
    " * LiveBroadCastContent\n",
    "* Leave in for EDA, but anticipate dropping during most analysis (basically stuff that might be interesting)\n",
    " * Region restriction should be dropped until modeling - consider bringing this back later\n",
    " * ContentRating - insignificant but interesting\n",
    " * Could look at channelTitle\n",
    " * request_token\n",
    " * letter_search\n",
    " * defaultLanguage, (might be better as 1 / 0 for set / not set. leave for model)"
   ]
  }
 ],
 "metadata": {
  "kernelspec": {
   "display_name": "Python 3",
   "language": "python",
   "name": "python3"
  },
  "language_info": {
   "codemirror_mode": {
    "name": "ipython",
    "version": 3
   },
   "file_extension": ".py",
   "mimetype": "text/x-python",
   "name": "python",
   "nbconvert_exporter": "python",
   "pygments_lexer": "ipython3",
   "version": "3.6.5"
  }
 },
 "nbformat": 4,
 "nbformat_minor": 2
}
